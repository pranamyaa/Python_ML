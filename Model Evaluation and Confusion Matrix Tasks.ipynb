{
  "cells": [
    {
      "metadata": {
        "trusted": true
      },
      "cell_type": "code",
      "source": "## Comaptibility of Altair to Jupyter Notebook.\n## The code below require Altair version 3.0 or above which indeed require Jupyter lab version 1.0 or above. \n## To process and update the same the following code needs to be uncommented and Vega package needs to be installed.\n## We need to execute this code each time loading this page. We have to Restart Kernel and clear output after executing the below commands.\n## !pip install --upgrade altair\n## !pip install vega vega_datasets",
      "execution_count": 1,
      "outputs": []
    },
    {
      "metadata": {},
      "cell_type": "markdown",
      "source": "# Question 2"
    },
    {
      "metadata": {},
      "cell_type": "markdown",
      "source": "In Question 2 of the assignment, we have to calculate different measures on the scores predicted by the ML model based on the confusion matrix."
    },
    {
      "metadata": {
        "trusted": true
      },
      "cell_type": "code",
      "source": "import pandas as pd\nimport numpy as np\n\n\ndf2 = pd.read_csv('A2_Q2.csv')\ndf2.sample(5)",
      "execution_count": 2,
      "outputs": [
        {
          "output_type": "execute_result",
          "execution_count": 2,
          "data": {
            "text/html": "<div>\n<style scoped>\n    .dataframe tbody tr th:only-of-type {\n        vertical-align: middle;\n    }\n\n    .dataframe tbody tr th {\n        vertical-align: top;\n    }\n\n    .dataframe thead th {\n        text-align: right;\n    }\n</style>\n<table border=\"1\" class=\"dataframe\">\n  <thead>\n    <tr style=\"text-align: right;\">\n      <th></th>\n      <th>ID</th>\n      <th>Target</th>\n      <th>Score</th>\n    </tr>\n  </thead>\n  <tbody>\n    <tr>\n      <th>15</th>\n      <td>16</td>\n      <td>True</td>\n      <td>0.27</td>\n    </tr>\n    <tr>\n      <th>22</th>\n      <td>23</td>\n      <td>False</td>\n      <td>0.72</td>\n    </tr>\n    <tr>\n      <th>28</th>\n      <td>29</td>\n      <td>True</td>\n      <td>0.68</td>\n    </tr>\n    <tr>\n      <th>26</th>\n      <td>27</td>\n      <td>True</td>\n      <td>0.48</td>\n    </tr>\n    <tr>\n      <th>25</th>\n      <td>26</td>\n      <td>True</td>\n      <td>0.63</td>\n    </tr>\n  </tbody>\n</table>\n</div>",
            "text/plain": "    ID  Target  Score\n15  16    True   0.27\n22  23   False   0.72\n28  29    True   0.68\n26  27    True   0.48\n25  26    True   0.63"
          },
          "metadata": {}
        }
      ]
    },
    {
      "metadata": {},
      "cell_type": "markdown",
      "source": "## Part A"
    },
    {
      "metadata": {},
      "cell_type": "markdown",
      "source": "In this part of question 2, we have to generate confusion matrix on the data provided. \nwe are considering 0.5 as a threshold value and 'True' as a positive target level.\n\nFirst we sort the dataframe by ascending order of the 'Score' value. and then add a 'Prediction' feature based on the Score value and threshold."
    },
    {
      "metadata": {
        "trusted": true
      },
      "cell_type": "code",
      "source": "df2 = df2.sort_values(by= 'Score').reset_index(drop = True)\ndf2.loc[df2['Score']< 0.5, 'Prediction'] = False\ndf2.loc[df2['Score']> 0.5, 'Prediction'] = True\ndf2",
      "execution_count": 3,
      "outputs": [
        {
          "output_type": "execute_result",
          "execution_count": 3,
          "data": {
            "text/html": "<div>\n<style scoped>\n    .dataframe tbody tr th:only-of-type {\n        vertical-align: middle;\n    }\n\n    .dataframe tbody tr th {\n        vertical-align: top;\n    }\n\n    .dataframe thead th {\n        text-align: right;\n    }\n</style>\n<table border=\"1\" class=\"dataframe\">\n  <thead>\n    <tr style=\"text-align: right;\">\n      <th></th>\n      <th>ID</th>\n      <th>Target</th>\n      <th>Score</th>\n      <th>Prediction</th>\n    </tr>\n  </thead>\n  <tbody>\n    <tr>\n      <th>0</th>\n      <td>21</td>\n      <td>False</td>\n      <td>0.03</td>\n      <td>False</td>\n    </tr>\n    <tr>\n      <th>1</th>\n      <td>8</td>\n      <td>False</td>\n      <td>0.11</td>\n      <td>False</td>\n    </tr>\n    <tr>\n      <th>2</th>\n      <td>30</td>\n      <td>False</td>\n      <td>0.14</td>\n      <td>False</td>\n    </tr>\n    <tr>\n      <th>3</th>\n      <td>2</td>\n      <td>False</td>\n      <td>0.14</td>\n      <td>False</td>\n    </tr>\n    <tr>\n      <th>4</th>\n      <td>7</td>\n      <td>False</td>\n      <td>0.17</td>\n      <td>False</td>\n    </tr>\n    <tr>\n      <th>5</th>\n      <td>5</td>\n      <td>False</td>\n      <td>0.24</td>\n      <td>False</td>\n    </tr>\n    <tr>\n      <th>6</th>\n      <td>11</td>\n      <td>False</td>\n      <td>0.26</td>\n      <td>False</td>\n    </tr>\n    <tr>\n      <th>7</th>\n      <td>16</td>\n      <td>True</td>\n      <td>0.27</td>\n      <td>False</td>\n    </tr>\n    <tr>\n      <th>8</th>\n      <td>10</td>\n      <td>True</td>\n      <td>0.32</td>\n      <td>False</td>\n    </tr>\n    <tr>\n      <th>9</th>\n      <td>18</td>\n      <td>False</td>\n      <td>0.35</td>\n      <td>False</td>\n    </tr>\n    <tr>\n      <th>10</th>\n      <td>19</td>\n      <td>False</td>\n      <td>0.36</td>\n      <td>False</td>\n    </tr>\n    <tr>\n      <th>11</th>\n      <td>13</td>\n      <td>True</td>\n      <td>0.41</td>\n      <td>False</td>\n    </tr>\n    <tr>\n      <th>12</th>\n      <td>1</td>\n      <td>False</td>\n      <td>0.46</td>\n      <td>False</td>\n    </tr>\n    <tr>\n      <th>13</th>\n      <td>27</td>\n      <td>True</td>\n      <td>0.48</td>\n      <td>False</td>\n    </tr>\n    <tr>\n      <th>14</th>\n      <td>3</td>\n      <td>False</td>\n      <td>0.48</td>\n      <td>False</td>\n    </tr>\n    <tr>\n      <th>15</th>\n      <td>9</td>\n      <td>False</td>\n      <td>0.54</td>\n      <td>True</td>\n    </tr>\n    <tr>\n      <th>16</th>\n      <td>12</td>\n      <td>True</td>\n      <td>0.54</td>\n      <td>True</td>\n    </tr>\n    <tr>\n      <th>17</th>\n      <td>15</td>\n      <td>False</td>\n      <td>0.59</td>\n      <td>True</td>\n    </tr>\n    <tr>\n      <th>18</th>\n      <td>28</td>\n      <td>False</td>\n      <td>0.61</td>\n      <td>True</td>\n    </tr>\n    <tr>\n      <th>19</th>\n      <td>26</td>\n      <td>True</td>\n      <td>0.63</td>\n      <td>True</td>\n    </tr>\n    <tr>\n      <th>20</th>\n      <td>29</td>\n      <td>True</td>\n      <td>0.68</td>\n      <td>True</td>\n    </tr>\n    <tr>\n      <th>21</th>\n      <td>24</td>\n      <td>False</td>\n      <td>0.68</td>\n      <td>True</td>\n    </tr>\n    <tr>\n      <th>22</th>\n      <td>25</td>\n      <td>True</td>\n      <td>0.71</td>\n      <td>True</td>\n    </tr>\n    <tr>\n      <th>23</th>\n      <td>23</td>\n      <td>False</td>\n      <td>0.72</td>\n      <td>True</td>\n    </tr>\n    <tr>\n      <th>24</th>\n      <td>6</td>\n      <td>True</td>\n      <td>0.79</td>\n      <td>True</td>\n    </tr>\n    <tr>\n      <th>25</th>\n      <td>22</td>\n      <td>True</td>\n      <td>0.81</td>\n      <td>True</td>\n    </tr>\n    <tr>\n      <th>26</th>\n      <td>17</td>\n      <td>True</td>\n      <td>0.87</td>\n      <td>True</td>\n    </tr>\n    <tr>\n      <th>27</th>\n      <td>20</td>\n      <td>False</td>\n      <td>0.89</td>\n      <td>True</td>\n    </tr>\n    <tr>\n      <th>28</th>\n      <td>14</td>\n      <td>True</td>\n      <td>0.89</td>\n      <td>True</td>\n    </tr>\n    <tr>\n      <th>29</th>\n      <td>4</td>\n      <td>True</td>\n      <td>0.91</td>\n      <td>True</td>\n    </tr>\n  </tbody>\n</table>\n</div>",
            "text/plain": "    ID  Target  Score Prediction\n0   21   False   0.03      False\n1    8   False   0.11      False\n2   30   False   0.14      False\n3    2   False   0.14      False\n4    7   False   0.17      False\n5    5   False   0.24      False\n6   11   False   0.26      False\n7   16    True   0.27      False\n8   10    True   0.32      False\n9   18   False   0.35      False\n10  19   False   0.36      False\n11  13    True   0.41      False\n12   1   False   0.46      False\n13  27    True   0.48      False\n14   3   False   0.48      False\n15   9   False   0.54       True\n16  12    True   0.54       True\n17  15   False   0.59       True\n18  28   False   0.61       True\n19  26    True   0.63       True\n20  29    True   0.68       True\n21  24   False   0.68       True\n22  25    True   0.71       True\n23  23   False   0.72       True\n24   6    True   0.79       True\n25  22    True   0.81       True\n26  17    True   0.87       True\n27  20   False   0.89       True\n28  14    True   0.89       True\n29   4    True   0.91       True"
          },
          "metadata": {}
        }
      ]
    },
    {
      "metadata": {},
      "cell_type": "markdown",
      "source": "The Next step is to create Confusion matrix of the '**Target**' and '**prediction**' feature using '**crosstab**' function in pandas.\n\nThis confusion matrix is in the form [(True Negative, False positive)X(False Negative, True Positive)]"
    },
    {
      "metadata": {
        "trusted": true
      },
      "cell_type": "code",
      "source": "CM = pd.crosstab(df2['Target'], df2['Prediction'])\nCM",
      "execution_count": 4,
      "outputs": [
        {
          "output_type": "execute_result",
          "execution_count": 4,
          "data": {
            "text/html": "<div>\n<style scoped>\n    .dataframe tbody tr th:only-of-type {\n        vertical-align: middle;\n    }\n\n    .dataframe tbody tr th {\n        vertical-align: top;\n    }\n\n    .dataframe thead th {\n        text-align: right;\n    }\n</style>\n<table border=\"1\" class=\"dataframe\">\n  <thead>\n    <tr style=\"text-align: right;\">\n      <th>Prediction</th>\n      <th>False</th>\n      <th>True</th>\n    </tr>\n    <tr>\n      <th>Target</th>\n      <th></th>\n      <th></th>\n    </tr>\n  </thead>\n  <tbody>\n    <tr>\n      <th>False</th>\n      <td>11</td>\n      <td>6</td>\n    </tr>\n    <tr>\n      <th>True</th>\n      <td>4</td>\n      <td>9</td>\n    </tr>\n  </tbody>\n</table>\n</div>",
            "text/plain": "Prediction  False  True \nTarget                  \nFalse          11      6\nTrue            4      9"
          },
          "metadata": {}
        }
      ]
    },
    {
      "metadata": {},
      "cell_type": "markdown",
      "source": "## Part B"
    },
    {
      "metadata": {},
      "cell_type": "markdown",
      "source": "The next step is to assign values to variable TN, FP, FN and TP accordingly. \nWe will use this variables to calculate different measures like,\n1. Error Rate\n2. Precision\n3. TPR(True Positive Rate)(a.k.a 'Recall')\n4. F1_Score\n5. FPR(False Positive Rate)\n\nWe will create df_metrics data frame consist of the metric and its value."
    },
    {
      "metadata": {
        "trusted": true
      },
      "cell_type": "code",
      "source": "## Assign values to True Positive, True Negative, False Positive and False Negative\nTN = CM.iloc[0,0]\nFP = CM.iloc[0,1]\nFN = CM.iloc[1,0]\nTP = CM.iloc[1,1]\n\nError_Rate = round((FP+FN)/(TP+TN+FP+FN), 2)\nPrecision = round((TP)/(TP+FP),2)\nRecall = round((TP)/(TP+FN), 2)\nF1_Score = 2 * ((Precision*Recall)/(Precision+Recall))\nF1_Score = round(F1_Score, 2)\nFPR= round((FP)/(TN+FP), 2)\n\ndf_metrics = pd.DataFrame(columns = ['Metric', 'Value'])\ndf_metrics.loc[len(df_metrics)] = ['Error_Rate', Error_Rate]\ndf_metrics.loc[len(df_metrics)] = ['Precision', Precision]\ndf_metrics.loc[len(df_metrics)] = ['TPR(True Positive Rate)', Recall]\ndf_metrics.loc[len(df_metrics)] = ['F1_Score', F1_Score]\ndf_metrics.loc[len(df_metrics)] = ['FPR(False Positive Rate)', FPR]\n\ndf_metrics",
      "execution_count": 5,
      "outputs": [
        {
          "output_type": "execute_result",
          "execution_count": 5,
          "data": {
            "text/html": "<div>\n<style scoped>\n    .dataframe tbody tr th:only-of-type {\n        vertical-align: middle;\n    }\n\n    .dataframe tbody tr th {\n        vertical-align: top;\n    }\n\n    .dataframe thead th {\n        text-align: right;\n    }\n</style>\n<table border=\"1\" class=\"dataframe\">\n  <thead>\n    <tr style=\"text-align: right;\">\n      <th></th>\n      <th>Metric</th>\n      <th>Value</th>\n    </tr>\n  </thead>\n  <tbody>\n    <tr>\n      <th>0</th>\n      <td>Error_Rate</td>\n      <td>0.33</td>\n    </tr>\n    <tr>\n      <th>1</th>\n      <td>Precision</td>\n      <td>0.60</td>\n    </tr>\n    <tr>\n      <th>2</th>\n      <td>TPR(True Positive Rate)</td>\n      <td>0.69</td>\n    </tr>\n    <tr>\n      <th>3</th>\n      <td>F1_Score</td>\n      <td>0.64</td>\n    </tr>\n    <tr>\n      <th>4</th>\n      <td>FPR(False Positive Rate)</td>\n      <td>0.35</td>\n    </tr>\n  </tbody>\n</table>\n</div>",
            "text/plain": "                     Metric  Value\n0                Error_Rate   0.33\n1                 Precision   0.60\n2   TPR(True Positive Rate)   0.69\n3                  F1_Score   0.64\n4  FPR(False Positive Rate)   0.35"
          },
          "metadata": {}
        }
      ]
    },
    {
      "metadata": {},
      "cell_type": "markdown",
      "source": "## Part C"
    },
    {
      "metadata": {},
      "cell_type": "markdown",
      "source": "In this part of question 2, We will calculate TPR and FPR values by varying threshold values from 0.1 to 0.9 in 0.1 increments.\n\nWe have to store them in a data frame called 'df_roc' in format ['Threshold value', 'TPR', 'FPR'].\n\nFor that we have created a method which will compute TPR and FPR values for provided threshold and append it into the data frame."
    },
    {
      "metadata": {
        "trusted": true
      },
      "cell_type": "code",
      "source": "def ROC_calculation(df, Threshold):\n    df.loc[df2['Score']< Threshold, 'Prediction'] = False\n    df.loc[df2['Score']> Threshold, 'Prediction'] = True\n    C_matrix = pd.crosstab(df['Target'],df['Prediction'])\n    TN = C_matrix.iloc[0,0]\n    FP = C_matrix.iloc[0,1]\n    FN = C_matrix.iloc[1,0]\n    TP = C_matrix.iloc[1,1]\n    Recall = round((TP)/(TP+FN), 2)\n    FPR= round((FP)/(TN+FP), 2)\n    df_roc.loc[len(df_roc)]= [Threshold, Recall, FPR]",
      "execution_count": 6,
      "outputs": []
    },
    {
      "metadata": {
        "trusted": true
      },
      "cell_type": "code",
      "source": "df_roc = pd.DataFrame(columns = ['Threshold', 'TPR', 'FPR'])\nfor i in np.arange(0.1,1,0.1):\n    ROC_calculation(df2, i)",
      "execution_count": 7,
      "outputs": []
    },
    {
      "metadata": {
        "trusted": true
      },
      "cell_type": "code",
      "source": "df_roc",
      "execution_count": 8,
      "outputs": [
        {
          "output_type": "execute_result",
          "execution_count": 8,
          "data": {
            "text/html": "<div>\n<style scoped>\n    .dataframe tbody tr th:only-of-type {\n        vertical-align: middle;\n    }\n\n    .dataframe tbody tr th {\n        vertical-align: top;\n    }\n\n    .dataframe thead th {\n        text-align: right;\n    }\n</style>\n<table border=\"1\" class=\"dataframe\">\n  <thead>\n    <tr style=\"text-align: right;\">\n      <th></th>\n      <th>Threshold</th>\n      <th>TPR</th>\n      <th>FPR</th>\n    </tr>\n  </thead>\n  <tbody>\n    <tr>\n      <th>0</th>\n      <td>0.1</td>\n      <td>1.00</td>\n      <td>0.94</td>\n    </tr>\n    <tr>\n      <th>1</th>\n      <td>0.2</td>\n      <td>1.00</td>\n      <td>0.71</td>\n    </tr>\n    <tr>\n      <th>2</th>\n      <td>0.3</td>\n      <td>0.92</td>\n      <td>0.59</td>\n    </tr>\n    <tr>\n      <th>3</th>\n      <td>0.4</td>\n      <td>0.85</td>\n      <td>0.47</td>\n    </tr>\n    <tr>\n      <th>4</th>\n      <td>0.5</td>\n      <td>0.69</td>\n      <td>0.35</td>\n    </tr>\n    <tr>\n      <th>5</th>\n      <td>0.6</td>\n      <td>0.62</td>\n      <td>0.24</td>\n    </tr>\n    <tr>\n      <th>6</th>\n      <td>0.7</td>\n      <td>0.46</td>\n      <td>0.12</td>\n    </tr>\n    <tr>\n      <th>7</th>\n      <td>0.8</td>\n      <td>0.31</td>\n      <td>0.06</td>\n    </tr>\n    <tr>\n      <th>8</th>\n      <td>0.9</td>\n      <td>0.08</td>\n      <td>0.00</td>\n    </tr>\n  </tbody>\n</table>\n</div>",
            "text/plain": "   Threshold   TPR   FPR\n0        0.1  1.00  0.94\n1        0.2  1.00  0.71\n2        0.3  0.92  0.59\n3        0.4  0.85  0.47\n4        0.5  0.69  0.35\n5        0.6  0.62  0.24\n6        0.7  0.46  0.12\n7        0.8  0.31  0.06\n8        0.9  0.08  0.00"
          },
          "metadata": {}
        }
      ]
    },
    {
      "metadata": {},
      "cell_type": "markdown",
      "source": "## Part D"
    },
    {
      "metadata": {},
      "cell_type": "markdown",
      "source": "In this part of question 2,  we have to generate ROC curve along with the AUC (Area Under Coverage)."
    },
    {
      "metadata": {
        "trusted": true
      },
      "cell_type": "code",
      "source": "import altair as alt\nalt.renderers.enable('notebook')\n\nbase = alt.Chart(df_roc, \n                 title='ROC Curve for varying thrshold from 01. to 0.9'\n                ).properties(width=300)\n\nroc_curve = base.mark_line(point=True).encode(\n    alt.X('FPR', title='False Positive Rate (FPR)',  sort=None),\n    alt.Y('TPR', title='True Positive Rate (TPR) or Recall'),\n)\n\nroc_rule = base.mark_line(color='green').encode(\n    x='FPR',\n    y='FPR',\n    size=alt.value(2)\n)\n(roc_curve + roc_rule).interactive()",
      "execution_count": 9,
      "outputs": [
        {
          "output_type": "display_data",
          "data": {
            "application/javascript": "const spec = {\"config\": {\"view\": {\"continuousWidth\": 400, \"continuousHeight\": 300}}, \"layer\": [{\"mark\": {\"type\": \"line\", \"point\": true}, \"encoding\": {\"x\": {\"type\": \"quantitative\", \"field\": \"FPR\", \"sort\": null, \"title\": \"False Positive Rate (FPR)\"}, \"y\": {\"type\": \"quantitative\", \"field\": \"TPR\", \"title\": \"True Positive Rate (TPR) or Recall\"}}, \"selection\": {\"selector001\": {\"type\": \"interval\", \"bind\": \"scales\", \"encodings\": [\"x\", \"y\"]}}, \"title\": \"ROC Curve for varying thrshold from 01. to 0.9\", \"width\": 300}, {\"mark\": {\"type\": \"line\", \"color\": \"green\"}, \"encoding\": {\"size\": {\"value\": 2}, \"x\": {\"type\": \"quantitative\", \"field\": \"FPR\"}, \"y\": {\"type\": \"quantitative\", \"field\": \"FPR\"}}, \"title\": \"ROC Curve for varying thrshold from 01. to 0.9\", \"width\": 300}], \"data\": {\"name\": \"data-98e7900cf99dfe77e4f4aea93cc835d5\"}, \"$schema\": \"https://vega.github.io/schema/vega-lite/v4.8.1.json\", \"datasets\": {\"data-98e7900cf99dfe77e4f4aea93cc835d5\": [{\"Threshold\": 0.1, \"TPR\": 1.0, \"FPR\": 0.94}, {\"Threshold\": 0.2, \"TPR\": 1.0, \"FPR\": 0.71}, {\"Threshold\": 0.30000000000000004, \"TPR\": 0.92, \"FPR\": 0.59}, {\"Threshold\": 0.4, \"TPR\": 0.85, \"FPR\": 0.47}, {\"Threshold\": 0.5, \"TPR\": 0.69, \"FPR\": 0.35}, {\"Threshold\": 0.6, \"TPR\": 0.62, \"FPR\": 0.24}, {\"Threshold\": 0.7000000000000001, \"TPR\": 0.46, \"FPR\": 0.12}, {\"Threshold\": 0.8, \"TPR\": 0.31, \"FPR\": 0.06}, {\"Threshold\": 0.9, \"TPR\": 0.08, \"FPR\": 0.0}]}};\nconst opt = {};\nconst type = \"vega-lite\";\nconst id = \"04d256bc-44f4-4550-9644-24cd21ee1ebd\";\n\nconst output_area = this;\n\nrequire([\"nbextensions/jupyter-vega/index\"], function(vega) {\n  const target = document.createElement(\"div\");\n  target.id = id;\n  target.className = \"vega-embed\";\n\n  const style = document.createElement(\"style\");\n  style.textContent = [\n    \".vega-embed .error p {\",\n    \"  color: firebrick;\",\n    \"  font-size: 14px;\",\n    \"}\",\n  ].join(\"\\\\n\");\n\n  // element is a jQuery wrapped DOM element inside the output area\n  // see http://ipython.readthedocs.io/en/stable/api/generated/\\\n  // IPython.display.html#IPython.display.Javascript.__init__\n  element[0].appendChild(target);\n  element[0].appendChild(style);\n\n  vega.render(\"#\" + id, spec, type, opt, output_area);\n}, function (err) {\n  if (err.requireType !== \"scripterror\") {\n    throw(err);\n  }\n});\n",
            "text/plain": "<vega.vegalite.VegaLite at 0x7f69fdee8160>"
          },
          "metadata": {
            "jupyter-vega": "#04d256bc-44f4-4550-9644-24cd21ee1ebd"
          }
        },
        {
          "data": {
            "image/png": "[encoded data removed]"
          },
          "metadata": {
            "jupyter-vega": "#04d256bc-44f4-4550-9644-24cd21ee1ebd"
          },
          "output_type": "display_data"
        },
        {
          "output_type": "execute_result",
          "execution_count": 9,
          "data": {
            "text/plain": ""
          },
          "metadata": {}
        }
      ]
    },
    {
      "metadata": {},
      "cell_type": "markdown",
      "source": "Question 2 wrap-up.\n1. df_metrics\n2. df_roc"
    },
    {
      "metadata": {
        "trusted": true
      },
      "cell_type": "code",
      "source": "df_metrics",
      "execution_count": 10,
      "outputs": [
        {
          "output_type": "execute_result",
          "execution_count": 10,
          "data": {
            "text/html": "<div>\n<style scoped>\n    .dataframe tbody tr th:only-of-type {\n        vertical-align: middle;\n    }\n\n    .dataframe tbody tr th {\n        vertical-align: top;\n    }\n\n    .dataframe thead th {\n        text-align: right;\n    }\n</style>\n<table border=\"1\" class=\"dataframe\">\n  <thead>\n    <tr style=\"text-align: right;\">\n      <th></th>\n      <th>Metric</th>\n      <th>Value</th>\n    </tr>\n  </thead>\n  <tbody>\n    <tr>\n      <th>0</th>\n      <td>Error_Rate</td>\n      <td>0.33</td>\n    </tr>\n    <tr>\n      <th>1</th>\n      <td>Precision</td>\n      <td>0.60</td>\n    </tr>\n    <tr>\n      <th>2</th>\n      <td>TPR(True Positive Rate)</td>\n      <td>0.69</td>\n    </tr>\n    <tr>\n      <th>3</th>\n      <td>F1_Score</td>\n      <td>0.64</td>\n    </tr>\n    <tr>\n      <th>4</th>\n      <td>FPR(False Positive Rate)</td>\n      <td>0.35</td>\n    </tr>\n  </tbody>\n</table>\n</div>",
            "text/plain": "                     Metric  Value\n0                Error_Rate   0.33\n1                 Precision   0.60\n2   TPR(True Positive Rate)   0.69\n3                  F1_Score   0.64\n4  FPR(False Positive Rate)   0.35"
          },
          "metadata": {}
        }
      ]
    },
    {
      "metadata": {
        "trusted": true
      },
      "cell_type": "code",
      "source": "df_roc",
      "execution_count": 11,
      "outputs": [
        {
          "output_type": "execute_result",
          "execution_count": 11,
          "data": {
            "text/html": "<div>\n<style scoped>\n    .dataframe tbody tr th:only-of-type {\n        vertical-align: middle;\n    }\n\n    .dataframe tbody tr th {\n        vertical-align: top;\n    }\n\n    .dataframe thead th {\n        text-align: right;\n    }\n</style>\n<table border=\"1\" class=\"dataframe\">\n  <thead>\n    <tr style=\"text-align: right;\">\n      <th></th>\n      <th>Threshold</th>\n      <th>TPR</th>\n      <th>FPR</th>\n    </tr>\n  </thead>\n  <tbody>\n    <tr>\n      <th>0</th>\n      <td>0.1</td>\n      <td>1.00</td>\n      <td>0.94</td>\n    </tr>\n    <tr>\n      <th>1</th>\n      <td>0.2</td>\n      <td>1.00</td>\n      <td>0.71</td>\n    </tr>\n    <tr>\n      <th>2</th>\n      <td>0.3</td>\n      <td>0.92</td>\n      <td>0.59</td>\n    </tr>\n    <tr>\n      <th>3</th>\n      <td>0.4</td>\n      <td>0.85</td>\n      <td>0.47</td>\n    </tr>\n    <tr>\n      <th>4</th>\n      <td>0.5</td>\n      <td>0.69</td>\n      <td>0.35</td>\n    </tr>\n    <tr>\n      <th>5</th>\n      <td>0.6</td>\n      <td>0.62</td>\n      <td>0.24</td>\n    </tr>\n    <tr>\n      <th>6</th>\n      <td>0.7</td>\n      <td>0.46</td>\n      <td>0.12</td>\n    </tr>\n    <tr>\n      <th>7</th>\n      <td>0.8</td>\n      <td>0.31</td>\n      <td>0.06</td>\n    </tr>\n    <tr>\n      <th>8</th>\n      <td>0.9</td>\n      <td>0.08</td>\n      <td>0.00</td>\n    </tr>\n  </tbody>\n</table>\n</div>",
            "text/plain": "   Threshold   TPR   FPR\n0        0.1  1.00  0.94\n1        0.2  1.00  0.71\n2        0.3  0.92  0.59\n3        0.4  0.85  0.47\n4        0.5  0.69  0.35\n5        0.6  0.62  0.24\n6        0.7  0.46  0.12\n7        0.8  0.31  0.06\n8        0.9  0.08  0.00"
          },
          "metadata": {}
        }
      ]
    }
  ],
  "metadata": {
    "kernelspec": {
      "name": "python36",
      "display_name": "Python 3.6",
      "language": "python"
    },
    "language_info": {
      "mimetype": "text/x-python",
      "nbconvert_exporter": "python",
      "name": "python",
      "pygments_lexer": "ipython3",
      "version": "3.6.6",
      "file_extension": ".py",
      "codemirror_mode": {
        "version": 3,
        "name": "ipython"
      }
    }
  },
  "nbformat": 4,
  "nbformat_minor": 2
}