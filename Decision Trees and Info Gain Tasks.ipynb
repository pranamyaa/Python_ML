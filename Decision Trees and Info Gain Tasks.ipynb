{
  "cells": [
    {
      "metadata": {},
      "cell_type": "markdown",
      "source": "# Question 1."
    },
    {
      "metadata": {},
      "cell_type": "markdown",
      "source": "In the Question 1, we have to build a decision tree of depth 1 using the given dataset with '**Annual_Income**' as a target column."
    },
    {
      "metadata": {
        "trusted": true
      },
      "cell_type": "code",
      "source": "import pandas as pd\nimport numpy as np\n\ndf = pd.read_csv('A2_Q1.csv')\ndf1 = df.copy()\ndf.sample(5)",
      "execution_count": 2,
      "outputs": [
        {
          "output_type": "execute_result",
          "execution_count": 2,
          "data": {
            "text/html": "<div>\n<style scoped>\n    .dataframe tbody tr th:only-of-type {\n        vertical-align: middle;\n    }\n\n    .dataframe tbody tr th {\n        vertical-align: top;\n    }\n\n    .dataframe thead th {\n        text-align: right;\n    }\n</style>\n<table border=\"1\" class=\"dataframe\">\n  <thead>\n    <tr style=\"text-align: right;\">\n      <th></th>\n      <th>ID</th>\n      <th>Age</th>\n      <th>Education</th>\n      <th>Marital_Status</th>\n      <th>Occupation</th>\n      <th>Annual_Income</th>\n    </tr>\n  </thead>\n  <tbody>\n    <tr>\n      <th>3</th>\n      <td>4</td>\n      <td>30</td>\n      <td>bachelors</td>\n      <td>married</td>\n      <td>professional</td>\n      <td>mid</td>\n    </tr>\n    <tr>\n      <th>4</th>\n      <td>5</td>\n      <td>37</td>\n      <td>high school</td>\n      <td>married</td>\n      <td>agriculture</td>\n      <td>mid</td>\n    </tr>\n    <tr>\n      <th>10</th>\n      <td>11</td>\n      <td>36</td>\n      <td>high school</td>\n      <td>never married</td>\n      <td>transport</td>\n      <td>mid</td>\n    </tr>\n    <tr>\n      <th>18</th>\n      <td>19</td>\n      <td>39</td>\n      <td>high school</td>\n      <td>divorced</td>\n      <td>professional</td>\n      <td>high</td>\n    </tr>\n    <tr>\n      <th>17</th>\n      <td>18</td>\n      <td>37</td>\n      <td>bachelors</td>\n      <td>married</td>\n      <td>professional</td>\n      <td>mid</td>\n    </tr>\n  </tbody>\n</table>\n</div>",
            "text/plain": "    ID  Age    Education Marital_Status    Occupation Annual_Income\n3    4   30    bachelors        married  professional           mid\n4    5   37  high school        married   agriculture           mid\n10  11   36  high school  never married     transport           mid\n18  19   39  high school       divorced  professional          high\n17  18   37    bachelors        married  professional           mid"
          },
          "metadata": {}
        }
      ]
    },
    {
      "metadata": {},
      "cell_type": "markdown",
      "source": "## Part A"
    },
    {
      "metadata": {},
      "cell_type": "markdown",
      "source": "In Part A of the the question 1, we have to compute the impurity of the Target Feature i.e. '**Annual_Income**' using Gini Index method.\n\nThe gini impurity index is defined as follows:\n$$ \\mbox{Gini}(x) := 1 - \\sum_{i=1}^{\\ell}P(t=i)^{2}$$\n\nGini Index is used to calculate the Information Gain of the feature. \nThe more impure the feature is, the higher the Gini Index value. \n\nBelow, We have calculated Gini Impurity of the target feature using custom method called '**compute_GiniImpurity**'."
    },
    {
      "metadata": {
        "trusted": true
      },
      "cell_type": "code",
      "source": "## Method to compute Impurity by given feature using Gini Index.\ndef compute_GiniImpurity(feature):\n    probs = feature.value_counts(normalize=True)\n    impurity = 1 - np.sum(np.square(probs))    \n    return(round(impurity, 3))",
      "execution_count": 3,
      "outputs": []
    },
    {
      "metadata": {
        "trusted": true
      },
      "cell_type": "code",
      "source": "## Step 1 : Calculate Target Impurity using Gini Index.\nTarget_Impurity = compute_GiniImpurity(df['Annual_Income'])\nTarget_Impurity",
      "execution_count": 4,
      "outputs": [
        {
          "output_type": "execute_result",
          "execution_count": 4,
          "data": {
            "text/plain": "0.555"
          },
          "metadata": {}
        }
      ]
    },
    {
      "metadata": {},
      "cell_type": "markdown",
      "source": "## Part B"
    },
    {
      "metadata": {},
      "cell_type": "markdown",
      "source": "In the part B of the question 1, We have to compute Impurity Remainder and Information_Gain values for each of the feature in the given data set using Gini Index. and we have to choose a feature with highest Information Gain as an Optimal feature for split.\n\nImpurity Remainder is calculated by multiplying impurity of each feature split probablity value by its weight.\n\nInformation Gain is then calculated by subtracting the Impurity Remainder of a feature from Target Impurity calculated in part A.\n\nTo compute Information Gain of provided feature, we have created a method called 'compute_Information_Gain'."
    },
    {
      "metadata": {
        "trusted": true
      },
      "cell_type": "code",
      "source": "## Method to compute Information Gain based on given (DataFrame, Target Feature, Descriptive Feature)\n\ndef compute_Information_Gain(df, target, Desc_feature):\n    \n    print(\"Descriptive Feature: \", Desc_feature)\n    print(\"Target Feature: \", target)\n    Remaining_Impurity_list = list()\n    \n    for level in df[Desc_feature].unique():\n        df_feature_level = df[df[Desc_feature]== level]\n        Remaining_Impurity_list.append(round((compute_GiniImpurity(df_feature_level['Annual_Income'])* (len(df_feature_level)/len(df))),3))\n        \n    feature_remaining_impurity = round(np.sum(Remaining_Impurity_list),3)\n    IG = round(Target_Impurity - feature_remaining_impurity, 3)\n    \n    print(\"Remaining Impurity of the feature is: \", feature_remaining_impurity)\n    print(\"Information Gain of the feature is: \", IG)\n    df_split.loc[len(df_split)]= [Desc_feature,feature_remaining_impurity,IG,False]\n    print(\"==========================================\")\n    \n## Defining the final Data Frame df_split    \ndf_split = pd.DataFrame(columns = ['Split', 'Remainder', 'Information_Gain', 'Is_Optimal'])\n\n## Calculating IG of each descriptive feature except \n## ID which is not a Descriptive Feature, \n## Annual_Income which is a Target Feature,\n## Age which is currently a Continuous Feature and we Made it categorical for splitting in next cells.\nfor feature in df.drop(columns = ['ID', 'Age', 'Annual_Income']).columns:\n    compute_Information_Gain(df, 'Annual_Income', feature)\n",
      "execution_count": 5,
      "outputs": [
        {
          "output_type": "stream",
          "text": "Descriptive Feature:  Education\nTarget Feature:  Annual_Income\nRemaining Impurity of the feature is:  0.537\nInformation Gain of the feature is:  0.018\n==========================================\nDescriptive Feature:  Marital_Status\nTarget Feature:  Annual_Income\nRemaining Impurity of the feature is:  0.468\nInformation Gain of the feature is:  0.087\n==========================================\nDescriptive Feature:  Occupation\nTarget Feature:  Annual_Income\nRemaining Impurity of the feature is:  0.433\nInformation Gain of the feature is:  0.122\n==========================================\n",
          "name": "stdout"
        }
      ]
    },
    {
      "metadata": {},
      "cell_type": "markdown",
      "source": "After calculating the Impurity Remainder and Information_Gain, We have added those values in the target data frame 'df_split'. We have not calculated Information Gain of all features so for now we have populated 'Is_Optimal' value to 'False' as a default value."
    },
    {
      "metadata": {
        "trusted": true
      },
      "cell_type": "code",
      "source": "## Description of df_split.\n## Right Now, we dont have IG of Age groups so we cannot fill the feature 'Is_Optimal' correctly right now.\n## Hence, we assign default value 'False' to each cell of the feature 'Is_Optimal'\ndf_split",
      "execution_count": 6,
      "outputs": [
        {
          "output_type": "execute_result",
          "execution_count": 6,
          "data": {
            "text/html": "<div>\n<style scoped>\n    .dataframe tbody tr th:only-of-type {\n        vertical-align: middle;\n    }\n\n    .dataframe tbody tr th {\n        vertical-align: top;\n    }\n\n    .dataframe thead th {\n        text-align: right;\n    }\n</style>\n<table border=\"1\" class=\"dataframe\">\n  <thead>\n    <tr style=\"text-align: right;\">\n      <th></th>\n      <th>Split</th>\n      <th>Remainder</th>\n      <th>Information_Gain</th>\n      <th>Is_Optimal</th>\n    </tr>\n  </thead>\n  <tbody>\n    <tr>\n      <th>0</th>\n      <td>Education</td>\n      <td>0.537</td>\n      <td>0.018</td>\n      <td>False</td>\n    </tr>\n    <tr>\n      <th>1</th>\n      <td>Marital_Status</td>\n      <td>0.468</td>\n      <td>0.087</td>\n      <td>False</td>\n    </tr>\n    <tr>\n      <th>2</th>\n      <td>Occupation</td>\n      <td>0.433</td>\n      <td>0.122</td>\n      <td>False</td>\n    </tr>\n  </tbody>\n</table>\n</div>",
            "text/plain": "            Split  Remainder  Information_Gain Is_Optimal\n0       Education      0.537             0.018      False\n1  Marital_Status      0.468             0.087      False\n2      Occupation      0.433             0.122      False"
          },
          "metadata": {}
        }
      ]
    },
    {
      "metadata": {},
      "cell_type": "markdown",
      "source": "After calculating Information Gain of each categorical feature, we have to calculate Information Gain of 'Age' feature which is a continuous feature.\n\nThe easiest way to handle a continuous descriptive feature in a decision tree is to define a threshold within the range of values that the continuous feature can take and use this threshold to partition the instances based on whether their values for the feature are above or below the threshold. \n\nTo find best threshold feature, we use below 4 steps:\n    1. We have sorted the data set in the ascending order of the 'Age' feature.\n    2. We consider the adjecent instances in the data set having different 'Annual_Income' value for computing Threshold value.\n    3.  We take the Average of those instances 'Age' values to generate threshold values.\n    4. Each threshold value is a boolean feature which then can compete with other categorical feature by computing their Information Gain and Impurity Remainder."
    },
    {
      "metadata": {},
      "cell_type": "markdown",
      "source": "Step 1:"
    },
    {
      "metadata": {
        "trusted": true
      },
      "cell_type": "code",
      "source": "## To work with 'Age' continuous feature, First we sort the data frame in Ascending Order of Age Values\ndf = df.sort_values(by = 'Age').reset_index(drop = True)\ndf.head(5)",
      "execution_count": 7,
      "outputs": [
        {
          "output_type": "execute_result",
          "execution_count": 7,
          "data": {
            "text/html": "<div>\n<style scoped>\n    .dataframe tbody tr th:only-of-type {\n        vertical-align: middle;\n    }\n\n    .dataframe tbody tr th {\n        vertical-align: top;\n    }\n\n    .dataframe thead th {\n        text-align: right;\n    }\n</style>\n<table border=\"1\" class=\"dataframe\">\n  <thead>\n    <tr style=\"text-align: right;\">\n      <th></th>\n      <th>ID</th>\n      <th>Age</th>\n      <th>Education</th>\n      <th>Marital_Status</th>\n      <th>Occupation</th>\n      <th>Annual_Income</th>\n    </tr>\n  </thead>\n  <tbody>\n    <tr>\n      <th>0</th>\n      <td>3</td>\n      <td>18</td>\n      <td>high school</td>\n      <td>never married</td>\n      <td>agriculture</td>\n      <td>low</td>\n    </tr>\n    <tr>\n      <th>1</th>\n      <td>6</td>\n      <td>23</td>\n      <td>high school</td>\n      <td>never married</td>\n      <td>agriculture</td>\n      <td>low</td>\n    </tr>\n    <tr>\n      <th>2</th>\n      <td>13</td>\n      <td>23</td>\n      <td>bachelors</td>\n      <td>never married</td>\n      <td>agriculture</td>\n      <td>low</td>\n    </tr>\n    <tr>\n      <th>3</th>\n      <td>20</td>\n      <td>25</td>\n      <td>bachelors</td>\n      <td>married</td>\n      <td>transport</td>\n      <td>high</td>\n    </tr>\n    <tr>\n      <th>4</th>\n      <td>14</td>\n      <td>25</td>\n      <td>high school</td>\n      <td>married</td>\n      <td>professional</td>\n      <td>high</td>\n    </tr>\n  </tbody>\n</table>\n</div>",
            "text/plain": "   ID  Age    Education Marital_Status    Occupation Annual_Income\n0   3   18  high school  never married   agriculture           low\n1   6   23  high school  never married   agriculture           low\n2  13   23    bachelors  never married   agriculture           low\n3  20   25    bachelors        married     transport          high\n4  14   25  high school        married  professional          high"
          },
          "metadata": {}
        }
      ]
    },
    {
      "metadata": {},
      "cell_type": "markdown",
      "source": "Step 2 and Step 3:"
    },
    {
      "metadata": {
        "trusted": true
      },
      "cell_type": "code",
      "source": "##In this cell, we create categories from the Age values where Target value changes.\n##AgeFroup list contain threshold values which are classified as split candidates (thresholds).\nAgegroup_list = list()\nfor i in range(0,len(df)-1):\n    if(df.loc[i]['Annual_Income']!= df.loc[i+1]['Annual_Income']):\n        Agegroup_list.append((df.loc[i]['Age'] + df.loc[i+1]['Age'])/2)\nAgegroup_list",
      "execution_count": 8,
      "outputs": [
        {
          "output_type": "execute_result",
          "execution_count": 8,
          "data": {
            "text/plain": "[24.0, 27.0, 38.0, 42.0]"
          },
          "metadata": {}
        }
      ]
    },
    {
      "metadata": {
        "trusted": true
      },
      "cell_type": "code",
      "source": "## We are creating binary Split features as 'Age_24', 'Age_27', 'Age_38', 'Age_42' and populate them appropriately.\n\ndf.loc[df['Age']>= 24.0, 'Age_24'] = 'True'\ndf.loc[df['Age']< 24.0, 'Age_24'] = 'False'\ndf.loc[df['Age']>= 27.0, 'Age_27'] = 'True'\ndf.loc[df['Age']< 27.0, 'Age_27'] = 'False'\ndf.loc[df['Age']>= 38.0, 'Age_38'] = 'True'\ndf.loc[df['Age']< 38.0, 'Age_38'] = 'False'\ndf.loc[df['Age']>= 42.0, 'Age_42'] = 'True'\ndf.loc[df['Age']< 42.0, 'Age_42'] = 'False'\n\ndf.sample(5)",
      "execution_count": 9,
      "outputs": [
        {
          "output_type": "execute_result",
          "execution_count": 9,
          "data": {
            "text/html": "<div>\n<style scoped>\n    .dataframe tbody tr th:only-of-type {\n        vertical-align: middle;\n    }\n\n    .dataframe tbody tr th {\n        vertical-align: top;\n    }\n\n    .dataframe thead th {\n        text-align: right;\n    }\n</style>\n<table border=\"1\" class=\"dataframe\">\n  <thead>\n    <tr style=\"text-align: right;\">\n      <th></th>\n      <th>ID</th>\n      <th>Age</th>\n      <th>Education</th>\n      <th>Marital_Status</th>\n      <th>Occupation</th>\n      <th>Annual_Income</th>\n      <th>Age_24</th>\n      <th>Age_27</th>\n      <th>Age_38</th>\n      <th>Age_42</th>\n    </tr>\n  </thead>\n  <tbody>\n    <tr>\n      <th>11</th>\n      <td>18</td>\n      <td>37</td>\n      <td>bachelors</td>\n      <td>married</td>\n      <td>professional</td>\n      <td>mid</td>\n      <td>True</td>\n      <td>True</td>\n      <td>False</td>\n      <td>False</td>\n    </tr>\n    <tr>\n      <th>1</th>\n      <td>6</td>\n      <td>23</td>\n      <td>high school</td>\n      <td>never married</td>\n      <td>agriculture</td>\n      <td>low</td>\n      <td>False</td>\n      <td>False</td>\n      <td>False</td>\n      <td>False</td>\n    </tr>\n    <tr>\n      <th>0</th>\n      <td>3</td>\n      <td>18</td>\n      <td>high school</td>\n      <td>never married</td>\n      <td>agriculture</td>\n      <td>low</td>\n      <td>False</td>\n      <td>False</td>\n      <td>False</td>\n      <td>False</td>\n    </tr>\n    <tr>\n      <th>14</th>\n      <td>8</td>\n      <td>40</td>\n      <td>doctorate</td>\n      <td>married</td>\n      <td>professional</td>\n      <td>high</td>\n      <td>True</td>\n      <td>True</td>\n      <td>True</td>\n      <td>False</td>\n    </tr>\n    <tr>\n      <th>10</th>\n      <td>5</td>\n      <td>37</td>\n      <td>high school</td>\n      <td>married</td>\n      <td>agriculture</td>\n      <td>mid</td>\n      <td>True</td>\n      <td>True</td>\n      <td>False</td>\n      <td>False</td>\n    </tr>\n  </tbody>\n</table>\n</div>",
            "text/plain": "    ID  Age    Education Marital_Status    Occupation Annual_Income Age_24  \\\n11  18   37    bachelors        married  professional           mid   True   \n1    6   23  high school  never married   agriculture           low  False   \n0    3   18  high school  never married   agriculture           low  False   \n14   8   40    doctorate        married  professional          high   True   \n10   5   37  high school        married   agriculture           mid   True   \n\n   Age_27 Age_38 Age_42  \n11   True  False  False  \n1   False  False  False  \n0   False  False  False  \n14   True   True  False  \n10   True  False  False  "
          },
          "metadata": {}
        }
      ]
    },
    {
      "metadata": {},
      "cell_type": "markdown",
      "source": "Step 4: "
    },
    {
      "metadata": {
        "trusted": true
      },
      "cell_type": "code",
      "source": "## Computing Information Gain of each of the Age feature by calling method 'compute_Information_Gain'.\nAgefeature_list = ['Age_24', 'Age_27', 'Age_38', 'Age_42']\nfor feature in Agefeature_list:\n    compute_Information_Gain(df, 'Annual_Income', feature)",
      "execution_count": 10,
      "outputs": [
        {
          "output_type": "stream",
          "text": "Descriptive Feature:  Age_24\nTarget Feature:  Annual_Income\nRemaining Impurity of the feature is:  0.353\nInformation Gain of the feature is:  0.202\n==========================================\nDescriptive Feature:  Age_27\nTarget Feature:  Annual_Income\nRemaining Impurity of the feature is:  0.36\nInformation Gain of the feature is:  0.195\n==========================================\nDescriptive Feature:  Age_38\nTarget Feature:  Annual_Income\nRemaining Impurity of the feature is:  0.529\nInformation Gain of the feature is:  0.026\n==========================================\nDescriptive Feature:  Age_42\nTarget Feature:  Annual_Income\nRemaining Impurity of the feature is:  0.473\nInformation Gain of the feature is:  0.082\n==========================================\n",
          "name": "stdout"
        }
      ]
    },
    {
      "metadata": {},
      "cell_type": "markdown",
      "source": "After computing Information Gain of each of the feature in the data set, we have to choose Optimal feature for the first split in a decision tree. For that, we assign value 'True' to the column 'Is_Optimal' of an instance having highest Information Gain.\n\nWe can see that feature '**Age_24**' have maximum Inforamtion gain of all the features which is 0.202. So this 'Is_Optimal' value of this feature is assigned to 'True'."
    },
    {
      "metadata": {
        "trusted": true,
        "slideshow": {
          "slide_type": ""
        }
      },
      "cell_type": "code",
      "source": "## Populating value 'True' to the feature 'Is_Optimal' of split having highest Information Gain.\n## The final data frame 'df_split'\ndf_split.loc[df_split['Information_Gain']==df_split['Information_Gain'].max(), 'Is_Optimal'] = 'True'",
      "execution_count": 11,
      "outputs": []
    },
    {
      "metadata": {
        "trusted": true
      },
      "cell_type": "code",
      "source": "df_split",
      "execution_count": 12,
      "outputs": [
        {
          "output_type": "execute_result",
          "execution_count": 12,
          "data": {
            "text/html": "<div>\n<style scoped>\n    .dataframe tbody tr th:only-of-type {\n        vertical-align: middle;\n    }\n\n    .dataframe tbody tr th {\n        vertical-align: top;\n    }\n\n    .dataframe thead th {\n        text-align: right;\n    }\n</style>\n<table border=\"1\" class=\"dataframe\">\n  <thead>\n    <tr style=\"text-align: right;\">\n      <th></th>\n      <th>Split</th>\n      <th>Remainder</th>\n      <th>Information_Gain</th>\n      <th>Is_Optimal</th>\n    </tr>\n  </thead>\n  <tbody>\n    <tr>\n      <th>0</th>\n      <td>Education</td>\n      <td>0.537</td>\n      <td>0.018</td>\n      <td>False</td>\n    </tr>\n    <tr>\n      <th>1</th>\n      <td>Marital_Status</td>\n      <td>0.468</td>\n      <td>0.087</td>\n      <td>False</td>\n    </tr>\n    <tr>\n      <th>2</th>\n      <td>Occupation</td>\n      <td>0.433</td>\n      <td>0.122</td>\n      <td>False</td>\n    </tr>\n    <tr>\n      <th>3</th>\n      <td>Age_24</td>\n      <td>0.353</td>\n      <td>0.202</td>\n      <td>True</td>\n    </tr>\n    <tr>\n      <th>4</th>\n      <td>Age_27</td>\n      <td>0.360</td>\n      <td>0.195</td>\n      <td>False</td>\n    </tr>\n    <tr>\n      <th>5</th>\n      <td>Age_38</td>\n      <td>0.529</td>\n      <td>0.026</td>\n      <td>False</td>\n    </tr>\n    <tr>\n      <th>6</th>\n      <td>Age_42</td>\n      <td>0.473</td>\n      <td>0.082</td>\n      <td>False</td>\n    </tr>\n  </tbody>\n</table>\n</div>",
            "text/plain": "            Split  Remainder  Information_Gain Is_Optimal\n0       Education      0.537             0.018      False\n1  Marital_Status      0.468             0.087      False\n2      Occupation      0.433             0.122      False\n3          Age_24      0.353             0.202       True\n4          Age_27      0.360             0.195      False\n5          Age_38      0.529             0.026      False\n6          Age_42      0.473             0.082      False"
          },
          "metadata": {}
        }
      ]
    },
    {
      "metadata": {},
      "cell_type": "markdown",
      "source": "## Part C"
    },
    {
      "metadata": {},
      "cell_type": "markdown",
      "source": "In this part of the Question 1,  we assumed that the 'Education' descriptive feature is the root node of the decison tree.\n\nWe have to calculate probability of the target feature levels by each of the Education leaf value. and finally we have to find the leaf prediction value for each leaf which is calculated on the basis of calculated probabilty of the target feature levels."
    },
    {
      "metadata": {},
      "cell_type": "markdown",
      "source": "First we calculate the leaf values after splitting on the basis of 'Education' feature. There are 3 leaf conditions created ('high school, bachelors, doctorate'."
    },
    {
      "metadata": {
        "trusted": true
      },
      "cell_type": "code",
      "source": "df1['Education'].value_counts()",
      "execution_count": 13,
      "outputs": [
        {
          "output_type": "execute_result",
          "execution_count": 13,
          "data": {
            "text/plain": "high school    8\nbachelors      8\ndoctorate      4\nName: Education, dtype: int64"
          },
          "metadata": {}
        }
      ]
    },
    {
      "metadata": {},
      "cell_type": "markdown",
      "source": "We have created method called 'prediction' which will caculate probabilty of each target leavel for each leaf condition. and then compute the leaf prediction for each leaf and create data frame 'df_predicted' as shown below."
    },
    {
      "metadata": {
        "trusted": true
      },
      "cell_type": "code",
      "source": "##Method to calculate df_predicted data frame as required.\ndef prediction(df, target):\n    \n    for level in df['Education'].unique():\n        Leaf_Condition = \"Education == \"+level\n        df_Education_level = df[df['Education']== level]\n        #print(df_Education_level)\n        Low_Income_Prob = round(len(df_Education_level[df_Education_level['Annual_Income']=='low'])/ len(df_Education_level),3)\n        Mid_Income_Prob = round(len(df_Education_level[df_Education_level['Annual_Income']=='mid'])/ len(df_Education_level),3)\n        High_Income_Prob = round(len(df_Education_level[df_Education_level['Annual_Income']=='high'])/ len(df_Education_level),3)\n        \n        var = {Low_Income_Prob:\"low\", Mid_Income_Prob:\"mid\", High_Income_Prob:\"high\"}\n        Leaf_prediction = var.get(max(var))\n        \n        df_predicted.loc[len(df_predicted)]= [Leaf_Condition,Low_Income_Prob,Mid_Income_Prob,High_Income_Prob,Leaf_prediction]\n        #print(\"==============================\") ",
      "execution_count": 14,
      "outputs": []
    },
    {
      "metadata": {
        "trusted": true
      },
      "cell_type": "code",
      "source": "df_predicted = pd.DataFrame(columns = ['Leaf_Condition', 'Low_Income_Prob', 'Mid_Income_Prob', 'High_Income_Prob','Leaf_prediction'])       \nprediction(df1,\"Annual_Income\")",
      "execution_count": 15,
      "outputs": []
    },
    {
      "metadata": {},
      "cell_type": "markdown",
      "source": "Question 1 wrap-up.\n1. df_split\n2. df_predicted"
    },
    {
      "metadata": {
        "trusted": true
      },
      "cell_type": "code",
      "source": "##Final df_split data frame\ndf_split",
      "execution_count": 16,
      "outputs": [
        {
          "output_type": "execute_result",
          "execution_count": 16,
          "data": {
            "text/html": "<div>\n<style scoped>\n    .dataframe tbody tr th:only-of-type {\n        vertical-align: middle;\n    }\n\n    .dataframe tbody tr th {\n        vertical-align: top;\n    }\n\n    .dataframe thead th {\n        text-align: right;\n    }\n</style>\n<table border=\"1\" class=\"dataframe\">\n  <thead>\n    <tr style=\"text-align: right;\">\n      <th></th>\n      <th>Split</th>\n      <th>Remainder</th>\n      <th>Information_Gain</th>\n      <th>Is_Optimal</th>\n    </tr>\n  </thead>\n  <tbody>\n    <tr>\n      <th>0</th>\n      <td>Education</td>\n      <td>0.537</td>\n      <td>0.018</td>\n      <td>False</td>\n    </tr>\n    <tr>\n      <th>1</th>\n      <td>Marital_Status</td>\n      <td>0.468</td>\n      <td>0.087</td>\n      <td>False</td>\n    </tr>\n    <tr>\n      <th>2</th>\n      <td>Occupation</td>\n      <td>0.433</td>\n      <td>0.122</td>\n      <td>False</td>\n    </tr>\n    <tr>\n      <th>3</th>\n      <td>Age_24</td>\n      <td>0.353</td>\n      <td>0.202</td>\n      <td>True</td>\n    </tr>\n    <tr>\n      <th>4</th>\n      <td>Age_27</td>\n      <td>0.360</td>\n      <td>0.195</td>\n      <td>False</td>\n    </tr>\n    <tr>\n      <th>5</th>\n      <td>Age_38</td>\n      <td>0.529</td>\n      <td>0.026</td>\n      <td>False</td>\n    </tr>\n    <tr>\n      <th>6</th>\n      <td>Age_42</td>\n      <td>0.473</td>\n      <td>0.082</td>\n      <td>False</td>\n    </tr>\n  </tbody>\n</table>\n</div>",
            "text/plain": "            Split  Remainder  Information_Gain Is_Optimal\n0       Education      0.537             0.018      False\n1  Marital_Status      0.468             0.087      False\n2      Occupation      0.433             0.122      False\n3          Age_24      0.353             0.202       True\n4          Age_27      0.360             0.195      False\n5          Age_38      0.529             0.026      False\n6          Age_42      0.473             0.082      False"
          },
          "metadata": {}
        }
      ]
    },
    {
      "metadata": {
        "trusted": true
      },
      "cell_type": "code",
      "source": "## Final df_predicted data frame\ndf_predicted",
      "execution_count": 17,
      "outputs": [
        {
          "output_type": "execute_result",
          "execution_count": 17,
          "data": {
            "text/html": "<div>\n<style scoped>\n    .dataframe tbody tr th:only-of-type {\n        vertical-align: middle;\n    }\n\n    .dataframe tbody tr th {\n        vertical-align: top;\n    }\n\n    .dataframe thead th {\n        text-align: right;\n    }\n</style>\n<table border=\"1\" class=\"dataframe\">\n  <thead>\n    <tr style=\"text-align: right;\">\n      <th></th>\n      <th>Leaf_Condition</th>\n      <th>Low_Income_Prob</th>\n      <th>Mid_Income_Prob</th>\n      <th>High_Income_Prob</th>\n      <th>Leaf_prediction</th>\n    </tr>\n  </thead>\n  <tbody>\n    <tr>\n      <th>0</th>\n      <td>Education == bachelors</td>\n      <td>0.125</td>\n      <td>0.625</td>\n      <td>0.25</td>\n      <td>mid</td>\n    </tr>\n    <tr>\n      <th>1</th>\n      <td>Education == doctorate</td>\n      <td>0.000</td>\n      <td>0.750</td>\n      <td>0.25</td>\n      <td>mid</td>\n    </tr>\n    <tr>\n      <th>2</th>\n      <td>Education == high school</td>\n      <td>0.250</td>\n      <td>0.500</td>\n      <td>0.25</td>\n      <td>mid</td>\n    </tr>\n  </tbody>\n</table>\n</div>",
            "text/plain": "             Leaf_Condition  Low_Income_Prob  Mid_Income_Prob  \\\n0    Education == bachelors            0.125            0.625   \n1    Education == doctorate            0.000            0.750   \n2  Education == high school            0.250            0.500   \n\n   High_Income_Prob Leaf_prediction  \n0              0.25             mid  \n1              0.25             mid  \n2              0.25             mid  "
          },
          "metadata": {}
        }
      ]
    },
    {
      "metadata": {},
      "cell_type": "markdown",
      "source": "---"
    }
  ],
  "metadata": {
    "kernelspec": {
      "name": "python36",
      "display_name": "Python 3.6",
      "language": "python"
    },
    "language_info": {
      "mimetype": "text/x-python",
      "nbconvert_exporter": "python",
      "name": "python",
      "pygments_lexer": "ipython3",
      "version": "3.6.6",
      "file_extension": ".py",
      "codemirror_mode": {
        "version": 3,
        "name": "ipython"
      }
    }
  },
  "nbformat": 4,
  "nbformat_minor": 2
}