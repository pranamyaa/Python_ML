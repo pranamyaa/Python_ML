{
 "cells": [
  {
   "cell_type": "markdown",
   "metadata": {},
   "source": [
    "# Predicting the Credit Risk of Customers (Good or Bad)."
   ]
  },
  {
   "cell_type": "markdown",
   "metadata": {},
   "source": [
    "The objective of this case study is to fit and compare 4 different binary classification models (classifiers) to predict whether a customer has good credit history or bad using the German Credit dataset. The dataset is sourced from the UCI Machine Learning Repository (https://archive.ics.uci.edu/ml/datasets/statlog+(german+credit+data))\n",
    "\n",
    "The dataset contains 20 descriptive feature with 1 binary class feature. Out of the 20 descriptive features 7 features are numerical while 13 are categorical. All of the categorical features are represented with some coding format which is explained below. The class feature has two classes 'Good' which is represented as '1' and 'Bad' which is represented as '2' respectively. The whole dataset contains 1000 observation instances.\n",
    "\n",
    "This report is organized as follows:\n",
    "- [Section 2 (Overview of the Data)](#2) Provides details of the features in the dataset along with their meaning. \n",
    "- [Section 3 (Data Preparation)](#3) Summarizes the data preparation steps taken to fit the data in classification models . \n",
    "- [Section 4 (Data Exploration)](#4) Explains relationship between different columns using various graphs and visualization techniques.\n",
    "- [Section 5 (Feature Selelction and Ranking)](#5) This section helps to rank and select the important feature for the further modelling.\n",
    "- [Section 6 (Data Modelling)](#6) This section first fits data into 4 different binary classification models and build classifiers.\n",
    "- [Section 7 (Hyperparameter Tuning)](#7)This section describes the hyperparameter tuning process for each classification algorithm.\n",
    "- [Section 8 (Performance Evaluation)](#8) This section calculates the performance of each of the classification model after HP tuning. \n",
    "- [Section 9 (Limitations and proposed Solutions)](#9) This section defines the limiations of the models and proposes future scope and solutions.\n",
    "- [Section 10 (Summary and Conclusion)](#10) provides a result of our experiment and a brief summary of our work in this report.\n",
    "- [Section 11(References)](#11) provides the reference of sources used for this project.\n",
    "\n",
    "This is Jupyter Notebook file contains both narratives as well as the related Python 3.6 codes.\n"
   ]
  },
  {
   "cell_type": "code",
   "execution_count": 1,
   "metadata": {},
   "outputs": [],
   "source": [
    "## Comaptibility of Altair to Jupyter Notebook.\n",
    "## The code below require Altair version 3.0 or above which indeed require Jupyter lab version 1.0 or above. \n",
    "## To process and update the same the following code needs to be uncommented and Vega package needs to be installed.\n",
    "## We need to execute this code each time loading this page. We have to Restart Kernel and clear output after executing the below commands.\n",
    "\n",
    "##%%capture\n",
    "##!pip install --upgrade altair\n",
    "##!pip install vega vega_datasets\n",
    "##!pip install --upgrade pip --user"
   ]
  },
  {
   "cell_type": "markdown",
   "metadata": {},
   "source": [
    "# Overview of the Data. <a class=\"anchor\" id=\"2\"></a>\n",
    "\n",
    "### Information about the data and its features.\n",
    "\n",
    "The dataset classifies people described by a set of attributes as good or bad credit risks. The Dataset contains 20 Descriptive features whoes values are encoded in the below mentioned format. The class feature variable is 21st feature which have two different classes 1 and 2. '1' represents 'good' credit risk while '2' represents 'bad' credit risks. Below are the Feature Values and Attribute Information :\n",
    "\n",
    "Attribute 1: Status of existing checking account (categorical)\n",
    "- A11 : ... < 0 DM\n",
    "- A12 : 0 <= ... < 200 DM\n",
    "- A13 : ... >= 200 DM \n",
    "- A14 : no checking account\n",
    "\n",
    "Attribute 2: Duration in month (numerical)\n",
    "\n",
    "Attribute 3: Credit history (categorical)\n",
    "- A30 : no credits taken/ all credits paid back duly\n",
    "- A31 : all credits at this bank paid back duly\n",
    "- A32 : existing credits paid back duly till now\n",
    "- A33 : delay in paying off in the past\n",
    "- A34 : critical account/ other credits existing (not at this bank)\n",
    "\n",
    "Attribute 4: Purpose (categorical)\n",
    "- A40 : car (new)\n",
    "- A41 : car (used)\n",
    "- A42 : furniture/equipment\n",
    "- A43 : radio/television\n",
    "- A44 : domestic appliances\n",
    "- A45 : repairs\n",
    "- A46 : education\n",
    "- A47 : (vacation - does not exist?)\n",
    "- A48 : retraining\n",
    "- A49 : business\n",
    "- A410 : others\n",
    "\n",
    "Attribute 5: Credit amount (numerical)\n",
    "\n",
    "Attibute 6: Savings account/bonds (categorical)\n",
    "- A61 : ... < 100 DM\n",
    "- A62 : 100 <= ... < 500 DM\n",
    "- A63 : 500 <= ... < 1000 DM\n",
    "- A64 : .. >= 1000 DM\n",
    "- A65 : unknown/ no savings account\n",
    "\n",
    "Attribute 7: Present employment since (categorical)\n",
    "- A71 : unemployed\n",
    "- A72 : ... < 1 year\n",
    "- A73 : 1 <= ... < 4 years\n",
    "- A74 : 4 <= ... < 7 years\n",
    "- A75 : .. >= 7 years\n",
    "\n",
    "Attribute 8: Installment rate in percentage of disposable income (numerical)\n",
    "\n",
    "Attribute 9: Personal status and sex(categorical)\n",
    "- A91 : male : divorced/separated\n",
    "- A92 : female : divorced/separated/married\n",
    "- A93 : male : single\n",
    "- A94 : male : married/widowed\n",
    "- A95 : female : single\n",
    "\n",
    "Attribute 10: Other debtors / guarantors (categorical)\n",
    "- A101 : none\n",
    "- A102 : co-applicant\n",
    "- A103 : guarantor\n",
    "\n",
    "Attribute 11: Present residence since (numerical)\n",
    "\n",
    "Attribute 12: Property (categorical)\n",
    "- A121 : real estate\n",
    "- A122 : if not A121 : building society savings agreement/ life insurance\n",
    "- A123 : if not A121/A122 : car or other, not in attribute 6\n",
    "- A124 : unknown / no property\n",
    "\n",
    "Attribute 13: Age in years (numerical)\n",
    "\n",
    "Attribute 14: Other installment plans (categorical)\n",
    "- A141 : bank\n",
    "- A142 : stores\n",
    "- A143 : none\n",
    "\n",
    "Attribute 15: Housing (categorical)\n",
    "- A151 : rent\n",
    "- A152 : own\n",
    "- A153 : for free\n",
    "\n",
    "Attribute 16: Number of existing credits at this bank (numerical)\n",
    "\n",
    "Attribute 17: Job (categorical)\n",
    "- A171 : unemployed/ unskilled - non-resident\n",
    "- A172 : unskilled - resident\n",
    "- A173 : skilled employee / official\n",
    "- A174 : management/ self-employed/highly qualified employee/ officer\n",
    "\n",
    "Attribute 18: Number of people being liable to provide maintenance for(numerical)\n",
    "\n",
    "Attribute 19: Telephone (categorical)\n",
    "- A191 : none\n",
    "- A192 : yes, registered under the customers name\n",
    "\n",
    "Attribute 20: foreign worker (categorical)\n",
    "- A201 : yes\n",
    "- A202 : no\n",
    "\n",
    "Attribute 21: Credit Risk (Class Feature)\n",
    "- 1 : Good\n",
    "- 2 : Bad\n",
    "\n",
    "---\n",
    "\n",
    "### Methodology\n",
    "\n",
    "We are considering the below 4 binary classifiers to predict the target feature:\n",
    "- K-Nearest Neighbour (KNN)\n",
    "- Decision Tree (DT)\n",
    "- Random Forest Ensemble (RF)\n",
    "- Naive Bayes (NB)\n",
    "\n",
    "Before we start the modeling process, we try to find the relations between some descriptive features using some graphs and visualization techniques. This report includes 3 One-Variable graphs, 3 Two-Variable graphs and 3 Three-Variable graphs to explore the relation between them.\n",
    "\n",
    "The Modeling starts with the cleansing of the data and then transforming it into the classifier readable format. This transformation includes encoding the categorical descriptive features and then scaling them using one of the SKlearn scalars. First we split the dataset into training and test sets with 70:30 ratio. That means:\n",
    "  * The randomly selected 700 observation instances of the data are used during HP tuning phase called as **Training Data**\n",
    "  * Remaining selected 300 observation instances are used for performance evaluation and comparison called as **Test Data**\n",
    "\n",
    "In the next step we try to find, the most important features in the training data. We select those features using **RFI (Random Forest Importance)** method. We consider top 10, 20 and full set of features after encoding (59) after encoding the categorical features. In the next step to tune the hyperparameter in each classifier we use 5-fold stratified cross-validation using ROC_AUC as a performance metric. As the class feature contain more customers with 'Good' credit risks (imbalanced class issue), ROC_AUC is crucial to test the performance of each of the classifier as it is robust to this issue. We also tried to find out sensitivity of each model by plotting the ROC graph of the performance of each model.\n",
    "\n",
    "Classifiers with the best performance with hyperparameter values as identified via grid search on the training data are called **tuned** classifiers. When we find 4 tuned classifiers, we fit them on the test dataset  and we perform paired t-test to check the statistical significance of each of their performance. And in addition to this, we try to compare the confusion matrices of classifiers on the test data.  \n",
    "\n",
    "---"
   ]
  },
  {
   "cell_type": "markdown",
   "metadata": {},
   "source": [
    "# Data Preparation <a class=\"anchor\" id=\"3\"></a>\n",
    "\n",
    "### Load Dataset\n",
    "\n",
    "We load the dataset from the local repository using `read_csv` function of a `Pandas` package. The Original dataset dont have feature labels associated with it. So we provide appropriate feature labels as per the feature information stated above."
   ]
  },
  {
   "cell_type": "code",
   "execution_count": 2,
   "metadata": {},
   "outputs": [],
   "source": [
    "import warnings\n",
    "warnings.filterwarnings(\"ignore\")\n",
    "\n",
    "import pandas as pd\n",
    "import numpy as np\n",
    "import seaborn as sns \n",
    "import matplotlib.pyplot as plt\n",
    "from mpl_toolkits.mplot3d import Axes3D\n",
    "import matplotlib as mpl\n",
    "%matplotlib inline \n",
    "\n",
    "pd.set_option('display.max_columns', None)\n",
    "\n",
    "\n",
    "attrnames = ['Existing_CA_Status', 'Duration_Months', 'Credit_History', 'Purpose', 'CR_Amount', 'Saving_Acc', 'Present_Employment',\n",
    "             'Inst_Rate', 'Gender_Status', 'Other_Debtors', 'Present_Residence_Time', 'Property', 'Age_Years', 'Inst_Plans', 'Housing',\n",
    "             'Exsisting_CR_Count', 'Job', 'Liability_Count', 'Telephone_Status', 'Foreign_Worker', 'Credit_Risk_Status']\n",
    "\n",
    "dataset = pd.read_csv(\"S3779009_Data.csv\", header = None, names = attrnames)\n",
    "\n",
    "#print(f\"Shape of the dataset is {dataset.shape} \\n\")"
   ]
  },
  {
   "cell_type": "code",
   "execution_count": 3,
   "metadata": {},
   "outputs": [
    {
     "name": "stdout",
     "output_type": "stream",
     "text": [
      "Existing_CA_Status        object\n",
      "Duration_Months            int64\n",
      "Credit_History            object\n",
      "Purpose                   object\n",
      "CR_Amount                  int64\n",
      "Saving_Acc                object\n",
      "Present_Employment        object\n",
      "Inst_Rate                  int64\n",
      "Gender_Status             object\n",
      "Other_Debtors             object\n",
      "Present_Residence_Time     int64\n",
      "Property                  object\n",
      "Age_Years                  int64\n",
      "Inst_Plans                object\n",
      "Housing                   object\n",
      "Exsisting_CR_Count         int64\n",
      "Job                       object\n",
      "Liability_Count            int64\n",
      "Telephone_Status          object\n",
      "Foreign_Worker            object\n",
      "Credit_Risk_Status         int64\n",
      "dtype: object\n"
     ]
    }
   ],
   "source": [
    "#print(f\"Data types are below where 'object' indicates Categorical Feature: \")\n",
    "print(dataset.dtypes)"
   ]
  },
  {
   "cell_type": "markdown",
   "metadata": {},
   "source": [
    "The full data has 1000 observation instances. It has 20 descriptive feature including (13 Categorical features and 7 Numerical features) and \"Credit-Risk-Status\" as a target feature.\n",
    "\n",
    "### Checking for Missing Values\n",
    "\n",
    "Lets make sure that we do not have missing values in each of the feature of the dataset. We can do that by using `isnull()` function. "
   ]
  },
  {
   "cell_type": "code",
   "execution_count": 4,
   "metadata": {},
   "outputs": [
    {
     "name": "stdout",
     "output_type": "stream",
     "text": [
      "\n",
      "Count of missing values in each feature of a dataset: \n",
      "Existing_CA_Status        0\n",
      "Duration_Months           0\n",
      "Credit_History            0\n",
      "Purpose                   0\n",
      "CR_Amount                 0\n",
      "Saving_Acc                0\n",
      "Present_Employment        0\n",
      "Inst_Rate                 0\n",
      "Gender_Status             0\n",
      "Other_Debtors             0\n",
      "Present_Residence_Time    0\n",
      "Property                  0\n",
      "Age_Years                 0\n",
      "Inst_Plans                0\n",
      "Housing                   0\n",
      "Exsisting_CR_Count        0\n",
      "Job                       0\n",
      "Liability_Count           0\n",
      "Telephone_Status          0\n",
      "Foreign_Worker            0\n",
      "Credit_Risk_Status        0\n",
      "dtype: int64\n"
     ]
    }
   ],
   "source": [
    "print(\"\\nCount of missing values in each feature of a dataset: \")\n",
    "print(dataset.isnull().sum())"
   ]
  },
  {
   "cell_type": "markdown",
   "metadata": {},
   "source": [
    "We will take look at some sample observations of the data by using `sample()` function."
   ]
  },
  {
   "cell_type": "code",
   "execution_count": 5,
   "metadata": {},
   "outputs": [
    {
     "data": {
      "text/html": [
       "<b>Table 1: Sample of a dataset</b>"
      ],
      "text/plain": [
       "<IPython.core.display.HTML object>"
      ]
     },
     "metadata": {},
     "output_type": "display_data"
    },
    {
     "data": {
      "text/html": [
       "<div>\n",
       "<style scoped>\n",
       "    .dataframe tbody tr th:only-of-type {\n",
       "        vertical-align: middle;\n",
       "    }\n",
       "\n",
       "    .dataframe tbody tr th {\n",
       "        vertical-align: top;\n",
       "    }\n",
       "\n",
       "    .dataframe thead th {\n",
       "        text-align: right;\n",
       "    }\n",
       "</style>\n",
       "<table border=\"1\" class=\"dataframe\">\n",
       "  <thead>\n",
       "    <tr style=\"text-align: right;\">\n",
       "      <th></th>\n",
       "      <th>Existing_CA_Status</th>\n",
       "      <th>Duration_Months</th>\n",
       "      <th>Credit_History</th>\n",
       "      <th>Purpose</th>\n",
       "      <th>CR_Amount</th>\n",
       "      <th>Saving_Acc</th>\n",
       "      <th>Present_Employment</th>\n",
       "      <th>Inst_Rate</th>\n",
       "      <th>Gender_Status</th>\n",
       "      <th>Other_Debtors</th>\n",
       "      <th>Present_Residence_Time</th>\n",
       "      <th>Property</th>\n",
       "      <th>Age_Years</th>\n",
       "      <th>Inst_Plans</th>\n",
       "      <th>Housing</th>\n",
       "      <th>Exsisting_CR_Count</th>\n",
       "      <th>Job</th>\n",
       "      <th>Liability_Count</th>\n",
       "      <th>Telephone_Status</th>\n",
       "      <th>Foreign_Worker</th>\n",
       "      <th>Credit_Risk_Status</th>\n",
       "    </tr>\n",
       "  </thead>\n",
       "  <tbody>\n",
       "    <tr>\n",
       "      <th>842</th>\n",
       "      <td>A14</td>\n",
       "      <td>18</td>\n",
       "      <td>A32</td>\n",
       "      <td>A45</td>\n",
       "      <td>1943</td>\n",
       "      <td>A61</td>\n",
       "      <td>A72</td>\n",
       "      <td>4</td>\n",
       "      <td>A92</td>\n",
       "      <td>A101</td>\n",
       "      <td>4</td>\n",
       "      <td>A121</td>\n",
       "      <td>23</td>\n",
       "      <td>A143</td>\n",
       "      <td>A152</td>\n",
       "      <td>1</td>\n",
       "      <td>A173</td>\n",
       "      <td>1</td>\n",
       "      <td>A191</td>\n",
       "      <td>A201</td>\n",
       "      <td>2</td>\n",
       "    </tr>\n",
       "    <tr>\n",
       "      <th>68</th>\n",
       "      <td>A14</td>\n",
       "      <td>36</td>\n",
       "      <td>A32</td>\n",
       "      <td>A46</td>\n",
       "      <td>1819</td>\n",
       "      <td>A61</td>\n",
       "      <td>A73</td>\n",
       "      <td>4</td>\n",
       "      <td>A93</td>\n",
       "      <td>A101</td>\n",
       "      <td>4</td>\n",
       "      <td>A124</td>\n",
       "      <td>37</td>\n",
       "      <td>A142</td>\n",
       "      <td>A153</td>\n",
       "      <td>1</td>\n",
       "      <td>A173</td>\n",
       "      <td>1</td>\n",
       "      <td>A192</td>\n",
       "      <td>A201</td>\n",
       "      <td>2</td>\n",
       "    </tr>\n",
       "    <tr>\n",
       "      <th>308</th>\n",
       "      <td>A12</td>\n",
       "      <td>8</td>\n",
       "      <td>A32</td>\n",
       "      <td>A42</td>\n",
       "      <td>1237</td>\n",
       "      <td>A61</td>\n",
       "      <td>A73</td>\n",
       "      <td>3</td>\n",
       "      <td>A92</td>\n",
       "      <td>A101</td>\n",
       "      <td>4</td>\n",
       "      <td>A121</td>\n",
       "      <td>24</td>\n",
       "      <td>A143</td>\n",
       "      <td>A152</td>\n",
       "      <td>1</td>\n",
       "      <td>A173</td>\n",
       "      <td>1</td>\n",
       "      <td>A191</td>\n",
       "      <td>A201</td>\n",
       "      <td>2</td>\n",
       "    </tr>\n",
       "    <tr>\n",
       "      <th>881</th>\n",
       "      <td>A14</td>\n",
       "      <td>24</td>\n",
       "      <td>A32</td>\n",
       "      <td>A41</td>\n",
       "      <td>9277</td>\n",
       "      <td>A65</td>\n",
       "      <td>A73</td>\n",
       "      <td>2</td>\n",
       "      <td>A91</td>\n",
       "      <td>A101</td>\n",
       "      <td>4</td>\n",
       "      <td>A124</td>\n",
       "      <td>48</td>\n",
       "      <td>A143</td>\n",
       "      <td>A153</td>\n",
       "      <td>1</td>\n",
       "      <td>A173</td>\n",
       "      <td>1</td>\n",
       "      <td>A192</td>\n",
       "      <td>A201</td>\n",
       "      <td>1</td>\n",
       "    </tr>\n",
       "    <tr>\n",
       "      <th>350</th>\n",
       "      <td>A14</td>\n",
       "      <td>9</td>\n",
       "      <td>A32</td>\n",
       "      <td>A44</td>\n",
       "      <td>1236</td>\n",
       "      <td>A61</td>\n",
       "      <td>A72</td>\n",
       "      <td>1</td>\n",
       "      <td>A92</td>\n",
       "      <td>A101</td>\n",
       "      <td>4</td>\n",
       "      <td>A121</td>\n",
       "      <td>23</td>\n",
       "      <td>A143</td>\n",
       "      <td>A151</td>\n",
       "      <td>1</td>\n",
       "      <td>A173</td>\n",
       "      <td>1</td>\n",
       "      <td>A192</td>\n",
       "      <td>A201</td>\n",
       "      <td>1</td>\n",
       "    </tr>\n",
       "  </tbody>\n",
       "</table>\n",
       "</div>"
      ],
      "text/plain": [
       "    Existing_CA_Status  Duration_Months Credit_History Purpose  CR_Amount  \\\n",
       "842                A14               18            A32     A45       1943   \n",
       "68                 A14               36            A32     A46       1819   \n",
       "308                A12                8            A32     A42       1237   \n",
       "881                A14               24            A32     A41       9277   \n",
       "350                A14                9            A32     A44       1236   \n",
       "\n",
       "    Saving_Acc Present_Employment  Inst_Rate Gender_Status Other_Debtors  \\\n",
       "842        A61                A72          4           A92          A101   \n",
       "68         A61                A73          4           A93          A101   \n",
       "308        A61                A73          3           A92          A101   \n",
       "881        A65                A73          2           A91          A101   \n",
       "350        A61                A72          1           A92          A101   \n",
       "\n",
       "     Present_Residence_Time Property  Age_Years Inst_Plans Housing  \\\n",
       "842                       4     A121         23       A143    A152   \n",
       "68                        4     A124         37       A142    A153   \n",
       "308                       4     A121         24       A143    A152   \n",
       "881                       4     A124         48       A143    A153   \n",
       "350                       4     A121         23       A143    A151   \n",
       "\n",
       "     Exsisting_CR_Count   Job  Liability_Count Telephone_Status  \\\n",
       "842                   1  A173                1             A191   \n",
       "68                    1  A173                1             A192   \n",
       "308                   1  A173                1             A191   \n",
       "881                   1  A173                1             A192   \n",
       "350                   1  A173                1             A192   \n",
       "\n",
       "    Foreign_Worker  Credit_Risk_Status  \n",
       "842           A201                   2  \n",
       "68            A201                   2  \n",
       "308           A201                   2  \n",
       "881           A201                   1  \n",
       "350           A201                   1  "
      ]
     },
     "execution_count": 5,
     "metadata": {},
     "output_type": "execute_result"
    }
   ],
   "source": [
    "from IPython.display import display, HTML\n",
    "display(HTML('<b>Table 1: Sample of a dataset</b>'))\n",
    "dataset.sample(n=5, random_state=999)"
   ]
  },
  {
   "cell_type": "markdown",
   "metadata": {},
   "source": [
    "### Checking for ID-Like Features, Constant Features and Other Redundant Features\n",
    "\n",
    "Sometimes Data may contain some ID columns such as CustomerID or RecordID which is just for the recording purpose. This feature is not useful for the classification purpose. Hence we have to drop such features from the dataset in the preparation step only. Our Dataset doesnot have any ID-Like feature present.\n",
    "\n",
    "Next step in the Data Preparation is to check Constant as well as other Redundant features which we have to drop before going forward. We check the Unique values in each feature and drop the feature if that feature has only 1 Unique value. That means its a constant feature."
   ]
  },
  {
   "cell_type": "code",
   "execution_count": 6,
   "metadata": {},
   "outputs": [
    {
     "data": {
      "text/plain": [
       "(1000, 21)"
      ]
     },
     "execution_count": 6,
     "metadata": {},
     "output_type": "execute_result"
    }
   ],
   "source": [
    "dataset = dataset.loc[:, dataset.nunique() != 1]\n",
    "dataset.shape"
   ]
  },
  {
   "cell_type": "markdown",
   "metadata": {},
   "source": [
    "The Shape of the dataset is still the same after removing constant features that implies we dont have constant features in our dataset."
   ]
  },
  {
   "cell_type": "markdown",
   "metadata": {},
   "source": [
    "### Summary Statistics\n",
    "\n",
    "The summary statistics of both Categorical features and Numerical features are shown below. We can find some interesting facts about the data by exploring it. "
   ]
  },
  {
   "cell_type": "code",
   "execution_count": 7,
   "metadata": {},
   "outputs": [
    {
     "data": {
      "text/html": [
       "<b>Table 1: Summary Statistics of Categorical Features</b>"
      ],
      "text/plain": [
       "<IPython.core.display.HTML object>"
      ]
     },
     "metadata": {},
     "output_type": "display_data"
    },
    {
     "data": {
      "text/html": [
       "<div>\n",
       "<style scoped>\n",
       "    .dataframe tbody tr th:only-of-type {\n",
       "        vertical-align: middle;\n",
       "    }\n",
       "\n",
       "    .dataframe tbody tr th {\n",
       "        vertical-align: top;\n",
       "    }\n",
       "\n",
       "    .dataframe thead th {\n",
       "        text-align: right;\n",
       "    }\n",
       "</style>\n",
       "<table border=\"1\" class=\"dataframe\">\n",
       "  <thead>\n",
       "    <tr style=\"text-align: right;\">\n",
       "      <th></th>\n",
       "      <th>Existing_CA_Status</th>\n",
       "      <th>Credit_History</th>\n",
       "      <th>Purpose</th>\n",
       "      <th>Saving_Acc</th>\n",
       "      <th>Present_Employment</th>\n",
       "      <th>Gender_Status</th>\n",
       "      <th>Other_Debtors</th>\n",
       "      <th>Property</th>\n",
       "      <th>Inst_Plans</th>\n",
       "      <th>Housing</th>\n",
       "      <th>Job</th>\n",
       "      <th>Telephone_Status</th>\n",
       "      <th>Foreign_Worker</th>\n",
       "    </tr>\n",
       "  </thead>\n",
       "  <tbody>\n",
       "    <tr>\n",
       "      <th>count</th>\n",
       "      <td>1000</td>\n",
       "      <td>1000</td>\n",
       "      <td>1000</td>\n",
       "      <td>1000</td>\n",
       "      <td>1000</td>\n",
       "      <td>1000</td>\n",
       "      <td>1000</td>\n",
       "      <td>1000</td>\n",
       "      <td>1000</td>\n",
       "      <td>1000</td>\n",
       "      <td>1000</td>\n",
       "      <td>1000</td>\n",
       "      <td>1000</td>\n",
       "    </tr>\n",
       "    <tr>\n",
       "      <th>unique</th>\n",
       "      <td>4</td>\n",
       "      <td>5</td>\n",
       "      <td>10</td>\n",
       "      <td>5</td>\n",
       "      <td>5</td>\n",
       "      <td>4</td>\n",
       "      <td>3</td>\n",
       "      <td>4</td>\n",
       "      <td>3</td>\n",
       "      <td>3</td>\n",
       "      <td>4</td>\n",
       "      <td>2</td>\n",
       "      <td>2</td>\n",
       "    </tr>\n",
       "    <tr>\n",
       "      <th>top</th>\n",
       "      <td>A14</td>\n",
       "      <td>A32</td>\n",
       "      <td>A43</td>\n",
       "      <td>A61</td>\n",
       "      <td>A73</td>\n",
       "      <td>A93</td>\n",
       "      <td>A101</td>\n",
       "      <td>A123</td>\n",
       "      <td>A143</td>\n",
       "      <td>A152</td>\n",
       "      <td>A173</td>\n",
       "      <td>A191</td>\n",
       "      <td>A201</td>\n",
       "    </tr>\n",
       "    <tr>\n",
       "      <th>freq</th>\n",
       "      <td>394</td>\n",
       "      <td>530</td>\n",
       "      <td>280</td>\n",
       "      <td>603</td>\n",
       "      <td>339</td>\n",
       "      <td>548</td>\n",
       "      <td>907</td>\n",
       "      <td>332</td>\n",
       "      <td>814</td>\n",
       "      <td>713</td>\n",
       "      <td>630</td>\n",
       "      <td>596</td>\n",
       "      <td>963</td>\n",
       "    </tr>\n",
       "  </tbody>\n",
       "</table>\n",
       "</div>"
      ],
      "text/plain": [
       "       Existing_CA_Status Credit_History Purpose Saving_Acc  \\\n",
       "count                1000           1000    1000       1000   \n",
       "unique                  4              5      10          5   \n",
       "top                   A14            A32     A43        A61   \n",
       "freq                  394            530     280        603   \n",
       "\n",
       "       Present_Employment Gender_Status Other_Debtors Property Inst_Plans  \\\n",
       "count                1000          1000          1000     1000       1000   \n",
       "unique                  5             4             3        4          3   \n",
       "top                   A73           A93          A101     A123       A143   \n",
       "freq                  339           548           907      332        814   \n",
       "\n",
       "       Housing   Job Telephone_Status Foreign_Worker  \n",
       "count     1000  1000             1000           1000  \n",
       "unique       3     4                2              2  \n",
       "top       A152  A173             A191           A201  \n",
       "freq       713   630              596            963  "
      ]
     },
     "execution_count": 7,
     "metadata": {},
     "output_type": "execute_result"
    }
   ],
   "source": [
    "display(HTML('<b>Table 1: Summary Statistics of Categorical Features</b>'))\n",
    "dataset.describe(include = np.object)"
   ]
  },
  {
   "cell_type": "code",
   "execution_count": 8,
   "metadata": {},
   "outputs": [
    {
     "data": {
      "text/html": [
       "<b>Table 1: Summary Statistics of Numerical Features</b>"
      ],
      "text/plain": [
       "<IPython.core.display.HTML object>"
      ]
     },
     "metadata": {},
     "output_type": "display_data"
    },
    {
     "data": {
      "text/html": [
       "<div>\n",
       "<style scoped>\n",
       "    .dataframe tbody tr th:only-of-type {\n",
       "        vertical-align: middle;\n",
       "    }\n",
       "\n",
       "    .dataframe tbody tr th {\n",
       "        vertical-align: top;\n",
       "    }\n",
       "\n",
       "    .dataframe thead th {\n",
       "        text-align: right;\n",
       "    }\n",
       "</style>\n",
       "<table border=\"1\" class=\"dataframe\">\n",
       "  <thead>\n",
       "    <tr style=\"text-align: right;\">\n",
       "      <th></th>\n",
       "      <th>Duration_Months</th>\n",
       "      <th>CR_Amount</th>\n",
       "      <th>Inst_Rate</th>\n",
       "      <th>Present_Residence_Time</th>\n",
       "      <th>Age_Years</th>\n",
       "      <th>Exsisting_CR_Count</th>\n",
       "      <th>Liability_Count</th>\n",
       "      <th>Credit_Risk_Status</th>\n",
       "    </tr>\n",
       "  </thead>\n",
       "  <tbody>\n",
       "    <tr>\n",
       "      <th>count</th>\n",
       "      <td>1000.000000</td>\n",
       "      <td>1000.000000</td>\n",
       "      <td>1000.000000</td>\n",
       "      <td>1000.000000</td>\n",
       "      <td>1000.000000</td>\n",
       "      <td>1000.000000</td>\n",
       "      <td>1000.000000</td>\n",
       "      <td>1000.000000</td>\n",
       "    </tr>\n",
       "    <tr>\n",
       "      <th>mean</th>\n",
       "      <td>20.903000</td>\n",
       "      <td>3271.258000</td>\n",
       "      <td>2.973000</td>\n",
       "      <td>2.845000</td>\n",
       "      <td>35.546000</td>\n",
       "      <td>1.407000</td>\n",
       "      <td>1.155000</td>\n",
       "      <td>1.300000</td>\n",
       "    </tr>\n",
       "    <tr>\n",
       "      <th>std</th>\n",
       "      <td>12.058814</td>\n",
       "      <td>2822.736876</td>\n",
       "      <td>1.118715</td>\n",
       "      <td>1.103718</td>\n",
       "      <td>11.375469</td>\n",
       "      <td>0.577654</td>\n",
       "      <td>0.362086</td>\n",
       "      <td>0.458487</td>\n",
       "    </tr>\n",
       "    <tr>\n",
       "      <th>min</th>\n",
       "      <td>4.000000</td>\n",
       "      <td>250.000000</td>\n",
       "      <td>1.000000</td>\n",
       "      <td>1.000000</td>\n",
       "      <td>19.000000</td>\n",
       "      <td>1.000000</td>\n",
       "      <td>1.000000</td>\n",
       "      <td>1.000000</td>\n",
       "    </tr>\n",
       "    <tr>\n",
       "      <th>25%</th>\n",
       "      <td>12.000000</td>\n",
       "      <td>1365.500000</td>\n",
       "      <td>2.000000</td>\n",
       "      <td>2.000000</td>\n",
       "      <td>27.000000</td>\n",
       "      <td>1.000000</td>\n",
       "      <td>1.000000</td>\n",
       "      <td>1.000000</td>\n",
       "    </tr>\n",
       "    <tr>\n",
       "      <th>50%</th>\n",
       "      <td>18.000000</td>\n",
       "      <td>2319.500000</td>\n",
       "      <td>3.000000</td>\n",
       "      <td>3.000000</td>\n",
       "      <td>33.000000</td>\n",
       "      <td>1.000000</td>\n",
       "      <td>1.000000</td>\n",
       "      <td>1.000000</td>\n",
       "    </tr>\n",
       "    <tr>\n",
       "      <th>75%</th>\n",
       "      <td>24.000000</td>\n",
       "      <td>3972.250000</td>\n",
       "      <td>4.000000</td>\n",
       "      <td>4.000000</td>\n",
       "      <td>42.000000</td>\n",
       "      <td>2.000000</td>\n",
       "      <td>1.000000</td>\n",
       "      <td>2.000000</td>\n",
       "    </tr>\n",
       "    <tr>\n",
       "      <th>max</th>\n",
       "      <td>72.000000</td>\n",
       "      <td>18424.000000</td>\n",
       "      <td>4.000000</td>\n",
       "      <td>4.000000</td>\n",
       "      <td>75.000000</td>\n",
       "      <td>4.000000</td>\n",
       "      <td>2.000000</td>\n",
       "      <td>2.000000</td>\n",
       "    </tr>\n",
       "  </tbody>\n",
       "</table>\n",
       "</div>"
      ],
      "text/plain": [
       "       Duration_Months     CR_Amount    Inst_Rate  Present_Residence_Time  \\\n",
       "count      1000.000000   1000.000000  1000.000000             1000.000000   \n",
       "mean         20.903000   3271.258000     2.973000                2.845000   \n",
       "std          12.058814   2822.736876     1.118715                1.103718   \n",
       "min           4.000000    250.000000     1.000000                1.000000   \n",
       "25%          12.000000   1365.500000     2.000000                2.000000   \n",
       "50%          18.000000   2319.500000     3.000000                3.000000   \n",
       "75%          24.000000   3972.250000     4.000000                4.000000   \n",
       "max          72.000000  18424.000000     4.000000                4.000000   \n",
       "\n",
       "         Age_Years  Exsisting_CR_Count  Liability_Count  Credit_Risk_Status  \n",
       "count  1000.000000         1000.000000      1000.000000         1000.000000  \n",
       "mean     35.546000            1.407000         1.155000            1.300000  \n",
       "std      11.375469            0.577654         0.362086            0.458487  \n",
       "min      19.000000            1.000000         1.000000            1.000000  \n",
       "25%      27.000000            1.000000         1.000000            1.000000  \n",
       "50%      33.000000            1.000000         1.000000            1.000000  \n",
       "75%      42.000000            2.000000         1.000000            2.000000  \n",
       "max      75.000000            4.000000         2.000000            2.000000  "
      ]
     },
     "execution_count": 8,
     "metadata": {},
     "output_type": "execute_result"
    }
   ],
   "source": [
    "display(HTML('<b>Table 1: Summary Statistics of Numerical Features</b>'))\n",
    "dataset.describe(include = np.number)"
   ]
  },
  {
   "cell_type": "markdown",
   "metadata": {},
   "source": [
    "We can see from the Table 2 that, target feature 'Credit-Risk-Status' has two classes '1' represents 'Good' credit risk factor while '2' represents 'Bad' credit risk factor.  We can check the target feature balance by checking number of class values of the target feature.\n",
    "We will use `value_counts()` for this purpose."
   ]
  },
  {
   "cell_type": "code",
   "execution_count": 9,
   "metadata": {},
   "outputs": [
    {
     "name": "stdout",
     "output_type": "stream",
     "text": [
      "\n",
      "Percentage of class values in the target feature are: \n",
      "1    70.0\n",
      "2    30.0\n",
      "Name: Credit_Risk_Status, dtype: float64\n"
     ]
    }
   ],
   "source": [
    "print(\"\\nPercentage of class values in the target feature are: \")\n",
    "print(dataset['Credit_Risk_Status'].value_counts(normalize = True)*100)"
   ]
  },
  {
   "cell_type": "markdown",
   "metadata": {},
   "source": [
    "We can see from above result that, more number of observations have 'Credit-Risk-Status' as 'Good' than number of 'Bad' 'Credit-Risk-Status' observations. This is an example of typical class imbalance issue. That gives us idea that, we have to use some different performance metric while model evaluation than 'Precision' or 'Recall'. Hence, we are using 'ROC_AUC' metric which is robust to this problem."
   ]
  },
  {
   "cell_type": "markdown",
   "metadata": {},
   "source": [
    "# Data Exploration <a class=\"anchor\" id=\"4\"></a>\n",
    "\n",
    "\n",
    "### Univariate Data Visualisation\n",
    "\n",
    "\n",
    "#### 1. Box Plot of Age\n",
    "- `Figure 1` shows the Box Plot of Age. \n",
    "- It can be observed that the Age numerical attribute is Right Skewed.\n"
   ]
  },
  {
   "cell_type": "code",
   "execution_count": 10,
   "metadata": {},
   "outputs": [
    {
     "data": {
      "image/png": "[encoded data removed]",
      "text/plain": [
       "<Figure size 432x288 with 1 Axes>"
      ]
     },
     "metadata": {
      "needs_background": "light"
     },
     "output_type": "display_data"
    }
   ],
   "source": [
    "sns.boxplot(dataset['Age_Years']).set_title(\"Figure 1: Box Plot of Age\", fontsize = 17)\n",
    "plt.show()"
   ]
  },
  {
   "cell_type": "markdown",
   "metadata": {},
   "source": [
    "#### 2. Pie Chart of Foriegn Worker\n",
    "\n",
    "- `Figure 2` represents proportion of foreign workers in the data.\n",
    "- The data is depicted using a pie chart.\n",
    "- It is observed that approximately `96%` values are A201 that is `foreign workers`."
   ]
  },
  {
   "cell_type": "code",
   "execution_count": 11,
   "metadata": {},
   "outputs": [
    {
     "data": {
      "image/png": "[encoded data removed]",
      "text/plain": [
       "<Figure size 432x288 with 1 Axes>"
      ]
     },
     "metadata": {},
     "output_type": "display_data"
    }
   ],
   "source": [
    "a = dataset['Foreign_Worker'].value_counts()\n",
    "x1 = a.index\n",
    "fig1 = plt.figure()\n",
    "ax = fig1.add_axes([0,0,0.5,0.5])\n",
    "ax.set_title(\"Figure 2: Proportion of Foreign Workers\",fontsize = 17,x=0.5,y=1.6)\n",
    "ax.pie(a,autopct ='%.2f%%',labels = x1,shadow = True,explode=(0.3,0),radius = 2.0)\n",
    "ax.legend(loc = \"right\", bbox_to_anchor=(2,1.3,0,0))\n",
    "plt.show()"
   ]
  },
  {
   "cell_type": "markdown",
   "metadata": {},
   "source": [
    "#### 3. Pie Chart of Present Employment Duration\n",
    "- The following graph shows the proportion of people in the data set and thier respective Employement Duration.\n",
    "- It can be observed that the Maximum proportion of people approximately `34%` are in between `1 to 4 years`."
   ]
  },
  {
   "cell_type": "code",
   "execution_count": 12,
   "metadata": {},
   "outputs": [
    {
     "data": {
      "image/png": "[encoded data removed]",
      "text/plain": [
       "<Figure size 432x288 with 1 Axes>"
      ]
     },
     "metadata": {},
     "output_type": "display_data"
    }
   ],
   "source": [
    "a = dataset['Present_Employment'].value_counts()\n",
    "x1 = a.index\n",
    "fig1 = plt.figure()\n",
    "ax = fig1.add_axes([0,0,0.5,0.5])\n",
    "ax.set_title(\"Figure 3: Proportion of Present Employees\",fontsize = 17,x=0.5,y=1.6)\n",
    "ax.pie(a,autopct ='%.2f%%',labels = x1,explode=(0.08,0.08,0.08,0.08,0.08),shadow = True,radius = 2.0)\n",
    "ax.legend(loc = \"right\", bbox_to_anchor=(2,1.3,0,0))\n",
    "plt.show()"
   ]
  },
  {
   "cell_type": "markdown",
   "metadata": {},
   "source": [
    "### BiVariate Data Exploration\n",
    "\n",
    "#### 4. Box-Plot of Housing and Present Residence Time\n",
    "\n",
    "- The following Figure 4 shows the Box plot of Credit Amount and Housing.\n",
    "- It can be observed that the people with `free housing` have the `maximum range of Credit Amount`."
   ]
  },
  {
   "cell_type": "code",
   "execution_count": 13,
   "metadata": {},
   "outputs": [
    {
     "data": {
      "text/plain": [
       "A152    713\n",
       "A151    179\n",
       "A153    108\n",
       "Name: Housing, dtype: int64"
      ]
     },
     "execution_count": 13,
     "metadata": {},
     "output_type": "execute_result"
    }
   ],
   "source": [
    "dataset['Housing'].value_counts()"
   ]
  },
  {
   "cell_type": "code",
   "execution_count": 14,
   "metadata": {},
   "outputs": [
    {
     "data": {
      "image/png": "[encoded data removed]",
      "text/plain": [
       "<Figure size 432x288 with 1 Axes>"
      ]
     },
     "metadata": {
      "needs_background": "light"
     },
     "output_type": "display_data"
    }
   ],
   "source": [
    "sns.boxplot(dataset['Housing'],dataset['CR_Amount']).set_title(\"Figure 4: Box Plot of Housing and Credit Amount\",fontsize = 15);\n",
    "plt.show()"
   ]
  },
  {
   "cell_type": "markdown",
   "metadata": {},
   "source": [
    "#### 5. Credit Amount and Credit History\n",
    "\n",
    "- The following graph shows the range of box plots of Credit Amount and Credit History.\n",
    "- It can be observed that `A33` category that is the population having an history of delay in paying off in the past have the maximum range of Credit amount, however there are no comparisn instances that can be drawn form this graph."
   ]
  },
  {
   "cell_type": "code",
   "execution_count": 15,
   "metadata": {},
   "outputs": [
    {
     "data": {
      "image/png": "[encoded data removed]",
      "text/plain": [
       "<Figure size 432x288 with 1 Axes>"
      ]
     },
     "metadata": {
      "needs_background": "light"
     },
     "output_type": "display_data"
    }
   ],
   "source": [
    "sns.boxplot(dataset['Credit_History'],dataset['CR_Amount']).set_title(\"Figure 5: Box Plot of Credit History and Credit Amount\",fontsize = 15);\n",
    "plt.show()"
   ]
  },
  {
   "cell_type": "markdown",
   "metadata": {},
   "source": [
    "#### 6. Gender and Age\n",
    "\n",
    "- The following graph shows the Age in years on Y axis and Gender-Status on X axis. \n",
    "- It is observed that the population considered for this data set is in between `20 to 60` years of age."
   ]
  },
  {
   "cell_type": "code",
   "execution_count": 16,
   "metadata": {},
   "outputs": [
    {
     "data": {
      "image/png": "[encoded data removed]",
      "text/plain": [
       "<Figure size 432x288 with 1 Axes>"
      ]
     },
     "metadata": {
      "needs_background": "light"
     },
     "output_type": "display_data"
    }
   ],
   "source": [
    "sns.violinplot(dataset['Gender_Status'],dataset['Age_Years']).set_title(\"Figure 6 Violin Plot of Gender and Age\",fontsize = 15);\n",
    "plt.show()"
   ]
  },
  {
   "cell_type": "markdown",
   "metadata": {},
   "source": [
    "#### 7. Duration Of Months and Credit Amount\n",
    "\n",
    "- The Following graphs shows a scatter plot of Duraiton of Months and Credit Amount. \n",
    "- It can be observed that the higher credit amounts have longer duration of months."
   ]
  },
  {
   "cell_type": "code",
   "execution_count": 17,
   "metadata": {},
   "outputs": [
    {
     "data": {
      "image/png": "[encoded data removed]",
      "text/plain": [
       "<Figure size 432x288 with 1 Axes>"
      ]
     },
     "metadata": {
      "needs_background": "light"
     },
     "output_type": "display_data"
    }
   ],
   "source": [
    "plt.scatter(dataset['Duration_Months'], dataset['CR_Amount'], alpha = 0.3)\n",
    "plt.xlabel(\"Duration of Months\")\n",
    "plt.ylabel(\"Credit Amount\")\n",
    "plt.title(\"Figure 7: Duration of Months and Credit Amount\",fontsize = 15 )\n",
    "plt.show()"
   ]
  },
  {
   "cell_type": "markdown",
   "metadata": {},
   "source": [
    "### Multivariate Graphs\n",
    "\n",
    "#### 8. Age and  Credit Amount colored by Job Types\n",
    "\n",
    "- Although there is no clear overall pattern, however, it can be observed that unemployed/unskilled non residents have the least credit amounts usually less than 7500 and the skilled employees and the management/self employeed have the highest credit amounts. \n",
    "\n",
    "\n",
    "- A171 stands for  unemployed/ unskilled - non-resident\n",
    "- A172 stands for  unskilled - resident\n",
    "- A173 stands for  skilled employee / official\n",
    "- A174 stands for  management/ self-employed/highly qualified employee/ officer"
   ]
  },
  {
   "cell_type": "code",
   "execution_count": 18,
   "metadata": {},
   "outputs": [
    {
     "data": {
      "text/plain": [
       "<matplotlib.legend.Legend at 0x1da37e636c8>"
      ]
     },
     "execution_count": 18,
     "metadata": {},
     "output_type": "execute_result"
    },
    {
     "data": {
      "image/png": "[encoded data removed]",
      "text/plain": [
       "<Figure size 432x288 with 1 Axes>"
      ]
     },
     "metadata": {
      "needs_background": "light"
     },
     "output_type": "display_data"
    }
   ],
   "source": [
    "import matplotlib.patches as mpatches\n",
    "\n",
    "plt.title(\"Figure 8: Scatter Plot of Credit Amount and Age colored by the Job types\", fontsize = 15)\n",
    "for n in range(0,1000):\n",
    "    if dataset['Job'][n] == 'A171':\n",
    "        plt.scatter(dataset['Age_Years'][n], dataset['CR_Amount'][n], color = 'red')\n",
    "        plt.xlabel('Age')\n",
    "        plt.ylabel('CR_Amount')\n",
    "    elif dataset['Job'][n] == 'A172':\n",
    "        plt.scatter(dataset['Age_Years'][n], dataset['CR_Amount'][n], color = 'blue')\n",
    "        plt.xlabel('Age')\n",
    "        plt.ylabel('CR_Amount')\n",
    "    elif dataset['Job'][n] == 'A173':\n",
    "        plt.scatter(dataset['Age_Years'][n], dataset['CR_Amount'][n], color = 'green')\n",
    "        plt.xlabel('Age')\n",
    "        plt.ylabel('CR_Amount')\n",
    "    elif dataset['Job'][n] == 'A174':\n",
    "        plt.scatter(dataset['Age_Years'][n], dataset['CR_Amount'][n], color = 'yellow')\n",
    "        plt.xlabel('Age')\n",
    "        plt.ylabel('CR_Amount')\n",
    "Red_patch = mpatches.Patch(color = 'Red', label = 'A171')\n",
    "Blue_patch = mpatches.Patch(color = 'Blue', label = 'A172')\n",
    "Green_patch = mpatches.Patch(color = 'Green', label = 'A173')\n",
    "Yellow_patch = mpatches.Patch(color = 'Yellow', label = 'A174')\n",
    "\n",
    "plt.legend(loc = \"upper right\", handles = [Red_patch,Blue_patch,Green_patch,Yellow_patch])"
   ]
  },
  {
   "cell_type": "markdown",
   "metadata": {},
   "source": [
    "#### 9. Customers Credit Amount and their Age by Instalment Rates\n",
    "\n",
    "\n",
    "- In the next plot we are going to explore relation between three features: `Customers Credit Amount, Instalment Rate and Age in years`. We are using `3D Scatter Plot` to plot those features. We can find out the Maximum values of the three features from the graph."
   ]
  },
  {
   "cell_type": "code",
   "execution_count": 19,
   "metadata": {},
   "outputs": [
    {
     "data": {
      "text/plain": [
       "Text(0.5, 0, 'Age in years')"
      ]
     },
     "execution_count": 19,
     "metadata": {},
     "output_type": "execute_result"
    },
    {
     "data": {
      "image/png": "[encoded data removed]",
      "text/plain": [
       "<Figure size 720x576 with 1 Axes>"
      ]
     },
     "metadata": {
      "needs_background": "light"
     },
     "output_type": "display_data"
    }
   ],
   "source": [
    "fig = plt.figure(figsize=(10,8))\n",
    "ax = fig.add_subplot(111, projection='3d')\n",
    "plt.title(\"Figure 9: Multivariate Exploration of Credit Amount, Instalment Rate and Age of Customers in Year\", fontsize =15)\n",
    "\n",
    "xs = dataset['CR_Amount']\n",
    "ys = dataset['Inst_Rate']\n",
    "zs = dataset['Age_Years']\n",
    "ax.scatter(xs, ys, zs, s=50, alpha=0.6, edgecolors='w')\n",
    "\n",
    "ax.set_xlabel('Credit Amount')\n",
    "ax.set_ylabel('Instalment Rate')\n",
    "ax.set_zlabel('Age in years')"
   ]
  },
  {
   "cell_type": "markdown",
   "metadata": {},
   "source": [
    "### Encoding Categorical Descriptive Feature\n",
    "\n",
    "Prior to modelling, we must encode all the Categorical features including target feature into the numeric values. For this purpose we can use two types of standard encoding techniques namely 'One-hot-encoding' and 'Integer-encoding'. Since we dont actually know the class value difference between values of ordinal features hence we are going to use One-hot-encoding for all the categorical values.\n",
    "\n",
    "For encoding the Categorical features, first we will separate out the target feature from rest of the data and then find out categorical features from the dataset.\n",
    "\n",
    "- Pandas series 'target' contain the target feature `Credit_Risk_Status` of the original dataset.\n",
    "- After the above step, we drop this feature from the dataset and save rest of the data in 'data' dataframe.\n",
    "\n",
    "we can check the shape of both 'data' and 'target'. Both have equal number of observation instances(rows)."
   ]
  },
  {
   "cell_type": "code",
   "execution_count": 20,
   "metadata": {},
   "outputs": [],
   "source": [
    "target = dataset['Credit_Risk_Status']\n",
    "data =dataset.drop(columns = 'Credit_Risk_Status')"
   ]
  },
  {
   "cell_type": "code",
   "execution_count": 21,
   "metadata": {},
   "outputs": [
    {
     "data": {
      "text/plain": [
       "(1000, 20)"
      ]
     },
     "execution_count": 21,
     "metadata": {},
     "output_type": "execute_result"
    }
   ],
   "source": [
    "data.shape"
   ]
  },
  {
   "cell_type": "code",
   "execution_count": 22,
   "metadata": {},
   "outputs": [
    {
     "data": {
      "text/plain": [
       "(1000,)"
      ]
     },
     "execution_count": 22,
     "metadata": {},
     "output_type": "execute_result"
    }
   ],
   "source": [
    "target.shape"
   ]
  },
  {
   "cell_type": "markdown",
   "metadata": {},
   "source": [
    "#### Encoding the Target Feature.\n",
    "\n",
    "The target feature contains 2 class values 1 which represents Good Credit_Risk_Status and 2 which represents Bad Credit_Risk_Status. Generally, Positive class is represented by 1 and negative class is represented by 0. So we are replacing value 2 with 0 for representing Bad Credit_Risk_Status."
   ]
  },
  {
   "cell_type": "code",
   "execution_count": 23,
   "metadata": {},
   "outputs": [
    {
     "name": "stdout",
     "output_type": "stream",
     "text": [
      "The values of the target class before encoding are:\n",
      "1    700\n",
      "2    300\n",
      "Name: Credit_Risk_Status, dtype: int64\n",
      "_________________________________________________________\n",
      "\n",
      "The values of the target class after encoding are: \n",
      "1    700\n",
      "0    300\n",
      "Name: Credit_Risk_Status, dtype: int64\n"
     ]
    }
   ],
   "source": [
    "target = target.astype(str)\n",
    "print(\"The values of the target class before encoding are:\")\n",
    "print(target.value_counts())\n",
    "print(\"_________________________________________________________\\n\")\n",
    "print(\"The values of the target class after encoding are: \")\n",
    "target = target.replace({'2': '0'})\n",
    "print(target.value_counts())"
   ]
  },
  {
   "cell_type": "code",
   "execution_count": 24,
   "metadata": {},
   "outputs": [
    {
     "data": {
      "text/plain": [
       "array(['1', '0'], dtype=object)"
      ]
     },
     "execution_count": 24,
     "metadata": {},
     "output_type": "execute_result"
    }
   ],
   "source": [
    "target.unique()"
   ]
  },
  {
   "cell_type": "markdown",
   "metadata": {},
   "source": [
    "#### Encoding all other Categorical Descriptive Features\n",
    "\n",
    "In the next step we have to encode the categorical features into Numeric values using One-hot-encoding technique. For this purpose we have to find out the Categorical Features from the dataset 'data'. We are storing all the features with their datatype as `np.object` into the Categorical feature list."
   ]
  },
  {
   "cell_type": "code",
   "execution_count": 25,
   "metadata": {},
   "outputs": [
    {
     "data": {
      "text/plain": [
       "['Existing_CA_Status',\n",
       " 'Credit_History',\n",
       " 'Purpose',\n",
       " 'Saving_Acc',\n",
       " 'Present_Employment',\n",
       " 'Gender_Status',\n",
       " 'Other_Debtors',\n",
       " 'Property',\n",
       " 'Inst_Plans',\n",
       " 'Housing',\n",
       " 'Job',\n",
       " 'Telephone_Status',\n",
       " 'Foreign_Worker']"
      ]
     },
     "execution_count": 25,
     "metadata": {},
     "output_type": "execute_result"
    }
   ],
   "source": [
    "categorical_cols = data.columns[data.dtypes==object].tolist()\n",
    "categorical_cols"
   ]
  },
  {
   "cell_type": "markdown",
   "metadata": {},
   "source": [
    "As we are planning to perform feature selection, we are going to define ***q*** dummy variables for Categorical Descriptive Features with ***q*** different levels. Only the excception is, when a certain Categorical feature is binary i.e 2 different levels, in that case we are going to define ***q-1*** i.e. only one dummy variables. \n",
    "\n",
    "The coding operation is shown below. For each two-level categorical variable, we set the drop_first option to True to encode the variable into a single column of 0 or 1. Next, we apply the `get_dummies()` function for the regular one-hot-encoding for categorical features with more than 2 levels. "
   ]
  },
  {
   "cell_type": "code",
   "execution_count": 26,
   "metadata": {},
   "outputs": [],
   "source": [
    "for col in categorical_cols:\n",
    "    n = len(data[col].unique())\n",
    "    if (n == 2):\n",
    "        data[col] = pd.get_dummies(data[col], drop_first=True)\n",
    "\n",
    "data = pd.get_dummies(data)"
   ]
  },
  {
   "cell_type": "markdown",
   "metadata": {},
   "source": [
    "After encoding, we have few new dummy features in our dataset 'data'. we can checck the shape of dataset as well as columns in it. "
   ]
  },
  {
   "cell_type": "code",
   "execution_count": 27,
   "metadata": {},
   "outputs": [
    {
     "data": {
      "text/plain": [
       "(1000, 59)"
      ]
     },
     "execution_count": 27,
     "metadata": {},
     "output_type": "execute_result"
    }
   ],
   "source": [
    "data.shape"
   ]
  },
  {
   "cell_type": "code",
   "execution_count": 28,
   "metadata": {},
   "outputs": [
    {
     "data": {
      "text/plain": [
       "Index(['Duration_Months', 'CR_Amount', 'Inst_Rate', 'Present_Residence_Time',\n",
       "       'Age_Years', 'Exsisting_CR_Count', 'Liability_Count',\n",
       "       'Telephone_Status', 'Foreign_Worker', 'Existing_CA_Status_A11',\n",
       "       'Existing_CA_Status_A12', 'Existing_CA_Status_A13',\n",
       "       'Existing_CA_Status_A14', 'Credit_History_A30', 'Credit_History_A31',\n",
       "       'Credit_History_A32', 'Credit_History_A33', 'Credit_History_A34',\n",
       "       'Purpose_A40', 'Purpose_A41', 'Purpose_A410', 'Purpose_A42',\n",
       "       'Purpose_A43', 'Purpose_A44', 'Purpose_A45', 'Purpose_A46',\n",
       "       'Purpose_A48', 'Purpose_A49', 'Saving_Acc_A61', 'Saving_Acc_A62',\n",
       "       'Saving_Acc_A63', 'Saving_Acc_A64', 'Saving_Acc_A65',\n",
       "       'Present_Employment_A71', 'Present_Employment_A72',\n",
       "       'Present_Employment_A73', 'Present_Employment_A74',\n",
       "       'Present_Employment_A75', 'Gender_Status_A91', 'Gender_Status_A92',\n",
       "       'Gender_Status_A93', 'Gender_Status_A94', 'Other_Debtors_A101',\n",
       "       'Other_Debtors_A102', 'Other_Debtors_A103', 'Property_A121',\n",
       "       'Property_A122', 'Property_A123', 'Property_A124', 'Inst_Plans_A141',\n",
       "       'Inst_Plans_A142', 'Inst_Plans_A143', 'Housing_A151', 'Housing_A152',\n",
       "       'Housing_A153', 'Job_A171', 'Job_A172', 'Job_A173', 'Job_A174'],\n",
       "      dtype='object')"
      ]
     },
     "execution_count": 28,
     "metadata": {},
     "output_type": "execute_result"
    }
   ],
   "source": [
    "data.columns"
   ]
  },
  {
   "cell_type": "markdown",
   "metadata": {},
   "source": [
    "### Scaling Of Features\n",
    "- Once we have encoded all the categorical features, we perform `Min-Max scaling` of all the descriptive features. \n",
    "- It is convienient to choose Min Max Scaling for this Data Set as after integer encoding it is observed that the values are 0 and 1.\n",
    "- Hence after Min-Max Scaling we can obtain all the values in the range 0 - 1. \n",
    "- Before scaling the data set we copy Data to keep track of all the Feature Names."
   ]
  },
  {
   "cell_type": "code",
   "execution_count": 29,
   "metadata": {},
   "outputs": [],
   "source": [
    "from sklearn import preprocessing\n",
    "\n",
    "scaledData = data.copy()\n",
    "Data_Scaler = preprocessing.MinMaxScaler()\n",
    "Data_Scaler.fit(data)\n",
    "data = Data_Scaler.fit_transform(data)\n"
   ]
  },
  {
   "cell_type": "markdown",
   "metadata": {},
   "source": [
    "In the below chunk the descriptive features are displayed after scaling. Since the output of the Scaler function is a `Numpy array`, all column names are lost, hence we add those from the previously stored copy of the data set.\n",
    "The following observations can be made from the scaled data: \n",
    "- The `Binary features` are kept binary even after scaling.\n",
    "- All the `Descriptive features` are in the range of 0-1."
   ]
  },
  {
   "cell_type": "code",
   "execution_count": 30,
   "metadata": {},
   "outputs": [
    {
     "data": {
      "text/html": [
       "<div>\n",
       "<style scoped>\n",
       "    .dataframe tbody tr th:only-of-type {\n",
       "        vertical-align: middle;\n",
       "    }\n",
       "\n",
       "    .dataframe tbody tr th {\n",
       "        vertical-align: top;\n",
       "    }\n",
       "\n",
       "    .dataframe thead th {\n",
       "        text-align: right;\n",
       "    }\n",
       "</style>\n",
       "<table border=\"1\" class=\"dataframe\">\n",
       "  <thead>\n",
       "    <tr style=\"text-align: right;\">\n",
       "      <th></th>\n",
       "      <th>Duration_Months</th>\n",
       "      <th>CR_Amount</th>\n",
       "      <th>Inst_Rate</th>\n",
       "      <th>Present_Residence_Time</th>\n",
       "      <th>Age_Years</th>\n",
       "      <th>Exsisting_CR_Count</th>\n",
       "      <th>Liability_Count</th>\n",
       "      <th>Telephone_Status</th>\n",
       "      <th>Foreign_Worker</th>\n",
       "      <th>Existing_CA_Status_A11</th>\n",
       "      <th>Existing_CA_Status_A12</th>\n",
       "      <th>Existing_CA_Status_A13</th>\n",
       "      <th>Existing_CA_Status_A14</th>\n",
       "      <th>Credit_History_A30</th>\n",
       "      <th>Credit_History_A31</th>\n",
       "      <th>Credit_History_A32</th>\n",
       "      <th>Credit_History_A33</th>\n",
       "      <th>Credit_History_A34</th>\n",
       "      <th>Purpose_A40</th>\n",
       "      <th>Purpose_A41</th>\n",
       "      <th>Purpose_A410</th>\n",
       "      <th>Purpose_A42</th>\n",
       "      <th>Purpose_A43</th>\n",
       "      <th>Purpose_A44</th>\n",
       "      <th>Purpose_A45</th>\n",
       "      <th>Purpose_A46</th>\n",
       "      <th>Purpose_A48</th>\n",
       "      <th>Purpose_A49</th>\n",
       "      <th>Saving_Acc_A61</th>\n",
       "      <th>Saving_Acc_A62</th>\n",
       "      <th>Saving_Acc_A63</th>\n",
       "      <th>Saving_Acc_A64</th>\n",
       "      <th>Saving_Acc_A65</th>\n",
       "      <th>Present_Employment_A71</th>\n",
       "      <th>Present_Employment_A72</th>\n",
       "      <th>Present_Employment_A73</th>\n",
       "      <th>Present_Employment_A74</th>\n",
       "      <th>Present_Employment_A75</th>\n",
       "      <th>Gender_Status_A91</th>\n",
       "      <th>Gender_Status_A92</th>\n",
       "      <th>Gender_Status_A93</th>\n",
       "      <th>Gender_Status_A94</th>\n",
       "      <th>Other_Debtors_A101</th>\n",
       "      <th>Other_Debtors_A102</th>\n",
       "      <th>Other_Debtors_A103</th>\n",
       "      <th>Property_A121</th>\n",
       "      <th>Property_A122</th>\n",
       "      <th>Property_A123</th>\n",
       "      <th>Property_A124</th>\n",
       "      <th>Inst_Plans_A141</th>\n",
       "      <th>Inst_Plans_A142</th>\n",
       "      <th>Inst_Plans_A143</th>\n",
       "      <th>Housing_A151</th>\n",
       "      <th>Housing_A152</th>\n",
       "      <th>Housing_A153</th>\n",
       "      <th>Job_A171</th>\n",
       "      <th>Job_A172</th>\n",
       "      <th>Job_A173</th>\n",
       "      <th>Job_A174</th>\n",
       "    </tr>\n",
       "  </thead>\n",
       "  <tbody>\n",
       "    <tr>\n",
       "      <th>842</th>\n",
       "      <td>0.205882</td>\n",
       "      <td>0.093155</td>\n",
       "      <td>1.000000</td>\n",
       "      <td>1.0</td>\n",
       "      <td>0.071429</td>\n",
       "      <td>0.0</td>\n",
       "      <td>0.0</td>\n",
       "      <td>0.0</td>\n",
       "      <td>0.0</td>\n",
       "      <td>0.0</td>\n",
       "      <td>0.0</td>\n",
       "      <td>0.0</td>\n",
       "      <td>1.0</td>\n",
       "      <td>0.0</td>\n",
       "      <td>0.0</td>\n",
       "      <td>1.0</td>\n",
       "      <td>0.0</td>\n",
       "      <td>0.0</td>\n",
       "      <td>0.0</td>\n",
       "      <td>0.0</td>\n",
       "      <td>0.0</td>\n",
       "      <td>0.0</td>\n",
       "      <td>0.0</td>\n",
       "      <td>0.0</td>\n",
       "      <td>1.0</td>\n",
       "      <td>0.0</td>\n",
       "      <td>0.0</td>\n",
       "      <td>0.0</td>\n",
       "      <td>1.0</td>\n",
       "      <td>0.0</td>\n",
       "      <td>0.0</td>\n",
       "      <td>0.0</td>\n",
       "      <td>0.0</td>\n",
       "      <td>0.0</td>\n",
       "      <td>1.0</td>\n",
       "      <td>0.0</td>\n",
       "      <td>0.0</td>\n",
       "      <td>0.0</td>\n",
       "      <td>0.0</td>\n",
       "      <td>1.0</td>\n",
       "      <td>0.0</td>\n",
       "      <td>0.0</td>\n",
       "      <td>1.0</td>\n",
       "      <td>0.0</td>\n",
       "      <td>0.0</td>\n",
       "      <td>1.0</td>\n",
       "      <td>0.0</td>\n",
       "      <td>0.0</td>\n",
       "      <td>0.0</td>\n",
       "      <td>0.0</td>\n",
       "      <td>0.0</td>\n",
       "      <td>1.0</td>\n",
       "      <td>0.0</td>\n",
       "      <td>1.0</td>\n",
       "      <td>0.0</td>\n",
       "      <td>0.0</td>\n",
       "      <td>0.0</td>\n",
       "      <td>1.0</td>\n",
       "      <td>0.0</td>\n",
       "    </tr>\n",
       "    <tr>\n",
       "      <th>68</th>\n",
       "      <td>0.470588</td>\n",
       "      <td>0.086332</td>\n",
       "      <td>1.000000</td>\n",
       "      <td>1.0</td>\n",
       "      <td>0.321429</td>\n",
       "      <td>0.0</td>\n",
       "      <td>0.0</td>\n",
       "      <td>1.0</td>\n",
       "      <td>0.0</td>\n",
       "      <td>0.0</td>\n",
       "      <td>0.0</td>\n",
       "      <td>0.0</td>\n",
       "      <td>1.0</td>\n",
       "      <td>0.0</td>\n",
       "      <td>0.0</td>\n",
       "      <td>1.0</td>\n",
       "      <td>0.0</td>\n",
       "      <td>0.0</td>\n",
       "      <td>0.0</td>\n",
       "      <td>0.0</td>\n",
       "      <td>0.0</td>\n",
       "      <td>0.0</td>\n",
       "      <td>0.0</td>\n",
       "      <td>0.0</td>\n",
       "      <td>0.0</td>\n",
       "      <td>1.0</td>\n",
       "      <td>0.0</td>\n",
       "      <td>0.0</td>\n",
       "      <td>1.0</td>\n",
       "      <td>0.0</td>\n",
       "      <td>0.0</td>\n",
       "      <td>0.0</td>\n",
       "      <td>0.0</td>\n",
       "      <td>0.0</td>\n",
       "      <td>0.0</td>\n",
       "      <td>1.0</td>\n",
       "      <td>0.0</td>\n",
       "      <td>0.0</td>\n",
       "      <td>0.0</td>\n",
       "      <td>0.0</td>\n",
       "      <td>1.0</td>\n",
       "      <td>0.0</td>\n",
       "      <td>1.0</td>\n",
       "      <td>0.0</td>\n",
       "      <td>0.0</td>\n",
       "      <td>0.0</td>\n",
       "      <td>0.0</td>\n",
       "      <td>0.0</td>\n",
       "      <td>1.0</td>\n",
       "      <td>0.0</td>\n",
       "      <td>1.0</td>\n",
       "      <td>0.0</td>\n",
       "      <td>0.0</td>\n",
       "      <td>0.0</td>\n",
       "      <td>1.0</td>\n",
       "      <td>0.0</td>\n",
       "      <td>0.0</td>\n",
       "      <td>1.0</td>\n",
       "      <td>0.0</td>\n",
       "    </tr>\n",
       "    <tr>\n",
       "      <th>308</th>\n",
       "      <td>0.058824</td>\n",
       "      <td>0.054308</td>\n",
       "      <td>0.666667</td>\n",
       "      <td>1.0</td>\n",
       "      <td>0.089286</td>\n",
       "      <td>0.0</td>\n",
       "      <td>0.0</td>\n",
       "      <td>0.0</td>\n",
       "      <td>0.0</td>\n",
       "      <td>0.0</td>\n",
       "      <td>1.0</td>\n",
       "      <td>0.0</td>\n",
       "      <td>0.0</td>\n",
       "      <td>0.0</td>\n",
       "      <td>0.0</td>\n",
       "      <td>1.0</td>\n",
       "      <td>0.0</td>\n",
       "      <td>0.0</td>\n",
       "      <td>0.0</td>\n",
       "      <td>0.0</td>\n",
       "      <td>0.0</td>\n",
       "      <td>1.0</td>\n",
       "      <td>0.0</td>\n",
       "      <td>0.0</td>\n",
       "      <td>0.0</td>\n",
       "      <td>0.0</td>\n",
       "      <td>0.0</td>\n",
       "      <td>0.0</td>\n",
       "      <td>1.0</td>\n",
       "      <td>0.0</td>\n",
       "      <td>0.0</td>\n",
       "      <td>0.0</td>\n",
       "      <td>0.0</td>\n",
       "      <td>0.0</td>\n",
       "      <td>0.0</td>\n",
       "      <td>1.0</td>\n",
       "      <td>0.0</td>\n",
       "      <td>0.0</td>\n",
       "      <td>0.0</td>\n",
       "      <td>1.0</td>\n",
       "      <td>0.0</td>\n",
       "      <td>0.0</td>\n",
       "      <td>1.0</td>\n",
       "      <td>0.0</td>\n",
       "      <td>0.0</td>\n",
       "      <td>1.0</td>\n",
       "      <td>0.0</td>\n",
       "      <td>0.0</td>\n",
       "      <td>0.0</td>\n",
       "      <td>0.0</td>\n",
       "      <td>0.0</td>\n",
       "      <td>1.0</td>\n",
       "      <td>0.0</td>\n",
       "      <td>1.0</td>\n",
       "      <td>0.0</td>\n",
       "      <td>0.0</td>\n",
       "      <td>0.0</td>\n",
       "      <td>1.0</td>\n",
       "      <td>0.0</td>\n",
       "    </tr>\n",
       "    <tr>\n",
       "      <th>881</th>\n",
       "      <td>0.294118</td>\n",
       "      <td>0.496699</td>\n",
       "      <td>0.333333</td>\n",
       "      <td>1.0</td>\n",
       "      <td>0.517857</td>\n",
       "      <td>0.0</td>\n",
       "      <td>0.0</td>\n",
       "      <td>1.0</td>\n",
       "      <td>0.0</td>\n",
       "      <td>0.0</td>\n",
       "      <td>0.0</td>\n",
       "      <td>0.0</td>\n",
       "      <td>1.0</td>\n",
       "      <td>0.0</td>\n",
       "      <td>0.0</td>\n",
       "      <td>1.0</td>\n",
       "      <td>0.0</td>\n",
       "      <td>0.0</td>\n",
       "      <td>0.0</td>\n",
       "      <td>1.0</td>\n",
       "      <td>0.0</td>\n",
       "      <td>0.0</td>\n",
       "      <td>0.0</td>\n",
       "      <td>0.0</td>\n",
       "      <td>0.0</td>\n",
       "      <td>0.0</td>\n",
       "      <td>0.0</td>\n",
       "      <td>0.0</td>\n",
       "      <td>0.0</td>\n",
       "      <td>0.0</td>\n",
       "      <td>0.0</td>\n",
       "      <td>0.0</td>\n",
       "      <td>1.0</td>\n",
       "      <td>0.0</td>\n",
       "      <td>0.0</td>\n",
       "      <td>1.0</td>\n",
       "      <td>0.0</td>\n",
       "      <td>0.0</td>\n",
       "      <td>1.0</td>\n",
       "      <td>0.0</td>\n",
       "      <td>0.0</td>\n",
       "      <td>0.0</td>\n",
       "      <td>1.0</td>\n",
       "      <td>0.0</td>\n",
       "      <td>0.0</td>\n",
       "      <td>0.0</td>\n",
       "      <td>0.0</td>\n",
       "      <td>0.0</td>\n",
       "      <td>1.0</td>\n",
       "      <td>0.0</td>\n",
       "      <td>0.0</td>\n",
       "      <td>1.0</td>\n",
       "      <td>0.0</td>\n",
       "      <td>0.0</td>\n",
       "      <td>1.0</td>\n",
       "      <td>0.0</td>\n",
       "      <td>0.0</td>\n",
       "      <td>1.0</td>\n",
       "      <td>0.0</td>\n",
       "    </tr>\n",
       "    <tr>\n",
       "      <th>350</th>\n",
       "      <td>0.073529</td>\n",
       "      <td>0.054253</td>\n",
       "      <td>0.000000</td>\n",
       "      <td>1.0</td>\n",
       "      <td>0.071429</td>\n",
       "      <td>0.0</td>\n",
       "      <td>0.0</td>\n",
       "      <td>1.0</td>\n",
       "      <td>0.0</td>\n",
       "      <td>0.0</td>\n",
       "      <td>0.0</td>\n",
       "      <td>0.0</td>\n",
       "      <td>1.0</td>\n",
       "      <td>0.0</td>\n",
       "      <td>0.0</td>\n",
       "      <td>1.0</td>\n",
       "      <td>0.0</td>\n",
       "      <td>0.0</td>\n",
       "      <td>0.0</td>\n",
       "      <td>0.0</td>\n",
       "      <td>0.0</td>\n",
       "      <td>0.0</td>\n",
       "      <td>0.0</td>\n",
       "      <td>1.0</td>\n",
       "      <td>0.0</td>\n",
       "      <td>0.0</td>\n",
       "      <td>0.0</td>\n",
       "      <td>0.0</td>\n",
       "      <td>1.0</td>\n",
       "      <td>0.0</td>\n",
       "      <td>0.0</td>\n",
       "      <td>0.0</td>\n",
       "      <td>0.0</td>\n",
       "      <td>0.0</td>\n",
       "      <td>1.0</td>\n",
       "      <td>0.0</td>\n",
       "      <td>0.0</td>\n",
       "      <td>0.0</td>\n",
       "      <td>0.0</td>\n",
       "      <td>1.0</td>\n",
       "      <td>0.0</td>\n",
       "      <td>0.0</td>\n",
       "      <td>1.0</td>\n",
       "      <td>0.0</td>\n",
       "      <td>0.0</td>\n",
       "      <td>1.0</td>\n",
       "      <td>0.0</td>\n",
       "      <td>0.0</td>\n",
       "      <td>0.0</td>\n",
       "      <td>0.0</td>\n",
       "      <td>0.0</td>\n",
       "      <td>1.0</td>\n",
       "      <td>1.0</td>\n",
       "      <td>0.0</td>\n",
       "      <td>0.0</td>\n",
       "      <td>0.0</td>\n",
       "      <td>0.0</td>\n",
       "      <td>1.0</td>\n",
       "      <td>0.0</td>\n",
       "    </tr>\n",
       "  </tbody>\n",
       "</table>\n",
       "</div>"
      ],
      "text/plain": [
       "     Duration_Months  CR_Amount  Inst_Rate  Present_Residence_Time  Age_Years  \\\n",
       "842         0.205882   0.093155   1.000000                     1.0   0.071429   \n",
       "68          0.470588   0.086332   1.000000                     1.0   0.321429   \n",
       "308         0.058824   0.054308   0.666667                     1.0   0.089286   \n",
       "881         0.294118   0.496699   0.333333                     1.0   0.517857   \n",
       "350         0.073529   0.054253   0.000000                     1.0   0.071429   \n",
       "\n",
       "     Exsisting_CR_Count  Liability_Count  Telephone_Status  Foreign_Worker  \\\n",
       "842                 0.0              0.0               0.0             0.0   \n",
       "68                  0.0              0.0               1.0             0.0   \n",
       "308                 0.0              0.0               0.0             0.0   \n",
       "881                 0.0              0.0               1.0             0.0   \n",
       "350                 0.0              0.0               1.0             0.0   \n",
       "\n",
       "     Existing_CA_Status_A11  Existing_CA_Status_A12  Existing_CA_Status_A13  \\\n",
       "842                     0.0                     0.0                     0.0   \n",
       "68                      0.0                     0.0                     0.0   \n",
       "308                     0.0                     1.0                     0.0   \n",
       "881                     0.0                     0.0                     0.0   \n",
       "350                     0.0                     0.0                     0.0   \n",
       "\n",
       "     Existing_CA_Status_A14  Credit_History_A30  Credit_History_A31  \\\n",
       "842                     1.0                 0.0                 0.0   \n",
       "68                      1.0                 0.0                 0.0   \n",
       "308                     0.0                 0.0                 0.0   \n",
       "881                     1.0                 0.0                 0.0   \n",
       "350                     1.0                 0.0                 0.0   \n",
       "\n",
       "     Credit_History_A32  Credit_History_A33  Credit_History_A34  Purpose_A40  \\\n",
       "842                 1.0                 0.0                 0.0          0.0   \n",
       "68                  1.0                 0.0                 0.0          0.0   \n",
       "308                 1.0                 0.0                 0.0          0.0   \n",
       "881                 1.0                 0.0                 0.0          0.0   \n",
       "350                 1.0                 0.0                 0.0          0.0   \n",
       "\n",
       "     Purpose_A41  Purpose_A410  Purpose_A42  Purpose_A43  Purpose_A44  \\\n",
       "842          0.0           0.0          0.0          0.0          0.0   \n",
       "68           0.0           0.0          0.0          0.0          0.0   \n",
       "308          0.0           0.0          1.0          0.0          0.0   \n",
       "881          1.0           0.0          0.0          0.0          0.0   \n",
       "350          0.0           0.0          0.0          0.0          1.0   \n",
       "\n",
       "     Purpose_A45  Purpose_A46  Purpose_A48  Purpose_A49  Saving_Acc_A61  \\\n",
       "842          1.0          0.0          0.0          0.0             1.0   \n",
       "68           0.0          1.0          0.0          0.0             1.0   \n",
       "308          0.0          0.0          0.0          0.0             1.0   \n",
       "881          0.0          0.0          0.0          0.0             0.0   \n",
       "350          0.0          0.0          0.0          0.0             1.0   \n",
       "\n",
       "     Saving_Acc_A62  Saving_Acc_A63  Saving_Acc_A64  Saving_Acc_A65  \\\n",
       "842             0.0             0.0             0.0             0.0   \n",
       "68              0.0             0.0             0.0             0.0   \n",
       "308             0.0             0.0             0.0             0.0   \n",
       "881             0.0             0.0             0.0             1.0   \n",
       "350             0.0             0.0             0.0             0.0   \n",
       "\n",
       "     Present_Employment_A71  Present_Employment_A72  Present_Employment_A73  \\\n",
       "842                     0.0                     1.0                     0.0   \n",
       "68                      0.0                     0.0                     1.0   \n",
       "308                     0.0                     0.0                     1.0   \n",
       "881                     0.0                     0.0                     1.0   \n",
       "350                     0.0                     1.0                     0.0   \n",
       "\n",
       "     Present_Employment_A74  Present_Employment_A75  Gender_Status_A91  \\\n",
       "842                     0.0                     0.0                0.0   \n",
       "68                      0.0                     0.0                0.0   \n",
       "308                     0.0                     0.0                0.0   \n",
       "881                     0.0                     0.0                1.0   \n",
       "350                     0.0                     0.0                0.0   \n",
       "\n",
       "     Gender_Status_A92  Gender_Status_A93  Gender_Status_A94  \\\n",
       "842                1.0                0.0                0.0   \n",
       "68                 0.0                1.0                0.0   \n",
       "308                1.0                0.0                0.0   \n",
       "881                0.0                0.0                0.0   \n",
       "350                1.0                0.0                0.0   \n",
       "\n",
       "     Other_Debtors_A101  Other_Debtors_A102  Other_Debtors_A103  \\\n",
       "842                 1.0                 0.0                 0.0   \n",
       "68                  1.0                 0.0                 0.0   \n",
       "308                 1.0                 0.0                 0.0   \n",
       "881                 1.0                 0.0                 0.0   \n",
       "350                 1.0                 0.0                 0.0   \n",
       "\n",
       "     Property_A121  Property_A122  Property_A123  Property_A124  \\\n",
       "842            1.0            0.0            0.0            0.0   \n",
       "68             0.0            0.0            0.0            1.0   \n",
       "308            1.0            0.0            0.0            0.0   \n",
       "881            0.0            0.0            0.0            1.0   \n",
       "350            1.0            0.0            0.0            0.0   \n",
       "\n",
       "     Inst_Plans_A141  Inst_Plans_A142  Inst_Plans_A143  Housing_A151  \\\n",
       "842              0.0              0.0              1.0           0.0   \n",
       "68               0.0              1.0              0.0           0.0   \n",
       "308              0.0              0.0              1.0           0.0   \n",
       "881              0.0              0.0              1.0           0.0   \n",
       "350              0.0              0.0              1.0           1.0   \n",
       "\n",
       "     Housing_A152  Housing_A153  Job_A171  Job_A172  Job_A173  Job_A174  \n",
       "842           1.0           0.0       0.0       0.0       1.0       0.0  \n",
       "68            0.0           1.0       0.0       0.0       1.0       0.0  \n",
       "308           1.0           0.0       0.0       0.0       1.0       0.0  \n",
       "881           0.0           1.0       0.0       0.0       1.0       0.0  \n",
       "350           0.0           0.0       0.0       0.0       1.0       0.0  "
      ]
     },
     "execution_count": 30,
     "metadata": {},
     "output_type": "execute_result"
    }
   ],
   "source": [
    "pd.DataFrame(data, columns=scaledData.columns).sample(5, random_state = 999)"
   ]
  },
  {
   "cell_type": "markdown",
   "metadata": {},
   "source": [
    "# Feature Selection and Ranking <a class=\"anchor\" id=\"5\"></a>\n",
    "\n",
    "\n",
    "\n",
    "Most important features are selected by using `Random Forest Feature Importance(RFI)` in the full data set. Random Forests are amongst the most popular machine learning methods known for thier relatively good accuracy, robustness and ease of use.\n",
    "This is for the quick ranking of the most relevant 10 features to gain some insights of the data. During the hyper-parameter tuning phase, RFI will be included as a part of the pipelining process and we will search over 10, 20 and full set of 59 features to determine which set of features work best with each classifier.\n",
    "\n",
    "We use `np.argsort()` method to sort the list of the features in the descending order of their RFI scores and then we choose first 10 features as the highly important 10 features for the modelling purpose.\n"
   ]
  },
  {
   "cell_type": "code",
   "execution_count": 31,
   "metadata": {},
   "outputs": [
    {
     "data": {
      "text/plain": [
       "array(['CR_Amount', 'Age_Years', 'Duration_Months',\n",
       "       'Existing_CA_Status_A14', 'Inst_Rate', 'Existing_CA_Status_A11',\n",
       "       'Present_Residence_Time', 'Saving_Acc_A61', 'Credit_History_A34',\n",
       "       'Purpose_A40'], dtype=object)"
      ]
     },
     "execution_count": 31,
     "metadata": {},
     "output_type": "execute_result"
    }
   ],
   "source": [
    "from sklearn.ensemble import RandomForestClassifier\n",
    "num_features = 10\n",
    "\n",
    "model_rfi = RandomForestClassifier(n_estimators=100, random_state= 999)\n",
    "model_rfi.fit(data, target)\n",
    "fs_indices_rfi = np.argsort(model_rfi.feature_importances_)[::-1][0:num_features]\n",
    "\n",
    "best_features_rfi = scaledData.columns[fs_indices_rfi].values\n",
    "best_features_rfi"
   ]
  },
  {
   "cell_type": "code",
   "execution_count": 32,
   "metadata": {},
   "outputs": [
    {
     "data": {
      "text/plain": [
       "array([0.10278397, 0.08216811, 0.08195924, 0.05667467, 0.03575125,\n",
       "       0.03390708, 0.03344957, 0.020316  , 0.01960295, 0.01928142])"
      ]
     },
     "execution_count": 32,
     "metadata": {},
     "output_type": "execute_result"
    }
   ],
   "source": [
    "feature_importances_rfi = model_rfi.feature_importances_[fs_indices_rfi]\n",
    "feature_importances_rfi"
   ]
  },
  {
   "cell_type": "markdown",
   "metadata": {},
   "source": [
    "In the following chunks the important features are plotted with respect to thier importance using Altair Graphs"
   ]
  },
  {
   "cell_type": "code",
   "execution_count": 33,
   "metadata": {},
   "outputs": [],
   "source": [
    "%config InlineBackend.figure_format = 'retina'\n",
    "\n",
    "import altair as alt\n",
    "alt.renderers.enable('html') # required in Jupyter notebooks\n",
    "\n",
    "def plot_imp(best_features, scores, method_name, color):\n",
    "    \n",
    "    df = pd.DataFrame({'features': best_features, \n",
    "                       'importances': scores})\n",
    "    \n",
    "    chart = alt.Chart(df, \n",
    "                      width=500, \n",
    "                      title=method_name + ' Feature Importances'\n",
    "                     ).mark_bar(opacity=0.85, \n",
    "                                color=color).encode(\n",
    "        alt.X('features', title='Feature', sort=None, axis=alt.AxisConfig(labelAngle=45)),\n",
    "        alt.Y('importances', title='Importance')\n",
    "    )\n",
    "    \n",
    "    return chart"
   ]
  },
  {
   "cell_type": "code",
   "execution_count": 34,
   "metadata": {},
   "outputs": [
    {
     "data": {
      "text/html": [
       "\n",
       "<div id=\"altair-viz-73377d3eff9449dba79cdb6a86a75b24\"></div>\n",
       "<script type=\"text/javascript\">\n",
       "  (function(spec, embedOpt){\n",
       "    let outputDiv = document.currentScript.previousElementSibling;\n",
       "    if (outputDiv.id !== \"altair-viz-73377d3eff9449dba79cdb6a86a75b24\") {\n",
       "      outputDiv = document.getElementById(\"altair-viz-73377d3eff9449dba79cdb6a86a75b24\");\n",
       "    }\n",
       "    const paths = {\n",
       "      \"vega\": \"https://cdn.jsdelivr.net/npm//vega@5?noext\",\n",
       "      \"vega-lib\": \"https://cdn.jsdelivr.net/npm//vega-lib?noext\",\n",
       "      \"vega-lite\": \"https://cdn.jsdelivr.net/npm//vega-lite@4.8.1?noext\",\n",
       "      \"vega-embed\": \"https://cdn.jsdelivr.net/npm//vega-embed@6?noext\",\n",
       "    };\n",
       "\n",
       "    function loadScript(lib) {\n",
       "      return new Promise(function(resolve, reject) {\n",
       "        var s = document.createElement('script');\n",
       "        s.src = paths[lib];\n",
       "        s.async = true;\n",
       "        s.onload = () => resolve(paths[lib]);\n",
       "        s.onerror = () => reject(`Error loading script: ${paths[lib]}`);\n",
       "        document.getElementsByTagName(\"head\")[0].appendChild(s);\n",
       "      });\n",
       "    }\n",
       "\n",
       "    function showError(err) {\n",
       "      outputDiv.innerHTML = `<div class=\"error\" style=\"color:red;\">${err}</div>`;\n",
       "      throw err;\n",
       "    }\n",
       "\n",
       "    function displayChart(vegaEmbed) {\n",
       "      vegaEmbed(outputDiv, spec, embedOpt)\n",
       "        .catch(err => showError(`Javascript Error: ${err.message}<br>This usually means there's a typo in your chart specification. See the javascript console for the full traceback.`));\n",
       "    }\n",
       "\n",
       "    if(typeof define === \"function\" && define.amd) {\n",
       "      requirejs.config({paths});\n",
       "      require([\"vega-embed\"], displayChart, err => showError(`Error loading script: ${err.message}`));\n",
       "    } else if (typeof vegaEmbed === \"function\") {\n",
       "      displayChart(vegaEmbed);\n",
       "    } else {\n",
       "      loadScript(\"vega\")\n",
       "        .then(() => loadScript(\"vega-lite\"))\n",
       "        .then(() => loadScript(\"vega-embed\"))\n",
       "        .catch(showError)\n",
       "        .then(() => displayChart(vegaEmbed));\n",
       "    }\n",
       "  })({\"config\": {\"view\": {\"continuousWidth\": 400, \"continuousHeight\": 300}}, \"data\": {\"name\": \"data-0cc4bf0dfc73750b2c1cea4b7f660241\"}, \"mark\": {\"type\": \"bar\", \"color\": \"Blue\", \"opacity\": 0.85}, \"encoding\": {\"x\": {\"type\": \"nominal\", \"axis\": {\"labelAngle\": 45}, \"field\": \"features\", \"sort\": null, \"title\": \"Feature\"}, \"y\": {\"type\": \"quantitative\", \"field\": \"importances\", \"title\": \"Importance\"}}, \"title\": \"Random Forest Feature Importances\", \"width\": 500, \"$schema\": \"https://vega.github.io/schema/vega-lite/v4.8.1.json\", \"datasets\": {\"data-0cc4bf0dfc73750b2c1cea4b7f660241\": [{\"features\": \"CR_Amount\", \"importances\": 0.10278396944469094}, {\"features\": \"Age_Years\", \"importances\": 0.08216810717910855}, {\"features\": \"Duration_Months\", \"importances\": 0.08195924103505021}, {\"features\": \"Existing_CA_Status_A14\", \"importances\": 0.0566746708597807}, {\"features\": \"Inst_Rate\", \"importances\": 0.03575124897913127}, {\"features\": \"Existing_CA_Status_A11\", \"importances\": 0.03390707588464699}, {\"features\": \"Present_Residence_Time\", \"importances\": 0.03344957444796026}, {\"features\": \"Saving_Acc_A61\", \"importances\": 0.02031599521857861}, {\"features\": \"Credit_History_A34\", \"importances\": 0.01960295013055181}, {\"features\": \"Purpose_A40\", \"importances\": 0.019281419549935175}]}}, {\"mode\": \"vega-lite\"});\n",
       "</script>"
      ],
      "text/plain": [
       "alt.Chart(...)"
      ]
     },
     "execution_count": 34,
     "metadata": {},
     "output_type": "execute_result"
    }
   ],
   "source": [
    "plot_imp(best_features_rfi, feature_importances_rfi, 'Random Forest', 'Blue')"
   ]
  },
  {
   "cell_type": "markdown",
   "metadata": {},
   "source": [
    "Here,  we can check out from the above graph that, `CR_Amount` is the most important feature along with `Duration-months` and `Age_Years` while considering top 10 RFI features. We include this in the below pipeline execution to check the Model performance for top 10, 20 and all the features(59) in the encoded dataset."
   ]
  },
  {
   "cell_type": "markdown",
   "metadata": {},
   "source": [
    "# Data Modelling <a class=\"anchor\" id=\"6\"></a>\n",
    "\n",
    "\n",
    "## Train-Test Splitting of the Dataset.\n",
    "\n",
    "\n",
    "Before starting the deifferent modelling process using different algorithms, first we have to split the dataset into `Train` and `Test` datasets. We are going to train our model  and Tune it only on the Training dataset and then we are going to predict the performance of the model on the Test dataset.\n",
    "\n",
    "For the simplification of the process, as we have comparitively less amount of data, we are going to perfrom 70:30 splitting in which 70% of the total data set is used for the Training and HP tuning while we are going to predict the Test dataset to check the performance of the model on unseen data.\n",
    "\n",
    "To achieve this, we are using `train_test_split()` function from the `sklearn.model_selection` package."
   ]
  },
  {
   "cell_type": "code",
   "execution_count": 35,
   "metadata": {},
   "outputs": [
    {
     "name": "stdout",
     "output_type": "stream",
     "text": [
      "(700, 59)\n",
      "(300, 59)\n"
     ]
    }
   ],
   "source": [
    "from sklearn.model_selection import train_test_split\n",
    "\n",
    "Data_sample_train, Data_sample_test,target_sample_train, target_sample_test = train_test_split(data, target, \n",
    "                                                    test_size = 0.3, random_state=999,\n",
    "                                                    stratify = target)\n",
    "\n",
    "print(Data_sample_train.shape)\n",
    "print(Data_sample_test.shape)"
   ]
  },
  {
   "cell_type": "markdown",
   "metadata": {},
   "source": [
    "## Model Evaluation Strategy\n",
    "\n",
    "From above step, we can see that we are going to train and tune our classification models on the 700 observation instances and will test the performance of each of the model on remianing 300 unseen instances.\n",
    "\n",
    "For each model, we are going to use Stratified K-Fold Cross-Validation evaluation method with **5 folds** with **2 repititions** for the Hyper Parameter Tuning.\n",
    "\n",
    "we are using `StratifiedKFold()` method for this purpose."
   ]
  },
  {
   "cell_type": "code",
   "execution_count": 36,
   "metadata": {},
   "outputs": [],
   "source": [
    "from sklearn.model_selection import StratifiedKFold, GridSearchCV\n",
    "\n",
    "cv_method = StratifiedKFold(n_splits=5,random_state=999)"
   ]
  },
  {
   "cell_type": "markdown",
   "metadata": {},
   "source": [
    "# Hyperparameter Tuning <a class=\"anchor\" id=\"7\"></a>\n",
    "\n",
    "\n",
    "\n",
    "# 1. K-Nearest Neighbours (KNN)\n",
    "\n",
    "- Using Pipeline, we stack `feature selection` and `grid search` for KNN hyperparameter tuning via cross-validation. We will use the same Pipeline methodology for NB and DT and Random Forest Ensemble.\n",
    "\n",
    "\n",
    "- KNN is a distance based classification algorithm technique.  we are using Euclidean and Manhattan distances to calculate the performance of the algorithm on our data.\n",
    "\n",
    "\n",
    "- For KNN hyperparameters are: \n",
    "\n",
    "\n",
    "    - Number of Neighbours(`n-neighbors`)i.e. value of K and\n",
    "    - The distance metric `p` (1= Manhattan and 2 = Euclidean).\n",
    "    \n",
    "    \n",
    "- For feature selection, we are using  Random Forest Importance (RFI) method with 100 estimators.we define the custom `RFIFeatureSelector()` class below to pass in RFI as a \"step\" to the pipeline."
   ]
  },
  {
   "cell_type": "code",
   "execution_count": 37,
   "metadata": {},
   "outputs": [],
   "source": [
    "from sklearn.base import BaseEstimator, TransformerMixin\n",
    "\n",
    "# custom function for RFI feature selection inside a pipeline\n",
    "# here we use n_estimators=100\n",
    "class RFIFeatureSelector(BaseEstimator, TransformerMixin):\n",
    "    \n",
    "    # class constructor \n",
    "    # make sure class attributes end with a \"_\"\n",
    "    # per scikit-learn convention to avoid errors\n",
    "    def __init__(self, n_features_=10):\n",
    "        self.n_features_ = n_features_\n",
    "        self.fs_indices_ = None\n",
    "\n",
    "    # override the fit function\n",
    "    def fit(self, X, y):\n",
    "        from sklearn.ensemble import RandomForestClassifier\n",
    "        from numpy import argsort\n",
    "        model_rfi = RandomForestClassifier(n_estimators=100, random_state =999)\n",
    "        model_rfi.fit(X, y)\n",
    "        self.fs_indices_ = argsort(model_rfi.feature_importances_)[::-1][0:self.n_features_] \n",
    "        return self \n",
    "    \n",
    "    # override the transform function\n",
    "    def transform(self, X, y=None):\n",
    "        return X[:, self.fs_indices_]"
   ]
  },
  {
   "cell_type": "markdown",
   "metadata": {},
   "source": [
    "The following code chunk represents a `pipeline()` function which is responsible for following tasks:\n",
    "\n",
    "- The pipeline function implements KNN algorithm on the data returned by RFI FeatureSelector.\n",
    "- RFIFeatureSelector computes RFI scores for each feature in the dataset and returns specified number of TOP RFI scored features."
   ]
  },
  {
   "cell_type": "code",
   "execution_count": 38,
   "metadata": {},
   "outputs": [],
   "source": [
    "from sklearn.pipeline import Pipeline\n",
    "from sklearn.neighbors import KNeighborsClassifier\n",
    "\n",
    "pipe_KNN = Pipeline(steps=[('rfi_fs', RFIFeatureSelector()), \n",
    "                           ('knn', KNeighborsClassifier())])\n",
    "\n",
    "params_pipe_KNN = {'rfi_fs__n_features_': [10, 20, data.shape[1]],\n",
    "                   'knn__n_neighbors': [10, 15, 20, 25, 30],\n",
    "                   'knn__p': [1, 2]}\n",
    "\n",
    "gs_pipe_KNN = GridSearchCV(estimator=pipe_KNN, \n",
    "                           param_grid=params_pipe_KNN, \n",
    "                           cv=cv_method,\n",
    "                           refit=True,\n",
    "                           n_jobs=-2,\n",
    "                           scoring='roc_auc',\n",
    "                           verbose=1) "
   ]
  },
  {
   "cell_type": "code",
   "execution_count": 39,
   "metadata": {},
   "outputs": [
    {
     "name": "stdout",
     "output_type": "stream",
     "text": [
      "Fitting 5 folds for each of 30 candidates, totalling 150 fits\n"
     ]
    },
    {
     "name": "stderr",
     "output_type": "stream",
     "text": [
      "[Parallel(n_jobs=-2)]: Using backend LokyBackend with 3 concurrent workers.\n",
      "[Parallel(n_jobs=-2)]: Done  44 tasks      | elapsed:    9.2s\n",
      "[Parallel(n_jobs=-2)]: Done 150 out of 150 | elapsed:   25.8s finished\n"
     ]
    }
   ],
   "source": [
    "import warnings\n",
    "warnings.filterwarnings(\"ignore\")\n",
    "gs_pipe_KNN = gs_pipe_KNN.fit(Data_sample_train, target_sample_train)"
   ]
  },
  {
   "cell_type": "code",
   "execution_count": 40,
   "metadata": {},
   "outputs": [
    {
     "data": {
      "text/plain": [
       "{'knn__n_neighbors': 20, 'knn__p': 1, 'rfi_fs__n_features_': 59}"
      ]
     },
     "execution_count": 40,
     "metadata": {},
     "output_type": "execute_result"
    }
   ],
   "source": [
    "gs_pipe_KNN.best_params_"
   ]
  },
  {
   "cell_type": "code",
   "execution_count": 41,
   "metadata": {},
   "outputs": [
    {
     "data": {
      "text/plain": [
       "0.7348153547133137"
      ]
     },
     "execution_count": 41,
     "metadata": {},
     "output_type": "execute_result"
    }
   ],
   "source": [
    "gs_pipe_KNN.best_score_"
   ]
  },
  {
   "cell_type": "markdown",
   "metadata": {},
   "source": [
    "Here,  we observe that, Optimal KNN model has mean AUC score of 0.7348. The best performing KNN selected 20 nearest neighbours and all the 59 features with value of p = 1 i.e. Manhattan distance.\n",
    "\n",
    "Even though, we get the optimal score and conditions for a optimal KNN model, we have to see the difference between performance of KNN with different combinations of the hyperparameters. we can see the difference between their `mean_score` values. "
   ]
  },
  {
   "cell_type": "code",
   "execution_count": 42,
   "metadata": {},
   "outputs": [],
   "source": [
    "# custom function to format the search results as a Pandas data frame\n",
    "def get_search_results(gs):\n",
    "\n",
    "    def model_result(scores, params):\n",
    "        scores = {'mean_score': np.mean(scores),\n",
    "             'std_score': np.std(scores),\n",
    "             'min_score': np.min(scores),\n",
    "             'max_score': np.max(scores)}\n",
    "        return pd.Series({**params,**scores})\n",
    "\n",
    "    models = []\n",
    "    scores = []\n",
    "\n",
    "    for i in range(gs.n_splits_):\n",
    "        key = f\"split{i}_test_score\"\n",
    "        r = gs.cv_results_[key]        \n",
    "        scores.append(r.reshape(-1,1))\n",
    "\n",
    "    all_scores = np.hstack(scores)\n",
    "    for p, s in zip(gs.cv_results_['params'], all_scores):\n",
    "        models.append((model_result(s, p)))\n",
    "\n",
    "    pipe_results = pd.concat(models, axis=1).T.sort_values(['mean_score'], ascending=False)\n",
    "\n",
    "    columns_first = ['mean_score', 'std_score', 'max_score', 'min_score']\n",
    "    columns = columns_first + [c for c in pipe_results.columns if c not in columns_first]\n",
    "\n",
    "    return pipe_results[columns]"
   ]
  },
  {
   "cell_type": "code",
   "execution_count": 43,
   "metadata": {},
   "outputs": [
    {
     "data": {
      "text/html": [
       "<div>\n",
       "<style scoped>\n",
       "    .dataframe tbody tr th:only-of-type {\n",
       "        vertical-align: middle;\n",
       "    }\n",
       "\n",
       "    .dataframe tbody tr th {\n",
       "        vertical-align: top;\n",
       "    }\n",
       "\n",
       "    .dataframe thead th {\n",
       "        text-align: right;\n",
       "    }\n",
       "</style>\n",
       "<table border=\"1\" class=\"dataframe\">\n",
       "  <thead>\n",
       "    <tr style=\"text-align: right;\">\n",
       "      <th></th>\n",
       "      <th>mean_score</th>\n",
       "      <th>std_score</th>\n",
       "      <th>max_score</th>\n",
       "      <th>min_score</th>\n",
       "      <th>knn__n_neighbors</th>\n",
       "      <th>knn__p</th>\n",
       "      <th>rfi_fs__n_features_</th>\n",
       "    </tr>\n",
       "  </thead>\n",
       "  <tbody>\n",
       "    <tr>\n",
       "      <th>14</th>\n",
       "      <td>0.734815</td>\n",
       "      <td>0.025957</td>\n",
       "      <td>0.779883</td>\n",
       "      <td>0.708819</td>\n",
       "      <td>20.0</td>\n",
       "      <td>1.0</td>\n",
       "      <td>59.0</td>\n",
       "    </tr>\n",
       "    <tr>\n",
       "      <th>8</th>\n",
       "      <td>0.733503</td>\n",
       "      <td>0.018448</td>\n",
       "      <td>0.766885</td>\n",
       "      <td>0.715500</td>\n",
       "      <td>15.0</td>\n",
       "      <td>1.0</td>\n",
       "      <td>59.0</td>\n",
       "    </tr>\n",
       "    <tr>\n",
       "      <th>25</th>\n",
       "      <td>0.730224</td>\n",
       "      <td>0.033539</td>\n",
       "      <td>0.775389</td>\n",
       "      <td>0.684038</td>\n",
       "      <td>30.0</td>\n",
       "      <td>1.0</td>\n",
       "      <td>20.0</td>\n",
       "    </tr>\n",
       "    <tr>\n",
       "      <th>17</th>\n",
       "      <td>0.729106</td>\n",
       "      <td>0.029015</td>\n",
       "      <td>0.776968</td>\n",
       "      <td>0.690355</td>\n",
       "      <td>20.0</td>\n",
       "      <td>2.0</td>\n",
       "      <td>59.0</td>\n",
       "    </tr>\n",
       "    <tr>\n",
       "      <th>28</th>\n",
       "      <td>0.728110</td>\n",
       "      <td>0.037205</td>\n",
       "      <td>0.777211</td>\n",
       "      <td>0.672133</td>\n",
       "      <td>30.0</td>\n",
       "      <td>2.0</td>\n",
       "      <td>20.0</td>\n",
       "    </tr>\n",
       "  </tbody>\n",
       "</table>\n",
       "</div>"
      ],
      "text/plain": [
       "    mean_score  std_score  max_score  min_score  knn__n_neighbors  knn__p  \\\n",
       "14    0.734815   0.025957   0.779883   0.708819              20.0     1.0   \n",
       "8     0.733503   0.018448   0.766885   0.715500              15.0     1.0   \n",
       "25    0.730224   0.033539   0.775389   0.684038              30.0     1.0   \n",
       "17    0.729106   0.029015   0.776968   0.690355              20.0     2.0   \n",
       "28    0.728110   0.037205   0.777211   0.672133              30.0     2.0   \n",
       "\n",
       "    rfi_fs__n_features_  \n",
       "14                 59.0  \n",
       "8                  59.0  \n",
       "25                 20.0  \n",
       "17                 59.0  \n",
       "28                 20.0  "
      ]
     },
     "execution_count": 43,
     "metadata": {},
     "output_type": "execute_result"
    }
   ],
   "source": [
    "results_KNN = get_search_results(gs_pipe_KNN)\n",
    "results_KNN.head(5)"
   ]
  },
  {
   "cell_type": "markdown",
   "metadata": {},
   "source": [
    "- A minimal difference of 0.001 can be observed in the `mean_score` between 1st optimal and 2nd optimal models of KNN hyperparameter values.\n",
    "\n",
    "- It can also be observed that most of the top 5 mean scores are generated when calculating scores with all the descriptive features i.e all the 59 features taken into consideration.\n",
    "\n",
    "- Hence, we have plotted a graph for results of a Grid Search corresponding to all the 59 features that got selected."
   ]
  },
  {
   "cell_type": "code",
   "execution_count": 44,
   "metadata": {},
   "outputs": [
    {
     "data": {
      "text/html": [
       "\n",
       "<div id=\"altair-viz-a3705cd6c16b44fea7ee091d8840edae\"></div>\n",
       "<script type=\"text/javascript\">\n",
       "  (function(spec, embedOpt){\n",
       "    let outputDiv = document.currentScript.previousElementSibling;\n",
       "    if (outputDiv.id !== \"altair-viz-a3705cd6c16b44fea7ee091d8840edae\") {\n",
       "      outputDiv = document.getElementById(\"altair-viz-a3705cd6c16b44fea7ee091d8840edae\");\n",
       "    }\n",
       "    const paths = {\n",
       "      \"vega\": \"https://cdn.jsdelivr.net/npm//vega@5?noext\",\n",
       "      \"vega-lib\": \"https://cdn.jsdelivr.net/npm//vega-lib?noext\",\n",
       "      \"vega-lite\": \"https://cdn.jsdelivr.net/npm//vega-lite@4.8.1?noext\",\n",
       "      \"vega-embed\": \"https://cdn.jsdelivr.net/npm//vega-embed@6?noext\",\n",
       "    };\n",
       "\n",
       "    function loadScript(lib) {\n",
       "      return new Promise(function(resolve, reject) {\n",
       "        var s = document.createElement('script');\n",
       "        s.src = paths[lib];\n",
       "        s.async = true;\n",
       "        s.onload = () => resolve(paths[lib]);\n",
       "        s.onerror = () => reject(`Error loading script: ${paths[lib]}`);\n",
       "        document.getElementsByTagName(\"head\")[0].appendChild(s);\n",
       "      });\n",
       "    }\n",
       "\n",
       "    function showError(err) {\n",
       "      outputDiv.innerHTML = `<div class=\"error\" style=\"color:red;\">${err}</div>`;\n",
       "      throw err;\n",
       "    }\n",
       "\n",
       "    function displayChart(vegaEmbed) {\n",
       "      vegaEmbed(outputDiv, spec, embedOpt)\n",
       "        .catch(err => showError(`Javascript Error: ${err.message}<br>This usually means there's a typo in your chart specification. See the javascript console for the full traceback.`));\n",
       "    }\n",
       "\n",
       "    if(typeof define === \"function\" && define.amd) {\n",
       "      requirejs.config({paths});\n",
       "      require([\"vega-embed\"], displayChart, err => showError(`Error loading script: ${err.message}`));\n",
       "    } else if (typeof vegaEmbed === \"function\") {\n",
       "      displayChart(vegaEmbed);\n",
       "    } else {\n",
       "      loadScript(\"vega\")\n",
       "        .then(() => loadScript(\"vega-lite\"))\n",
       "        .then(() => loadScript(\"vega-embed\"))\n",
       "        .catch(showError)\n",
       "        .then(() => displayChart(vegaEmbed));\n",
       "    }\n",
       "  })({\"config\": {\"view\": {\"continuousWidth\": 400, \"continuousHeight\": 300}}, \"data\": {\"name\": \"data-010640ade6cbf7376e2027a5f1f56039\"}, \"mark\": {\"type\": \"line\", \"point\": true}, \"encoding\": {\"color\": {\"type\": \"nominal\", \"field\": \"knn__p\", \"title\": \"Values of Distance Metric P\"}, \"x\": {\"type\": \"quantitative\", \"field\": \"knn__n_neighbors\", \"title\": \"Number of Neighbors\"}, \"y\": {\"type\": \"quantitative\", \"field\": \"mean_score\", \"scale\": {\"zero\": false}, \"title\": \"AUC Score\"}}, \"title\": \"KNN Performance Comparison with 59 features\", \"$schema\": \"https://vega.github.io/schema/vega-lite/v4.8.1.json\", \"datasets\": {\"data-010640ade6cbf7376e2027a5f1f56039\": [{\"mean_score\": 0.7348153547133137, \"std_score\": 0.025957256411678557, \"max_score\": 0.779883381924198, \"min_score\": 0.7088192419825072, \"knn__n_neighbors\": 20.0, \"knn__p\": 1.0, \"rfi_fs__n_features_\": 59.0}, {\"mean_score\": 0.7335034013605441, \"std_score\": 0.018448441920860023, \"max_score\": 0.7668853255587949, \"min_score\": 0.7155004859086491, \"knn__n_neighbors\": 15.0, \"knn__p\": 1.0, \"rfi_fs__n_features_\": 59.0}, {\"mean_score\": 0.7291059280855199, \"std_score\": 0.02901489078083252, \"max_score\": 0.7769679300291544, \"min_score\": 0.690354713313897, \"knn__n_neighbors\": 20.0, \"knn__p\": 2.0, \"rfi_fs__n_features_\": 59.0}, {\"mean_score\": 0.7267978620019435, \"std_score\": 0.02159192915730419, \"max_score\": 0.7642128279883381, \"min_score\": 0.7056608357628765, \"knn__n_neighbors\": 15.0, \"knn__p\": 2.0, \"rfi_fs__n_features_\": 59.0}, {\"mean_score\": 0.7206511175898932, \"std_score\": 0.03123551795961527, \"max_score\": 0.7752672497570456, \"min_score\": 0.6870748299319728, \"knn__n_neighbors\": 25.0, \"knn__p\": 2.0, \"rfi_fs__n_features_\": 59.0}, {\"mean_score\": 0.7196064139941691, \"std_score\": 0.03354066945265218, \"max_score\": 0.777089407191448, \"min_score\": 0.6793002915451894, \"knn__n_neighbors\": 30.0, \"knn__p\": 1.0, \"rfi_fs__n_features_\": 59.0}, {\"mean_score\": 0.7192176870748299, \"std_score\": 0.028229954354761097, \"max_score\": 0.7670068027210885, \"min_score\": 0.68488824101069, \"knn__n_neighbors\": 25.0, \"knn__p\": 1.0, \"rfi_fs__n_features_\": 59.0}, {\"mean_score\": 0.7173712342079689, \"std_score\": 0.029850535410072716, \"max_score\": 0.7684645286686103, \"min_score\": 0.6863459669582119, \"knn__n_neighbors\": 30.0, \"knn__p\": 2.0, \"rfi_fs__n_features_\": 59.0}, {\"mean_score\": 0.7051263362487853, \"std_score\": 0.02721170865057192, \"max_score\": 0.7419825072886298, \"min_score\": 0.6720116618075802, \"knn__n_neighbors\": 10.0, \"knn__p\": 1.0, \"rfi_fs__n_features_\": 59.0}, {\"mean_score\": 0.6993197278911566, \"std_score\": 0.02189440425544276, \"max_score\": 0.7322643343051507, \"min_score\": 0.6763848396501458, \"knn__n_neighbors\": 10.0, \"knn__p\": 2.0, \"rfi_fs__n_features_\": 59.0}]}}, {\"mode\": \"vega-lite\"});\n",
       "</script>"
      ],
      "text/plain": [
       "alt.Chart(...)"
      ]
     },
     "execution_count": 44,
     "metadata": {},
     "output_type": "execute_result"
    }
   ],
   "source": [
    "results_KNN_59_Features = results_KNN[results_KNN['rfi_fs__n_features_'] == 59.0]\n",
    "\n",
    "alt.Chart(results_KNN_59_Features, \n",
    "          title='KNN Performance Comparison with 59 features'\n",
    "         ).mark_line(point=True).encode(\n",
    "    alt.X('knn__n_neighbors', title='Number of Neighbors'),\n",
    "    alt.Y('mean_score', title='AUC Score', scale=alt.Scale(zero=False)),\n",
    "    alt.Color('knn__p:N', title='Values of Distance Metric P')\n",
    ")"
   ]
  },
  {
   "cell_type": "markdown",
   "metadata": {},
   "source": [
    "We can see from the above graph that, AUC_ROC scores are not increasing after the number of neighbors 20.  Hence,  we can say that, `K =20`  is a optimal hyperparameter value which gives us optimal performance of the model."
   ]
  },
  {
   "cell_type": "markdown",
   "metadata": {},
   "source": [
    "# 2. (Gaussian) Naive Bayes (NB) \n",
    "\n",
    "\n",
    "The Next model is Gaussian Naive Bayes (NB). It is a probabilty based classification algorithm. We are using `var_smoothing` (variant of Laplace Smoothing) as a hyperparameter to tune our model. By default, the `var_smoothing` parameter's value is $10^{-9}$ . We conduct the grid search in the `logspace` (over the powers of 10) sourced from `NumPy`. We will start with $10^{0}$  and end with  $10^{-9}$  and we will try 100 different values.\n",
    "\n",
    "As Gaussian Naive Bayes considers probability is noramlly distributed, Before fitting our data into the Naive Bayes model we need to normalise the probability of each value. For this purpose we are going to perform pwoer transforamtion of Training data."
   ]
  },
  {
   "cell_type": "code",
   "execution_count": 45,
   "metadata": {},
   "outputs": [],
   "source": [
    "from sklearn.preprocessing import PowerTransformer\n",
    "Data_sample_train_transformed = PowerTransformer().fit_transform(Data_sample_train)"
   ]
  },
  {
   "cell_type": "code",
   "execution_count": 46,
   "metadata": {},
   "outputs": [],
   "source": [
    "from sklearn.naive_bayes import GaussianNB\n",
    "\n",
    "np.random.seed(999)\n",
    "\n",
    "pipe_NB = Pipeline([('rfi_fs', RFIFeatureSelector()), \n",
    "                     ('nb', GaussianNB())])\n",
    "\n",
    "params_pipe_NB = {'rfi_fs__n_features_': [10, 20, data.shape[1]],\n",
    "                  'nb__var_smoothing': np.logspace(0,-9, num=100)}\n",
    "\n",
    "\n",
    "gs_pipe_NB = GridSearchCV(estimator=pipe_NB, \n",
    "                          param_grid=params_pipe_NB, \n",
    "                          cv=cv_method,\n",
    "                          refit=True,\n",
    "                          n_jobs=-2,\n",
    "                          scoring='roc_auc',\n",
    "                          verbose=1) "
   ]
  },
  {
   "cell_type": "code",
   "execution_count": 47,
   "metadata": {},
   "outputs": [
    {
     "name": "stdout",
     "output_type": "stream",
     "text": [
      "Fitting 5 folds for each of 300 candidates, totalling 1500 fits\n"
     ]
    },
    {
     "name": "stderr",
     "output_type": "stream",
     "text": [
      "[Parallel(n_jobs=-2)]: Using backend LokyBackend with 3 concurrent workers.\n",
      "[Parallel(n_jobs=-2)]: Done  44 tasks      | elapsed:    6.5s\n",
      "[Parallel(n_jobs=-2)]: Done 194 tasks      | elapsed:   26.8s\n",
      "[Parallel(n_jobs=-2)]: Done 444 tasks      | elapsed:   58.7s\n",
      "[Parallel(n_jobs=-2)]: Done 794 tasks      | elapsed:  1.7min\n",
      "[Parallel(n_jobs=-2)]: Done 1244 tasks      | elapsed:  2.6min\n",
      "[Parallel(n_jobs=-2)]: Done 1500 out of 1500 | elapsed:  3.1min finished\n"
     ]
    }
   ],
   "source": [
    "gs_pipe_NB.fit(Data_sample_train_transformed, target_sample_train);"
   ]
  },
  {
   "cell_type": "code",
   "execution_count": 48,
   "metadata": {},
   "outputs": [
    {
     "data": {
      "text/plain": [
       "{'nb__var_smoothing': 0.8111308307896871, 'rfi_fs__n_features_': 20}"
      ]
     },
     "execution_count": 48,
     "metadata": {},
     "output_type": "execute_result"
    }
   ],
   "source": [
    "gs_pipe_NB.best_params_"
   ]
  },
  {
   "cell_type": "markdown",
   "metadata": {},
   "source": [
    "We can see from the above that hyper parameters for optimal NB performance are `var_smoothing` of 0.8111 and with top `20` features selected by RFI method. "
   ]
  },
  {
   "cell_type": "code",
   "execution_count": 49,
   "metadata": {},
   "outputs": [
    {
     "data": {
      "text/plain": [
       "0.7605928085519923"
      ]
     },
     "execution_count": 49,
     "metadata": {},
     "output_type": "execute_result"
    }
   ],
   "source": [
    "gs_pipe_NB.best_score_"
   ]
  },
  {
   "cell_type": "markdown",
   "metadata": {},
   "source": [
    "The performance score of the optimal NB model is 0.7605 which higher than optimal KNN score which is calculated above. That means the model has approximately `76.1% ROC_AUC` score.\n",
    "\n",
    "We try to visualize other results in the grid search by ploting a chart of var_smoothing factor against AUC Score for every number of features we selected (10, 20 and 59). We can visualize other scores with the help of below graph."
   ]
  },
  {
   "cell_type": "code",
   "execution_count": 50,
   "metadata": {},
   "outputs": [
    {
     "data": {
      "text/html": [
       "<div>\n",
       "<style scoped>\n",
       "    .dataframe tbody tr th:only-of-type {\n",
       "        vertical-align: middle;\n",
       "    }\n",
       "\n",
       "    .dataframe tbody tr th {\n",
       "        vertical-align: top;\n",
       "    }\n",
       "\n",
       "    .dataframe thead th {\n",
       "        text-align: right;\n",
       "    }\n",
       "</style>\n",
       "<table border=\"1\" class=\"dataframe\">\n",
       "  <thead>\n",
       "    <tr style=\"text-align: right;\">\n",
       "      <th></th>\n",
       "      <th>mean_score</th>\n",
       "      <th>std_score</th>\n",
       "      <th>max_score</th>\n",
       "      <th>min_score</th>\n",
       "      <th>nb__var_smoothing</th>\n",
       "      <th>rfi_fs__n_features_</th>\n",
       "    </tr>\n",
       "  </thead>\n",
       "  <tbody>\n",
       "    <tr>\n",
       "      <th>4</th>\n",
       "      <td>0.760593</td>\n",
       "      <td>0.029212</td>\n",
       "      <td>0.793975</td>\n",
       "      <td>0.714529</td>\n",
       "      <td>0.811131</td>\n",
       "      <td>20.0</td>\n",
       "    </tr>\n",
       "    <tr>\n",
       "      <th>1</th>\n",
       "      <td>0.760398</td>\n",
       "      <td>0.028542</td>\n",
       "      <td>0.791545</td>\n",
       "      <td>0.714529</td>\n",
       "      <td>1.000000</td>\n",
       "      <td>20.0</td>\n",
       "    </tr>\n",
       "    <tr>\n",
       "      <th>10</th>\n",
       "      <td>0.760398</td>\n",
       "      <td>0.029864</td>\n",
       "      <td>0.797619</td>\n",
       "      <td>0.714286</td>\n",
       "      <td>0.533670</td>\n",
       "      <td>20.0</td>\n",
       "    </tr>\n",
       "    <tr>\n",
       "      <th>7</th>\n",
       "      <td>0.760350</td>\n",
       "      <td>0.029574</td>\n",
       "      <td>0.795190</td>\n",
       "      <td>0.714043</td>\n",
       "      <td>0.657933</td>\n",
       "      <td>20.0</td>\n",
       "    </tr>\n",
       "    <tr>\n",
       "      <th>19</th>\n",
       "      <td>0.760253</td>\n",
       "      <td>0.030370</td>\n",
       "      <td>0.801506</td>\n",
       "      <td>0.714286</td>\n",
       "      <td>0.284804</td>\n",
       "      <td>20.0</td>\n",
       "    </tr>\n",
       "  </tbody>\n",
       "</table>\n",
       "</div>"
      ],
      "text/plain": [
       "    mean_score  std_score  max_score  min_score  nb__var_smoothing  \\\n",
       "4     0.760593   0.029212   0.793975   0.714529           0.811131   \n",
       "1     0.760398   0.028542   0.791545   0.714529           1.000000   \n",
       "10    0.760398   0.029864   0.797619   0.714286           0.533670   \n",
       "7     0.760350   0.029574   0.795190   0.714043           0.657933   \n",
       "19    0.760253   0.030370   0.801506   0.714286           0.284804   \n",
       "\n",
       "    rfi_fs__n_features_  \n",
       "4                  20.0  \n",
       "1                  20.0  \n",
       "10                 20.0  \n",
       "7                  20.0  \n",
       "19                 20.0  "
      ]
     },
     "execution_count": 50,
     "metadata": {},
     "output_type": "execute_result"
    }
   ],
   "source": [
    "results_NB = get_search_results(gs_pipe_NB)\n",
    "results_NB.head(5)"
   ]
  },
  {
   "cell_type": "code",
   "execution_count": 51,
   "metadata": {},
   "outputs": [
    {
     "data": {
      "text/html": [
       "\n",
       "<div id=\"altair-viz-2b1fb273f1db4714ab390c884fbbc36a\"></div>\n",
       "<script type=\"text/javascript\">\n",
       "  (function(spec, embedOpt){\n",
       "    let outputDiv = document.currentScript.previousElementSibling;\n",
       "    if (outputDiv.id !== \"altair-viz-2b1fb273f1db4714ab390c884fbbc36a\") {\n",
       "      outputDiv = document.getElementById(\"altair-viz-2b1fb273f1db4714ab390c884fbbc36a\");\n",
       "    }\n",
       "    const paths = {\n",
       "      \"vega\": \"https://cdn.jsdelivr.net/npm//vega@5?noext\",\n",
       "      \"vega-lib\": \"https://cdn.jsdelivr.net/npm//vega-lib?noext\",\n",
       "      \"vega-lite\": \"https://cdn.jsdelivr.net/npm//vega-lite@4.8.1?noext\",\n",
       "      \"vega-embed\": \"https://cdn.jsdelivr.net/npm//vega-embed@6?noext\",\n",
       "    };\n",
       "\n",
       "    function loadScript(lib) {\n",
       "      return new Promise(function(resolve, reject) {\n",
       "        var s = document.createElement('script');\n",
       "        s.src = paths[lib];\n",
       "        s.async = true;\n",
       "        s.onload = () => resolve(paths[lib]);\n",
       "        s.onerror = () => reject(`Error loading script: ${paths[lib]}`);\n",
       "        document.getElementsByTagName(\"head\")[0].appendChild(s);\n",
       "      });\n",
       "    }\n",
       "\n",
       "    function showError(err) {\n",
       "      outputDiv.innerHTML = `<div class=\"error\" style=\"color:red;\">${err}</div>`;\n",
       "      throw err;\n",
       "    }\n",
       "\n",
       "    function displayChart(vegaEmbed) {\n",
       "      vegaEmbed(outputDiv, spec, embedOpt)\n",
       "        .catch(err => showError(`Javascript Error: ${err.message}<br>This usually means there's a typo in your chart specification. See the javascript console for the full traceback.`));\n",
       "    }\n",
       "\n",
       "    if(typeof define === \"function\" && define.amd) {\n",
       "      requirejs.config({paths});\n",
       "      require([\"vega-embed\"], displayChart, err => showError(`Error loading script: ${err.message}`));\n",
       "    } else if (typeof vegaEmbed === \"function\") {\n",
       "      displayChart(vegaEmbed);\n",
       "    } else {\n",
       "      loadScript(\"vega\")\n",
       "        .then(() => loadScript(\"vega-lite\"))\n",
       "        .then(() => loadScript(\"vega-embed\"))\n",
       "        .catch(showError)\n",
       "        .then(() => displayChart(vegaEmbed));\n",
       "    }\n",
       "  })({\"config\": {\"view\": {\"continuousWidth\": 400, \"continuousHeight\": 300}}, \"data\": {\"name\": \"data-3016f4373954cb4e98c673eb4ed6bcea\"}, \"mark\": {\"type\": \"line\", \"point\": true}, \"encoding\": {\"color\": {\"type\": \"nominal\", \"field\": \"rfi_fs__n_features_\", \"title\": \"Number of Features selected\"}, \"x\": {\"type\": \"quantitative\", \"field\": \"nb__var_smoothing\", \"title\": \"Var. Smoothing\"}, \"y\": {\"type\": \"quantitative\", \"field\": \"mean_score\", \"scale\": {\"zero\": false}, \"title\": \"AUC Score\"}}, \"title\": \"NB Performance Comparison with All the features\", \"$schema\": \"https://vega.github.io/schema/vega-lite/v4.8.1.json\", \"datasets\": {\"data-3016f4373954cb4e98c673eb4ed6bcea\": [{\"mean_score\": 0.7605928085519923, \"std_score\": 0.02921220402712172, \"max_score\": 0.793974732750243, \"min_score\": 0.7145286686103013, \"nb__var_smoothing\": 0.8111308307896871, \"rfi_fs__n_features_\": 20.0}, {\"mean_score\": 0.7603984450923227, \"std_score\": 0.0285424907831263, \"max_score\": 0.7915451895043731, \"min_score\": 0.7145286686103013, \"nb__var_smoothing\": 1.0, \"rfi_fs__n_features_\": 20.0}, {\"mean_score\": 0.7603984450923227, \"std_score\": 0.02986437408555057, \"max_score\": 0.7976190476190477, \"min_score\": 0.7142857142857143, \"nb__var_smoothing\": 0.533669923120631, \"rfi_fs__n_features_\": 20.0}, {\"mean_score\": 0.7603498542274052, \"std_score\": 0.02957367940420961, \"max_score\": 0.7951895043731777, \"min_score\": 0.7140427599611272, \"nb__var_smoothing\": 0.657933224657568, \"rfi_fs__n_features_\": 20.0}, {\"mean_score\": 0.7602526724975703, \"std_score\": 0.03036964042558449, \"max_score\": 0.8015063168124392, \"min_score\": 0.7142857142857143, \"nb__var_smoothing\": 0.2848035868435802, \"rfi_fs__n_features_\": 20.0}, {\"mean_score\": 0.7601554907677356, \"std_score\": 0.02977965992272885, \"max_score\": 0.7978620019436345, \"min_score\": 0.7140427599611273, \"nb__var_smoothing\": 0.43287612810830584, \"rfi_fs__n_features_\": 20.0}, {\"mean_score\": 0.7599611273080662, \"std_score\": 0.03008633979364029, \"max_score\": 0.8000485908649174, \"min_score\": 0.7145286686103013, \"nb__var_smoothing\": 0.3511191734215131, \"rfi_fs__n_features_\": 20.0}, {\"mean_score\": 0.7595724003887269, \"std_score\": 0.030467905971230707, \"max_score\": 0.8012633624878522, \"min_score\": 0.7137998056365403, \"nb__var_smoothing\": 0.23101297000831597, \"rfi_fs__n_features_\": 20.0}, {\"mean_score\": 0.7594266277939747, \"std_score\": 0.031216142181999692, \"max_score\": 0.802964042759961, \"min_score\": 0.7133138969873664, \"nb__var_smoothing\": 0.15199110829529336, \"rfi_fs__n_features_\": 20.0}, {\"mean_score\": 0.7594266277939747, \"std_score\": 0.031196848974352754, \"max_score\": 0.802721088435374, \"min_score\": 0.7133138969873664, \"nb__var_smoothing\": 0.1873817422860384, \"rfi_fs__n_features_\": 20.0}, {\"mean_score\": 0.7591350826044703, \"std_score\": 0.03160521083079549, \"max_score\": 0.8039358600583091, \"min_score\": 0.7130709426627794, \"nb__var_smoothing\": 0.1, \"rfi_fs__n_features_\": 20.0}, {\"mean_score\": 0.7590379008746355, \"std_score\": 0.03157935226898841, \"max_score\": 0.8034499514091351, \"min_score\": 0.7125850340136055, \"nb__var_smoothing\": 0.12328467394420659, \"rfi_fs__n_features_\": 20.0}, {\"mean_score\": 0.758843537414966, \"std_score\": 0.03161716139611723, \"max_score\": 0.8032069970845481, \"min_score\": 0.7123420796890185, \"nb__var_smoothing\": 0.08111308307896872, \"rfi_fs__n_features_\": 20.0}, {\"mean_score\": 0.7587949465500486, \"std_score\": 0.03182438286123348, \"max_score\": 0.8034499514091351, \"min_score\": 0.7118561710398446, \"nb__var_smoothing\": 0.0657933224657568, \"rfi_fs__n_features_\": 20.0}, {\"mean_score\": 0.7587463556851313, \"std_score\": 0.03209867078727207, \"max_score\": 0.804178814382896, \"min_score\": 0.7113702623906705, \"nb__var_smoothing\": 0.04328761281083057, \"rfi_fs__n_features_\": 20.0}, {\"mean_score\": 0.7587463556851312, \"std_score\": 0.03156349782796281, \"max_score\": 0.8029640427599611, \"min_score\": 0.7120991253644315, \"nb__var_smoothing\": 0.0533669923120631, \"rfi_fs__n_features_\": 20.0}, {\"mean_score\": 0.7586491739552963, \"std_score\": 0.03219327240553352, \"max_score\": 0.8041788143828961, \"min_score\": 0.7113702623906705, \"nb__var_smoothing\": 0.03511191734215131, \"rfi_fs__n_features_\": 20.0}, {\"mean_score\": 0.7585034013605442, \"std_score\": 0.032419976554845145, \"max_score\": 0.80466472303207, \"min_score\": 0.7108843537414965, \"nb__var_smoothing\": 0.02848035868435802, \"rfi_fs__n_features_\": 20.0}, {\"mean_score\": 0.7584062196307094, \"std_score\": 0.03240926911554168, \"max_score\": 0.80466472303207, \"min_score\": 0.7108843537414965, \"nb__var_smoothing\": 0.02310129700083159, \"rfi_fs__n_features_\": 20.0}, {\"mean_score\": 0.7584062196307094, \"std_score\": 0.032596684753441574, \"max_score\": 0.8051506316812439, \"min_score\": 0.7108843537414966, \"nb__var_smoothing\": 0.006579332246575682, \"rfi_fs__n_features_\": 20.0}, {\"mean_score\": 0.758357628765792, \"std_score\": 0.03242966119171644, \"max_score\": 0.80466472303207, \"min_score\": 0.7108843537414965, \"nb__var_smoothing\": 0.01873817422860384, \"rfi_fs__n_features_\": 20.0}, {\"mean_score\": 0.7583090379008747, \"std_score\": 0.03280635554252133, \"max_score\": 0.805636540330418, \"min_score\": 0.7106413994169096, \"nb__var_smoothing\": 0.0004328761281083057, \"rfi_fs__n_features_\": 20.0}, {\"mean_score\": 0.7583090379008747, \"std_score\": 0.032665712644667305, \"max_score\": 0.8053935860058309, \"min_score\": 0.7108843537414966, \"nb__var_smoothing\": 0.002848035868435802, \"rfi_fs__n_features_\": 20.0}, {\"mean_score\": 0.7583090379008747, \"std_score\": 0.032574512747811854, \"max_score\": 0.8051506316812439, \"min_score\": 0.7108843537414966, \"nb__var_smoothing\": 0.005336699231206307, \"rfi_fs__n_features_\": 20.0}, {\"mean_score\": 0.7583090379008747, \"std_score\": 0.032665712644667305, \"max_score\": 0.8053935860058309, \"min_score\": 0.7108843537414966, \"nb__var_smoothing\": 0.003511191734215131, \"rfi_fs__n_features_\": 20.0}, {\"mean_score\": 0.7583090379008747, \"std_score\": 0.03280635554252133, \"max_score\": 0.805636540330418, \"min_score\": 0.7106413994169096, \"nb__var_smoothing\": 0.0001873817422860383, \"rfi_fs__n_features_\": 20.0}, {\"mean_score\": 0.7583090379008747, \"std_score\": 0.03280635554252133, \"max_score\": 0.805636540330418, \"min_score\": 0.7106413994169096, \"nb__var_smoothing\": 0.0003511191734215131, \"rfi_fs__n_features_\": 20.0}, {\"mean_score\": 0.7583090379008747, \"std_score\": 0.03280635554252133, \"max_score\": 0.805636540330418, \"min_score\": 0.7106413994169096, \"nb__var_smoothing\": 0.0001, \"rfi_fs__n_features_\": 20.0}, {\"mean_score\": 0.7583090379008747, \"std_score\": 0.03280635554252133, \"max_score\": 0.805636540330418, \"min_score\": 0.7106413994169096, \"nb__var_smoothing\": 0.0002848035868435802, \"rfi_fs__n_features_\": 20.0}, {\"mean_score\": 0.7583090379008747, \"std_score\": 0.03280635554252133, \"max_score\": 0.805636540330418, \"min_score\": 0.7106413994169096, \"nb__var_smoothing\": 0.0001232846739442066, \"rfi_fs__n_features_\": 20.0}, {\"mean_score\": 0.7583090379008747, \"std_score\": 0.03280635554252133, \"max_score\": 0.805636540330418, \"min_score\": 0.7106413994169096, \"nb__var_smoothing\": 0.0002310129700083158, \"rfi_fs__n_features_\": 20.0}, {\"mean_score\": 0.7583090379008747, \"std_score\": 0.03280635554252133, \"max_score\": 0.805636540330418, \"min_score\": 0.7106413994169096, \"nb__var_smoothing\": 0.0001519911082952933, \"rfi_fs__n_features_\": 20.0}, {\"mean_score\": 0.7583090379008747, \"std_score\": 0.03280635554252133, \"max_score\": 0.805636540330418, \"min_score\": 0.7106413994169096, \"nb__var_smoothing\": 8.111308307896872e-05, \"rfi_fs__n_features_\": 20.0}, {\"mean_score\": 0.7583090379008747, \"std_score\": 0.032574512747811854, \"max_score\": 0.8051506316812439, \"min_score\": 0.7108843537414966, \"nb__var_smoothing\": 0.004328761281083057, \"rfi_fs__n_features_\": 20.0}, {\"mean_score\": 0.7582604470359573, \"std_score\": 0.0328277955852317, \"max_score\": 0.805636540330418, \"min_score\": 0.7106413994169096, \"nb__var_smoothing\": 1.873817422860383e-05, \"rfi_fs__n_features_\": 20.0}, {\"mean_score\": 0.7582604470359573, \"std_score\": 0.03273632599599515, \"max_score\": 0.8053935860058309, \"min_score\": 0.7106413994169096, \"nb__var_smoothing\": 0.0006579332246575676, \"rfi_fs__n_features_\": 20.0}, {\"mean_score\": 0.7582604470359573, \"std_score\": 0.0328277955852317, \"max_score\": 0.805636540330418, \"min_score\": 0.7106413994169096, \"nb__var_smoothing\": 2.848035868435799e-06, \"rfi_fs__n_features_\": 20.0}, {\"mean_score\": 0.7582604470359573, \"std_score\": 0.0328277955852317, \"max_score\": 0.805636540330418, \"min_score\": 0.7106413994169096, \"nb__var_smoothing\": 5.336699231206302e-08, \"rfi_fs__n_features_\": 20.0}, {\"mean_score\": 0.7582604470359573, \"std_score\": 0.0328277955852317, \"max_score\": 0.805636540330418, \"min_score\": 0.7106413994169096, \"nb__var_smoothing\": 2.310129700083158e-06, \"rfi_fs__n_features_\": 20.0}, {\"mean_score\": 0.7582604470359573, \"std_score\": 0.0328277955852317, \"max_score\": 0.805636540330418, \"min_score\": 0.7106413994169096, \"nb__var_smoothing\": 5.336699231206313e-07, \"rfi_fs__n_features_\": 20.0}, {\"mean_score\": 0.7582604470359573, \"std_score\": 0.0328277955852317, \"max_score\": 0.805636540330418, \"min_score\": 0.7106413994169096, \"nb__var_smoothing\": 4.3287612810830526e-08, \"rfi_fs__n_features_\": 20.0}, {\"mean_score\": 0.7582604470359573, \"std_score\": 0.0328277955852317, \"max_score\": 0.805636540330418, \"min_score\": 0.7106413994169096, \"nb__var_smoothing\": 1.873817422860383e-06, \"rfi_fs__n_features_\": 20.0}, {\"mean_score\": 0.7582604470359573, \"std_score\": 0.0328277955852317, \"max_score\": 0.805636540330418, \"min_score\": 0.7106413994169096, \"nb__var_smoothing\": 1.519911082952933e-06, \"rfi_fs__n_features_\": 20.0}, {\"mean_score\": 0.7582604470359573, \"std_score\": 0.0328277955852317, \"max_score\": 0.805636540330418, \"min_score\": 0.7106413994169096, \"nb__var_smoothing\": 3.5111917342151277e-08, \"rfi_fs__n_features_\": 20.0}, {\"mean_score\": 0.7582604470359573, \"std_score\": 0.03273632599599515, \"max_score\": 0.8053935860058309, \"min_score\": 0.7106413994169096, \"nb__var_smoothing\": 0.0005336699231206307, \"rfi_fs__n_features_\": 20.0}, {\"mean_score\": 0.7582604470359573, \"std_score\": 0.0328277955852317, \"max_score\": 0.805636540330418, \"min_score\": 0.7106413994169096, \"nb__var_smoothing\": 2.848035868435799e-08, \"rfi_fs__n_features_\": 20.0}, {\"mean_score\": 0.7582604470359573, \"std_score\": 0.0328277955852317, \"max_score\": 0.805636540330418, \"min_score\": 0.7106413994169096, \"nb__var_smoothing\": 2.310129700083158e-05, \"rfi_fs__n_features_\": 20.0}, {\"mean_score\": 0.7582604470359573, \"std_score\": 0.03273632599599515, \"max_score\": 0.8053935860058309, \"min_score\": 0.7106413994169096, \"nb__var_smoothing\": 0.0008111308307896872, \"rfi_fs__n_features_\": 20.0}, {\"mean_score\": 0.7582604470359573, \"std_score\": 0.0328277955852317, \"max_score\": 0.805636540330418, \"min_score\": 0.7106413994169096, \"nb__var_smoothing\": 2.310129700083158e-08, \"rfi_fs__n_features_\": 20.0}, {\"mean_score\": 0.7582604470359573, \"std_score\": 0.03273632599599515, \"max_score\": 0.8053935860058309, \"min_score\": 0.7106413994169096, \"nb__var_smoothing\": 0.0012328467394420659, \"rfi_fs__n_features_\": 20.0}, {\"mean_score\": 0.7582604470359573, \"std_score\": 0.0328277955852317, \"max_score\": 0.805636540330418, \"min_score\": 0.7106413994169096, \"nb__var_smoothing\": 6.579332246575682e-07, \"rfi_fs__n_features_\": 20.0}, {\"mean_score\": 0.7582604470359573, \"std_score\": 0.0328277955852317, \"max_score\": 0.805636540330418, \"min_score\": 0.7106413994169096, \"nb__var_smoothing\": 1.873817422860383e-08, \"rfi_fs__n_features_\": 20.0}, {\"mean_score\": 0.7582604470359573, \"std_score\": 0.03273632599599515, \"max_score\": 0.8053935860058309, \"min_score\": 0.7106413994169096, \"nb__var_smoothing\": 0.0023101297000831605, \"rfi_fs__n_features_\": 20.0}, {\"mean_score\": 0.7582604470359573, \"std_score\": 0.0328277955852317, \"max_score\": 0.805636540330418, \"min_score\": 0.7106413994169096, \"nb__var_smoothing\": 1.232846739442066e-06, \"rfi_fs__n_features_\": 20.0}, {\"mean_score\": 0.7582604470359573, \"std_score\": 0.0328277955852317, \"max_score\": 0.805636540330418, \"min_score\": 0.7106413994169096, \"nb__var_smoothing\": 1.519911082952933e-08, \"rfi_fs__n_features_\": 20.0}, {\"mean_score\": 0.7582604470359573, \"std_score\": 0.0328277955852317, \"max_score\": 0.805636540330418, \"min_score\": 0.7106413994169096, \"nb__var_smoothing\": 1e-06, \"rfi_fs__n_features_\": 20.0}, {\"mean_score\": 0.7582604470359573, \"std_score\": 0.0328277955852317, \"max_score\": 0.805636540330418, \"min_score\": 0.7106413994169096, \"nb__var_smoothing\": 4.3287612810830526e-07, \"rfi_fs__n_features_\": 20.0}, {\"mean_score\": 0.7582604470359573, \"std_score\": 0.0328277955852317, \"max_score\": 0.805636540330418, \"min_score\": 0.7106413994169096, \"nb__var_smoothing\": 3.5111917342151275e-06, \"rfi_fs__n_features_\": 20.0}, {\"mean_score\": 0.7582604470359573, \"std_score\": 0.0328277955852317, \"max_score\": 0.805636540330418, \"min_score\": 0.7106413994169096, \"nb__var_smoothing\": 6.579332246575682e-08, \"rfi_fs__n_features_\": 20.0}, {\"mean_score\": 0.7582604470359573, \"std_score\": 0.0328277955852317, \"max_score\": 0.805636540330418, \"min_score\": 0.7106413994169096, \"nb__var_smoothing\": 4.328761281083053e-06, \"rfi_fs__n_features_\": 20.0}, {\"mean_score\": 0.7582604470359573, \"std_score\": 0.0328277955852317, \"max_score\": 0.805636540330418, \"min_score\": 0.7106413994169096, \"nb__var_smoothing\": 1.519911082952933e-07, \"rfi_fs__n_features_\": 20.0}, {\"mean_score\": 0.7582604470359573, \"std_score\": 0.0328277955852317, \"max_score\": 0.805636540330418, \"min_score\": 0.7106413994169096, \"nb__var_smoothing\": 1.873817422860383e-07, \"rfi_fs__n_features_\": 20.0}, {\"mean_score\": 0.7582604470359573, \"std_score\": 0.0328277955852317, \"max_score\": 0.805636540330418, \"min_score\": 0.7106413994169096, \"nb__var_smoothing\": 2.848035868435799e-05, \"rfi_fs__n_features_\": 20.0}, {\"mean_score\": 0.7582604470359573, \"std_score\": 0.0328277955852317, \"max_score\": 0.805636540330418, \"min_score\": 0.7106413994169096, \"nb__var_smoothing\": 1.5199110829529332e-05, \"rfi_fs__n_features_\": 20.0}, {\"mean_score\": 0.7582604470359573, \"std_score\": 0.0328277955852317, \"max_score\": 0.805636540330418, \"min_score\": 0.7106413994169096, \"nb__var_smoothing\": 1.2328467394420658e-05, \"rfi_fs__n_features_\": 20.0}, {\"mean_score\": 0.7582604470359573, \"std_score\": 0.0328277955852317, \"max_score\": 0.805636540330418, \"min_score\": 0.7106413994169096, \"nb__var_smoothing\": 3.511191734215127e-05, \"rfi_fs__n_features_\": 20.0}, {\"mean_score\": 0.7582604470359573, \"std_score\": 0.0328277955852317, \"max_score\": 0.805636540330418, \"min_score\": 0.7106413994169096, \"nb__var_smoothing\": 1.232846739442066e-07, \"rfi_fs__n_features_\": 20.0}, {\"mean_score\": 0.7582604470359573, \"std_score\": 0.0328277955852317, \"max_score\": 0.805636540330418, \"min_score\": 0.7106413994169096, \"nb__var_smoothing\": 2.310129700083158e-07, \"rfi_fs__n_features_\": 20.0}, {\"mean_score\": 0.7582604470359573, \"std_score\": 0.0328277955852317, \"max_score\": 0.805636540330418, \"min_score\": 0.7106413994169096, \"nb__var_smoothing\": 4.328761281083062e-05, \"rfi_fs__n_features_\": 20.0}, {\"mean_score\": 0.7582604470359573, \"std_score\": 0.0328277955852317, \"max_score\": 0.805636540330418, \"min_score\": 0.7106413994169096, \"nb__var_smoothing\": 5.3366992312063123e-05, \"rfi_fs__n_features_\": 20.0}, {\"mean_score\": 0.7582604470359573, \"std_score\": 0.0328277955852317, \"max_score\": 0.805636540330418, \"min_score\": 0.7106413994169096, \"nb__var_smoothing\": 1e-05, \"rfi_fs__n_features_\": 20.0}, {\"mean_score\": 0.7582604470359573, \"std_score\": 0.0328277955852317, \"max_score\": 0.805636540330418, \"min_score\": 0.7106413994169096, \"nb__var_smoothing\": 1e-07, \"rfi_fs__n_features_\": 20.0}, {\"mean_score\": 0.7582604470359573, \"std_score\": 0.0328277955852317, \"max_score\": 0.805636540330418, \"min_score\": 0.7106413994169096, \"nb__var_smoothing\": 6.579332246575683e-05, \"rfi_fs__n_features_\": 20.0}, {\"mean_score\": 0.7582604470359573, \"std_score\": 0.0328277955852317, \"max_score\": 0.805636540330418, \"min_score\": 0.7106413994169096, \"nb__var_smoothing\": 8.111308307896873e-06, \"rfi_fs__n_features_\": 20.0}, {\"mean_score\": 0.7582604470359573, \"std_score\": 0.0328277955852317, \"max_score\": 0.805636540330418, \"min_score\": 0.7106413994169096, \"nb__var_smoothing\": 2.848035868435799e-07, \"rfi_fs__n_features_\": 20.0}, {\"mean_score\": 0.7582604470359573, \"std_score\": 0.0328277955852317, \"max_score\": 0.805636540330418, \"min_score\": 0.7106413994169096, \"nb__var_smoothing\": 8.111308307896873e-08, \"rfi_fs__n_features_\": 20.0}, {\"mean_score\": 0.7582604470359573, \"std_score\": 0.0328277955852317, \"max_score\": 0.805636540330418, \"min_score\": 0.7106413994169096, \"nb__var_smoothing\": 6.579332246575683e-06, \"rfi_fs__n_features_\": 20.0}, {\"mean_score\": 0.7582604470359573, \"std_score\": 0.0328277955852317, \"max_score\": 0.805636540330418, \"min_score\": 0.7106413994169096, \"nb__var_smoothing\": 5.336699231206313e-06, \"rfi_fs__n_features_\": 20.0}, {\"mean_score\": 0.7582604470359573, \"std_score\": 0.0328277955852317, \"max_score\": 0.805636540330418, \"min_score\": 0.7106413994169096, \"nb__var_smoothing\": 3.5111917342151277e-07, \"rfi_fs__n_features_\": 20.0}, {\"mean_score\": 0.7582604470359573, \"std_score\": 0.03273632599599515, \"max_score\": 0.8053935860058309, \"min_score\": 0.7106413994169096, \"nb__var_smoothing\": 0.001, \"rfi_fs__n_features_\": 20.0}, {\"mean_score\": 0.7582604470359573, \"std_score\": 0.0328277955852317, \"max_score\": 0.805636540330418, \"min_score\": 0.7106413994169096, \"nb__var_smoothing\": 8.111308307896872e-07, \"rfi_fs__n_features_\": 20.0}, {\"mean_score\": 0.7582604470359573, \"std_score\": 0.0328277955852317, \"max_score\": 0.805636540330418, \"min_score\": 0.7106413994169096, \"nb__var_smoothing\": 1.519911082952933e-09, \"rfi_fs__n_features_\": 20.0}, {\"mean_score\": 0.7582604470359573, \"std_score\": 0.0328277955852317, \"max_score\": 0.805636540330418, \"min_score\": 0.7106413994169096, \"nb__var_smoothing\": 1e-08, \"rfi_fs__n_features_\": 20.0}, {\"mean_score\": 0.7582604470359573, \"std_score\": 0.0328277955852317, \"max_score\": 0.805636540330418, \"min_score\": 0.7106413994169096, \"nb__var_smoothing\": 6.579332246575682e-09, \"rfi_fs__n_features_\": 20.0}, {\"mean_score\": 0.7582604470359573, \"std_score\": 0.032528671745944954, \"max_score\": 0.80466472303207, \"min_score\": 0.7106413994169095, \"nb__var_smoothing\": 0.012328467394420659, \"rfi_fs__n_features_\": 20.0}, {\"mean_score\": 0.7582604470359573, \"std_score\": 0.0328277955852317, \"max_score\": 0.805636540330418, \"min_score\": 0.7106413994169096, \"nb__var_smoothing\": 5.336699231206302e-09, \"rfi_fs__n_features_\": 20.0}, {\"mean_score\": 0.7582604470359573, \"std_score\": 0.0328277955852317, \"max_score\": 0.805636540330418, \"min_score\": 0.7106413994169096, \"nb__var_smoothing\": 3.5111917342151273e-09, \"rfi_fs__n_features_\": 20.0}, {\"mean_score\": 0.7582604470359573, \"std_score\": 0.0328277955852317, \"max_score\": 0.805636540330418, \"min_score\": 0.7106413994169096, \"nb__var_smoothing\": 8.111308307896856e-09, \"rfi_fs__n_features_\": 20.0}, {\"mean_score\": 0.7582604470359573, \"std_score\": 0.032669181892277466, \"max_score\": 0.804907677356657, \"min_score\": 0.7103984450923225, \"nb__var_smoothing\": 0.008111308307896872, \"rfi_fs__n_features_\": 20.0}, {\"mean_score\": 0.7582604470359573, \"std_score\": 0.0328277955852317, \"max_score\": 0.805636540330418, \"min_score\": 0.7106413994169096, \"nb__var_smoothing\": 2.310129700083158e-09, \"rfi_fs__n_features_\": 20.0}, {\"mean_score\": 0.7582604470359573, \"std_score\": 0.0328277955852317, \"max_score\": 0.805636540330418, \"min_score\": 0.7106413994169096, \"nb__var_smoothing\": 4.328761281083061e-09, \"rfi_fs__n_features_\": 20.0}, {\"mean_score\": 0.7582604470359573, \"std_score\": 0.0328277955852317, \"max_score\": 0.805636540330418, \"min_score\": 0.7106413994169096, \"nb__var_smoothing\": 1e-09, \"rfi_fs__n_features_\": 20.0}, {\"mean_score\": 0.7582604470359573, \"std_score\": 0.0328277955852317, \"max_score\": 0.805636540330418, \"min_score\": 0.7106413994169096, \"nb__var_smoothing\": 1.2328467394420635e-09, \"rfi_fs__n_features_\": 20.0}, {\"mean_score\": 0.7582604470359573, \"std_score\": 0.0328277955852317, \"max_score\": 0.805636540330418, \"min_score\": 0.7106413994169096, \"nb__var_smoothing\": 1.873817422860387e-09, \"rfi_fs__n_features_\": 20.0}, {\"mean_score\": 0.7582604470359573, \"std_score\": 0.0328277955852317, \"max_score\": 0.805636540330418, \"min_score\": 0.7106413994169096, \"nb__var_smoothing\": 2.848035868435805e-09, \"rfi_fs__n_features_\": 20.0}, {\"mean_score\": 0.7582604470359573, \"std_score\": 0.0328277955852317, \"max_score\": 0.805636540330418, \"min_score\": 0.7106413994169096, \"nb__var_smoothing\": 1.232846739442066e-08, \"rfi_fs__n_features_\": 20.0}, {\"mean_score\": 0.7582118561710398, \"std_score\": 0.032542242186745785, \"max_score\": 0.80466472303207, \"min_score\": 0.7106413994169095, \"nb__var_smoothing\": 0.01519911082952933, \"rfi_fs__n_features_\": 20.0}, {\"mean_score\": 0.7582118561710398, \"std_score\": 0.03259987164491228, \"max_score\": 0.80466472303207, \"min_score\": 0.7103984450923225, \"nb__var_smoothing\": 0.01, \"rfi_fs__n_features_\": 20.0}, {\"mean_score\": 0.7582118561710398, \"std_score\": 0.03270074957203267, \"max_score\": 0.8053935860058309, \"min_score\": 0.7106413994169096, \"nb__var_smoothing\": 0.0015199110829529332, \"rfi_fs__n_features_\": 20.0}, {\"mean_score\": 0.7582118561710398, \"std_score\": 0.03270074957203267, \"max_score\": 0.8053935860058309, \"min_score\": 0.7106413994169096, \"nb__var_smoothing\": 0.001873817422860383, \"rfi_fs__n_features_\": 20.0}, {\"mean_score\": 0.745821185617104, \"std_score\": 0.05643163228133805, \"max_score\": 0.8367346938775511, \"min_score\": 0.6588921282798834, \"nb__var_smoothing\": 1.0, \"rfi_fs__n_features_\": 59.0}, {\"mean_score\": 0.7448007774538388, \"std_score\": 0.05718684469470027, \"max_score\": 0.8364917395529641, \"min_score\": 0.6562196307094266, \"nb__var_smoothing\": 0.8111308307896871, \"rfi_fs__n_features_\": 59.0}, {\"mean_score\": 0.7448007774538385, \"std_score\": 0.03050546728474383, \"max_score\": 0.7728377065111759, \"min_score\": 0.6868318756073857, \"nb__var_smoothing\": 0.1873817422860384, \"rfi_fs__n_features_\": 10.0}, {\"mean_score\": 0.7448007774538385, \"std_score\": 0.030072838797785675, \"max_score\": 0.7742954324586977, \"min_score\": 0.6880466472303207, \"nb__var_smoothing\": 0.3511191734215131, \"rfi_fs__n_features_\": 10.0}, {\"mean_score\": 0.7447035957240038, \"std_score\": 0.030272303830328865, \"max_score\": 0.7735665694849369, \"min_score\": 0.6873177842565598, \"nb__var_smoothing\": 0.2848035868435802, \"rfi_fs__n_features_\": 10.0}, {\"mean_score\": 0.7447035957240038, \"std_score\": 0.030162913936922102, \"max_score\": 0.773080660835763, \"min_score\": 0.6878036929057336, \"nb__var_smoothing\": 0.23101297000831597, \"rfi_fs__n_features_\": 10.0}, {\"mean_score\": 0.7445578231292517, \"std_score\": 0.029824105486493974, \"max_score\": 0.7747813411078717, \"min_score\": 0.6885325558794947, \"nb__var_smoothing\": 0.43287612810830584, \"rfi_fs__n_features_\": 10.0}, {\"mean_score\": 0.7444606413994168, \"std_score\": 0.030923571545755892, \"max_score\": 0.7728377065111759, \"min_score\": 0.6856171039844509, \"nb__var_smoothing\": 0.15199110829529336, \"rfi_fs__n_features_\": 10.0}, {\"mean_score\": 0.7443634596695821, \"std_score\": 0.031377210054782265, \"max_score\": 0.772594752186589, \"min_score\": 0.6846452866861029, \"nb__var_smoothing\": 0.12328467394420659, \"rfi_fs__n_features_\": 10.0}, {\"mean_score\": 0.7443634596695821, \"std_score\": 0.030061373892235996, \"max_score\": 0.7755102040816326, \"min_score\": 0.6880466472303206, \"nb__var_smoothing\": 0.533669923120631, \"rfi_fs__n_features_\": 10.0}, {\"mean_score\": 0.7443634596695821, \"std_score\": 0.03105271826661202, \"max_score\": 0.7704081632653061, \"min_score\": 0.6856171039844509, \"nb__var_smoothing\": 0.004328761281083057, \"rfi_fs__n_features_\": 10.0}, {\"mean_score\": 0.7443148688046647, \"std_score\": 0.031105593133440513, \"max_score\": 0.7701652089407192, \"min_score\": 0.6853741496598639, \"nb__var_smoothing\": 1.519911082952933e-07, \"rfi_fs__n_features_\": 10.0}, {\"mean_score\": 0.7443148688046647, \"std_score\": 0.031105593133440513, \"max_score\": 0.7701652089407192, \"min_score\": 0.6853741496598639, \"nb__var_smoothing\": 2.310129700083158e-05, \"rfi_fs__n_features_\": 10.0}, {\"mean_score\": 0.7443148688046647, \"std_score\": 0.031105593133440513, \"max_score\": 0.7701652089407192, \"min_score\": 0.6853741496598639, \"nb__var_smoothing\": 1.2328467394420658e-05, \"rfi_fs__n_features_\": 10.0}, {\"mean_score\": 0.7443148688046647, \"std_score\": 0.031105593133440513, \"max_score\": 0.7701652089407192, \"min_score\": 0.6853741496598639, \"nb__var_smoothing\": 1.873817422860383e-05, \"rfi_fs__n_features_\": 10.0}, {\"mean_score\": 0.7443148688046647, \"std_score\": 0.031105593133440513, \"max_score\": 0.7701652089407192, \"min_score\": 0.6853741496598639, \"nb__var_smoothing\": 1.873817422860387e-09, \"rfi_fs__n_features_\": 10.0}, {\"mean_score\": 0.7443148688046647, \"std_score\": 0.031105593133440513, \"max_score\": 0.7701652089407192, \"min_score\": 0.6853741496598639, \"nb__var_smoothing\": 2.848035868435805e-09, \"rfi_fs__n_features_\": 10.0}, {\"mean_score\": 0.7443148688046647, \"std_score\": 0.031105593133440513, \"max_score\": 0.7701652089407192, \"min_score\": 0.6853741496598639, \"nb__var_smoothing\": 1.232846739442066e-07, \"rfi_fs__n_features_\": 10.0}, {\"mean_score\": 0.7443148688046647, \"std_score\": 0.031105593133440513, \"max_score\": 0.7701652089407192, \"min_score\": 0.6853741496598639, \"nb__var_smoothing\": 1.5199110829529332e-05, \"rfi_fs__n_features_\": 10.0}, {\"mean_score\": 0.7443148688046647, \"std_score\": 0.031105593133440513, \"max_score\": 0.7701652089407192, \"min_score\": 0.6853741496598639, \"nb__var_smoothing\": 1e-05, \"rfi_fs__n_features_\": 10.0}, {\"mean_score\": 0.7443148688046647, \"std_score\": 0.031105593133440513, \"max_score\": 0.7701652089407192, \"min_score\": 0.6853741496598639, \"nb__var_smoothing\": 2.310129700083158e-07, \"rfi_fs__n_features_\": 10.0}, {\"mean_score\": 0.7443148688046647, \"std_score\": 0.031105593133440513, \"max_score\": 0.7701652089407192, \"min_score\": 0.6853741496598639, \"nb__var_smoothing\": 2.310129700083158e-09, \"rfi_fs__n_features_\": 10.0}, {\"mean_score\": 0.7443148688046647, \"std_score\": 0.031105593133440513, \"max_score\": 0.7701652089407192, \"min_score\": 0.6853741496598639, \"nb__var_smoothing\": 1.873817422860383e-07, \"rfi_fs__n_features_\": 10.0}, {\"mean_score\": 0.7443148688046647, \"std_score\": 0.031105593133440513, \"max_score\": 0.7701652089407192, \"min_score\": 0.6853741496598639, \"nb__var_smoothing\": 5.3366992312063123e-05, \"rfi_fs__n_features_\": 10.0}, {\"mean_score\": 0.7443148688046647, \"std_score\": 0.031105593133440513, \"max_score\": 0.7701652089407192, \"min_score\": 0.6853741496598639, \"nb__var_smoothing\": 8.111308307896873e-06, \"rfi_fs__n_features_\": 10.0}, {\"mean_score\": 0.7443148688046647, \"std_score\": 0.031105593133440513, \"max_score\": 0.7701652089407192, \"min_score\": 0.6853741496598639, \"nb__var_smoothing\": 1.519911082952933e-09, \"rfi_fs__n_features_\": 10.0}, {\"mean_score\": 0.7443148688046647, \"std_score\": 0.031105593133440513, \"max_score\": 0.7701652089407192, \"min_score\": 0.6853741496598639, \"nb__var_smoothing\": 1e-06, \"rfi_fs__n_features_\": 10.0}, {\"mean_score\": 0.7443148688046647, \"std_score\": 0.031105593133440513, \"max_score\": 0.7701652089407192, \"min_score\": 0.6853741496598639, \"nb__var_smoothing\": 6.579332246575682e-07, \"rfi_fs__n_features_\": 10.0}, {\"mean_score\": 0.7443148688046647, \"std_score\": 0.031105593133440513, \"max_score\": 0.7701652089407192, \"min_score\": 0.6853741496598639, \"nb__var_smoothing\": 1.232846739442066e-06, \"rfi_fs__n_features_\": 10.0}, {\"mean_score\": 0.7443148688046647, \"std_score\": 0.031105593133440513, \"max_score\": 0.7701652089407192, \"min_score\": 0.6853741496598639, \"nb__var_smoothing\": 1.519911082952933e-06, \"rfi_fs__n_features_\": 10.0}, {\"mean_score\": 0.7443148688046647, \"std_score\": 0.031105593133440513, \"max_score\": 0.7701652089407192, \"min_score\": 0.6853741496598639, \"nb__var_smoothing\": 5.336699231206313e-07, \"rfi_fs__n_features_\": 10.0}, {\"mean_score\": 0.7443148688046647, \"std_score\": 0.031105593133440513, \"max_score\": 0.7701652089407192, \"min_score\": 0.6853741496598639, \"nb__var_smoothing\": 1.873817422860383e-06, \"rfi_fs__n_features_\": 10.0}, {\"mean_score\": 0.7443148688046647, \"std_score\": 0.031105593133440513, \"max_score\": 0.7701652089407192, \"min_score\": 0.6853741496598639, \"nb__var_smoothing\": 1e-09, \"rfi_fs__n_features_\": 10.0}, {\"mean_score\": 0.7443148688046647, \"std_score\": 0.031105593133440513, \"max_score\": 0.7701652089407192, \"min_score\": 0.6853741496598639, \"nb__var_smoothing\": 2.310129700083158e-06, \"rfi_fs__n_features_\": 10.0}, {\"mean_score\": 0.7443148688046647, \"std_score\": 0.031105593133440513, \"max_score\": 0.7701652089407192, \"min_score\": 0.6853741496598639, \"nb__var_smoothing\": 4.3287612810830526e-07, \"rfi_fs__n_features_\": 10.0}, {\"mean_score\": 0.7443148688046647, \"std_score\": 0.031105593133440513, \"max_score\": 0.7701652089407192, \"min_score\": 0.6853741496598639, \"nb__var_smoothing\": 2.848035868435799e-06, \"rfi_fs__n_features_\": 10.0}, {\"mean_score\": 0.7443148688046647, \"std_score\": 0.031105593133440513, \"max_score\": 0.7701652089407192, \"min_score\": 0.6853741496598639, \"nb__var_smoothing\": 3.5111917342151275e-06, \"rfi_fs__n_features_\": 10.0}, {\"mean_score\": 0.7443148688046647, \"std_score\": 0.031105593133440513, \"max_score\": 0.7701652089407192, \"min_score\": 0.6853741496598639, \"nb__var_smoothing\": 3.5111917342151277e-07, \"rfi_fs__n_features_\": 10.0}, {\"mean_score\": 0.7443148688046647, \"std_score\": 0.031105593133440513, \"max_score\": 0.7701652089407192, \"min_score\": 0.6853741496598639, \"nb__var_smoothing\": 1.2328467394420635e-09, \"rfi_fs__n_features_\": 10.0}, {\"mean_score\": 0.7443148688046647, \"std_score\": 0.031105593133440513, \"max_score\": 0.7701652089407192, \"min_score\": 0.6853741496598639, \"nb__var_smoothing\": 4.328761281083053e-06, \"rfi_fs__n_features_\": 10.0}, {\"mean_score\": 0.7443148688046647, \"std_score\": 0.031105593133440513, \"max_score\": 0.7701652089407192, \"min_score\": 0.6853741496598639, \"nb__var_smoothing\": 5.336699231206313e-06, \"rfi_fs__n_features_\": 10.0}, {\"mean_score\": 0.7443148688046647, \"std_score\": 0.031105593133440513, \"max_score\": 0.7701652089407192, \"min_score\": 0.6853741496598639, \"nb__var_smoothing\": 2.848035868435799e-07, \"rfi_fs__n_features_\": 10.0}, {\"mean_score\": 0.7443148688046647, \"std_score\": 0.031105593133440513, \"max_score\": 0.7701652089407192, \"min_score\": 0.6853741496598639, \"nb__var_smoothing\": 6.579332246575683e-06, \"rfi_fs__n_features_\": 10.0}, {\"mean_score\": 0.7443148688046647, \"std_score\": 0.031105593133440513, \"max_score\": 0.7701652089407192, \"min_score\": 0.6853741496598639, \"nb__var_smoothing\": 3.511191734215127e-05, \"rfi_fs__n_features_\": 10.0}, {\"mean_score\": 0.7443148688046647, \"std_score\": 0.031105593133440513, \"max_score\": 0.7701652089407192, \"min_score\": 0.6853741496598639, \"nb__var_smoothing\": 2.848035868435799e-05, \"rfi_fs__n_features_\": 10.0}, {\"mean_score\": 0.7443148688046647, \"std_score\": 0.031105593133440513, \"max_score\": 0.7701652089407192, \"min_score\": 0.6853741496598639, \"nb__var_smoothing\": 4.328761281083062e-05, \"rfi_fs__n_features_\": 10.0}, {\"mean_score\": 0.7443148688046647, \"std_score\": 0.031105593133440513, \"max_score\": 0.7701652089407192, \"min_score\": 0.6853741496598639, \"nb__var_smoothing\": 0.0008111308307896872, \"rfi_fs__n_features_\": 10.0}, {\"mean_score\": 0.7443148688046647, \"std_score\": 0.031105593133440513, \"max_score\": 0.7701652089407192, \"min_score\": 0.6853741496598639, \"nb__var_smoothing\": 4.3287612810830526e-08, \"rfi_fs__n_features_\": 10.0}, {\"mean_score\": 0.7443148688046647, \"std_score\": 0.031105593133440513, \"max_score\": 0.7701652089407192, \"min_score\": 0.6853741496598639, \"nb__var_smoothing\": 0.0002848035868435802, \"rfi_fs__n_features_\": 10.0}, {\"mean_score\": 0.7443148688046647, \"std_score\": 0.031105593133440513, \"max_score\": 0.7701652089407192, \"min_score\": 0.6853741496598639, \"nb__var_smoothing\": 3.5111917342151277e-08, \"rfi_fs__n_features_\": 10.0}, {\"mean_score\": 0.7443148688046647, \"std_score\": 0.031105593133440513, \"max_score\": 0.7701652089407192, \"min_score\": 0.6853741496598639, \"nb__var_smoothing\": 6.579332246575682e-09, \"rfi_fs__n_features_\": 10.0}, {\"mean_score\": 0.7443148688046647, \"std_score\": 0.031105593133440513, \"max_score\": 0.7701652089407192, \"min_score\": 0.6853741496598639, \"nb__var_smoothing\": 0.0004328761281083057, \"rfi_fs__n_features_\": 10.0}, {\"mean_score\": 0.7443148688046647, \"std_score\": 0.031105593133440513, \"max_score\": 0.7701652089407192, \"min_score\": 0.6853741496598639, \"nb__var_smoothing\": 0.0005336699231206307, \"rfi_fs__n_features_\": 10.0}, {\"mean_score\": 0.7443148688046647, \"std_score\": 0.031105593133440513, \"max_score\": 0.7701652089407192, \"min_score\": 0.6853741496598639, \"nb__var_smoothing\": 2.848035868435799e-08, \"rfi_fs__n_features_\": 10.0}, {\"mean_score\": 0.7443148688046647, \"std_score\": 0.031105593133440513, \"max_score\": 0.7701652089407192, \"min_score\": 0.6853741496598639, \"nb__var_smoothing\": 0.0006579332246575676, \"rfi_fs__n_features_\": 10.0}, {\"mean_score\": 0.7443148688046647, \"std_score\": 0.031105593133440513, \"max_score\": 0.7701652089407192, \"min_score\": 0.6853741496598639, \"nb__var_smoothing\": 2.310129700083158e-08, \"rfi_fs__n_features_\": 10.0}, {\"mean_score\": 0.7443148688046647, \"std_score\": 0.031105593133440513, \"max_score\": 0.7701652089407192, \"min_score\": 0.6853741496598639, \"nb__var_smoothing\": 0.0001873817422860383, \"rfi_fs__n_features_\": 10.0}, {\"mean_score\": 0.7443148688046647, \"std_score\": 0.031105593133440513, \"max_score\": 0.7701652089407192, \"min_score\": 0.6853741496598639, \"nb__var_smoothing\": 8.111308307896872e-07, \"rfi_fs__n_features_\": 10.0}, {\"mean_score\": 0.7443148688046647, \"std_score\": 0.031105593133440513, \"max_score\": 0.7701652089407192, \"min_score\": 0.6853741496598639, \"nb__var_smoothing\": 0.001, \"rfi_fs__n_features_\": 10.0}, {\"mean_score\": 0.7443148688046647, \"std_score\": 0.031105593133440513, \"max_score\": 0.7701652089407192, \"min_score\": 0.6853741496598639, \"nb__var_smoothing\": 8.111308307896856e-09, \"rfi_fs__n_features_\": 10.0}, {\"mean_score\": 0.7443148688046647, \"std_score\": 0.031105593133440513, \"max_score\": 0.7701652089407192, \"min_score\": 0.6853741496598639, \"nb__var_smoothing\": 0.0012328467394420659, \"rfi_fs__n_features_\": 10.0}, {\"mean_score\": 0.7443148688046647, \"std_score\": 0.031105593133440513, \"max_score\": 0.7701652089407192, \"min_score\": 0.6853741496598639, \"nb__var_smoothing\": 1.873817422860383e-08, \"rfi_fs__n_features_\": 10.0}, {\"mean_score\": 0.7443148688046647, \"std_score\": 0.031105593133440513, \"max_score\": 0.7701652089407192, \"min_score\": 0.6853741496598639, \"nb__var_smoothing\": 1.519911082952933e-08, \"rfi_fs__n_features_\": 10.0}, {\"mean_score\": 0.7443148688046647, \"std_score\": 0.031105593133440513, \"max_score\": 0.7701652089407192, \"min_score\": 0.6853741496598639, \"nb__var_smoothing\": 1e-08, \"rfi_fs__n_features_\": 10.0}, {\"mean_score\": 0.7443148688046647, \"std_score\": 0.031105593133440513, \"max_score\": 0.7701652089407192, \"min_score\": 0.6853741496598639, \"nb__var_smoothing\": 1.232846739442066e-08, \"rfi_fs__n_features_\": 10.0}, {\"mean_score\": 0.7443148688046647, \"std_score\": 0.031105593133440513, \"max_score\": 0.7701652089407192, \"min_score\": 0.6853741496598639, \"nb__var_smoothing\": 0.0002310129700083158, \"rfi_fs__n_features_\": 10.0}, {\"mean_score\": 0.7443148688046647, \"std_score\": 0.031105593133440513, \"max_score\": 0.7701652089407192, \"min_score\": 0.6853741496598639, \"nb__var_smoothing\": 0.0003511191734215131, \"rfi_fs__n_features_\": 10.0}, {\"mean_score\": 0.7443148688046647, \"std_score\": 0.031105593133440513, \"max_score\": 0.7701652089407192, \"min_score\": 0.6853741496598639, \"nb__var_smoothing\": 5.336699231206302e-09, \"rfi_fs__n_features_\": 10.0}, {\"mean_score\": 0.7443148688046647, \"std_score\": 0.031105593133440513, \"max_score\": 0.7701652089407192, \"min_score\": 0.6853741496598639, \"nb__var_smoothing\": 6.579332246575682e-08, \"rfi_fs__n_features_\": 10.0}, {\"mean_score\": 0.7443148688046647, \"std_score\": 0.031105593133440513, \"max_score\": 0.7701652089407192, \"min_score\": 0.6853741496598639, \"nb__var_smoothing\": 1e-07, \"rfi_fs__n_features_\": 10.0}, {\"mean_score\": 0.7443148688046647, \"std_score\": 0.031105593133440513, \"max_score\": 0.7701652089407192, \"min_score\": 0.6853741496598639, \"nb__var_smoothing\": 3.5111917342151273e-09, \"rfi_fs__n_features_\": 10.0}, {\"mean_score\": 0.7443148688046647, \"std_score\": 0.031105593133440513, \"max_score\": 0.7701652089407192, \"min_score\": 0.6853741496598639, \"nb__var_smoothing\": 6.579332246575683e-05, \"rfi_fs__n_features_\": 10.0}, {\"mean_score\": 0.7443148688046647, \"std_score\": 0.031105593133440513, \"max_score\": 0.7701652089407192, \"min_score\": 0.6853741496598639, \"nb__var_smoothing\": 8.111308307896872e-05, \"rfi_fs__n_features_\": 10.0}, {\"mean_score\": 0.7443148688046647, \"std_score\": 0.031105593133440513, \"max_score\": 0.7701652089407192, \"min_score\": 0.6853741496598639, \"nb__var_smoothing\": 4.328761281083061e-09, \"rfi_fs__n_features_\": 10.0}, {\"mean_score\": 0.7443148688046647, \"std_score\": 0.031105593133440513, \"max_score\": 0.7701652089407192, \"min_score\": 0.6853741496598639, \"nb__var_smoothing\": 0.0001, \"rfi_fs__n_features_\": 10.0}, {\"mean_score\": 0.7443148688046647, \"std_score\": 0.031105593133440513, \"max_score\": 0.7701652089407192, \"min_score\": 0.6853741496598639, \"nb__var_smoothing\": 8.111308307896873e-08, \"rfi_fs__n_features_\": 10.0}, {\"mean_score\": 0.7443148688046647, \"std_score\": 0.031105593133440513, \"max_score\": 0.7701652089407192, \"min_score\": 0.6853741496598639, \"nb__var_smoothing\": 0.0001232846739442066, \"rfi_fs__n_features_\": 10.0}, {\"mean_score\": 0.7443148688046647, \"std_score\": 0.031105593133440513, \"max_score\": 0.7701652089407192, \"min_score\": 0.6853741496598639, \"nb__var_smoothing\": 5.336699231206302e-08, \"rfi_fs__n_features_\": 10.0}, {\"mean_score\": 0.7443148688046647, \"std_score\": 0.031105593133440513, \"max_score\": 0.7701652089407192, \"min_score\": 0.6853741496598639, \"nb__var_smoothing\": 0.0001519911082952933, \"rfi_fs__n_features_\": 10.0}, {\"mean_score\": 0.7442662779397473, \"std_score\": 0.031104074995038908, \"max_score\": 0.7701652089407192, \"min_score\": 0.6853741496598639, \"nb__var_smoothing\": 0.003511191734215131, \"rfi_fs__n_features_\": 10.0}, {\"mean_score\": 0.7442662779397472, \"std_score\": 0.03111128549266575, \"max_score\": 0.7701652089407192, \"min_score\": 0.6853741496598639, \"nb__var_smoothing\": 0.0023101297000831605, \"rfi_fs__n_features_\": 10.0}, {\"mean_score\": 0.7442662779397472, \"std_score\": 0.03111128549266575, \"max_score\": 0.7701652089407192, \"min_score\": 0.6853741496598639, \"nb__var_smoothing\": 0.001873817422860383, \"rfi_fs__n_features_\": 10.0}, {\"mean_score\": 0.7442662779397472, \"std_score\": 0.03111128549266575, \"max_score\": 0.7701652089407192, \"min_score\": 0.6853741496598639, \"nb__var_smoothing\": 0.0015199110829529332, \"rfi_fs__n_features_\": 10.0}, {\"mean_score\": 0.7442176870748299, \"std_score\": 0.03107893903484223, \"max_score\": 0.7701652089407192, \"min_score\": 0.6853741496598639, \"nb__var_smoothing\": 0.002848035868435802, \"rfi_fs__n_features_\": 10.0}, {\"mean_score\": 0.7441690962099126, \"std_score\": 0.031087142730019092, \"max_score\": 0.7704081632653061, \"min_score\": 0.6853741496598639, \"nb__var_smoothing\": 0.005336699231206307, \"rfi_fs__n_features_\": 10.0}, {\"mean_score\": 0.7441690962099126, \"std_score\": 0.031087142730019092, \"max_score\": 0.7704081632653061, \"min_score\": 0.6853741496598639, \"nb__var_smoothing\": 0.006579332246575682, \"rfi_fs__n_features_\": 10.0}, {\"mean_score\": 0.7441690962099125, \"std_score\": 0.031204643353068183, \"max_score\": 0.7704081632653061, \"min_score\": 0.6851311953352769, \"nb__var_smoothing\": 0.008111308307896872, \"rfi_fs__n_features_\": 10.0}, {\"mean_score\": 0.7441205053449951, \"std_score\": 0.031163909465198723, \"max_score\": 0.7701652089407192, \"min_score\": 0.6851311953352769, \"nb__var_smoothing\": 0.01, \"rfi_fs__n_features_\": 10.0}, {\"mean_score\": 0.7441205053449951, \"std_score\": 0.03130262589557235, \"max_score\": 0.7704081632653061, \"min_score\": 0.6848882410106899, \"nb__var_smoothing\": 0.02310129700083159, \"rfi_fs__n_features_\": 10.0}, {\"mean_score\": 0.7441205053449951, \"std_score\": 0.031126763443132827, \"max_score\": 0.7701652089407192, \"min_score\": 0.6851311953352769, \"nb__var_smoothing\": 0.012328467394420659, \"rfi_fs__n_features_\": 10.0}, {\"mean_score\": 0.7440719144800778, \"std_score\": 0.031132527770999743, \"max_score\": 0.7701652089407192, \"min_score\": 0.6851311953352769, \"nb__var_smoothing\": 0.01873817422860384, \"rfi_fs__n_features_\": 10.0}, {\"mean_score\": 0.7440719144800778, \"std_score\": 0.031132527770999743, \"max_score\": 0.7701652089407192, \"min_score\": 0.6851311953352769, \"nb__var_smoothing\": 0.01519911082952933, \"rfi_fs__n_features_\": 10.0}, {\"mean_score\": 0.7440719144800776, \"std_score\": 0.031421274439235196, \"max_score\": 0.771622934888241, \"min_score\": 0.6841593780369291, \"nb__var_smoothing\": 0.1, \"rfi_fs__n_features_\": 10.0}, {\"mean_score\": 0.7438775510204082, \"std_score\": 0.03143547315787897, \"max_score\": 0.7704081632653061, \"min_score\": 0.684402332361516, \"nb__var_smoothing\": 0.02848035868435802, \"rfi_fs__n_features_\": 10.0}, {\"mean_score\": 0.7438289601554907, \"std_score\": 0.03149932566682738, \"max_score\": 0.771622934888241, \"min_score\": 0.6839164237123421, \"nb__var_smoothing\": 0.08111308307896872, \"rfi_fs__n_features_\": 10.0}, {\"mean_score\": 0.7438289601554907, \"std_score\": 0.030225158461692405, \"max_score\": 0.7769679300291545, \"min_score\": 0.6878036929057335, \"nb__var_smoothing\": 0.8111308307896871, \"rfi_fs__n_features_\": 10.0}, {\"mean_score\": 0.7437803692905733, \"std_score\": 0.03156372223880976, \"max_score\": 0.771622934888241, \"min_score\": 0.6839164237123421, \"nb__var_smoothing\": 0.0657933224657568, \"rfi_fs__n_features_\": 10.0}, {\"mean_score\": 0.7436831875607386, \"std_score\": 0.031480356016970655, \"max_score\": 0.7708940719144801, \"min_score\": 0.6841593780369291, \"nb__var_smoothing\": 0.03511191734215131, \"rfi_fs__n_features_\": 10.0}, {\"mean_score\": 0.7436345966958211, \"std_score\": 0.030126492993102997, \"max_score\": 0.7755102040816326, \"min_score\": 0.6873177842565598, \"nb__var_smoothing\": 0.657933224657568, \"rfi_fs__n_features_\": 10.0}, {\"mean_score\": 0.7435374149659865, \"std_score\": 0.031637690883383175, \"max_score\": 0.7711370262390671, \"min_score\": 0.6836734693877551, \"nb__var_smoothing\": 0.04328761281083057, \"rfi_fs__n_features_\": 10.0}, {\"mean_score\": 0.743488824101069, \"std_score\": 0.03171885716072786, \"max_score\": 0.771379980563654, \"min_score\": 0.6834305150631681, \"nb__var_smoothing\": 0.0533669923120631, \"rfi_fs__n_features_\": 10.0}, {\"mean_score\": 0.7434402332361516, \"std_score\": 0.03036676374327604, \"max_score\": 0.7776967930029155, \"min_score\": 0.6878036929057336, \"nb__var_smoothing\": 1.0, \"rfi_fs__n_features_\": 10.0}, {\"mean_score\": 0.7424198250728864, \"std_score\": 0.05844622669098871, \"max_score\": 0.8352769679300291, \"min_score\": 0.6511175898931001, \"nb__var_smoothing\": 0.657933224657568, \"rfi_fs__n_features_\": 59.0}, {\"mean_score\": 0.7406705539358601, \"std_score\": 0.05912284378653896, \"max_score\": 0.8352769679300291, \"min_score\": 0.6491739552964042, \"nb__var_smoothing\": 0.533669923120631, \"rfi_fs__n_features_\": 59.0}, {\"mean_score\": 0.7375121477162292, \"std_score\": 0.060384507327003366, \"max_score\": 0.8330903790087463, \"min_score\": 0.6431000971817298, \"nb__var_smoothing\": 0.43287612810830584, \"rfi_fs__n_features_\": 59.0}, {\"mean_score\": 0.7358600583090379, \"std_score\": 0.06081751916143204, \"max_score\": 0.8321185617103983, \"min_score\": 0.64067055393586, \"nb__var_smoothing\": 0.3511191734215131, \"rfi_fs__n_features_\": 59.0}, {\"mean_score\": 0.7339650145772596, \"std_score\": 0.0615504534814407, \"max_score\": 0.8309037900874636, \"min_score\": 0.6372691933916423, \"nb__var_smoothing\": 0.2848035868435802, \"rfi_fs__n_features_\": 59.0}, {\"mean_score\": 0.7331875607385812, \"std_score\": 0.06151158258074783, \"max_score\": 0.8294460641399417, \"min_score\": 0.6360544217687075, \"nb__var_smoothing\": 0.23101297000831597, \"rfi_fs__n_features_\": 59.0}, {\"mean_score\": 0.7321185617103984, \"std_score\": 0.06154174515735914, \"max_score\": 0.8282312925170068, \"min_score\": 0.6348396501457726, \"nb__var_smoothing\": 0.1873817422860384, \"rfi_fs__n_features_\": 59.0}, {\"mean_score\": 0.7310981535471331, \"std_score\": 0.06191883411155677, \"max_score\": 0.8284742468415938, \"min_score\": 0.6338678328474247, \"nb__var_smoothing\": 0.15199110829529336, \"rfi_fs__n_features_\": 59.0}, {\"mean_score\": 0.7307094266277939, \"std_score\": 0.06187042602576051, \"max_score\": 0.8277453838678328, \"min_score\": 0.6333819241982507, \"nb__var_smoothing\": 0.12328467394420659, \"rfi_fs__n_features_\": 59.0}, {\"mean_score\": 0.7295432458697765, \"std_score\": 0.06202988850859664, \"max_score\": 0.8267735665694849, \"min_score\": 0.6319241982507288, \"nb__var_smoothing\": 0.1, \"rfi_fs__n_features_\": 59.0}, {\"mean_score\": 0.7289601554907678, \"std_score\": 0.06189274651385736, \"max_score\": 0.8258017492711369, \"min_score\": 0.6314382896015549, \"nb__var_smoothing\": 0.08111308307896872, \"rfi_fs__n_features_\": 59.0}, {\"mean_score\": 0.7286443148688047, \"std_score\": 0.06249890327236223, \"max_score\": 0.8267735665694849, \"min_score\": 0.630709426627794, \"nb__var_smoothing\": 0.0657933224657568, \"rfi_fs__n_features_\": 59.0}, {\"mean_score\": 0.7283041788143828, \"std_score\": 0.06251038667387501, \"max_score\": 0.8265306122448979, \"min_score\": 0.630466472303207, \"nb__var_smoothing\": 0.0533669923120631, \"rfi_fs__n_features_\": 59.0}, {\"mean_score\": 0.7282069970845481, \"std_score\": 0.06254767429425635, \"max_score\": 0.826287657920311, \"min_score\": 0.6299805636540331, \"nb__var_smoothing\": 0.04328761281083057, \"rfi_fs__n_features_\": 59.0}, {\"mean_score\": 0.7276239067055393, \"std_score\": 0.06261317115541308, \"max_score\": 0.8258017492711369, \"min_score\": 0.629251700680272, \"nb__var_smoothing\": 0.03511191734215131, \"rfi_fs__n_features_\": 59.0}, {\"mean_score\": 0.7274781341107872, \"std_score\": 0.06280853770742678, \"max_score\": 0.825072886297376, \"min_score\": 0.6280369290573371, \"nb__var_smoothing\": 0.01873817422860384, \"rfi_fs__n_features_\": 59.0}, {\"mean_score\": 0.7273566569484936, \"std_score\": 0.06289324959291878, \"max_score\": 0.825072886297376, \"min_score\": 0.6277939747327501, \"nb__var_smoothing\": 0.01519911082952933, \"rfi_fs__n_features_\": 59.0}, {\"mean_score\": 0.7273566569484936, \"std_score\": 0.06298272111086498, \"max_score\": 0.825072886297376, \"min_score\": 0.6275510204081631, \"nb__var_smoothing\": 0.01, \"rfi_fs__n_features_\": 59.0}, {\"mean_score\": 0.727332361516035, \"std_score\": 0.06274554021786163, \"max_score\": 0.825315840621963, \"min_score\": 0.6285228377065111, \"nb__var_smoothing\": 0.02310129700083159, \"rfi_fs__n_features_\": 59.0}, {\"mean_score\": 0.727332361516035, \"std_score\": 0.06249943215956755, \"max_score\": 0.825315840621963, \"min_score\": 0.629251700680272, \"nb__var_smoothing\": 0.02848035868435802, \"rfi_fs__n_features_\": 59.0}, {\"mean_score\": 0.7273080660835762, \"std_score\": 0.06297094889881084, \"max_score\": 0.825072886297376, \"min_score\": 0.6275510204081631, \"nb__var_smoothing\": 0.012328467394420659, \"rfi_fs__n_features_\": 59.0}, {\"mean_score\": 0.7273080660835762, \"std_score\": 0.06298744437355479, \"max_score\": 0.825072886297376, \"min_score\": 0.6275510204081631, \"nb__var_smoothing\": 0.008111308307896872, \"rfi_fs__n_features_\": 59.0}, {\"mean_score\": 0.7272108843537415, \"std_score\": 0.06282808228797701, \"max_score\": 0.824829931972789, \"min_score\": 0.6277939747327501, \"nb__var_smoothing\": 0.006579332246575682, \"rfi_fs__n_features_\": 59.0}, {\"mean_score\": 0.727162293488824, \"std_score\": 0.06282481275284563, \"max_score\": 0.824586977648202, \"min_score\": 0.6275510204081631, \"nb__var_smoothing\": 0.004328761281083057, \"rfi_fs__n_features_\": 59.0}, {\"mean_score\": 0.727162293488824, \"std_score\": 0.06282481275284563, \"max_score\": 0.824586977648202, \"min_score\": 0.6275510204081631, \"nb__var_smoothing\": 0.005336699231206307, \"rfi_fs__n_features_\": 59.0}, {\"mean_score\": 0.7271137026239067, \"std_score\": 0.06290995309626078, \"max_score\": 0.8248299319727892, \"min_score\": 0.6275510204081631, \"nb__var_smoothing\": 0.002848035868435802, \"rfi_fs__n_features_\": 59.0}, {\"mean_score\": 0.7271137026239067, \"std_score\": 0.06299096784679935, \"max_score\": 0.8250728862973762, \"min_score\": 0.6275510204081631, \"nb__var_smoothing\": 0.001, \"rfi_fs__n_features_\": 59.0}, {\"mean_score\": 0.727089407191448, \"std_score\": 0.06291267403342492, \"max_score\": 0.8248299319727892, \"min_score\": 0.6275510204081631, \"nb__var_smoothing\": 0.0023101297000831605, \"rfi_fs__n_features_\": 59.0}, {\"mean_score\": 0.7270651117589895, \"std_score\": 0.06299606528904991, \"max_score\": 0.8250728862973762, \"min_score\": 0.6275510204081631, \"nb__var_smoothing\": 0.0002848035868435802, \"rfi_fs__n_features_\": 59.0}, {\"mean_score\": 0.7270651117589895, \"std_score\": 0.06299606528904991, \"max_score\": 0.8250728862973762, \"min_score\": 0.6275510204081631, \"nb__var_smoothing\": 0.0004328761281083057, \"rfi_fs__n_features_\": 59.0}, {\"mean_score\": 0.7270651117589895, \"std_score\": 0.06299606528904991, \"max_score\": 0.8250728862973762, \"min_score\": 0.6275510204081631, \"nb__var_smoothing\": 0.0003511191734215131, \"rfi_fs__n_features_\": 59.0}, {\"mean_score\": 0.7270651117589895, \"std_score\": 0.06299606528904991, \"max_score\": 0.8250728862973762, \"min_score\": 0.6275510204081631, \"nb__var_smoothing\": 0.0002310129700083158, \"rfi_fs__n_features_\": 59.0}, {\"mean_score\": 0.7270651117589892, \"std_score\": 0.0629154323806372, \"max_score\": 0.8248299319727892, \"min_score\": 0.6275510204081631, \"nb__var_smoothing\": 0.0012328467394420659, \"rfi_fs__n_features_\": 59.0}, {\"mean_score\": 0.7270651117589892, \"std_score\": 0.06283450811983236, \"max_score\": 0.824586977648202, \"min_score\": 0.6275510204081631, \"nb__var_smoothing\": 0.003511191734215131, \"rfi_fs__n_features_\": 59.0}, {\"mean_score\": 0.7270651117589892, \"std_score\": 0.0629154323806372, \"max_score\": 0.8248299319727892, \"min_score\": 0.6275510204081631, \"nb__var_smoothing\": 0.001873817422860383, \"rfi_fs__n_features_\": 59.0}, {\"mean_score\": 0.7270408163265307, \"std_score\": 0.0629986700727211, \"max_score\": 0.8250728862973762, \"min_score\": 0.6275510204081631, \"nb__var_smoothing\": 1.519911082952933e-08, \"rfi_fs__n_features_\": 59.0}, {\"mean_score\": 0.7270408163265307, \"std_score\": 0.0629986700727211, \"max_score\": 0.8250728862973762, \"min_score\": 0.6275510204081631, \"nb__var_smoothing\": 1.873817422860383e-08, \"rfi_fs__n_features_\": 59.0}, {\"mean_score\": 0.7270408163265307, \"std_score\": 0.0629986700727211, \"max_score\": 0.8250728862973762, \"min_score\": 0.6275510204081631, \"nb__var_smoothing\": 2.310129700083158e-08, \"rfi_fs__n_features_\": 59.0}, {\"mean_score\": 0.7270408163265307, \"std_score\": 0.0629986700727211, \"max_score\": 0.8250728862973762, \"min_score\": 0.6275510204081631, \"nb__var_smoothing\": 1e-06, \"rfi_fs__n_features_\": 59.0}, {\"mean_score\": 0.7270408163265307, \"std_score\": 0.0629986700727211, \"max_score\": 0.8250728862973762, \"min_score\": 0.6275510204081631, \"nb__var_smoothing\": 1.232846739442066e-08, \"rfi_fs__n_features_\": 59.0}, {\"mean_score\": 0.7270408163265307, \"std_score\": 0.0629986700727211, \"max_score\": 0.8250728862973762, \"min_score\": 0.6275510204081631, \"nb__var_smoothing\": 1e-08, \"rfi_fs__n_features_\": 59.0}, {\"mean_score\": 0.7270408163265307, \"std_score\": 0.0629986700727211, \"max_score\": 0.8250728862973762, \"min_score\": 0.6275510204081631, \"nb__var_smoothing\": 8.111308307896856e-09, \"rfi_fs__n_features_\": 59.0}, {\"mean_score\": 0.7270408163265307, \"std_score\": 0.0629986700727211, \"max_score\": 0.8250728862973762, \"min_score\": 0.6275510204081631, \"nb__var_smoothing\": 6.579332246575682e-09, \"rfi_fs__n_features_\": 59.0}, {\"mean_score\": 0.7270408163265307, \"std_score\": 0.0629986700727211, \"max_score\": 0.8250728862973762, \"min_score\": 0.6275510204081631, \"nb__var_smoothing\": 4.328761281083061e-09, \"rfi_fs__n_features_\": 59.0}, {\"mean_score\": 0.7270408163265307, \"std_score\": 0.0629986700727211, \"max_score\": 0.8250728862973762, \"min_score\": 0.6275510204081631, \"nb__var_smoothing\": 3.5111917342151273e-09, \"rfi_fs__n_features_\": 59.0}, {\"mean_score\": 0.7270408163265307, \"std_score\": 0.0629986700727211, \"max_score\": 0.8250728862973762, \"min_score\": 0.6275510204081631, \"nb__var_smoothing\": 2.848035868435805e-09, \"rfi_fs__n_features_\": 59.0}, {\"mean_score\": 0.7270408163265307, \"std_score\": 0.0629986700727211, \"max_score\": 0.8250728862973762, \"min_score\": 0.6275510204081631, \"nb__var_smoothing\": 2.310129700083158e-09, \"rfi_fs__n_features_\": 59.0}, {\"mean_score\": 0.7270408163265307, \"std_score\": 0.0629986700727211, \"max_score\": 0.8250728862973762, \"min_score\": 0.6275510204081631, \"nb__var_smoothing\": 1.873817422860387e-09, \"rfi_fs__n_features_\": 59.0}, {\"mean_score\": 0.7270408163265307, \"std_score\": 0.0629986700727211, \"max_score\": 0.8250728862973762, \"min_score\": 0.6275510204081631, \"nb__var_smoothing\": 1.519911082952933e-09, \"rfi_fs__n_features_\": 59.0}, {\"mean_score\": 0.7270408163265307, \"std_score\": 0.0629986700727211, \"max_score\": 0.8250728862973762, \"min_score\": 0.6275510204081631, \"nb__var_smoothing\": 1.2328467394420635e-09, \"rfi_fs__n_features_\": 59.0}, {\"mean_score\": 0.7270408163265307, \"std_score\": 0.0629986700727211, \"max_score\": 0.8250728862973762, \"min_score\": 0.6275510204081631, \"nb__var_smoothing\": 5.336699231206302e-09, \"rfi_fs__n_features_\": 59.0}, {\"mean_score\": 0.7270408163265307, \"std_score\": 0.0629986700727211, \"max_score\": 0.8250728862973762, \"min_score\": 0.6275510204081631, \"nb__var_smoothing\": 2.848035868435799e-08, \"rfi_fs__n_features_\": 59.0}, {\"mean_score\": 0.7270408163265307, \"std_score\": 0.0629986700727211, \"max_score\": 0.8250728862973762, \"min_score\": 0.6275510204081631, \"nb__var_smoothing\": 8.111308307896872e-07, \"rfi_fs__n_features_\": 59.0}, {\"mean_score\": 0.7270408163265307, \"std_score\": 0.0629986700727211, \"max_score\": 0.8250728862973762, \"min_score\": 0.6275510204081631, \"nb__var_smoothing\": 1.873817422860383e-07, \"rfi_fs__n_features_\": 59.0}, {\"mean_score\": 0.7270408163265307, \"std_score\": 0.0629986700727211, \"max_score\": 0.8250728862973762, \"min_score\": 0.6275510204081631, \"nb__var_smoothing\": 1.5199110829529332e-05, \"rfi_fs__n_features_\": 59.0}, {\"mean_score\": 0.7270408163265307, \"std_score\": 0.0629986700727211, \"max_score\": 0.8250728862973762, \"min_score\": 0.6275510204081631, \"nb__var_smoothing\": 2.310129700083158e-07, \"rfi_fs__n_features_\": 59.0}, {\"mean_score\": 0.7270408163265307, \"std_score\": 0.0629986700727211, \"max_score\": 0.8250728862973762, \"min_score\": 0.6275510204081631, \"nb__var_smoothing\": 1.2328467394420658e-05, \"rfi_fs__n_features_\": 59.0}, {\"mean_score\": 0.7270408163265307, \"std_score\": 0.0629986700727211, \"max_score\": 0.8250728862973762, \"min_score\": 0.6275510204081631, \"nb__var_smoothing\": 1e-05, \"rfi_fs__n_features_\": 59.0}, {\"mean_score\": 0.7270408163265307, \"std_score\": 0.0629986700727211, \"max_score\": 0.8250728862973762, \"min_score\": 0.6275510204081631, \"nb__var_smoothing\": 2.848035868435799e-07, \"rfi_fs__n_features_\": 59.0}, {\"mean_score\": 0.7270408163265307, \"std_score\": 0.0629986700727211, \"max_score\": 0.8250728862973762, \"min_score\": 0.6275510204081631, \"nb__var_smoothing\": 8.111308307896873e-06, \"rfi_fs__n_features_\": 59.0}, {\"mean_score\": 0.7270408163265307, \"std_score\": 0.0629986700727211, \"max_score\": 0.8250728862973762, \"min_score\": 0.6275510204081631, \"nb__var_smoothing\": 6.579332246575683e-06, \"rfi_fs__n_features_\": 59.0}, {\"mean_score\": 0.7270408163265307, \"std_score\": 0.0629986700727211, \"max_score\": 0.8250728862973762, \"min_score\": 0.6275510204081631, \"nb__var_smoothing\": 3.5111917342151277e-07, \"rfi_fs__n_features_\": 59.0}, {\"mean_score\": 0.7270408163265307, \"std_score\": 0.0629986700727211, \"max_score\": 0.8250728862973762, \"min_score\": 0.6275510204081631, \"nb__var_smoothing\": 5.336699231206313e-06, \"rfi_fs__n_features_\": 59.0}, {\"mean_score\": 0.7270408163265307, \"std_score\": 0.0629986700727211, \"max_score\": 0.8250728862973762, \"min_score\": 0.6275510204081631, \"nb__var_smoothing\": 4.328761281083053e-06, \"rfi_fs__n_features_\": 59.0}, {\"mean_score\": 0.7270408163265307, \"std_score\": 0.0629986700727211, \"max_score\": 0.8250728862973762, \"min_score\": 0.6275510204081631, \"nb__var_smoothing\": 4.3287612810830526e-07, \"rfi_fs__n_features_\": 59.0}, {\"mean_score\": 0.7270408163265307, \"std_score\": 0.0629986700727211, \"max_score\": 0.8250728862973762, \"min_score\": 0.6275510204081631, \"nb__var_smoothing\": 3.5111917342151275e-06, \"rfi_fs__n_features_\": 59.0}, {\"mean_score\": 0.7270408163265307, \"std_score\": 0.0629986700727211, \"max_score\": 0.8250728862973762, \"min_score\": 0.6275510204081631, \"nb__var_smoothing\": 2.848035868435799e-06, \"rfi_fs__n_features_\": 59.0}, {\"mean_score\": 0.7270408163265307, \"std_score\": 0.0629986700727211, \"max_score\": 0.8250728862973762, \"min_score\": 0.6275510204081631, \"nb__var_smoothing\": 5.336699231206313e-07, \"rfi_fs__n_features_\": 59.0}, {\"mean_score\": 0.7270408163265307, \"std_score\": 0.0629986700727211, \"max_score\": 0.8250728862973762, \"min_score\": 0.6275510204081631, \"nb__var_smoothing\": 2.310129700083158e-06, \"rfi_fs__n_features_\": 59.0}, {\"mean_score\": 0.7270408163265307, \"std_score\": 0.0629986700727211, \"max_score\": 0.8250728862973762, \"min_score\": 0.6275510204081631, \"nb__var_smoothing\": 1.873817422860383e-06, \"rfi_fs__n_features_\": 59.0}, {\"mean_score\": 0.7270408163265307, \"std_score\": 0.0629986700727211, \"max_score\": 0.8250728862973762, \"min_score\": 0.6275510204081631, \"nb__var_smoothing\": 6.579332246575682e-07, \"rfi_fs__n_features_\": 59.0}, {\"mean_score\": 0.7270408163265307, \"std_score\": 0.0629986700727211, \"max_score\": 0.8250728862973762, \"min_score\": 0.6275510204081631, \"nb__var_smoothing\": 1.519911082952933e-06, \"rfi_fs__n_features_\": 59.0}, {\"mean_score\": 0.7270408163265307, \"std_score\": 0.0629986700727211, \"max_score\": 0.8250728862973762, \"min_score\": 0.6275510204081631, \"nb__var_smoothing\": 1.232846739442066e-06, \"rfi_fs__n_features_\": 59.0}, {\"mean_score\": 0.7270408163265307, \"std_score\": 0.0629986700727211, \"max_score\": 0.8250728862973762, \"min_score\": 0.6275510204081631, \"nb__var_smoothing\": 1.873817422860383e-05, \"rfi_fs__n_features_\": 59.0}, {\"mean_score\": 0.7270408163265307, \"std_score\": 0.0629986700727211, \"max_score\": 0.8250728862973762, \"min_score\": 0.6275510204081631, \"nb__var_smoothing\": 2.310129700083158e-05, \"rfi_fs__n_features_\": 59.0}, {\"mean_score\": 0.7270408163265307, \"std_score\": 0.0629986700727211, \"max_score\": 0.8250728862973762, \"min_score\": 0.6275510204081631, \"nb__var_smoothing\": 8.111308307896873e-08, \"rfi_fs__n_features_\": 59.0}, {\"mean_score\": 0.7270408163265307, \"std_score\": 0.0629986700727211, \"max_score\": 0.8250728862973762, \"min_score\": 0.6275510204081631, \"nb__var_smoothing\": 0.0001, \"rfi_fs__n_features_\": 59.0}, {\"mean_score\": 0.7270408163265307, \"std_score\": 0.0629986700727211, \"max_score\": 0.8250728862973762, \"min_score\": 0.6275510204081631, \"nb__var_smoothing\": 3.5111917342151277e-08, \"rfi_fs__n_features_\": 59.0}, {\"mean_score\": 0.7270408163265307, \"std_score\": 0.0629986700727211, \"max_score\": 0.8250728862973762, \"min_score\": 0.6275510204081631, \"nb__var_smoothing\": 4.3287612810830526e-08, \"rfi_fs__n_features_\": 59.0}, {\"mean_score\": 0.7270408163265307, \"std_score\": 0.0629986700727211, \"max_score\": 0.8250728862973762, \"min_score\": 0.6275510204081631, \"nb__var_smoothing\": 5.336699231206302e-08, \"rfi_fs__n_features_\": 59.0}, {\"mean_score\": 0.7270408163265307, \"std_score\": 0.0629986700727211, \"max_score\": 0.8250728862973762, \"min_score\": 0.6275510204081631, \"nb__var_smoothing\": 0.0001873817422860383, \"rfi_fs__n_features_\": 59.0}, {\"mean_score\": 0.7270408163265307, \"std_score\": 0.0629986700727211, \"max_score\": 0.8250728862973762, \"min_score\": 0.6275510204081631, \"nb__var_smoothing\": 6.579332246575682e-08, \"rfi_fs__n_features_\": 59.0}, {\"mean_score\": 0.7270408163265307, \"std_score\": 0.0629986700727211, \"max_score\": 0.8250728862973762, \"min_score\": 0.6275510204081631, \"nb__var_smoothing\": 0.0001519911082952933, \"rfi_fs__n_features_\": 59.0}, {\"mean_score\": 0.7270408163265307, \"std_score\": 0.0629986700727211, \"max_score\": 0.8250728862973762, \"min_score\": 0.6275510204081631, \"nb__var_smoothing\": 0.0001232846739442066, \"rfi_fs__n_features_\": 59.0}, {\"mean_score\": 0.7270408163265307, \"std_score\": 0.0629986700727211, \"max_score\": 0.8250728862973762, \"min_score\": 0.6275510204081631, \"nb__var_smoothing\": 2.848035868435799e-05, \"rfi_fs__n_features_\": 59.0}, {\"mean_score\": 0.7270408163265307, \"std_score\": 0.0629986700727211, \"max_score\": 0.8250728862973762, \"min_score\": 0.6275510204081631, \"nb__var_smoothing\": 1e-09, \"rfi_fs__n_features_\": 59.0}, {\"mean_score\": 0.7270408163265307, \"std_score\": 0.0629986700727211, \"max_score\": 0.8250728862973762, \"min_score\": 0.6275510204081631, \"nb__var_smoothing\": 8.111308307896872e-05, \"rfi_fs__n_features_\": 59.0}, {\"mean_score\": 0.7270408163265307, \"std_score\": 0.0629986700727211, \"max_score\": 0.8250728862973762, \"min_score\": 0.6275510204081631, \"nb__var_smoothing\": 1e-07, \"rfi_fs__n_features_\": 59.0}, {\"mean_score\": 0.7270408163265307, \"std_score\": 0.0629986700727211, \"max_score\": 0.8250728862973762, \"min_score\": 0.6275510204081631, \"nb__var_smoothing\": 6.579332246575683e-05, \"rfi_fs__n_features_\": 59.0}, {\"mean_score\": 0.7270408163265307, \"std_score\": 0.0629986700727211, \"max_score\": 0.8250728862973762, \"min_score\": 0.6275510204081631, \"nb__var_smoothing\": 5.3366992312063123e-05, \"rfi_fs__n_features_\": 59.0}, {\"mean_score\": 0.7270408163265307, \"std_score\": 0.0629986700727211, \"max_score\": 0.8250728862973762, \"min_score\": 0.6275510204081631, \"nb__var_smoothing\": 1.232846739442066e-07, \"rfi_fs__n_features_\": 59.0}, {\"mean_score\": 0.7270408163265307, \"std_score\": 0.0629986700727211, \"max_score\": 0.8250728862973762, \"min_score\": 0.6275510204081631, \"nb__var_smoothing\": 4.328761281083062e-05, \"rfi_fs__n_features_\": 59.0}, {\"mean_score\": 0.7270408163265307, \"std_score\": 0.0629986700727211, \"max_score\": 0.8250728862973762, \"min_score\": 0.6275510204081631, \"nb__var_smoothing\": 3.511191734215127e-05, \"rfi_fs__n_features_\": 59.0}, {\"mean_score\": 0.7270408163265307, \"std_score\": 0.0629986700727211, \"max_score\": 0.8250728862973762, \"min_score\": 0.6275510204081631, \"nb__var_smoothing\": 1.519911082952933e-07, \"rfi_fs__n_features_\": 59.0}, {\"mean_score\": 0.727016520894072, \"std_score\": 0.06300131222526398, \"max_score\": 0.8250728862973762, \"min_score\": 0.6275510204081631, \"nb__var_smoothing\": 0.0005336699231206307, \"rfi_fs__n_features_\": 59.0}, {\"mean_score\": 0.727016520894072, \"std_score\": 0.06300131222526398, \"max_score\": 0.8250728862973762, \"min_score\": 0.6275510204081631, \"nb__var_smoothing\": 0.0006579332246575676, \"rfi_fs__n_features_\": 59.0}, {\"mean_score\": 0.727016520894072, \"std_score\": 0.06300131222526398, \"max_score\": 0.8250728862973762, \"min_score\": 0.6275510204081631, \"nb__var_smoothing\": 0.0008111308307896872, \"rfi_fs__n_features_\": 59.0}, {\"mean_score\": 0.727016520894072, \"std_score\": 0.0629923172098912, \"max_score\": 0.8248299319727892, \"min_score\": 0.6273080660835761, \"nb__var_smoothing\": 0.0015199110829529332, \"rfi_fs__n_features_\": 59.0}]}}, {\"mode\": \"vega-lite\"});\n",
       "</script>"
      ],
      "text/plain": [
       "alt.Chart(...)"
      ]
     },
     "execution_count": 51,
     "metadata": {},
     "output_type": "execute_result"
    }
   ],
   "source": [
    "alt.Chart(results_NB, \n",
    "          title='NB Performance Comparison with All the features'\n",
    "         ).mark_line(point=True).encode(\n",
    "    alt.X('nb__var_smoothing', title='Var. Smoothing'),\n",
    "    alt.Y('mean_score', title='AUC Score', scale=alt.Scale(zero=False)),\n",
    "    alt.Color('rfi_fs__n_features_:N', title='Number of Features selected')\n",
    ")"
   ]
  },
  {
   "cell_type": "markdown",
   "metadata": {},
   "source": [
    "# 3. Decision Tree(DT)\n",
    "\n",
    "- Decision Tree Learning is one of the predictive modelling approaches which uses Decision Trees to go from observations about an item to conclusions about an item's target value. \n",
    "\n",
    "- Decision Trees hyperparameters are as follows: \n",
    "    - `Max_Depth` : The maximum depth of the tree.\n",
    "    - `Split_criterion`: The tree can be split using 2 splits Gini Index and Entropy.\n",
    "    - `Min_Sample_Spilt`: The minimum number of samples required to split an internal node.\n",
    "\n",
    "- Feature selection is carried out using the Random Forest Importance(RFI) method with 100 estimators as defined in the `RFIFeatureSelector()` class mentioned above. \n",
    "----\n",
    "The following code chunk represents a `pipeline()` function which is responsible for following tasks:\n",
    "\n",
    "- The pipeline function implements Decision Tree algorithm on the data returned by RFI FeatureSelector.\n",
    "- RFIFeatureSelector computes RFI scores for each feature in the dataset and returns specified number of TOP RFI scored features.\n",
    "\n",
    "The `GridSearchCV()` function performs an exhaustive search over specified parameter values for an estimator."
   ]
  },
  {
   "cell_type": "code",
   "execution_count": 52,
   "metadata": {},
   "outputs": [
    {
     "name": "stdout",
     "output_type": "stream",
     "text": [
      "Fitting 5 folds for each of 54 candidates, totalling 270 fits\n"
     ]
    },
    {
     "name": "stderr",
     "output_type": "stream",
     "text": [
      "[Parallel(n_jobs=-2)]: Using backend LokyBackend with 3 concurrent workers.\n",
      "[Parallel(n_jobs=-2)]: Done  44 tasks      | elapsed:    6.0s\n",
      "[Parallel(n_jobs=-2)]: Done 194 tasks      | elapsed:   27.6s\n",
      "[Parallel(n_jobs=-2)]: Done 270 out of 270 | elapsed:   36.6s finished\n"
     ]
    }
   ],
   "source": [
    "from sklearn.tree import DecisionTreeClassifier\n",
    "\n",
    "pipe_DT = Pipeline([('rfi_fs', RFIFeatureSelector()),\n",
    "                    ('dt', DecisionTreeClassifier(random_state=999))])\n",
    "\n",
    "params_pipe_DT = {'rfi_fs__n_features_': [10, 20, data.shape[1]],\n",
    "                  'dt__max_depth': [3, 4, 5],\n",
    "                  'dt__criterion': ['gini', 'entropy'],\n",
    "                  'dt__min_samples_split': [2, 5, 10]}\n",
    "\n",
    "gs_pipe_DT = GridSearchCV(estimator=pipe_DT, \n",
    "                          param_grid=params_pipe_DT, \n",
    "                          cv=cv_method,\n",
    "                          refit=True,\n",
    "                          n_jobs=-2,\n",
    "                          scoring='roc_auc',\n",
    "                          verbose=1) \n",
    "\n",
    "gs_pipe_DT.fit(Data_sample_train, target_sample_train);"
   ]
  },
  {
   "cell_type": "code",
   "execution_count": 53,
   "metadata": {},
   "outputs": [
    {
     "data": {
      "text/plain": [
       "{'dt__criterion': 'entropy',\n",
       " 'dt__max_depth': 5,\n",
       " 'dt__min_samples_split': 10,\n",
       " 'rfi_fs__n_features_': 20}"
      ]
     },
     "execution_count": 53,
     "metadata": {},
     "output_type": "execute_result"
    }
   ],
   "source": [
    "gs_pipe_DT.best_params_"
   ]
  },
  {
   "cell_type": "code",
   "execution_count": 54,
   "metadata": {},
   "outputs": [
    {
     "data": {
      "text/plain": [
       "0.703206997084548"
      ]
     },
     "execution_count": 54,
     "metadata": {},
     "output_type": "execute_result"
    }
   ],
   "source": [
    "gs_pipe_DT.best_score_"
   ]
  },
  {
   "cell_type": "markdown",
   "metadata": {},
   "source": [
    "- It can be observed that the optimal Decision Tree has mean AUC score of 0.703. The best performing DT selected `entropy criterion, max_depth 5, min_samples_split 10 and all the 20 features`.\n",
    "\n",
    "- Even though we have obtained the best score, we need to find the difference between the performance of DT with combination of different hyperparameters.\n",
    "\n",
    "- The difference can be observed in the `Mean_score` values."
   ]
  },
  {
   "cell_type": "code",
   "execution_count": 55,
   "metadata": {},
   "outputs": [
    {
     "data": {
      "text/html": [
       "<div>\n",
       "<style scoped>\n",
       "    .dataframe tbody tr th:only-of-type {\n",
       "        vertical-align: middle;\n",
       "    }\n",
       "\n",
       "    .dataframe tbody tr th {\n",
       "        vertical-align: top;\n",
       "    }\n",
       "\n",
       "    .dataframe thead th {\n",
       "        text-align: right;\n",
       "    }\n",
       "</style>\n",
       "<table border=\"1\" class=\"dataframe\">\n",
       "  <thead>\n",
       "    <tr style=\"text-align: right;\">\n",
       "      <th></th>\n",
       "      <th>mean_score</th>\n",
       "      <th>std_score</th>\n",
       "      <th>max_score</th>\n",
       "      <th>min_score</th>\n",
       "      <th>dt__criterion</th>\n",
       "      <th>dt__max_depth</th>\n",
       "      <th>dt__min_samples_split</th>\n",
       "      <th>rfi_fs__n_features_</th>\n",
       "    </tr>\n",
       "  </thead>\n",
       "  <tbody>\n",
       "    <tr>\n",
       "      <th>52</th>\n",
       "      <td>0.703207</td>\n",
       "      <td>0.0386538</td>\n",
       "      <td>0.76725</td>\n",
       "      <td>0.648567</td>\n",
       "      <td>entropy</td>\n",
       "      <td>5</td>\n",
       "      <td>10</td>\n",
       "      <td>20</td>\n",
       "    </tr>\n",
       "    <tr>\n",
       "      <th>53</th>\n",
       "      <td>0.700267</td>\n",
       "      <td>0.0434598</td>\n",
       "      <td>0.760569</td>\n",
       "      <td>0.628887</td>\n",
       "      <td>entropy</td>\n",
       "      <td>5</td>\n",
       "      <td>10</td>\n",
       "      <td>59</td>\n",
       "    </tr>\n",
       "    <tr>\n",
       "      <th>26</th>\n",
       "      <td>0.695554</td>\n",
       "      <td>0.0512508</td>\n",
       "      <td>0.78535</td>\n",
       "      <td>0.63654</td>\n",
       "      <td>gini</td>\n",
       "      <td>5</td>\n",
       "      <td>10</td>\n",
       "      <td>59</td>\n",
       "    </tr>\n",
       "    <tr>\n",
       "      <th>0</th>\n",
       "      <td>0.694485</td>\n",
       "      <td>0.0345392</td>\n",
       "      <td>0.753158</td>\n",
       "      <td>0.648445</td>\n",
       "      <td>gini</td>\n",
       "      <td>3</td>\n",
       "      <td>2</td>\n",
       "      <td>10</td>\n",
       "    </tr>\n",
       "    <tr>\n",
       "      <th>3</th>\n",
       "      <td>0.694485</td>\n",
       "      <td>0.0345392</td>\n",
       "      <td>0.753158</td>\n",
       "      <td>0.648445</td>\n",
       "      <td>gini</td>\n",
       "      <td>3</td>\n",
       "      <td>5</td>\n",
       "      <td>10</td>\n",
       "    </tr>\n",
       "  </tbody>\n",
       "</table>\n",
       "</div>"
      ],
      "text/plain": [
       "   mean_score  std_score max_score min_score dt__criterion dt__max_depth  \\\n",
       "52   0.703207  0.0386538   0.76725  0.648567       entropy             5   \n",
       "53   0.700267  0.0434598  0.760569  0.628887       entropy             5   \n",
       "26   0.695554  0.0512508   0.78535   0.63654          gini             5   \n",
       "0    0.694485  0.0345392  0.753158  0.648445          gini             3   \n",
       "3    0.694485  0.0345392  0.753158  0.648445          gini             3   \n",
       "\n",
       "   dt__min_samples_split rfi_fs__n_features_  \n",
       "52                    10                  20  \n",
       "53                    10                  59  \n",
       "26                    10                  59  \n",
       "0                      2                  10  \n",
       "3                      5                  10  "
      ]
     },
     "execution_count": 55,
     "metadata": {},
     "output_type": "execute_result"
    }
   ],
   "source": [
    "results_DT = get_search_results(gs_pipe_DT).round(3)\n",
    "results_DT.head(5)"
   ]
  },
  {
   "cell_type": "markdown",
   "metadata": {},
   "source": [
    "- A minimal difference of 0.003 can be observed between the 1st and the 2nd optimal mean score values of the DT hyperparameter values.\n",
    "\n",
    "- We plot a graph for results of the Grid search corresponding to **10**, **20** and  **59** features.\n"
   ]
  },
  {
   "cell_type": "code",
   "execution_count": 56,
   "metadata": {},
   "outputs": [
    {
     "data": {
      "text/html": [
       "\n",
       "<div id=\"altair-viz-f8a4378d46e74e8cb489c486f8d22a69\"></div>\n",
       "<script type=\"text/javascript\">\n",
       "  (function(spec, embedOpt){\n",
       "    let outputDiv = document.currentScript.previousElementSibling;\n",
       "    if (outputDiv.id !== \"altair-viz-f8a4378d46e74e8cb489c486f8d22a69\") {\n",
       "      outputDiv = document.getElementById(\"altair-viz-f8a4378d46e74e8cb489c486f8d22a69\");\n",
       "    }\n",
       "    const paths = {\n",
       "      \"vega\": \"https://cdn.jsdelivr.net/npm//vega@5?noext\",\n",
       "      \"vega-lib\": \"https://cdn.jsdelivr.net/npm//vega-lib?noext\",\n",
       "      \"vega-lite\": \"https://cdn.jsdelivr.net/npm//vega-lite@4.8.1?noext\",\n",
       "      \"vega-embed\": \"https://cdn.jsdelivr.net/npm//vega-embed@6?noext\",\n",
       "    };\n",
       "\n",
       "    function loadScript(lib) {\n",
       "      return new Promise(function(resolve, reject) {\n",
       "        var s = document.createElement('script');\n",
       "        s.src = paths[lib];\n",
       "        s.async = true;\n",
       "        s.onload = () => resolve(paths[lib]);\n",
       "        s.onerror = () => reject(`Error loading script: ${paths[lib]}`);\n",
       "        document.getElementsByTagName(\"head\")[0].appendChild(s);\n",
       "      });\n",
       "    }\n",
       "\n",
       "    function showError(err) {\n",
       "      outputDiv.innerHTML = `<div class=\"error\" style=\"color:red;\">${err}</div>`;\n",
       "      throw err;\n",
       "    }\n",
       "\n",
       "    function displayChart(vegaEmbed) {\n",
       "      vegaEmbed(outputDiv, spec, embedOpt)\n",
       "        .catch(err => showError(`Javascript Error: ${err.message}<br>This usually means there's a typo in your chart specification. See the javascript console for the full traceback.`));\n",
       "    }\n",
       "\n",
       "    if(typeof define === \"function\" && define.amd) {\n",
       "      requirejs.config({paths});\n",
       "      require([\"vega-embed\"], displayChart, err => showError(`Error loading script: ${err.message}`));\n",
       "    } else if (typeof vegaEmbed === \"function\") {\n",
       "      displayChart(vegaEmbed);\n",
       "    } else {\n",
       "      loadScript(\"vega\")\n",
       "        .then(() => loadScript(\"vega-lite\"))\n",
       "        .then(() => loadScript(\"vega-embed\"))\n",
       "        .catch(showError)\n",
       "        .then(() => displayChart(vegaEmbed));\n",
       "    }\n",
       "  })({\"config\": {\"view\": {\"continuousWidth\": 400, \"continuousHeight\": 300}}, \"data\": {\"name\": \"data-e0bc352eb45e3a097cea3d953c8fe98f\"}, \"mark\": {\"type\": \"line\", \"point\": true}, \"encoding\": {\"color\": {\"type\": \"nominal\", \"field\": \"dt__max_depth\", \"title\": \"Max Depth\"}, \"x\": {\"type\": \"quantitative\", \"field\": \"dt__min_samples_split\", \"title\": \"Min Samples for Split\"}, \"y\": {\"type\": \"quantitative\", \"field\": \"mean_score\", \"scale\": {\"zero\": false}, \"title\": \"AUC Score\"}}, \"title\": \"DT Performance Comparison with 10 Features\", \"$schema\": \"https://vega.github.io/schema/vega-lite/v4.8.1.json\", \"datasets\": {\"data-e0bc352eb45e3a097cea3d953c8fe98f\": [{\"mean_score\": 0.6944849368318755, \"std_score\": 0.034539185228335684, \"max_score\": 0.7531584062196306, \"min_score\": 0.6484450923226432, \"dt__criterion\": \"gini\", \"dt__max_depth\": 3, \"dt__min_samples_split\": 2, \"rfi_fs__n_features_\": 10}, {\"mean_score\": 0.6944849368318755, \"std_score\": 0.034539185228335684, \"max_score\": 0.7531584062196306, \"min_score\": 0.6484450923226432, \"dt__criterion\": \"gini\", \"dt__max_depth\": 3, \"dt__min_samples_split\": 5, \"rfi_fs__n_features_\": 10}, {\"mean_score\": 0.6934645286686103, \"std_score\": 0.03438740184319652, \"max_score\": 0.7531584062196306, \"min_score\": 0.6484450923226432, \"dt__criterion\": \"gini\", \"dt__max_depth\": 3, \"dt__min_samples_split\": 10, \"rfi_fs__n_features_\": 10}, {\"mean_score\": 0.6921039844509232, \"std_score\": 0.028967410600410137, \"max_score\": 0.7274052478134111, \"min_score\": 0.640913508260447, \"dt__criterion\": \"gini\", \"dt__max_depth\": 4, \"dt__min_samples_split\": 10, \"rfi_fs__n_features_\": 10}, {\"mean_score\": 0.6913508260447037, \"std_score\": 0.03202700172296867, \"max_score\": 0.7274052478134111, \"min_score\": 0.6327745383867833, \"dt__criterion\": \"gini\", \"dt__max_depth\": 4, \"dt__min_samples_split\": 2, \"rfi_fs__n_features_\": 10}, {\"mean_score\": 0.6913508260447037, \"std_score\": 0.03202700172296867, \"max_score\": 0.7274052478134111, \"min_score\": 0.6327745383867833, \"dt__criterion\": \"gini\", \"dt__max_depth\": 4, \"dt__min_samples_split\": 5, \"rfi_fs__n_features_\": 10}, {\"mean_score\": 0.6880952380952381, \"std_score\": 0.03013893197298464, \"max_score\": 0.7253401360544217, \"min_score\": 0.6333819241982507, \"dt__criterion\": \"entropy\", \"dt__max_depth\": 4, \"dt__min_samples_split\": 2, \"rfi_fs__n_features_\": 10}, {\"mean_score\": 0.6880952380952381, \"std_score\": 0.03013893197298464, \"max_score\": 0.7253401360544217, \"min_score\": 0.6333819241982507, \"dt__criterion\": \"entropy\", \"dt__max_depth\": 4, \"dt__min_samples_split\": 5, \"rfi_fs__n_features_\": 10}, {\"mean_score\": 0.6876822157434404, \"std_score\": 0.03348682738847577, \"max_score\": 0.7295918367346939, \"min_score\": 0.6270651117589893, \"dt__criterion\": \"entropy\", \"dt__max_depth\": 4, \"dt__min_samples_split\": 10, \"rfi_fs__n_features_\": 10}, {\"mean_score\": 0.6827016520894073, \"std_score\": 0.039696089923226624, \"max_score\": 0.7608114674441205, \"min_score\": 0.6543974732750243, \"dt__criterion\": \"gini\", \"dt__max_depth\": 5, \"dt__min_samples_split\": 10, \"rfi_fs__n_features_\": 10}, {\"mean_score\": 0.6817784256559766, \"std_score\": 0.04414070232080112, \"max_score\": 0.7632410106899903, \"min_score\": 0.6348396501457726, \"dt__criterion\": \"gini\", \"dt__max_depth\": 5, \"dt__min_samples_split\": 5, \"rfi_fs__n_features_\": 10}, {\"mean_score\": 0.6810495626822158, \"std_score\": 0.038887311998016025, \"max_score\": 0.7350583090379008, \"min_score\": 0.6198979591836734, \"dt__criterion\": \"entropy\", \"dt__max_depth\": 5, \"dt__min_samples_split\": 10, \"rfi_fs__n_features_\": 10}, {\"mean_score\": 0.6805636540330418, \"std_score\": 0.045479050856051764, \"max_score\": 0.7632410106899903, \"min_score\": 0.6287657920310982, \"dt__criterion\": \"gini\", \"dt__max_depth\": 5, \"dt__min_samples_split\": 2, \"rfi_fs__n_features_\": 10}, {\"mean_score\": 0.6787657920310981, \"std_score\": 0.044626986264125944, \"max_score\": 0.7475704567541301, \"min_score\": 0.6092079689018465, \"dt__criterion\": \"entropy\", \"dt__max_depth\": 5, \"dt__min_samples_split\": 2, \"rfi_fs__n_features_\": 10}, {\"mean_score\": 0.6787414965986395, \"std_score\": 0.03624326459913626, \"max_score\": 0.7292274052478135, \"min_score\": 0.6163751214771623, \"dt__criterion\": \"entropy\", \"dt__max_depth\": 3, \"dt__min_samples_split\": 10, \"rfi_fs__n_features_\": 10}, {\"mean_score\": 0.6787414965986395, \"std_score\": 0.03624326459913626, \"max_score\": 0.7292274052478135, \"min_score\": 0.6163751214771623, \"dt__criterion\": \"entropy\", \"dt__max_depth\": 3, \"dt__min_samples_split\": 2, \"rfi_fs__n_features_\": 10}, {\"mean_score\": 0.6787414965986395, \"std_score\": 0.03624326459913626, \"max_score\": 0.7292274052478135, \"min_score\": 0.6163751214771623, \"dt__criterion\": \"entropy\", \"dt__max_depth\": 3, \"dt__min_samples_split\": 5, \"rfi_fs__n_features_\": 10}, {\"mean_score\": 0.6777696793002915, \"std_score\": 0.0461964471750899, \"max_score\": 0.7475704567541301, \"min_score\": 0.6042274052478134, \"dt__criterion\": \"entropy\", \"dt__max_depth\": 5, \"dt__min_samples_split\": 5, \"rfi_fs__n_features_\": 10}]}}, {\"mode\": \"vega-lite\"});\n",
       "</script>"
      ],
      "text/plain": [
       "alt.Chart(...)"
      ]
     },
     "execution_count": 56,
     "metadata": {},
     "output_type": "execute_result"
    }
   ],
   "source": [
    "results_DT_10_features = results_DT[results_DT['rfi_fs__n_features_'] == 10.0]\n",
    "\n",
    "alt.Chart(results_DT_10_features, \n",
    "          title='DT Performance Comparison with 10 Features'\n",
    "         ).mark_line(point=True).encode(\n",
    "    alt.X('dt__min_samples_split', title='Min Samples for Split'),\n",
    "    alt.Y('mean_score', title='AUC Score', scale=alt.Scale(zero=False)),\n",
    "    alt.Color('dt__max_depth:N', title='Max Depth')\n",
    ")"
   ]
  },
  {
   "cell_type": "code",
   "execution_count": 57,
   "metadata": {},
   "outputs": [
    {
     "data": {
      "text/html": [
       "\n",
       "<div id=\"altair-viz-bc1d13d097e94809b670988811f2f7a5\"></div>\n",
       "<script type=\"text/javascript\">\n",
       "  (function(spec, embedOpt){\n",
       "    let outputDiv = document.currentScript.previousElementSibling;\n",
       "    if (outputDiv.id !== \"altair-viz-bc1d13d097e94809b670988811f2f7a5\") {\n",
       "      outputDiv = document.getElementById(\"altair-viz-bc1d13d097e94809b670988811f2f7a5\");\n",
       "    }\n",
       "    const paths = {\n",
       "      \"vega\": \"https://cdn.jsdelivr.net/npm//vega@5?noext\",\n",
       "      \"vega-lib\": \"https://cdn.jsdelivr.net/npm//vega-lib?noext\",\n",
       "      \"vega-lite\": \"https://cdn.jsdelivr.net/npm//vega-lite@4.8.1?noext\",\n",
       "      \"vega-embed\": \"https://cdn.jsdelivr.net/npm//vega-embed@6?noext\",\n",
       "    };\n",
       "\n",
       "    function loadScript(lib) {\n",
       "      return new Promise(function(resolve, reject) {\n",
       "        var s = document.createElement('script');\n",
       "        s.src = paths[lib];\n",
       "        s.async = true;\n",
       "        s.onload = () => resolve(paths[lib]);\n",
       "        s.onerror = () => reject(`Error loading script: ${paths[lib]}`);\n",
       "        document.getElementsByTagName(\"head\")[0].appendChild(s);\n",
       "      });\n",
       "    }\n",
       "\n",
       "    function showError(err) {\n",
       "      outputDiv.innerHTML = `<div class=\"error\" style=\"color:red;\">${err}</div>`;\n",
       "      throw err;\n",
       "    }\n",
       "\n",
       "    function displayChart(vegaEmbed) {\n",
       "      vegaEmbed(outputDiv, spec, embedOpt)\n",
       "        .catch(err => showError(`Javascript Error: ${err.message}<br>This usually means there's a typo in your chart specification. See the javascript console for the full traceback.`));\n",
       "    }\n",
       "\n",
       "    if(typeof define === \"function\" && define.amd) {\n",
       "      requirejs.config({paths});\n",
       "      require([\"vega-embed\"], displayChart, err => showError(`Error loading script: ${err.message}`));\n",
       "    } else if (typeof vegaEmbed === \"function\") {\n",
       "      displayChart(vegaEmbed);\n",
       "    } else {\n",
       "      loadScript(\"vega\")\n",
       "        .then(() => loadScript(\"vega-lite\"))\n",
       "        .then(() => loadScript(\"vega-embed\"))\n",
       "        .catch(showError)\n",
       "        .then(() => displayChart(vegaEmbed));\n",
       "    }\n",
       "  })({\"config\": {\"view\": {\"continuousWidth\": 400, \"continuousHeight\": 300}}, \"data\": {\"name\": \"data-75598fed29e25c49fa9ef712187c55cf\"}, \"mark\": {\"type\": \"line\", \"point\": true}, \"encoding\": {\"color\": {\"type\": \"nominal\", \"field\": \"dt__max_depth\", \"title\": \"Max Depth\"}, \"x\": {\"type\": \"quantitative\", \"field\": \"dt__min_samples_split\", \"title\": \"Min Samples for Split\"}, \"y\": {\"type\": \"quantitative\", \"field\": \"mean_score\", \"scale\": {\"zero\": false}, \"title\": \"AUC Score\"}}, \"title\": \"DT Performance Comparison with 20 Features\", \"$schema\": \"https://vega.github.io/schema/vega-lite/v4.8.1.json\", \"datasets\": {\"data-75598fed29e25c49fa9ef712187c55cf\": [{\"mean_score\": 0.703206997084548, \"std_score\": 0.03865382688892024, \"max_score\": 0.7672497570456753, \"min_score\": 0.6485665694849367, \"dt__criterion\": \"entropy\", \"dt__max_depth\": 5, \"dt__min_samples_split\": 10, \"rfi_fs__n_features_\": 20}, {\"mean_score\": 0.6934645286686103, \"std_score\": 0.031175650522846515, \"max_score\": 0.7300777453838678, \"min_score\": 0.6376336248785228, \"dt__criterion\": \"entropy\", \"dt__max_depth\": 5, \"dt__min_samples_split\": 2, \"rfi_fs__n_features_\": 20}, {\"mean_score\": 0.6927113702623907, \"std_score\": 0.03253135725565082, \"max_score\": 0.7300777453838678, \"min_score\": 0.6338678328474247, \"dt__criterion\": \"entropy\", \"dt__max_depth\": 5, \"dt__min_samples_split\": 5, \"rfi_fs__n_features_\": 20}, {\"mean_score\": 0.6900145772594752, \"std_score\": 0.043483353891515863, \"max_score\": 0.7588678328474248, \"min_score\": 0.6406705539358601, \"dt__criterion\": \"entropy\", \"dt__max_depth\": 4, \"dt__min_samples_split\": 5, \"rfi_fs__n_features_\": 20}, {\"mean_score\": 0.6900145772594752, \"std_score\": 0.043483353891515863, \"max_score\": 0.7588678328474248, \"min_score\": 0.6406705539358601, \"dt__criterion\": \"entropy\", \"dt__max_depth\": 4, \"dt__min_samples_split\": 2, \"rfi_fs__n_features_\": 20}, {\"mean_score\": 0.6890427599611273, \"std_score\": 0.04461486895612519, \"max_score\": 0.7588678328474248, \"min_score\": 0.6358114674441206, \"dt__criterion\": \"entropy\", \"dt__max_depth\": 4, \"dt__min_samples_split\": 10, \"rfi_fs__n_features_\": 20}, {\"mean_score\": 0.6810495626822156, \"std_score\": 0.023862592332952258, \"max_score\": 0.7164723032069971, \"min_score\": 0.6543974732750242, \"dt__criterion\": \"gini\", \"dt__max_depth\": 5, \"dt__min_samples_split\": 10, \"rfi_fs__n_features_\": 20}, {\"mean_score\": 0.6755102040816326, \"std_score\": 0.03225783901390927, \"max_score\": 0.7096695821185617, \"min_score\": 0.6286443148688047, \"dt__criterion\": \"gini\", \"dt__max_depth\": 3, \"dt__min_samples_split\": 5, \"rfi_fs__n_features_\": 20}, {\"mean_score\": 0.6755102040816326, \"std_score\": 0.03225783901390927, \"max_score\": 0.7096695821185617, \"min_score\": 0.6286443148688047, \"dt__criterion\": \"gini\", \"dt__max_depth\": 3, \"dt__min_samples_split\": 2, \"rfi_fs__n_features_\": 20}, {\"mean_score\": 0.6755102040816326, \"std_score\": 0.03225783901390927, \"max_score\": 0.7096695821185617, \"min_score\": 0.6286443148688047, \"dt__criterion\": \"gini\", \"dt__max_depth\": 3, \"dt__min_samples_split\": 10, \"rfi_fs__n_features_\": 20}, {\"mean_score\": 0.6747084548104956, \"std_score\": 0.03901126297625412, \"max_score\": 0.7201166180758017, \"min_score\": 0.6248785228377065, \"dt__criterion\": \"gini\", \"dt__max_depth\": 5, \"dt__min_samples_split\": 2, \"rfi_fs__n_features_\": 20}, {\"mean_score\": 0.6741253644314869, \"std_score\": 0.04048297104636125, \"max_score\": 0.7255830903790087, \"min_score\": 0.6213556851311952, \"dt__criterion\": \"gini\", \"dt__max_depth\": 5, \"dt__min_samples_split\": 5, \"rfi_fs__n_features_\": 20}, {\"mean_score\": 0.6735422740524781, \"std_score\": 0.03158907039608403, \"max_score\": 0.716958211856171, \"min_score\": 0.6353255587949466, \"dt__criterion\": \"gini\", \"dt__max_depth\": 4, \"dt__min_samples_split\": 10, \"rfi_fs__n_features_\": 20}, {\"mean_score\": 0.6730806608357629, \"std_score\": 0.032813353874850355, \"max_score\": 0.716958211856171, \"min_score\": 0.6315597667638484, \"dt__criterion\": \"gini\", \"dt__max_depth\": 4, \"dt__min_samples_split\": 5, \"rfi_fs__n_features_\": 20}, {\"mean_score\": 0.6730806608357629, \"std_score\": 0.032813353874850355, \"max_score\": 0.716958211856171, \"min_score\": 0.6315597667638484, \"dt__criterion\": \"gini\", \"dt__max_depth\": 4, \"dt__min_samples_split\": 2, \"rfi_fs__n_features_\": 20}, {\"mean_score\": 0.6532069970845481, \"std_score\": 0.03460913134627281, \"max_score\": 0.6944849368318756, \"min_score\": 0.6163751214771623, \"dt__criterion\": \"entropy\", \"dt__max_depth\": 3, \"dt__min_samples_split\": 10, \"rfi_fs__n_features_\": 20}, {\"mean_score\": 0.6532069970845481, \"std_score\": 0.03460913134627281, \"max_score\": 0.6944849368318756, \"min_score\": 0.6163751214771623, \"dt__criterion\": \"entropy\", \"dt__max_depth\": 3, \"dt__min_samples_split\": 5, \"rfi_fs__n_features_\": 20}, {\"mean_score\": 0.6532069970845481, \"std_score\": 0.03460913134627281, \"max_score\": 0.6944849368318756, \"min_score\": 0.6163751214771623, \"dt__criterion\": \"entropy\", \"dt__max_depth\": 3, \"dt__min_samples_split\": 2, \"rfi_fs__n_features_\": 20}]}}, {\"mode\": \"vega-lite\"});\n",
       "</script>"
      ],
      "text/plain": [
       "alt.Chart(...)"
      ]
     },
     "execution_count": 57,
     "metadata": {},
     "output_type": "execute_result"
    }
   ],
   "source": [
    "results_DT_20_features = results_DT[results_DT['rfi_fs__n_features_'] == 20.0]\n",
    "\n",
    "alt.Chart(results_DT_20_features, \n",
    "          title='DT Performance Comparison with 20 Features'\n",
    "         ).mark_line(point=True).encode(\n",
    "    alt.X('dt__min_samples_split', title='Min Samples for Split'),\n",
    "    alt.Y('mean_score', title='AUC Score', scale=alt.Scale(zero=False)),\n",
    "    alt.Color('dt__max_depth:N', title='Max Depth')\n",
    ")"
   ]
  },
  {
   "cell_type": "code",
   "execution_count": 58,
   "metadata": {},
   "outputs": [
    {
     "data": {
      "text/html": [
       "\n",
       "<div id=\"altair-viz-ed592b3e6aa949f39f4c2516032363ef\"></div>\n",
       "<script type=\"text/javascript\">\n",
       "  (function(spec, embedOpt){\n",
       "    let outputDiv = document.currentScript.previousElementSibling;\n",
       "    if (outputDiv.id !== \"altair-viz-ed592b3e6aa949f39f4c2516032363ef\") {\n",
       "      outputDiv = document.getElementById(\"altair-viz-ed592b3e6aa949f39f4c2516032363ef\");\n",
       "    }\n",
       "    const paths = {\n",
       "      \"vega\": \"https://cdn.jsdelivr.net/npm//vega@5?noext\",\n",
       "      \"vega-lib\": \"https://cdn.jsdelivr.net/npm//vega-lib?noext\",\n",
       "      \"vega-lite\": \"https://cdn.jsdelivr.net/npm//vega-lite@4.8.1?noext\",\n",
       "      \"vega-embed\": \"https://cdn.jsdelivr.net/npm//vega-embed@6?noext\",\n",
       "    };\n",
       "\n",
       "    function loadScript(lib) {\n",
       "      return new Promise(function(resolve, reject) {\n",
       "        var s = document.createElement('script');\n",
       "        s.src = paths[lib];\n",
       "        s.async = true;\n",
       "        s.onload = () => resolve(paths[lib]);\n",
       "        s.onerror = () => reject(`Error loading script: ${paths[lib]}`);\n",
       "        document.getElementsByTagName(\"head\")[0].appendChild(s);\n",
       "      });\n",
       "    }\n",
       "\n",
       "    function showError(err) {\n",
       "      outputDiv.innerHTML = `<div class=\"error\" style=\"color:red;\">${err}</div>`;\n",
       "      throw err;\n",
       "    }\n",
       "\n",
       "    function displayChart(vegaEmbed) {\n",
       "      vegaEmbed(outputDiv, spec, embedOpt)\n",
       "        .catch(err => showError(`Javascript Error: ${err.message}<br>This usually means there's a typo in your chart specification. See the javascript console for the full traceback.`));\n",
       "    }\n",
       "\n",
       "    if(typeof define === \"function\" && define.amd) {\n",
       "      requirejs.config({paths});\n",
       "      require([\"vega-embed\"], displayChart, err => showError(`Error loading script: ${err.message}`));\n",
       "    } else if (typeof vegaEmbed === \"function\") {\n",
       "      displayChart(vegaEmbed);\n",
       "    } else {\n",
       "      loadScript(\"vega\")\n",
       "        .then(() => loadScript(\"vega-lite\"))\n",
       "        .then(() => loadScript(\"vega-embed\"))\n",
       "        .catch(showError)\n",
       "        .then(() => displayChart(vegaEmbed));\n",
       "    }\n",
       "  })({\"config\": {\"view\": {\"continuousWidth\": 400, \"continuousHeight\": 300}}, \"data\": {\"name\": \"data-8a5029a1ccdc821cbee2a737c27861d1\"}, \"mark\": {\"type\": \"line\", \"point\": true}, \"encoding\": {\"color\": {\"type\": \"nominal\", \"field\": \"dt__max_depth\", \"title\": \"Max Depth\"}, \"x\": {\"type\": \"quantitative\", \"field\": \"dt__min_samples_split\", \"title\": \"Min Samples for Split\"}, \"y\": {\"type\": \"quantitative\", \"field\": \"mean_score\", \"scale\": {\"zero\": false}, \"title\": \"AUC Score\"}}, \"title\": \"DT Performance Comparison with 59 Features\", \"$schema\": \"https://vega.github.io/schema/vega-lite/v4.8.1.json\", \"datasets\": {\"data-8a5029a1ccdc821cbee2a737c27861d1\": [{\"mean_score\": 0.7002672497570457, \"std_score\": 0.04345980920457182, \"max_score\": 0.7605685131195336, \"min_score\": 0.6288872691933918, \"dt__criterion\": \"entropy\", \"dt__max_depth\": 5, \"dt__min_samples_split\": 10, \"rfi_fs__n_features_\": 59}, {\"mean_score\": 0.6955539358600582, \"std_score\": 0.05125083326453809, \"max_score\": 0.7853498542274053, \"min_score\": 0.6365403304178814, \"dt__criterion\": \"gini\", \"dt__max_depth\": 5, \"dt__min_samples_split\": 10, \"rfi_fs__n_features_\": 59}, {\"mean_score\": 0.6874149659863946, \"std_score\": 0.036169314579613546, \"max_score\": 0.7514577259475219, \"min_score\": 0.6465014577259476, \"dt__criterion\": \"entropy\", \"dt__max_depth\": 4, \"dt__min_samples_split\": 10, \"rfi_fs__n_features_\": 59}, {\"mean_score\": 0.6856171039844509, \"std_score\": 0.04503746747189591, \"max_score\": 0.7523080660835763, \"min_score\": 0.6194120505344995, \"dt__criterion\": \"entropy\", \"dt__max_depth\": 5, \"dt__min_samples_split\": 2, \"rfi_fs__n_features_\": 59}, {\"mean_score\": 0.6856171039844509, \"std_score\": 0.04503746747189591, \"max_score\": 0.7523080660835763, \"min_score\": 0.6194120505344995, \"dt__criterion\": \"entropy\", \"dt__max_depth\": 5, \"dt__min_samples_split\": 5, \"rfi_fs__n_features_\": 59}, {\"mean_score\": 0.682069970845481, \"std_score\": 0.031060491802303362, \"max_score\": 0.7378522837706512, \"min_score\": 0.6560981535471331, \"dt__criterion\": \"gini\", \"dt__max_depth\": 4, \"dt__min_samples_split\": 10, \"rfi_fs__n_features_\": 59}, {\"mean_score\": 0.6803692905733721, \"std_score\": 0.04030577829882875, \"max_score\": 0.7514577259475219, \"min_score\": 0.6438289601554907, \"dt__criterion\": \"entropy\", \"dt__max_depth\": 4, \"dt__min_samples_split\": 5, \"rfi_fs__n_features_\": 59}, {\"mean_score\": 0.6803692905733721, \"std_score\": 0.04030577829882875, \"max_score\": 0.7514577259475219, \"min_score\": 0.6438289601554907, \"dt__criterion\": \"entropy\", \"dt__max_depth\": 4, \"dt__min_samples_split\": 2, \"rfi_fs__n_features_\": 59}, {\"mean_score\": 0.676773566569485, \"std_score\": 0.04819943162642813, \"max_score\": 0.7580174927113703, \"min_score\": 0.6241496598639457, \"dt__criterion\": \"gini\", \"dt__max_depth\": 5, \"dt__min_samples_split\": 2, \"rfi_fs__n_features_\": 59}, {\"mean_score\": 0.6764820213799806, \"std_score\": 0.03275195512476434, \"max_score\": 0.7378522837706512, \"min_score\": 0.6494169096209912, \"dt__criterion\": \"gini\", \"dt__max_depth\": 4, \"dt__min_samples_split\": 5, \"rfi_fs__n_features_\": 59}, {\"mean_score\": 0.6764820213799806, \"std_score\": 0.03275195512476434, \"max_score\": 0.7378522837706512, \"min_score\": 0.6494169096209912, \"dt__criterion\": \"gini\", \"dt__max_depth\": 4, \"dt__min_samples_split\": 2, \"rfi_fs__n_features_\": 59}, {\"mean_score\": 0.675971817298348, \"std_score\": 0.04877562057173126, \"max_score\": 0.7580174927113703, \"min_score\": 0.6241496598639457, \"dt__criterion\": \"gini\", \"dt__max_depth\": 5, \"dt__min_samples_split\": 5, \"rfi_fs__n_features_\": 59}, {\"mean_score\": 0.6697764820213801, \"std_score\": 0.03484930598797571, \"max_score\": 0.7111273080660837, \"min_score\": 0.6117589893100097, \"dt__criterion\": \"gini\", \"dt__max_depth\": 3, \"dt__min_samples_split\": 5, \"rfi_fs__n_features_\": 59}, {\"mean_score\": 0.6697764820213801, \"std_score\": 0.03484930598797571, \"max_score\": 0.7111273080660837, \"min_score\": 0.6117589893100097, \"dt__criterion\": \"gini\", \"dt__max_depth\": 3, \"dt__min_samples_split\": 10, \"rfi_fs__n_features_\": 59}, {\"mean_score\": 0.6697764820213801, \"std_score\": 0.03484930598797571, \"max_score\": 0.7111273080660837, \"min_score\": 0.6117589893100097, \"dt__criterion\": \"gini\", \"dt__max_depth\": 3, \"dt__min_samples_split\": 2, \"rfi_fs__n_features_\": 59}, {\"mean_score\": 0.6452137998056365, \"std_score\": 0.02988176218480442, \"max_score\": 0.6801506316812439, \"min_score\": 0.6066569484936831, \"dt__criterion\": \"entropy\", \"dt__max_depth\": 3, \"dt__min_samples_split\": 10, \"rfi_fs__n_features_\": 59}, {\"mean_score\": 0.6452137998056365, \"std_score\": 0.02988176218480442, \"max_score\": 0.6801506316812439, \"min_score\": 0.6066569484936831, \"dt__criterion\": \"entropy\", \"dt__max_depth\": 3, \"dt__min_samples_split\": 5, \"rfi_fs__n_features_\": 59}, {\"mean_score\": 0.6452137998056365, \"std_score\": 0.02988176218480442, \"max_score\": 0.6801506316812439, \"min_score\": 0.6066569484936831, \"dt__criterion\": \"entropy\", \"dt__max_depth\": 3, \"dt__min_samples_split\": 2, \"rfi_fs__n_features_\": 59}]}}, {\"mode\": \"vega-lite\"});\n",
       "</script>"
      ],
      "text/plain": [
       "alt.Chart(...)"
      ]
     },
     "execution_count": 58,
     "metadata": {},
     "output_type": "execute_result"
    }
   ],
   "source": [
    "results_DT_59_features = results_DT[results_DT['rfi_fs__n_features_'] == 59.0]\n",
    "\n",
    "alt.Chart(results_DT_59_features, \n",
    "          title='DT Performance Comparison with 59 Features'\n",
    "         ).mark_line(point=True).encode(\n",
    "    alt.X('dt__min_samples_split', title='Min Samples for Split'),\n",
    "    alt.Y('mean_score', title='AUC Score', scale=alt.Scale(zero=False)),\n",
    "    alt.Color('dt__max_depth:N', title='Max Depth')\n",
    ")"
   ]
  },
  {
   "cell_type": "markdown",
   "metadata": {},
   "source": [
    "# Random Forest Classifier(RF)\n",
    "\n",
    "A random forest is a meta estimator that fits a number of decision tree classifiers on various sub-samples of the dataset and uses averaging to improve the predictive accuracy and control over-fitting.\n",
    "\n",
    "- Since a Random Forest ensembler uses collection of Decision trees to to esitmate the prediction it shares some similar features of the hyperparameters which are as follows: \n",
    "    - `Max_Depth` : The maximum depth of the tree.\n",
    "    - `Split_criterion`: The tree can be split using 2 splits Gini Index and Entropy.\n",
    "    - `n_estimators`: The number of trees in a forest. \n"
   ]
  },
  {
   "cell_type": "code",
   "execution_count": 59,
   "metadata": {},
   "outputs": [
    {
     "name": "stdout",
     "output_type": "stream",
     "text": [
      "Fitting 5 folds for each of 54 candidates, totalling 270 fits\n"
     ]
    },
    {
     "name": "stderr",
     "output_type": "stream",
     "text": [
      "[Parallel(n_jobs=-2)]: Using backend LokyBackend with 3 concurrent workers.\n",
      "[Parallel(n_jobs=-2)]: Done  44 tasks      | elapsed:   20.3s\n",
      "[Parallel(n_jobs=-2)]: Done 194 tasks      | elapsed:  1.1min\n",
      "[Parallel(n_jobs=-2)]: Done 270 out of 270 | elapsed:  1.5min finished\n"
     ]
    }
   ],
   "source": [
    "from sklearn.ensemble import RandomForestClassifier\n",
    "pipe_RF = Pipeline([('rfi_fs', RFIFeatureSelector()),\n",
    "                    ('rf', RandomForestClassifier(random_state =999))])\n",
    "\n",
    "params_pipe_RF = {'rf__n_estimators': [120, 200, 250],\n",
    "                  'rf__max_depth': [4, 5, 6],\n",
    "                  'rf__criterion': ['gini', 'entropy'],\n",
    "                  'rfi_fs__n_features_': [10, 20, data.shape[1]]\n",
    "                  }\n",
    "\n",
    "gs_pipe_RF = GridSearchCV(estimator=pipe_RF, \n",
    "                          param_grid=params_pipe_RF, \n",
    "                          cv=cv_method,\n",
    "                          refit=True,\n",
    "                          n_jobs=-2,\n",
    "                          scoring='roc_auc',\n",
    "                          verbose=1) \n",
    "\n",
    "gs_pipe_RF.fit(Data_sample_train, target_sample_train);"
   ]
  },
  {
   "cell_type": "code",
   "execution_count": 60,
   "metadata": {},
   "outputs": [
    {
     "data": {
      "text/plain": [
       "0.7866375121477163"
      ]
     },
     "execution_count": 60,
     "metadata": {},
     "output_type": "execute_result"
    }
   ],
   "source": [
    "gs_pipe_RF.best_score_"
   ]
  },
  {
   "cell_type": "code",
   "execution_count": 61,
   "metadata": {},
   "outputs": [
    {
     "data": {
      "text/plain": [
       "{'rf__criterion': 'entropy',\n",
       " 'rf__max_depth': 5,\n",
       " 'rf__n_estimators': 250,\n",
       " 'rfi_fs__n_features_': 59}"
      ]
     },
     "execution_count": 61,
     "metadata": {},
     "output_type": "execute_result"
    }
   ],
   "source": [
    "gs_pipe_RF.best_params_"
   ]
  },
  {
   "cell_type": "markdown",
   "metadata": {},
   "source": [
    "- It can be observed that the optimal Random Forest Ensemble has mean AUC score of 0.7866. The best performing RF selected `entropy criterion, max_depth 5, n_estimators 250 and all the 59 features`.\n",
    "\n",
    "- Even though we have obtained the best score, we need to find the difference between the performance of RF with combination of different hyperparameters.\n",
    "\n",
    "- The difference can be observed in the `Mean_score` values."
   ]
  },
  {
   "cell_type": "code",
   "execution_count": 62,
   "metadata": {},
   "outputs": [
    {
     "data": {
      "text/html": [
       "<div>\n",
       "<style scoped>\n",
       "    .dataframe tbody tr th:only-of-type {\n",
       "        vertical-align: middle;\n",
       "    }\n",
       "\n",
       "    .dataframe tbody tr th {\n",
       "        vertical-align: top;\n",
       "    }\n",
       "\n",
       "    .dataframe thead th {\n",
       "        text-align: right;\n",
       "    }\n",
       "</style>\n",
       "<table border=\"1\" class=\"dataframe\">\n",
       "  <thead>\n",
       "    <tr style=\"text-align: right;\">\n",
       "      <th></th>\n",
       "      <th>mean_score</th>\n",
       "      <th>std_score</th>\n",
       "      <th>max_score</th>\n",
       "      <th>min_score</th>\n",
       "      <th>rf__criterion</th>\n",
       "      <th>rf__max_depth</th>\n",
       "      <th>rf__n_estimators</th>\n",
       "      <th>rfi_fs__n_features_</th>\n",
       "    </tr>\n",
       "  </thead>\n",
       "  <tbody>\n",
       "    <tr>\n",
       "      <th>44</th>\n",
       "      <td>0.786638</td>\n",
       "      <td>0.0311885</td>\n",
       "      <td>0.825559</td>\n",
       "      <td>0.734208</td>\n",
       "      <td>entropy</td>\n",
       "      <td>5</td>\n",
       "      <td>250</td>\n",
       "      <td>59</td>\n",
       "    </tr>\n",
       "    <tr>\n",
       "      <th>41</th>\n",
       "      <td>0.786054</td>\n",
       "      <td>0.0324027</td>\n",
       "      <td>0.82483</td>\n",
       "      <td>0.730564</td>\n",
       "      <td>entropy</td>\n",
       "      <td>5</td>\n",
       "      <td>200</td>\n",
       "      <td>59</td>\n",
       "    </tr>\n",
       "    <tr>\n",
       "      <th>53</th>\n",
       "      <td>0.785374</td>\n",
       "      <td>0.0276988</td>\n",
       "      <td>0.824587</td>\n",
       "      <td>0.745384</td>\n",
       "      <td>entropy</td>\n",
       "      <td>6</td>\n",
       "      <td>250</td>\n",
       "      <td>59</td>\n",
       "    </tr>\n",
       "    <tr>\n",
       "      <th>50</th>\n",
       "      <td>0.784111</td>\n",
       "      <td>0.0279647</td>\n",
       "      <td>0.823129</td>\n",
       "      <td>0.74344</td>\n",
       "      <td>entropy</td>\n",
       "      <td>6</td>\n",
       "      <td>200</td>\n",
       "      <td>59</td>\n",
       "    </tr>\n",
       "    <tr>\n",
       "      <th>17</th>\n",
       "      <td>0.783965</td>\n",
       "      <td>0.034582</td>\n",
       "      <td>0.834062</td>\n",
       "      <td>0.730321</td>\n",
       "      <td>gini</td>\n",
       "      <td>5</td>\n",
       "      <td>250</td>\n",
       "      <td>59</td>\n",
       "    </tr>\n",
       "  </tbody>\n",
       "</table>\n",
       "</div>"
      ],
      "text/plain": [
       "   mean_score  std_score max_score min_score rf__criterion rf__max_depth  \\\n",
       "44   0.786638  0.0311885  0.825559  0.734208       entropy             5   \n",
       "41   0.786054  0.0324027   0.82483  0.730564       entropy             5   \n",
       "53   0.785374  0.0276988  0.824587  0.745384       entropy             6   \n",
       "50   0.784111  0.0279647  0.823129   0.74344       entropy             6   \n",
       "17   0.783965   0.034582  0.834062  0.730321          gini             5   \n",
       "\n",
       "   rf__n_estimators rfi_fs__n_features_  \n",
       "44              250                  59  \n",
       "41              200                  59  \n",
       "53              250                  59  \n",
       "50              200                  59  \n",
       "17              250                  59  "
      ]
     },
     "execution_count": 62,
     "metadata": {},
     "output_type": "execute_result"
    }
   ],
   "source": [
    "results_RF = get_search_results(gs_pipe_RF)\n",
    "results_RF.head(5)"
   ]
  },
  {
   "cell_type": "markdown",
   "metadata": {},
   "source": [
    "- A minimal difference of 0.001 can be observed between the 1st and the 2nd optimal values of the RF hyperparameter values.\n",
    "\n",
    "- It can be observed from the above values that the top mean values are obtained while considering **59** features. \n",
    "\n",
    "- Hence, we plot a graph for results of the Grid search corresponding to **59** features."
   ]
  },
  {
   "cell_type": "code",
   "execution_count": 63,
   "metadata": {},
   "outputs": [
    {
     "data": {
      "text/html": [
       "\n",
       "<div id=\"altair-viz-bb9564ec7cf34ceda89a5de5d423adc1\"></div>\n",
       "<script type=\"text/javascript\">\n",
       "  (function(spec, embedOpt){\n",
       "    let outputDiv = document.currentScript.previousElementSibling;\n",
       "    if (outputDiv.id !== \"altair-viz-bb9564ec7cf34ceda89a5de5d423adc1\") {\n",
       "      outputDiv = document.getElementById(\"altair-viz-bb9564ec7cf34ceda89a5de5d423adc1\");\n",
       "    }\n",
       "    const paths = {\n",
       "      \"vega\": \"https://cdn.jsdelivr.net/npm//vega@5?noext\",\n",
       "      \"vega-lib\": \"https://cdn.jsdelivr.net/npm//vega-lib?noext\",\n",
       "      \"vega-lite\": \"https://cdn.jsdelivr.net/npm//vega-lite@4.8.1?noext\",\n",
       "      \"vega-embed\": \"https://cdn.jsdelivr.net/npm//vega-embed@6?noext\",\n",
       "    };\n",
       "\n",
       "    function loadScript(lib) {\n",
       "      return new Promise(function(resolve, reject) {\n",
       "        var s = document.createElement('script');\n",
       "        s.src = paths[lib];\n",
       "        s.async = true;\n",
       "        s.onload = () => resolve(paths[lib]);\n",
       "        s.onerror = () => reject(`Error loading script: ${paths[lib]}`);\n",
       "        document.getElementsByTagName(\"head\")[0].appendChild(s);\n",
       "      });\n",
       "    }\n",
       "\n",
       "    function showError(err) {\n",
       "      outputDiv.innerHTML = `<div class=\"error\" style=\"color:red;\">${err}</div>`;\n",
       "      throw err;\n",
       "    }\n",
       "\n",
       "    function displayChart(vegaEmbed) {\n",
       "      vegaEmbed(outputDiv, spec, embedOpt)\n",
       "        .catch(err => showError(`Javascript Error: ${err.message}<br>This usually means there's a typo in your chart specification. See the javascript console for the full traceback.`));\n",
       "    }\n",
       "\n",
       "    if(typeof define === \"function\" && define.amd) {\n",
       "      requirejs.config({paths});\n",
       "      require([\"vega-embed\"], displayChart, err => showError(`Error loading script: ${err.message}`));\n",
       "    } else if (typeof vegaEmbed === \"function\") {\n",
       "      displayChart(vegaEmbed);\n",
       "    } else {\n",
       "      loadScript(\"vega\")\n",
       "        .then(() => loadScript(\"vega-lite\"))\n",
       "        .then(() => loadScript(\"vega-embed\"))\n",
       "        .catch(showError)\n",
       "        .then(() => displayChart(vegaEmbed));\n",
       "    }\n",
       "  })({\"config\": {\"view\": {\"continuousWidth\": 400, \"continuousHeight\": 300}}, \"data\": {\"name\": \"data-27e78fd47ef79d03dee21b15cca8a342\"}, \"mark\": {\"type\": \"line\", \"point\": true}, \"encoding\": {\"color\": {\"type\": \"nominal\", \"field\": \"rf__criterion\", \"title\": \"criterion\"}, \"x\": {\"type\": \"quantitative\", \"field\": \"rf__max_depth\", \"title\": \"Max Depth of the Tree\"}, \"y\": {\"type\": \"quantitative\", \"field\": \"mean_score\", \"scale\": {\"zero\": false}, \"title\": \"AUC Score\"}}, \"title\": \"RF Performance Comparison with 59 Features\", \"$schema\": \"https://vega.github.io/schema/vega-lite/v4.8.1.json\", \"datasets\": {\"data-27e78fd47ef79d03dee21b15cca8a342\": [{\"mean_score\": 0.7866375121477163, \"std_score\": 0.03118852272960078, \"max_score\": 0.8255587949465502, \"min_score\": 0.7342079689018465, \"rf__criterion\": \"entropy\", \"rf__max_depth\": 5, \"rf__n_estimators\": 250, \"rfi_fs__n_features_\": 59}, {\"mean_score\": 0.7860544217687074, \"std_score\": 0.03240271179416913, \"max_score\": 0.8248299319727892, \"min_score\": 0.7305636540330417, \"rf__criterion\": \"entropy\", \"rf__max_depth\": 5, \"rf__n_estimators\": 200, \"rfi_fs__n_features_\": 59}, {\"mean_score\": 0.7853741496598641, \"std_score\": 0.027698753617543974, \"max_score\": 0.8245869776482022, \"min_score\": 0.7453838678328474, \"rf__criterion\": \"entropy\", \"rf__max_depth\": 6, \"rf__n_estimators\": 250, \"rfi_fs__n_features_\": 59}, {\"mean_score\": 0.7841107871720118, \"std_score\": 0.02796470765746266, \"max_score\": 0.8231292517006803, \"min_score\": 0.7434402332361516, \"rf__criterion\": \"entropy\", \"rf__max_depth\": 6, \"rf__n_estimators\": 200, \"rfi_fs__n_features_\": 59}, {\"mean_score\": 0.7839650145772595, \"std_score\": 0.0345820199051136, \"max_score\": 0.8340621963070943, \"min_score\": 0.7303206997084548, \"rf__criterion\": \"gini\", \"rf__max_depth\": 5, \"rf__n_estimators\": 250, \"rfi_fs__n_features_\": 59}, {\"mean_score\": 0.7839650145772594, \"std_score\": 0.03053014736771598, \"max_score\": 0.825801749271137, \"min_score\": 0.7351797862001944, \"rf__criterion\": \"gini\", \"rf__max_depth\": 6, \"rf__n_estimators\": 250, \"rfi_fs__n_features_\": 59}, {\"mean_score\": 0.7829446064139941, \"std_score\": 0.031096103552451418, \"max_score\": 0.8129251700680271, \"min_score\": 0.7259475218658893, \"rf__criterion\": \"entropy\", \"rf__max_depth\": 5, \"rf__n_estimators\": 120, \"rfi_fs__n_features_\": 59}, {\"mean_score\": 0.7815354713313897, \"std_score\": 0.036436474931522515, \"max_score\": 0.8299319727891156, \"min_score\": 0.7220602526724976, \"rf__criterion\": \"gini\", \"rf__max_depth\": 5, \"rf__n_estimators\": 200, \"rfi_fs__n_features_\": 59}, {\"mean_score\": 0.781438289601555, \"std_score\": 0.02419200531376593, \"max_score\": 0.8083090379008746, \"min_score\": 0.7436831875607386, \"rf__criterion\": \"entropy\", \"rf__max_depth\": 6, \"rf__n_estimators\": 120, \"rfi_fs__n_features_\": 59}, {\"mean_score\": 0.7812439261418852, \"std_score\": 0.03504866867219131, \"max_score\": 0.8335762876579202, \"min_score\": 0.7264334305150631, \"rf__criterion\": \"gini\", \"rf__max_depth\": 4, \"rf__n_estimators\": 250, \"rfi_fs__n_features_\": 59}, {\"mean_score\": 0.7810981535471331, \"std_score\": 0.030974151462484355, \"max_score\": 0.8248299319727892, \"min_score\": 0.7342079689018464, \"rf__criterion\": \"entropy\", \"rf__max_depth\": 4, \"rf__n_estimators\": 200, \"rfi_fs__n_features_\": 59}, {\"mean_score\": 0.7809037900874636, \"std_score\": 0.029174919975841117, \"max_score\": 0.8216715257531584, \"min_score\": 0.7371234207968902, \"rf__criterion\": \"entropy\", \"rf__max_depth\": 4, \"rf__n_estimators\": 250, \"rfi_fs__n_features_\": 59}, {\"mean_score\": 0.7800291545189503, \"std_score\": 0.03524717168965138, \"max_score\": 0.826530612244898, \"min_score\": 0.7201166180758017, \"rf__criterion\": \"gini\", \"rf__max_depth\": 5, \"rf__n_estimators\": 120, \"rfi_fs__n_features_\": 59}, {\"mean_score\": 0.7794946550048591, \"std_score\": 0.030357665413467533, \"max_score\": 0.8165694849368319, \"min_score\": 0.7281341107871719, \"rf__criterion\": \"gini\", \"rf__max_depth\": 6, \"rf__n_estimators\": 200, \"rfi_fs__n_features_\": 59}, {\"mean_score\": 0.7791545189504373, \"std_score\": 0.036555059785888924, \"max_score\": 0.8328474246841594, \"min_score\": 0.7223032069970845, \"rf__criterion\": \"gini\", \"rf__max_depth\": 4, \"rf__n_estimators\": 200, \"rfi_fs__n_features_\": 59}, {\"mean_score\": 0.7789115646258502, \"std_score\": 0.030833957320101885, \"max_score\": 0.8134110787172011, \"min_score\": 0.7257045675413022, \"rf__criterion\": \"gini\", \"rf__max_depth\": 6, \"rf__n_estimators\": 120, \"rfi_fs__n_features_\": 59}, {\"mean_score\": 0.7776482021379981, \"std_score\": 0.0347584012070807, \"max_score\": 0.8299319727891157, \"min_score\": 0.7254616132167153, \"rf__criterion\": \"gini\", \"rf__max_depth\": 4, \"rf__n_estimators\": 120, \"rfi_fs__n_features_\": 59}, {\"mean_score\": 0.7768707482993198, \"std_score\": 0.02920735413322771, \"max_score\": 0.8160835762876579, \"min_score\": 0.7300777453838679, \"rf__criterion\": \"entropy\", \"rf__max_depth\": 4, \"rf__n_estimators\": 120, \"rfi_fs__n_features_\": 59}]}}, {\"mode\": \"vega-lite\"});\n",
       "</script>"
      ],
      "text/plain": [
       "alt.Chart(...)"
      ]
     },
     "execution_count": 63,
     "metadata": {},
     "output_type": "execute_result"
    }
   ],
   "source": [
    "results_RF_59_features = results_RF[results_RF['rfi_fs__n_features_'] == 59.0]\n",
    "\n",
    "alt.Chart(results_RF_59_features, \n",
    "          title='RF Performance Comparison with 59 Features'\n",
    "         ).mark_line(point=True).encode(\n",
    "    alt.X('rf__max_depth', title='Max Depth of the Tree'),\n",
    "    alt.Y('mean_score', title='AUC Score', scale=alt.Scale(zero=False)),\n",
    "    alt.Color('rf__criterion:N', title='criterion')\n",
    ")"
   ]
  },
  {
   "cell_type": "markdown",
   "metadata": {},
   "source": [
    "# Performance Evaluation <a class=\"anchor\" id=\"8\"></a>\n",
    "\n",
    "\n",
    "During Hyperparameter tuning phase we used 700 observation samples as a Training data within a cross-validation framework. We found out the best hyperparameter values for each of the 4 classifiers. For example, for KNN, it turned out that it worked best with value of K as 20,  with P =1 i.e Manhattan distance metric and by taking all 59 features into account.\n",
    "\n",
    "Now it is time to test these best performed tuned classfiers on the Test dataset to check the performance of the models on unseen data. We are going to perform this using 10 fold cross-validation without any repititions. For this purpose we are using `cross_val_score method` from the `sklearn.model_selection` package.\n",
    "\n",
    "1. **KNN** on the test data: "
   ]
  },
  {
   "cell_type": "code",
   "execution_count": 64,
   "metadata": {},
   "outputs": [
    {
     "data": {
      "text/plain": [
       "0.7444444444444445"
      ]
     },
     "execution_count": 64,
     "metadata": {},
     "output_type": "execute_result"
    }
   ],
   "source": [
    "from sklearn.model_selection import cross_val_score\n",
    "\n",
    "cv_method_ttest = StratifiedKFold(n_splits=10, random_state=999)\n",
    "\n",
    "cv_results_KNN = cross_val_score(estimator=gs_pipe_KNN.best_estimator_,\n",
    "                                 X=Data_sample_test,\n",
    "                                 y=target_sample_test, \n",
    "                                 cv=cv_method_ttest, \n",
    "                                 n_jobs=-2,\n",
    "                                 scoring='roc_auc')\n",
    "cv_results_KNN.mean()"
   ]
  },
  {
   "cell_type": "markdown",
   "metadata": {},
   "source": [
    "2. **NB (Naive Bayes)** on the test data: \n",
    "   \n",
    "   Before calculating the performance we have to normalize each probability value by using power tranformation on the test      dataset."
   ]
  },
  {
   "cell_type": "code",
   "execution_count": 65,
   "metadata": {},
   "outputs": [
    {
     "data": {
      "text/plain": [
       "0.752910052910053"
      ]
     },
     "execution_count": 65,
     "metadata": {},
     "output_type": "execute_result"
    }
   ],
   "source": [
    "Data_sample_test_transformed = PowerTransformer().fit_transform(Data_sample_test)\n",
    "\n",
    "cv_results_NB = cross_val_score(estimator=gs_pipe_NB.best_estimator_,\n",
    "                                X=Data_sample_test_transformed,\n",
    "                                y=target_sample_test, \n",
    "                                cv=cv_method_ttest, \n",
    "                                n_jobs=-2,\n",
    "                                scoring='roc_auc')\n",
    "cv_results_NB.mean()"
   ]
  },
  {
   "cell_type": "markdown",
   "metadata": {},
   "source": [
    "3. **Decision Trees (DT)** on the test data:\n"
   ]
  },
  {
   "cell_type": "code",
   "execution_count": 66,
   "metadata": {},
   "outputs": [
    {
     "data": {
      "text/plain": [
       "0.7113756613756613"
      ]
     },
     "execution_count": 66,
     "metadata": {},
     "output_type": "execute_result"
    }
   ],
   "source": [
    "cv_results_DT = cross_val_score(estimator=gs_pipe_DT.best_estimator_,\n",
    "                                X=Data_sample_test,\n",
    "                                y=target_sample_test, \n",
    "                                cv=cv_method_ttest, \n",
    "                                n_jobs=-2,\n",
    "                                scoring='roc_auc')\n",
    "cv_results_DT.mean()"
   ]
  },
  {
   "cell_type": "markdown",
   "metadata": {},
   "source": [
    "4. **Random Forest Ensemble** on the test data:"
   ]
  },
  {
   "cell_type": "code",
   "execution_count": 67,
   "metadata": {},
   "outputs": [
    {
     "data": {
      "text/plain": [
       "0.7883597883597883"
      ]
     },
     "execution_count": 67,
     "metadata": {},
     "output_type": "execute_result"
    }
   ],
   "source": [
    "cv_results_RF = cross_val_score(estimator=gs_pipe_RF.best_estimator_,\n",
    "                                X=Data_sample_test,\n",
    "                                y=target_sample_test, \n",
    "                                cv=cv_method_ttest, \n",
    "                                n_jobs=-2,\n",
    "                                scoring='roc_auc')\n",
    "cv_results_RF.mean()"
   ]
  },
  {
   "cell_type": "markdown",
   "metadata": {},
   "source": [
    "As we can see from our results, Random Forest is working with better performance than all other classifiers on the unseen data. The next step is to check the Statistical Significance of these scores using paired statistical t-tests. We can see from the above that, perfromance of Random forest (RF) (0.7883) is slightly higher that that of Naive Bayes (NB)(0.752).\n",
    "\n",
    "Hence we are going to check the statistical significance of the score of these two classification models.\n",
    "\n",
    "To perform the statistical paired T-tests we are using `ttest_rel()` function from the scipy stats library package. "
   ]
  },
  {
   "cell_type": "code",
   "execution_count": 68,
   "metadata": {},
   "outputs": [
    {
     "name": "stdout",
     "output_type": "stream",
     "text": [
      "Ttest_relResult(statistic=-1.847148735065825, pvalue=0.09779358355358424)\n",
      "Ttest_relResult(statistic=-2.7038077932704687, pvalue=0.02424205755138577)\n",
      "Ttest_relResult(statistic=-2.1121922481003104, pvalue=0.06384210478804028)\n",
      "Ttest_relResult(statistic=0.7913699829612472, pvalue=0.44908050240877695)\n",
      "Ttest_relResult(statistic=-0.4135166166932492, pvalue=0.6889075434373727)\n",
      "Ttest_relResult(statistic=-0.998874968142931, pvalue=0.34395224491849563)\n"
     ]
    }
   ],
   "source": [
    "from scipy import stats\n",
    "\n",
    "print(stats.ttest_rel(cv_results_NB, cv_results_RF))\n",
    "print(stats.ttest_rel(cv_results_KNN, cv_results_RF))\n",
    "print(stats.ttest_rel(cv_results_DT, cv_results_RF))\n",
    "print(stats.ttest_rel(cv_results_KNN, cv_results_DT))\n",
    "print(stats.ttest_rel(cv_results_KNN, cv_results_NB))\n",
    "print(stats.ttest_rel(cv_results_DT, cv_results_NB))"
   ]
  },
  {
   "cell_type": "markdown",
   "metadata": {},
   "source": [
    "As P-values smaller than 0.05 represents statistically significant difference. Even though the performance of the RF is better than NB by slightly higher percentages, by looking at the above result we can conclude that at a 95% significance level difference between the scores of Random Forest classifier and naive Bayes classifier is **not statistically significant**.\n",
    "\n",
    "We are using AUC score to check the performance of the models. We can consider other metrics to determine the performance of the classifiers like\n",
    "\n",
    "- Accuracy\n",
    "- Precision\n",
    "- F1 Score\n",
    "- Recall\n",
    "\n",
    "etc.\n",
    "\n",
    "\n",
    "In the last step we are going to show the confusion matrices for each of the classifiers. Confusion matrix is also one of the measures to check the performance of the classifier. For this purpose we are going to store predictions of each classifier on the test data into seperate lists and plot them against the target test data. We are using `skelearn metrics` to draw confusion matrices.\n",
    "\n",
    "These matrices are in the format : \n",
    "Thus in binary classification, the count of true negatives is at position [0,0] , false negatives is at [1,0] , true positives is at [1,1] and false positives is at [0,1] ."
   ]
  },
  {
   "cell_type": "code",
   "execution_count": 69,
   "metadata": {},
   "outputs": [],
   "source": [
    "pred_KNN = gs_pipe_KNN.predict(Data_sample_test)\n",
    "Data_test_transformed = PowerTransformer().fit_transform(Data_sample_test)\n",
    "pred_NB = gs_pipe_NB.predict(Data_test_transformed)\n",
    "pred_DT = gs_pipe_DT.predict(Data_sample_test)\n",
    "pred_RF = gs_pipe_RF.predict(Data_sample_test)"
   ]
  },
  {
   "cell_type": "code",
   "execution_count": 70,
   "metadata": {},
   "outputs": [
    {
     "name": "stdout",
     "output_type": "stream",
     "text": [
      "\n",
      "Confusion matrix for K-Nearest Neighbor\n",
      "[[ 31  59]\n",
      " [ 13 197]]\n",
      "\n",
      "Confusion matrix for Naive Bayes\n",
      "[[ 27  63]\n",
      " [ 16 194]]\n",
      "\n",
      "Confusion matrix for Decision Tree\n",
      "[[ 32  58]\n",
      " [ 33 177]]\n",
      "\n",
      "Confusion matrix for Random Forest\n",
      "[[ 12  78]\n",
      " [  4 206]]\n"
     ]
    }
   ],
   "source": [
    "from sklearn import metrics\n",
    "print(\"\\nConfusion matrix for K-Nearest Neighbor\") \n",
    "print(metrics.confusion_matrix(target_sample_test, pred_KNN))\n",
    "print(\"\\nConfusion matrix for Naive Bayes\") \n",
    "print(metrics.confusion_matrix(target_sample_test, pred_NB))\n",
    "print(\"\\nConfusion matrix for Decision Tree\") \n",
    "print(metrics.confusion_matrix(target_sample_test, pred_DT))\n",
    "print(\"\\nConfusion matrix for Random Forest\") \n",
    "print(metrics.confusion_matrix(target_sample_test, pred_RF))"
   ]
  },
  {
   "cell_type": "markdown",
   "metadata": {},
   "source": [
    "# Limitations and Proposed Solutions<a class=\"anchor\" id=\"9\"></a>\n",
    "\n",
    "- The modelling strategy has some flaws and limitations. First the data collected is skewed and has class imbalance problem hereby preventing us from using different performance measuring techniques such as Accuracy, F1-score, Precision, Recall etc hence we have used mean AUC scores to check the performance of the model as ROC AUC is robust towards class imbalance problems.\n",
    "\n",
    "- Secondly, various different combinations of the RFI Feature selector can be used to test the performance of the models. We have tested the models on 10,20 and 59 features.\n",
    "\n",
    "- We have tuned the model hyperparameters to a limit, we can re-run our experiments and try various different combinations for tuning the data. Since the Random Forest Ensembler method statistically outperforms other methods, different n_estimators can be used to tune the model to increase the mean AUC score.\n",
    "\n",
    "- K-fold cross validation techniques have been used to validate the model, 5 Folds were used to validate the traning data and 10 folds were used to validate the testing data. In future repeated K-fold cross validation can be used as a validation technique.\n",
    "\n",
    "- Other models such as Support Vector Machines and Neural networks can be considered and mean scores can be observed.\n"
   ]
  },
  {
   "cell_type": "markdown",
   "metadata": {},
   "source": [
    "# Summary and Conclusion <a class=\"anchor\" id=\"10\"></a>\n",
    "\n",
    "The Random Forest Ensembler(RF) with all 59 features selected by Random Forest Importance(RFI) produces the highest cross-validated AUC score for the training data. In addition, when evaluated on the test data in cross validated format, the Random Forest Ensembler(RF) outperforms Naive Bayes with slightly higher percentage with respect to the mean AUC score, however, the difference between the mean scores of Naive Bayes and Random Forest is not statistically significant.\n",
    "\n",
    "Though RF classification model outperformes others like NB, KNN and DT models, It's performance difference is not statistically significant if we consider 95% significance level. If we consider the cost matrix provided with the data, using Random Forest ensembler gives more loss than a Naive Bayes classfier.\n",
    "\n",
    "The cost Matrix provided is : \n",
    "\n",
    "          0        1\n",
    "    ----------------------------\n",
    "     0    0        5\n",
    "    ----------------------------\n",
    "     1    1        0\n",
    "\n",
    "\n",
    "It is worse to class a customer as good when they are bad (5), than it is to class a customer as bad when they are good (1).\n",
    "\n",
    "when we try to multiply the resultant confusion matrices of RF and NB with the cost matrix above, we found out that, `with NB,  the loss cost is much lesser than that of the RF clssifier`.\n",
    "\n",
    "Hence, we can say that, having best performance accuracy is not good enough when it comes to the selection of the ideal classification model for a certain problem. There are many more parameters affecting to the model. Its always a trade-off between the precision and the recall of the model. Only having optimal precision or recall doesnt make it an overall optimal classification model.\n"
   ]
  },
  {
   "cell_type": "markdown",
   "metadata": {},
   "source": [
    "# References <a class=\"anchor\" id=\"11\"></a>\n",
    "\n",
    "- UCI Machine Learning Repository Collection of Data bases : https://archive.ics.uci.edu/ml/about.html\n",
    "\n",
    "- Dr Vural Aksakalli, Zeren Yenice, Yong Kai Wong, Imran Ture, Milad Malekipirbazari https://www.featureranking.com/ SK Part 1: Basic Modeling Techniques.\n",
    "    - https://www.featureranking.com/tutorials/machine-learning-tutorials/sk-part-2-feature-selection-and-ranking/ SK Part 2: Feature Selection and Ranking\n",
    "    - https://www.featureranking.com/tutorials/machine-learning-tutorials/sk-part-3-cross-validation-and-hyperparameter-tuning/ SK Part 3: Cross-Validation and Hyperparameter Tuning\n",
    "    - https://www.featureranking.com/tutorials/machine-learning-tutorials/sk-part-4-model-evaluation/ SK Part 4: Model Evaluation\n",
    "    - https://www.featureranking.com/tutorials/machine-learning-tutorials/sk-part-5-advanced-topics-pipelines-statistical-model-comparison-and-model-deployment/ SK Part 5: Advanced Topics: Pipelines, Statistical Model Comparison, and Model Deployment\n",
    "    \n",
    "- Regression Case Study(Predicting Age in Census Data):https://www.featureranking.com/tutorials/statistics-tutorials/regression-case-study/ \n",
    "- Case Study: Predicting Income Status : https://www.featureranking.com/tutorials/machine-learning-tutorials/case-study-predicting-income-status/ \n",
    "\n",
    "- Towards Data Science : A Medium publication sharing concepts, ideas, and codes : https://towardsdatascience.com/ \n",
    " \n",
    "\n",
    "\n",
    "\n",
    "\n"
   ]
  }
 ],
 "metadata": {
  "kernelspec": {
   "display_name": "Python 3",
   "language": "python",
   "name": "python3"
  },
  "language_info": {
   "codemirror_mode": {
    "name": "ipython",
    "version": 3
   },
   "file_extension": ".py",
   "mimetype": "text/x-python",
   "name": "python",
   "nbconvert_exporter": "python",
   "pygments_lexer": "ipython3",
   "version": "3.7.6"
  }
 },
 "nbformat": 4,
 "nbformat_minor": 2
}
