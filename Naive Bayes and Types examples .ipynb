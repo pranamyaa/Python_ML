{
 "cells": [
  {
   "cell_type": "markdown",
   "metadata": {},
   "source": [
    "# HONOUR CODE:\n",
    "\n",
    "I solemnly swear that I have not discussed my assignment solutions with anyone in any way and the solutions I am submitting are my own personal work.\n",
    "\n",
    "Full Name: [Pranamya Prakash Korde]"
   ]
  },
  {
   "cell_type": "markdown",
   "metadata": {},
   "source": [
    "# Assignment 3 Machine Learning.\n",
    "\n",
    "\n",
    "## Question 1.\n",
    "\n",
    "In this question we will use `US Census Income Dataset` and will use different variations of NB (Naive Bayes) classifier to predict the `annual_income` target feature. \n",
    "\n",
    "\n",
    "### Part A: Data Preparation.\n",
    "\n",
    "In this Part we are going to perform 2 specific tasks.\n",
    "\n",
    "In Task 1: we are going to perform equal-width binning on the numeric features `age` and `education_years` into 3 bins namely 'low', 'mid', 'high'. and we save this into the data frame named `df_all_cat`.\n",
    "\n",
    "In Task 2 : in this task, we are going to perform One Hot Encoding on the dataframe `df_all_cat` and then save the encoded data into new data frame  `df_all_cat_ohe`.\n",
    "\n",
    "For this purpose, we read the dataset into python 3.0 environment and we will perform basic exploration tasks like:\n",
    "\n",
    "- checking shape and data type of each of the column.\n",
    "- removing ID like columns from the data set."
   ]
  },
  {
   "cell_type": "code",
   "execution_count": 1,
   "metadata": {},
   "outputs": [
    {
     "data": {
      "text/html": [
       "<div>\n",
       "<style scoped>\n",
       "    .dataframe tbody tr th:only-of-type {\n",
       "        vertical-align: middle;\n",
       "    }\n",
       "\n",
       "    .dataframe tbody tr th {\n",
       "        vertical-align: top;\n",
       "    }\n",
       "\n",
       "    .dataframe thead th {\n",
       "        text-align: right;\n",
       "    }\n",
       "</style>\n",
       "<table border=\"1\" class=\"dataframe\">\n",
       "  <thead>\n",
       "    <tr style=\"text-align: right;\">\n",
       "      <th></th>\n",
       "      <th>row_id</th>\n",
       "      <th>age</th>\n",
       "      <th>education_years</th>\n",
       "      <th>workclass</th>\n",
       "      <th>marital_status</th>\n",
       "      <th>occupation</th>\n",
       "      <th>annual_income</th>\n",
       "    </tr>\n",
       "  </thead>\n",
       "  <tbody>\n",
       "    <tr>\n",
       "      <th>0</th>\n",
       "      <td>1</td>\n",
       "      <td>48</td>\n",
       "      <td>14</td>\n",
       "      <td>Local-gov</td>\n",
       "      <td>Divorced</td>\n",
       "      <td>Prof-specialty</td>\n",
       "      <td>high_income</td>\n",
       "    </tr>\n",
       "    <tr>\n",
       "      <th>1</th>\n",
       "      <td>2</td>\n",
       "      <td>23</td>\n",
       "      <td>13</td>\n",
       "      <td>Local-gov</td>\n",
       "      <td>Never-married</td>\n",
       "      <td>Prof-specialty</td>\n",
       "      <td>low_income</td>\n",
       "    </tr>\n",
       "    <tr>\n",
       "      <th>2</th>\n",
       "      <td>3</td>\n",
       "      <td>45</td>\n",
       "      <td>13</td>\n",
       "      <td>Local-gov</td>\n",
       "      <td>Never-married</td>\n",
       "      <td>Prof-specialty</td>\n",
       "      <td>low_income</td>\n",
       "    </tr>\n",
       "    <tr>\n",
       "      <th>3</th>\n",
       "      <td>4</td>\n",
       "      <td>51</td>\n",
       "      <td>13</td>\n",
       "      <td>Federal-gov</td>\n",
       "      <td>Married-civ-spouse</td>\n",
       "      <td>Exec-managerial</td>\n",
       "      <td>low_income</td>\n",
       "    </tr>\n",
       "    <tr>\n",
       "      <th>4</th>\n",
       "      <td>5</td>\n",
       "      <td>51</td>\n",
       "      <td>14</td>\n",
       "      <td>Local-gov</td>\n",
       "      <td>Married-civ-spouse</td>\n",
       "      <td>Prof-specialty</td>\n",
       "      <td>high_income</td>\n",
       "    </tr>\n",
       "  </tbody>\n",
       "</table>\n",
       "</div>"
      ],
      "text/plain": [
       "   row_id  age  education_years    workclass      marital_status  \\\n",
       "0       1   48               14    Local-gov            Divorced   \n",
       "1       2   23               13    Local-gov       Never-married   \n",
       "2       3   45               13    Local-gov       Never-married   \n",
       "3       4   51               13  Federal-gov  Married-civ-spouse   \n",
       "4       5   51               14    Local-gov  Married-civ-spouse   \n",
       "\n",
       "        occupation annual_income  \n",
       "0   Prof-specialty   high_income  \n",
       "1   Prof-specialty    low_income  \n",
       "2   Prof-specialty    low_income  \n",
       "3  Exec-managerial    low_income  \n",
       "4   Prof-specialty   high_income  "
      ]
     },
     "execution_count": 1,
     "metadata": {},
     "output_type": "execute_result"
    }
   ],
   "source": [
    "import warnings\n",
    "warnings.filterwarnings(\"ignore\")\n",
    "\n",
    "import pandas as pd\n",
    "import numpy as np\n",
    "import altair as alt\n",
    "\n",
    "pd.set_option('display.max_columns', None) \n",
    "\n",
    "\n",
    "dataset = pd.read_csv(\"A3_Q1_train.csv\")\n",
    "dataset.head()"
   ]
  },
  {
   "cell_type": "code",
   "execution_count": 2,
   "metadata": {},
   "outputs": [
    {
     "data": {
      "text/plain": [
       "(500, 7)"
      ]
     },
     "execution_count": 2,
     "metadata": {},
     "output_type": "execute_result"
    }
   ],
   "source": [
    "dataset.shape"
   ]
  },
  {
   "cell_type": "code",
   "execution_count": 3,
   "metadata": {},
   "outputs": [
    {
     "name": "stdout",
     "output_type": "stream",
     "text": [
      "<class 'pandas.core.frame.DataFrame'>\n",
      "RangeIndex: 500 entries, 0 to 499\n",
      "Data columns (total 7 columns):\n",
      " #   Column           Non-Null Count  Dtype \n",
      "---  ------           --------------  ----- \n",
      " 0   row_id           500 non-null    int64 \n",
      " 1   age              500 non-null    int64 \n",
      " 2   education_years  500 non-null    int64 \n",
      " 3   workclass        500 non-null    object\n",
      " 4   marital_status   500 non-null    object\n",
      " 5   occupation       500 non-null    object\n",
      " 6   annual_income    500 non-null    object\n",
      "dtypes: int64(3), object(4)\n",
      "memory usage: 27.5+ KB\n"
     ]
    }
   ],
   "source": [
    "dataset.info()"
   ]
  },
  {
   "cell_type": "code",
   "execution_count": 4,
   "metadata": {},
   "outputs": [
    {
     "data": {
      "text/html": [
       "<div>\n",
       "<style scoped>\n",
       "    .dataframe tbody tr th:only-of-type {\n",
       "        vertical-align: middle;\n",
       "    }\n",
       "\n",
       "    .dataframe tbody tr th {\n",
       "        vertical-align: top;\n",
       "    }\n",
       "\n",
       "    .dataframe thead th {\n",
       "        text-align: right;\n",
       "    }\n",
       "</style>\n",
       "<table border=\"1\" class=\"dataframe\">\n",
       "  <thead>\n",
       "    <tr style=\"text-align: right;\">\n",
       "      <th></th>\n",
       "      <th>age</th>\n",
       "      <th>education_years</th>\n",
       "      <th>workclass</th>\n",
       "      <th>marital_status</th>\n",
       "      <th>occupation</th>\n",
       "      <th>annual_income</th>\n",
       "    </tr>\n",
       "  </thead>\n",
       "  <tbody>\n",
       "    <tr>\n",
       "      <th>0</th>\n",
       "      <td>48</td>\n",
       "      <td>14</td>\n",
       "      <td>Local-gov</td>\n",
       "      <td>Divorced</td>\n",
       "      <td>Prof-specialty</td>\n",
       "      <td>high_income</td>\n",
       "    </tr>\n",
       "    <tr>\n",
       "      <th>1</th>\n",
       "      <td>23</td>\n",
       "      <td>13</td>\n",
       "      <td>Local-gov</td>\n",
       "      <td>Never-married</td>\n",
       "      <td>Prof-specialty</td>\n",
       "      <td>low_income</td>\n",
       "    </tr>\n",
       "    <tr>\n",
       "      <th>2</th>\n",
       "      <td>45</td>\n",
       "      <td>13</td>\n",
       "      <td>Local-gov</td>\n",
       "      <td>Never-married</td>\n",
       "      <td>Prof-specialty</td>\n",
       "      <td>low_income</td>\n",
       "    </tr>\n",
       "    <tr>\n",
       "      <th>3</th>\n",
       "      <td>51</td>\n",
       "      <td>13</td>\n",
       "      <td>Federal-gov</td>\n",
       "      <td>Married-civ-spouse</td>\n",
       "      <td>Exec-managerial</td>\n",
       "      <td>low_income</td>\n",
       "    </tr>\n",
       "    <tr>\n",
       "      <th>4</th>\n",
       "      <td>51</td>\n",
       "      <td>14</td>\n",
       "      <td>Local-gov</td>\n",
       "      <td>Married-civ-spouse</td>\n",
       "      <td>Prof-specialty</td>\n",
       "      <td>high_income</td>\n",
       "    </tr>\n",
       "  </tbody>\n",
       "</table>\n",
       "</div>"
      ],
      "text/plain": [
       "   age  education_years    workclass      marital_status       occupation  \\\n",
       "0   48               14    Local-gov            Divorced   Prof-specialty   \n",
       "1   23               13    Local-gov       Never-married   Prof-specialty   \n",
       "2   45               13    Local-gov       Never-married   Prof-specialty   \n",
       "3   51               13  Federal-gov  Married-civ-spouse  Exec-managerial   \n",
       "4   51               14    Local-gov  Married-civ-spouse   Prof-specialty   \n",
       "\n",
       "  annual_income  \n",
       "0   high_income  \n",
       "1    low_income  \n",
       "2    low_income  \n",
       "3    low_income  \n",
       "4   high_income  "
      ]
     },
     "execution_count": 4,
     "metadata": {},
     "output_type": "execute_result"
    }
   ],
   "source": [
    "dataset = dataset.drop(columns = 'row_id')\n",
    "dataset.head()"
   ]
  },
  {
   "cell_type": "markdown",
   "metadata": {},
   "source": [
    "### Task 1 \n",
    "\n",
    "In this task we will perform equal width binning on numeric features `age` and `education_years` and save the dataset into new data frame called `df_all_cat`."
   ]
  },
  {
   "cell_type": "code",
   "execution_count": 5,
   "metadata": {},
   "outputs": [
    {
     "data": {
      "text/html": [
       "<div>\n",
       "<style scoped>\n",
       "    .dataframe tbody tr th:only-of-type {\n",
       "        vertical-align: middle;\n",
       "    }\n",
       "\n",
       "    .dataframe tbody tr th {\n",
       "        vertical-align: top;\n",
       "    }\n",
       "\n",
       "    .dataframe thead th {\n",
       "        text-align: right;\n",
       "    }\n",
       "</style>\n",
       "<table border=\"1\" class=\"dataframe\">\n",
       "  <thead>\n",
       "    <tr style=\"text-align: right;\">\n",
       "      <th></th>\n",
       "      <th>age</th>\n",
       "      <th>education_years</th>\n",
       "      <th>workclass</th>\n",
       "      <th>marital_status</th>\n",
       "      <th>occupation</th>\n",
       "      <th>annual_income</th>\n",
       "    </tr>\n",
       "  </thead>\n",
       "  <tbody>\n",
       "    <tr>\n",
       "      <th>0</th>\n",
       "      <td>high</td>\n",
       "      <td>high</td>\n",
       "      <td>Local-gov</td>\n",
       "      <td>Divorced</td>\n",
       "      <td>Prof-specialty</td>\n",
       "      <td>high_income</td>\n",
       "    </tr>\n",
       "    <tr>\n",
       "      <th>1</th>\n",
       "      <td>low</td>\n",
       "      <td>high</td>\n",
       "      <td>Local-gov</td>\n",
       "      <td>Never-married</td>\n",
       "      <td>Prof-specialty</td>\n",
       "      <td>low_income</td>\n",
       "    </tr>\n",
       "    <tr>\n",
       "      <th>2</th>\n",
       "      <td>mid</td>\n",
       "      <td>high</td>\n",
       "      <td>Local-gov</td>\n",
       "      <td>Never-married</td>\n",
       "      <td>Prof-specialty</td>\n",
       "      <td>low_income</td>\n",
       "    </tr>\n",
       "    <tr>\n",
       "      <th>3</th>\n",
       "      <td>high</td>\n",
       "      <td>high</td>\n",
       "      <td>Federal-gov</td>\n",
       "      <td>Married-civ-spouse</td>\n",
       "      <td>Exec-managerial</td>\n",
       "      <td>low_income</td>\n",
       "    </tr>\n",
       "    <tr>\n",
       "      <th>4</th>\n",
       "      <td>high</td>\n",
       "      <td>high</td>\n",
       "      <td>Local-gov</td>\n",
       "      <td>Married-civ-spouse</td>\n",
       "      <td>Prof-specialty</td>\n",
       "      <td>high_income</td>\n",
       "    </tr>\n",
       "  </tbody>\n",
       "</table>\n",
       "</div>"
      ],
      "text/plain": [
       "    age education_years    workclass      marital_status       occupation  \\\n",
       "0  high            high    Local-gov            Divorced   Prof-specialty   \n",
       "1   low            high    Local-gov       Never-married   Prof-specialty   \n",
       "2   mid            high    Local-gov       Never-married   Prof-specialty   \n",
       "3  high            high  Federal-gov  Married-civ-spouse  Exec-managerial   \n",
       "4  high            high    Local-gov  Married-civ-spouse   Prof-specialty   \n",
       "\n",
       "  annual_income  \n",
       "0   high_income  \n",
       "1    low_income  \n",
       "2    low_income  \n",
       "3    low_income  \n",
       "4   high_income  "
      ]
     },
     "execution_count": 5,
     "metadata": {},
     "output_type": "execute_result"
    }
   ],
   "source": [
    "dataset['age'] = pd.cut(dataset['age'], 3, labels = [\"low\", \"mid\", \"high\"])\n",
    "dataset['education_years'] = pd.cut(dataset['education_years'], 3, labels = [\"low\", \"mid\", \"high\"])\n",
    "df_all_cat = dataset\n",
    "df_all_cat.head()"
   ]
  },
  {
   "cell_type": "code",
   "execution_count": 6,
   "metadata": {},
   "outputs": [
    {
     "name": "stdout",
     "output_type": "stream",
     "text": [
      "age:\n",
      "mid     230\n",
      "low     140\n",
      "high    130\n",
      "Name: age, dtype: int64\n",
      "******************************\n",
      "education_years:\n",
      "high    304\n",
      "mid     193\n",
      "low       3\n",
      "Name: education_years, dtype: int64\n",
      "******************************\n",
      "workclass:\n",
      "Local-gov      225\n",
      "State-gov      148\n",
      "Federal-gov    127\n",
      "Name: workclass, dtype: int64\n",
      "******************************\n",
      "marital_status:\n",
      "Married-civ-spouse    230\n",
      "Never-married         155\n",
      "Divorced              115\n",
      "Name: marital_status, dtype: int64\n",
      "******************************\n",
      "occupation:\n",
      "Prof-specialty     224\n",
      "Adm-clerical       159\n",
      "Exec-managerial    117\n",
      "Name: occupation, dtype: int64\n",
      "******************************\n",
      "annual_income:\n",
      "low_income     320\n",
      "high_income    180\n",
      "Name: annual_income, dtype: int64\n",
      "******************************\n"
     ]
    }
   ],
   "source": [
    "for col in df_all_cat.columns.to_list():  \n",
    "    print(col + ':')\n",
    "    print(df_all_cat[col].value_counts())\n",
    "    print('******************************')"
   ]
  },
  {
   "cell_type": "markdown",
   "metadata": {},
   "source": [
    "### Task 2 \n",
    "\n",
    "In this task, we are going to perform One hot Encoding on the data set `df_all_cat` to perform binary encoding. we will use `get_dummies()`function for binary encoding. Due to the binary encoding features with 2 unique values are encoded into a signle feature while features with more than 2 unique values are encoded into (n-1) unique features where 'n' represents the unique levels of the original feature column.\n",
    "\n",
    "For this purpose we will store all the feature names into a single list and then perform One hot encoding on every feature in the list."
   ]
  },
  {
   "cell_type": "code",
   "execution_count": 7,
   "metadata": {},
   "outputs": [],
   "source": [
    "categorical_cols = df_all_cat.columns.tolist()\n",
    "\n",
    "for col in categorical_cols:\n",
    "    n = len(df_all_cat[col].unique())\n",
    "    if (n == 2):\n",
    "        df_all_cat[col] = pd.get_dummies(df_all_cat[col], drop_first=True)\n",
    "\n",
    "df_all_cat = pd.get_dummies(df_all_cat)\n",
    "df_all_cat_ohe = df_all_cat"
   ]
  },
  {
   "cell_type": "markdown",
   "metadata": {},
   "source": [
    "we can see from the encoded data set that the target feature in encoded `1 : low_income` and `0 : high_income`. But as stated in the requirement the postive class is 1 so we need to encode the target variable accordingly."
   ]
  },
  {
   "cell_type": "code",
   "execution_count": 8,
   "metadata": {},
   "outputs": [],
   "source": [
    "df_all_cat_ohe['annual_income'] = np.where(df_all_cat_ohe['annual_income'] == 0 , 1 , 0) "
   ]
  },
  {
   "cell_type": "code",
   "execution_count": 9,
   "metadata": {},
   "outputs": [
    {
     "name": "stdout",
     "output_type": "stream",
     "text": [
      "(500, 16)\n"
     ]
    }
   ],
   "source": [
    "print(df_all_cat_ohe.shape)"
   ]
  },
  {
   "cell_type": "code",
   "execution_count": 10,
   "metadata": {},
   "outputs": [
    {
     "data": {
      "text/html": [
       "<div>\n",
       "<style scoped>\n",
       "    .dataframe tbody tr th:only-of-type {\n",
       "        vertical-align: middle;\n",
       "    }\n",
       "\n",
       "    .dataframe tbody tr th {\n",
       "        vertical-align: top;\n",
       "    }\n",
       "\n",
       "    .dataframe thead th {\n",
       "        text-align: right;\n",
       "    }\n",
       "</style>\n",
       "<table border=\"1\" class=\"dataframe\">\n",
       "  <thead>\n",
       "    <tr style=\"text-align: right;\">\n",
       "      <th></th>\n",
       "      <th>annual_income</th>\n",
       "      <th>age_low</th>\n",
       "      <th>age_mid</th>\n",
       "      <th>age_high</th>\n",
       "      <th>education_years_low</th>\n",
       "      <th>education_years_mid</th>\n",
       "      <th>education_years_high</th>\n",
       "      <th>workclass_Federal-gov</th>\n",
       "      <th>workclass_Local-gov</th>\n",
       "      <th>workclass_State-gov</th>\n",
       "      <th>marital_status_Divorced</th>\n",
       "      <th>marital_status_Married-civ-spouse</th>\n",
       "      <th>marital_status_Never-married</th>\n",
       "      <th>occupation_Adm-clerical</th>\n",
       "      <th>occupation_Exec-managerial</th>\n",
       "      <th>occupation_Prof-specialty</th>\n",
       "    </tr>\n",
       "  </thead>\n",
       "  <tbody>\n",
       "    <tr>\n",
       "      <th>0</th>\n",
       "      <td>1</td>\n",
       "      <td>0</td>\n",
       "      <td>0</td>\n",
       "      <td>1</td>\n",
       "      <td>0</td>\n",
       "      <td>0</td>\n",
       "      <td>1</td>\n",
       "      <td>0</td>\n",
       "      <td>1</td>\n",
       "      <td>0</td>\n",
       "      <td>1</td>\n",
       "      <td>0</td>\n",
       "      <td>0</td>\n",
       "      <td>0</td>\n",
       "      <td>0</td>\n",
       "      <td>1</td>\n",
       "    </tr>\n",
       "    <tr>\n",
       "      <th>1</th>\n",
       "      <td>0</td>\n",
       "      <td>1</td>\n",
       "      <td>0</td>\n",
       "      <td>0</td>\n",
       "      <td>0</td>\n",
       "      <td>0</td>\n",
       "      <td>1</td>\n",
       "      <td>0</td>\n",
       "      <td>1</td>\n",
       "      <td>0</td>\n",
       "      <td>0</td>\n",
       "      <td>0</td>\n",
       "      <td>1</td>\n",
       "      <td>0</td>\n",
       "      <td>0</td>\n",
       "      <td>1</td>\n",
       "    </tr>\n",
       "    <tr>\n",
       "      <th>2</th>\n",
       "      <td>0</td>\n",
       "      <td>0</td>\n",
       "      <td>1</td>\n",
       "      <td>0</td>\n",
       "      <td>0</td>\n",
       "      <td>0</td>\n",
       "      <td>1</td>\n",
       "      <td>0</td>\n",
       "      <td>1</td>\n",
       "      <td>0</td>\n",
       "      <td>0</td>\n",
       "      <td>0</td>\n",
       "      <td>1</td>\n",
       "      <td>0</td>\n",
       "      <td>0</td>\n",
       "      <td>1</td>\n",
       "    </tr>\n",
       "    <tr>\n",
       "      <th>3</th>\n",
       "      <td>0</td>\n",
       "      <td>0</td>\n",
       "      <td>0</td>\n",
       "      <td>1</td>\n",
       "      <td>0</td>\n",
       "      <td>0</td>\n",
       "      <td>1</td>\n",
       "      <td>1</td>\n",
       "      <td>0</td>\n",
       "      <td>0</td>\n",
       "      <td>0</td>\n",
       "      <td>1</td>\n",
       "      <td>0</td>\n",
       "      <td>0</td>\n",
       "      <td>1</td>\n",
       "      <td>0</td>\n",
       "    </tr>\n",
       "    <tr>\n",
       "      <th>4</th>\n",
       "      <td>1</td>\n",
       "      <td>0</td>\n",
       "      <td>0</td>\n",
       "      <td>1</td>\n",
       "      <td>0</td>\n",
       "      <td>0</td>\n",
       "      <td>1</td>\n",
       "      <td>0</td>\n",
       "      <td>1</td>\n",
       "      <td>0</td>\n",
       "      <td>0</td>\n",
       "      <td>1</td>\n",
       "      <td>0</td>\n",
       "      <td>0</td>\n",
       "      <td>0</td>\n",
       "      <td>1</td>\n",
       "    </tr>\n",
       "  </tbody>\n",
       "</table>\n",
       "</div>"
      ],
      "text/plain": [
       "   annual_income  age_low  age_mid  age_high  education_years_low  \\\n",
       "0              1        0        0         1                    0   \n",
       "1              0        1        0         0                    0   \n",
       "2              0        0        1         0                    0   \n",
       "3              0        0        0         1                    0   \n",
       "4              1        0        0         1                    0   \n",
       "\n",
       "   education_years_mid  education_years_high  workclass_Federal-gov  \\\n",
       "0                    0                     1                      0   \n",
       "1                    0                     1                      0   \n",
       "2                    0                     1                      0   \n",
       "3                    0                     1                      1   \n",
       "4                    0                     1                      0   \n",
       "\n",
       "   workclass_Local-gov  workclass_State-gov  marital_status_Divorced  \\\n",
       "0                    1                    0                        1   \n",
       "1                    1                    0                        0   \n",
       "2                    1                    0                        0   \n",
       "3                    0                    0                        0   \n",
       "4                    1                    0                        0   \n",
       "\n",
       "   marital_status_Married-civ-spouse  marital_status_Never-married  \\\n",
       "0                                  0                             0   \n",
       "1                                  0                             1   \n",
       "2                                  0                             1   \n",
       "3                                  1                             0   \n",
       "4                                  1                             0   \n",
       "\n",
       "   occupation_Adm-clerical  occupation_Exec-managerial  \\\n",
       "0                        0                           0   \n",
       "1                        0                           0   \n",
       "2                        0                           0   \n",
       "3                        0                           1   \n",
       "4                        0                           0   \n",
       "\n",
       "   occupation_Prof-specialty  \n",
       "0                          1  \n",
       "1                          1  \n",
       "2                          1  \n",
       "3                          0  \n",
       "4                          1  "
      ]
     },
     "execution_count": 10,
     "metadata": {},
     "output_type": "execute_result"
    }
   ],
   "source": [
    "df_all_cat_ohe.head()"
   ]
  },
  {
   "cell_type": "markdown",
   "metadata": {},
   "source": [
    "## Part  B : Bernoulli NB\n",
    "\n",
    "\n",
    "Bernoulli Naive Bayes assumes that all of the descriptive features are binary and have a value of 0 or 1. In this part, we will apply Bernoulli NB to the One hot encoded (OHE) data with default hyperparameter values and check the accuracy score of the classifier on our data.\n",
    "\n",
    "For that reason, we will separate the `target` feature from rest of the data set and store that dataset into `data` dataframe."
   ]
  },
  {
   "cell_type": "code",
   "execution_count": 11,
   "metadata": {},
   "outputs": [
    {
     "name": "stdout",
     "output_type": "stream",
     "text": [
      "(500, 15)\n",
      "(500,)\n"
     ]
    }
   ],
   "source": [
    "data = df_all_cat_ohe.drop(columns = 'annual_income')\n",
    "target = df_all_cat_ohe['annual_income']\n",
    "print(data.shape)\n",
    "print(target.shape)"
   ]
  },
  {
   "cell_type": "code",
   "execution_count": 12,
   "metadata": {},
   "outputs": [
    {
     "data": {
      "text/plain": [
       "0.83"
      ]
     },
     "execution_count": 12,
     "metadata": {},
     "output_type": "execute_result"
    }
   ],
   "source": [
    "from sklearn.naive_bayes import BernoulliNB\n",
    "\n",
    "nb_classifier = BernoulliNB()\n",
    "nb_classifier.fit(data,target)\n",
    "Bern_def_score = nb_classifier.score(data,target)\n",
    "Bern_def_score"
   ]
  },
  {
   "cell_type": "markdown",
   "metadata": {},
   "source": [
    "The Accuracy score of a `Bernoulli NB with default parameters` on the given data is `0.83`. Now lets check the Accuracy score of the Gaussian Naive Bayes on the same data. As we all know, Gaussain NB perform good against Numerical data and assumes each descriptive feature followds Gaussian Probability distribution. But below we are applying the Gaussian NB on the binary discriptive features.\n",
    "\n",
    "\n",
    "## Part C : Gaussian NB\n",
    "\n",
    "\n",
    "Gaussian Naive Bayes assume all desciptive features follows Gaussian probability distribution. But that is not the case here, in our problem all the descriptive features are binary features having values 0 and 1. lets fit this algorithm on the data and check what result we get.."
   ]
  },
  {
   "cell_type": "code",
   "execution_count": 13,
   "metadata": {},
   "outputs": [
    {
     "data": {
      "text/plain": [
       "0.728"
      ]
     },
     "execution_count": 13,
     "metadata": {},
     "output_type": "execute_result"
    }
   ],
   "source": [
    "from sklearn.naive_bayes import GaussianNB\n",
    "\n",
    "nb_classifier = GaussianNB()\n",
    "nb_classifier.fit(data, target)\n",
    "Gauss_def_score = nb_classifier.score(data, target)\n",
    "Gauss_def_score"
   ]
  },
  {
   "cell_type": "markdown",
   "metadata": {},
   "source": [
    "We can see from the above that, Gaussian Naive Bayes performed with accurcy score of `0.728` on the given data with default parameters. In the next task we are going to tune these above models to squeeze some additional performance from them.\n",
    "\n",
    "## Part D : Tuning the Models\n",
    "\n",
    "\n",
    "First to tune the Gaussian Naive Bayes model, we will vary the hyperparamter value `var_smoothing` in range ($10^{-1}$ to  $10^{-9}$) and we will take 80 values from the logspace. We will simply use for loop to calculate score for each var_smoothing value and store it into a dataframe df. After that we will plot the score values against the var_smoothing values to check what is the highest performance we achieved by tunning.\n",
    "\n",
    "### Tuning Gaussian Naive Bayes:"
   ]
  },
  {
   "cell_type": "code",
   "execution_count": 14,
   "metadata": {},
   "outputs": [
    {
     "data": {
      "text/html": [
       "<div>\n",
       "<style scoped>\n",
       "    .dataframe tbody tr th:only-of-type {\n",
       "        vertical-align: middle;\n",
       "    }\n",
       "\n",
       "    .dataframe tbody tr th {\n",
       "        vertical-align: top;\n",
       "    }\n",
       "\n",
       "    .dataframe thead th {\n",
       "        text-align: right;\n",
       "    }\n",
       "</style>\n",
       "<table border=\"1\" class=\"dataframe\">\n",
       "  <thead>\n",
       "    <tr style=\"text-align: right;\">\n",
       "      <th></th>\n",
       "      <th>var_smoothing</th>\n",
       "      <th>score</th>\n",
       "    </tr>\n",
       "  </thead>\n",
       "  <tbody>\n",
       "    <tr>\n",
       "      <th>9</th>\n",
       "      <td>0.012263</td>\n",
       "      <td>0.832</td>\n",
       "    </tr>\n",
       "    <tr>\n",
       "      <th>6</th>\n",
       "      <td>0.024683</td>\n",
       "      <td>0.830</td>\n",
       "    </tr>\n",
       "    <tr>\n",
       "      <th>1</th>\n",
       "      <td>0.079202</td>\n",
       "      <td>0.830</td>\n",
       "    </tr>\n",
       "    <tr>\n",
       "      <th>8</th>\n",
       "      <td>0.015484</td>\n",
       "      <td>0.830</td>\n",
       "    </tr>\n",
       "    <tr>\n",
       "      <th>7</th>\n",
       "      <td>0.019550</td>\n",
       "      <td>0.830</td>\n",
       "    </tr>\n",
       "  </tbody>\n",
       "</table>\n",
       "</div>"
      ],
      "text/plain": [
       "   var_smoothing  score\n",
       "9       0.012263  0.832\n",
       "6       0.024683  0.830\n",
       "1       0.079202  0.830\n",
       "8       0.015484  0.830\n",
       "7       0.019550  0.830"
      ]
     },
     "execution_count": 14,
     "metadata": {},
     "output_type": "execute_result"
    }
   ],
   "source": [
    "df = pd.DataFrame(columns=['var_smoothing', 'score'])\n",
    "for var in np.logspace(-1,-9, num=80):\n",
    "    nb_classifier = GaussianNB(var_smoothing = var)\n",
    "    nb_classifier.fit(data, target)\n",
    "    df.loc[len(df)] = [var,nb_classifier.score(data,target)]\n",
    "\n",
    "Gauss_tun_score = df['score'].max()\n",
    "df.sort_values(by='score', ascending=False).head() "
   ]
  },
  {
   "cell_type": "code",
   "execution_count": 15,
   "metadata": {},
   "outputs": [
    {
     "data": {
      "text/html": [
       "\n",
       "<div id=\"altair-viz-4e28bdb9e7fc4f31bf520589a4065eb1\"></div>\n",
       "<script type=\"text/javascript\">\n",
       "  (function(spec, embedOpt){\n",
       "    let outputDiv = document.currentScript.previousElementSibling;\n",
       "    if (outputDiv.id !== \"altair-viz-4e28bdb9e7fc4f31bf520589a4065eb1\") {\n",
       "      outputDiv = document.getElementById(\"altair-viz-4e28bdb9e7fc4f31bf520589a4065eb1\");\n",
       "    }\n",
       "    const paths = {\n",
       "      \"vega\": \"https://cdn.jsdelivr.net/npm//vega@5?noext\",\n",
       "      \"vega-lib\": \"https://cdn.jsdelivr.net/npm//vega-lib?noext\",\n",
       "      \"vega-lite\": \"https://cdn.jsdelivr.net/npm//vega-lite@4.8.1?noext\",\n",
       "      \"vega-embed\": \"https://cdn.jsdelivr.net/npm//vega-embed@6?noext\",\n",
       "    };\n",
       "\n",
       "    function loadScript(lib) {\n",
       "      return new Promise(function(resolve, reject) {\n",
       "        var s = document.createElement('script');\n",
       "        s.src = paths[lib];\n",
       "        s.async = true;\n",
       "        s.onload = () => resolve(paths[lib]);\n",
       "        s.onerror = () => reject(`Error loading script: ${paths[lib]}`);\n",
       "        document.getElementsByTagName(\"head\")[0].appendChild(s);\n",
       "      });\n",
       "    }\n",
       "\n",
       "    function showError(err) {\n",
       "      outputDiv.innerHTML = `<div class=\"error\" style=\"color:red;\">${err}</div>`;\n",
       "      throw err;\n",
       "    }\n",
       "\n",
       "    function displayChart(vegaEmbed) {\n",
       "      vegaEmbed(outputDiv, spec, embedOpt)\n",
       "        .catch(err => showError(`Javascript Error: ${err.message}<br>This usually means there's a typo in your chart specification. See the javascript console for the full traceback.`));\n",
       "    }\n",
       "\n",
       "    if(typeof define === \"function\" && define.amd) {\n",
       "      requirejs.config({paths});\n",
       "      require([\"vega-embed\"], displayChart, err => showError(`Error loading script: ${err.message}`));\n",
       "    } else if (typeof vegaEmbed === \"function\") {\n",
       "      displayChart(vegaEmbed);\n",
       "    } else {\n",
       "      loadScript(\"vega\")\n",
       "        .then(() => loadScript(\"vega-lite\"))\n",
       "        .then(() => loadScript(\"vega-embed\"))\n",
       "        .catch(showError)\n",
       "        .then(() => displayChart(vegaEmbed));\n",
       "    }\n",
       "  })({\"config\": {\"view\": {\"continuousWidth\": 400, \"continuousHeight\": 300}}, \"data\": {\"name\": \"data-7b130befb51f71491cc125ee3473b359\"}, \"mark\": {\"type\": \"line\", \"point\": true}, \"encoding\": {\"x\": {\"type\": \"quantitative\", \"field\": \"var_smoothing\", \"title\": \"Var. Smoothing\"}, \"y\": {\"type\": \"quantitative\", \"field\": \"score\", \"scale\": {\"zero\": false}, \"title\": \"Scores\"}}, \"selection\": {\"selector001\": {\"type\": \"interval\", \"bind\": \"scales\", \"encodings\": [\"x\", \"y\"]}}, \"title\": \"Gaussian NB Performance Comparison\", \"$schema\": \"https://vega.github.io/schema/vega-lite/v4.8.1.json\", \"datasets\": {\"data-7b130befb51f71491cc125ee3473b359\": [{\"var_smoothing\": 0.1, \"score\": 0.83}, {\"var_smoothing\": 0.07920164050192549, \"score\": 0.83}, {\"var_smoothing\": 0.06272899858196247, \"score\": 0.83}, {\"var_smoothing\": 0.049682395947343846, \"score\": 0.83}, {\"var_smoothing\": 0.03934927263095849, \"score\": 0.83}, {\"var_smoothing\": 0.031165269449294302, \"score\": 0.83}, {\"var_smoothing\": 0.024683404670686485, \"score\": 0.83}, {\"var_smoothing\": 0.019549661430912604, \"score\": 0.83}, {\"var_smoothing\": 0.015483652565854992, \"score\": 0.83}, {\"var_smoothing\": 0.012263306841775632, \"score\": 0.832}, {\"var_smoothing\": 0.009712740198471168, \"score\": 0.828}, {\"var_smoothing\": 0.007692649574879146, \"score\": 0.828}, {\"var_smoothing\": 0.006092704661368674, \"score\": 0.828}, {\"var_smoothing\": 0.004825522042741279, \"score\": 0.826}, {\"var_smoothing\": 0.0038218926206331186, \"score\": 0.826}, {\"var_smoothing\": 0.0030270016537634614, \"score\": 0.826}, {\"var_smoothing\": 0.0023974349678010784, \"score\": 0.826}, {\"var_smoothing\": 0.0018988078244652612, \"score\": 0.826}, {\"var_smoothing\": 0.0015038869469554102, \"score\": 0.826}, {\"var_smoothing\": 0.0011911031332830068, \"score\": 0.826}, {\"var_smoothing\": 0.0009433732216299773, \"score\": 0.826}, {\"var_smoothing\": 0.0007471670675868082, \"score\": 0.826}, {\"var_smoothing\": 0.0005917685748188825, \"score\": 0.826}, {\"var_smoothing\": 0.00046869041923141923, \"score\": 0.826}, {\"var_smoothing\": 0.0003712105009066361, \"score\": 0.824}, {\"var_smoothing\": 0.0002940048064334708, \"score\": 0.824}, {\"var_smoothing\": 0.00023285662984981966, \"score\": 0.824}, {\"var_smoothing\": 0.00018442627085855348, \"score\": 0.824}, {\"var_smoothing\": 0.0001460686320364989, \"score\": 0.824}, {\"var_smoothing\": 0.00011568875283162821, \"score\": 0.824}, {\"var_smoothing\": 9.162739011886731e-05, \"score\": 0.824}, {\"var_smoothing\": 7.257039612324216e-05, \"score\": 0.824}, {\"var_smoothing\": 5.747694424835358e-05, \"score\": 0.824}, {\"var_smoothing\": 4.5522682755073095e-05, \"score\": 0.824}, {\"var_smoothing\": 3.605471154250499e-05, \"score\": 0.824}, {\"var_smoothing\": 2.855592301990112e-05, \"score\": 0.824}, {\"var_smoothing\": 2.2616759492228645e-05, \"score\": 0.824}, {\"var_smoothing\": 1.791284454622002e-05, \"score\": 0.82}, {\"var_smoothing\": 1.4187266741165961e-05, \"score\": 0.814}, {\"var_smoothing\": 1.1236548001387516e-05, \"score\": 0.814}, {\"var_smoothing\": 8.899530352885224e-06, \"score\": 0.812}, {\"var_smoothing\": 7.048574036451903e-06, \"score\": 0.812}, {\"var_smoothing\": 5.5825862688627e-06, \"score\": 0.812}, {\"var_smoothing\": 4.4214999073744865e-06, \"score\": 0.812}, {\"var_smoothing\": 3.501900461431713e-06, \"score\": 0.812}, {\"var_smoothing\": 2.773562614198412e-06, \"score\": 0.812}, {\"var_smoothing\": 2.196707090793235e-06, \"score\": 0.812}, {\"var_smoothing\": 1.739828052930366e-06, \"score\": 0.812}, {\"var_smoothing\": 1.3779723598335568e-06, \"score\": 0.8}, {\"var_smoothing\": 1.0913767146512737e-06, \"score\": 0.8}, {\"var_smoothing\": 8.643882620598262e-07, \"score\": 0.798}, {\"var_smoothing\": 6.846096838574658e-07, \"score\": 0.796}, {\"var_smoothing\": 5.422221006501592e-07, \"score\": 0.796}, {\"var_smoothing\": 4.2944879887892724e-07, \"score\": 0.796}, {\"var_smoothing\": 3.401304938279253e-07, \"score\": 0.798}, {\"var_smoothing\": 2.693889309590175e-07, \"score\": 0.798}, {\"var_smoothing\": 2.133604526501411e-07, \"score\": 0.798}, {\"var_smoothing\": 1.6898497868124586e-07, \"score\": 0.798}, {\"var_smoothing\": 1.3383887531737563e-07, \"score\": 0.798}, {\"var_smoothing\": 1.0600258488068824e-07, \"score\": 0.798}, {\"var_smoothing\": 8.395578619995121e-08, \"score\": 0.798}, {\"var_smoothing\": 6.649435996665046e-08, \"score\": 0.758}, {\"var_smoothing\": 5.2664623934842806e-08, \"score\": 0.754}, {\"var_smoothing\": 4.171124612056516e-08, \"score\": 0.754}, {\"var_smoothing\": 3.3035991201283397e-08, \"score\": 0.756}, {\"var_smoothing\": 2.6165046987488236e-08, \"score\": 0.754}, {\"var_smoothing\": 2.0723146452190296e-08, \"score\": 0.754}, {\"var_smoothing\": 1.64130719537513e-08, \"score\": 0.75}, {\"var_smoothing\": 1.299942224413245e-08, \"score\": 0.75}, {\"var_smoothing\": 1.0295755673125127e-08, \"score\": 0.75}, {\"var_smoothing\": 8.154407395185187e-09, \"score\": 0.75}, {\"var_smoothing\": 6.458424430196991e-09, \"score\": 0.75}, {\"var_smoothing\": 5.1151780992931456e-09, \"score\": 0.75}, {\"var_smoothing\": 4.051304969235378e-09, \"score\": 0.744}, {\"var_smoothing\": 3.2086999973704436e-09, \"score\": 0.744}, {\"var_smoothing\": 2.541343036702639e-09, \"score\": 0.736}, {\"var_smoothing\": 2.0127853758499386e-09, \"score\": 0.736}, {\"var_smoothing\": 1.5941590374560028e-09, \"score\": 0.73}, {\"var_smoothing\": 1.2626001098748577e-09, \"score\": 0.728}, {\"var_smoothing\": 1e-09, \"score\": 0.728}]}}, {\"mode\": \"vega-lite\"});\n",
       "</script>"
      ],
      "text/plain": [
       "alt.Chart(...)"
      ]
     },
     "execution_count": 15,
     "metadata": {},
     "output_type": "execute_result"
    }
   ],
   "source": [
    "alt.Chart(df, \n",
    "          title='Gaussian NB Performance Comparison'\n",
    "         ).mark_line(point=True).encode(\n",
    "    alt.X('var_smoothing', title='Var. Smoothing'),\n",
    "    alt.Y('score', title='Scores', scale=alt.Scale(zero=False))\n",
    ").interactive()"
   ]
  },
  {
   "cell_type": "markdown",
   "metadata": {},
   "source": [
    "We can see from the above graph that score value increases with the var_smoothing score and achieve maximum score of approximately `0.832` at `var_smoothing 0.01226`.\n",
    "\n",
    "In the next step we try to tune the Bernoulli NB model on the given data by varying the hyperparameter `alpha` value. When we dont want to consider alpha its value is 0 by default. we are varying it in range of (1 to 200 by increment of 5) i.e. 40 values. We will check the score of the maximum performance achieved by this model."
   ]
  },
  {
   "cell_type": "code",
   "execution_count": 16,
   "metadata": {},
   "outputs": [
    {
     "data": {
      "text/html": [
       "<div>\n",
       "<style scoped>\n",
       "    .dataframe tbody tr th:only-of-type {\n",
       "        vertical-align: middle;\n",
       "    }\n",
       "\n",
       "    .dataframe tbody tr th {\n",
       "        vertical-align: top;\n",
       "    }\n",
       "\n",
       "    .dataframe thead th {\n",
       "        text-align: right;\n",
       "    }\n",
       "</style>\n",
       "<table border=\"1\" class=\"dataframe\">\n",
       "  <thead>\n",
       "    <tr style=\"text-align: right;\">\n",
       "      <th></th>\n",
       "      <th>alpha</th>\n",
       "      <th>score</th>\n",
       "    </tr>\n",
       "  </thead>\n",
       "  <tbody>\n",
       "    <tr>\n",
       "      <th>27</th>\n",
       "      <td>136.0</td>\n",
       "      <td>0.842</td>\n",
       "    </tr>\n",
       "    <tr>\n",
       "      <th>28</th>\n",
       "      <td>141.0</td>\n",
       "      <td>0.842</td>\n",
       "    </tr>\n",
       "    <tr>\n",
       "      <th>29</th>\n",
       "      <td>146.0</td>\n",
       "      <td>0.842</td>\n",
       "    </tr>\n",
       "    <tr>\n",
       "      <th>35</th>\n",
       "      <td>176.0</td>\n",
       "      <td>0.840</td>\n",
       "    </tr>\n",
       "    <tr>\n",
       "      <th>34</th>\n",
       "      <td>171.0</td>\n",
       "      <td>0.840</td>\n",
       "    </tr>\n",
       "  </tbody>\n",
       "</table>\n",
       "</div>"
      ],
      "text/plain": [
       "    alpha  score\n",
       "27  136.0  0.842\n",
       "28  141.0  0.842\n",
       "29  146.0  0.842\n",
       "35  176.0  0.840\n",
       "34  171.0  0.840"
      ]
     },
     "execution_count": 16,
     "metadata": {},
     "output_type": "execute_result"
    }
   ],
   "source": [
    "df = pd.DataFrame(columns=['alpha', 'score'])\n",
    "for alpha in np.arange(1,200, step = 5):\n",
    "    nb_classifier = BernoulliNB(alpha = alpha)\n",
    "    nb_classifier.fit(data,target)\n",
    "    df.loc[len(df)] = [alpha,nb_classifier.score(data,target)]\n",
    "\n",
    "Bern_tun_score = df['score'].max()\n",
    "df.sort_values(by = \"score\", ascending = False).head()"
   ]
  },
  {
   "cell_type": "code",
   "execution_count": 17,
   "metadata": {},
   "outputs": [
    {
     "data": {
      "text/html": [
       "\n",
       "<div id=\"altair-viz-1c9a2138092546ea82f57a664e76cc6d\"></div>\n",
       "<script type=\"text/javascript\">\n",
       "  (function(spec, embedOpt){\n",
       "    let outputDiv = document.currentScript.previousElementSibling;\n",
       "    if (outputDiv.id !== \"altair-viz-1c9a2138092546ea82f57a664e76cc6d\") {\n",
       "      outputDiv = document.getElementById(\"altair-viz-1c9a2138092546ea82f57a664e76cc6d\");\n",
       "    }\n",
       "    const paths = {\n",
       "      \"vega\": \"https://cdn.jsdelivr.net/npm//vega@5?noext\",\n",
       "      \"vega-lib\": \"https://cdn.jsdelivr.net/npm//vega-lib?noext\",\n",
       "      \"vega-lite\": \"https://cdn.jsdelivr.net/npm//vega-lite@4.8.1?noext\",\n",
       "      \"vega-embed\": \"https://cdn.jsdelivr.net/npm//vega-embed@6?noext\",\n",
       "    };\n",
       "\n",
       "    function loadScript(lib) {\n",
       "      return new Promise(function(resolve, reject) {\n",
       "        var s = document.createElement('script');\n",
       "        s.src = paths[lib];\n",
       "        s.async = true;\n",
       "        s.onload = () => resolve(paths[lib]);\n",
       "        s.onerror = () => reject(`Error loading script: ${paths[lib]}`);\n",
       "        document.getElementsByTagName(\"head\")[0].appendChild(s);\n",
       "      });\n",
       "    }\n",
       "\n",
       "    function showError(err) {\n",
       "      outputDiv.innerHTML = `<div class=\"error\" style=\"color:red;\">${err}</div>`;\n",
       "      throw err;\n",
       "    }\n",
       "\n",
       "    function displayChart(vegaEmbed) {\n",
       "      vegaEmbed(outputDiv, spec, embedOpt)\n",
       "        .catch(err => showError(`Javascript Error: ${err.message}<br>This usually means there's a typo in your chart specification. See the javascript console for the full traceback.`));\n",
       "    }\n",
       "\n",
       "    if(typeof define === \"function\" && define.amd) {\n",
       "      requirejs.config({paths});\n",
       "      require([\"vega-embed\"], displayChart, err => showError(`Error loading script: ${err.message}`));\n",
       "    } else if (typeof vegaEmbed === \"function\") {\n",
       "      displayChart(vegaEmbed);\n",
       "    } else {\n",
       "      loadScript(\"vega\")\n",
       "        .then(() => loadScript(\"vega-lite\"))\n",
       "        .then(() => loadScript(\"vega-embed\"))\n",
       "        .catch(showError)\n",
       "        .then(() => displayChart(vegaEmbed));\n",
       "    }\n",
       "  })({\"config\": {\"view\": {\"continuousWidth\": 400, \"continuousHeight\": 300}}, \"data\": {\"name\": \"data-a2ee642a785d9e22b7d1c0042344f49c\"}, \"mark\": {\"type\": \"line\", \"point\": true}, \"encoding\": {\"x\": {\"type\": \"quantitative\", \"field\": \"alpha\", \"title\": \"alpha values\"}, \"y\": {\"type\": \"quantitative\", \"field\": \"score\", \"scale\": {\"zero\": false}, \"title\": \"Scores\"}}, \"selection\": {\"selector002\": {\"type\": \"interval\", \"bind\": \"scales\", \"encodings\": [\"x\", \"y\"]}}, \"title\": \"Bernoulli NB Performance Comparison\", \"$schema\": \"https://vega.github.io/schema/vega-lite/v4.8.1.json\", \"datasets\": {\"data-a2ee642a785d9e22b7d1c0042344f49c\": [{\"alpha\": 1.0, \"score\": 0.83}, {\"alpha\": 6.0, \"score\": 0.83}, {\"alpha\": 11.0, \"score\": 0.83}, {\"alpha\": 16.0, \"score\": 0.83}, {\"alpha\": 21.0, \"score\": 0.83}, {\"alpha\": 26.0, \"score\": 0.828}, {\"alpha\": 31.0, \"score\": 0.824}, {\"alpha\": 36.0, \"score\": 0.826}, {\"alpha\": 41.0, \"score\": 0.822}, {\"alpha\": 46.0, \"score\": 0.822}, {\"alpha\": 51.0, \"score\": 0.822}, {\"alpha\": 56.0, \"score\": 0.822}, {\"alpha\": 61.0, \"score\": 0.822}, {\"alpha\": 66.0, \"score\": 0.824}, {\"alpha\": 71.0, \"score\": 0.824}, {\"alpha\": 76.0, \"score\": 0.824}, {\"alpha\": 81.0, \"score\": 0.822}, {\"alpha\": 86.0, \"score\": 0.824}, {\"alpha\": 91.0, \"score\": 0.824}, {\"alpha\": 96.0, \"score\": 0.832}, {\"alpha\": 101.0, \"score\": 0.832}, {\"alpha\": 106.0, \"score\": 0.834}, {\"alpha\": 111.0, \"score\": 0.834}, {\"alpha\": 116.0, \"score\": 0.834}, {\"alpha\": 121.0, \"score\": 0.834}, {\"alpha\": 126.0, \"score\": 0.834}, {\"alpha\": 131.0, \"score\": 0.834}, {\"alpha\": 136.0, \"score\": 0.842}, {\"alpha\": 141.0, \"score\": 0.842}, {\"alpha\": 146.0, \"score\": 0.842}, {\"alpha\": 151.0, \"score\": 0.838}, {\"alpha\": 156.0, \"score\": 0.838}, {\"alpha\": 161.0, \"score\": 0.838}, {\"alpha\": 166.0, \"score\": 0.84}, {\"alpha\": 171.0, \"score\": 0.84}, {\"alpha\": 176.0, \"score\": 0.84}, {\"alpha\": 181.0, \"score\": 0.836}, {\"alpha\": 186.0, \"score\": 0.836}, {\"alpha\": 191.0, \"score\": 0.838}, {\"alpha\": 196.0, \"score\": 0.838}]}}, {\"mode\": \"vega-lite\"});\n",
       "</script>"
      ],
      "text/plain": [
       "alt.Chart(...)"
      ]
     },
     "execution_count": 17,
     "metadata": {},
     "output_type": "execute_result"
    }
   ],
   "source": [
    "alt.Chart(df, \n",
    "          title='Bernoulli NB Performance Comparison'\n",
    "         ).mark_line(point=True).encode(\n",
    "    alt.X('alpha', title='alpha values'),\n",
    "    alt.Y('score', title='Scores', scale=alt.Scale(zero=False))\n",
    ").interactive()"
   ]
  },
  {
   "cell_type": "markdown",
   "metadata": {},
   "source": [
    "We can see from the above results that, even after HP tuning, the performance of Bernoulli NB does not changed by great difference. The new optimal performance is `0.842` at `alpha equal 136`."
   ]
  },
  {
   "cell_type": "markdown",
   "metadata": {},
   "source": [
    "## Part E : Hybrid NB\n",
    "\n",
    "As we can understand from above that, at default parameters, Gaussian naive bayes will not perform that good as compared to Bernoulli NB when the data set contains binary descriptive features. In real world cases, most of the dataset contains desciptive features of both the types numeric as well as categorical.\n",
    "To achieve the optimal performance from both kind of features, we can use the combination of Gaussian as well as Bernoulli NB classfiers where, Gaussian NB can be used on the Numeric features and Bernoulli NB can be applied to categorical features.\n",
    "\n",
    "We can do this because, while applying any NB technique we assume the naive assumption that, all the descriptive features are independent from each other when we consider a target column as a third dependent feature (partial independence)."
   ]
  },
  {
   "cell_type": "code",
   "execution_count": 18,
   "metadata": {},
   "outputs": [],
   "source": [
    "df = pd.read_csv(\"A3_Q1_train.csv\")\n",
    "df = df.drop(columns = \"row_id\")"
   ]
  },
  {
   "cell_type": "code",
   "execution_count": 19,
   "metadata": {},
   "outputs": [
    {
     "data": {
      "text/html": [
       "<div>\n",
       "<style scoped>\n",
       "    .dataframe tbody tr th:only-of-type {\n",
       "        vertical-align: middle;\n",
       "    }\n",
       "\n",
       "    .dataframe tbody tr th {\n",
       "        vertical-align: top;\n",
       "    }\n",
       "\n",
       "    .dataframe thead th {\n",
       "        text-align: right;\n",
       "    }\n",
       "</style>\n",
       "<table border=\"1\" class=\"dataframe\">\n",
       "  <thead>\n",
       "    <tr style=\"text-align: right;\">\n",
       "      <th></th>\n",
       "      <th>age</th>\n",
       "      <th>education_years</th>\n",
       "      <th>workclass</th>\n",
       "      <th>marital_status</th>\n",
       "      <th>occupation</th>\n",
       "      <th>annual_income</th>\n",
       "    </tr>\n",
       "  </thead>\n",
       "  <tbody>\n",
       "    <tr>\n",
       "      <th>0</th>\n",
       "      <td>48</td>\n",
       "      <td>14</td>\n",
       "      <td>Local-gov</td>\n",
       "      <td>Divorced</td>\n",
       "      <td>Prof-specialty</td>\n",
       "      <td>high_income</td>\n",
       "    </tr>\n",
       "    <tr>\n",
       "      <th>1</th>\n",
       "      <td>23</td>\n",
       "      <td>13</td>\n",
       "      <td>Local-gov</td>\n",
       "      <td>Never-married</td>\n",
       "      <td>Prof-specialty</td>\n",
       "      <td>low_income</td>\n",
       "    </tr>\n",
       "    <tr>\n",
       "      <th>2</th>\n",
       "      <td>45</td>\n",
       "      <td>13</td>\n",
       "      <td>Local-gov</td>\n",
       "      <td>Never-married</td>\n",
       "      <td>Prof-specialty</td>\n",
       "      <td>low_income</td>\n",
       "    </tr>\n",
       "    <tr>\n",
       "      <th>3</th>\n",
       "      <td>51</td>\n",
       "      <td>13</td>\n",
       "      <td>Federal-gov</td>\n",
       "      <td>Married-civ-spouse</td>\n",
       "      <td>Exec-managerial</td>\n",
       "      <td>low_income</td>\n",
       "    </tr>\n",
       "    <tr>\n",
       "      <th>4</th>\n",
       "      <td>51</td>\n",
       "      <td>14</td>\n",
       "      <td>Local-gov</td>\n",
       "      <td>Married-civ-spouse</td>\n",
       "      <td>Prof-specialty</td>\n",
       "      <td>high_income</td>\n",
       "    </tr>\n",
       "  </tbody>\n",
       "</table>\n",
       "</div>"
      ],
      "text/plain": [
       "   age  education_years    workclass      marital_status       occupation  \\\n",
       "0   48               14    Local-gov            Divorced   Prof-specialty   \n",
       "1   23               13    Local-gov       Never-married   Prof-specialty   \n",
       "2   45               13    Local-gov       Never-married   Prof-specialty   \n",
       "3   51               13  Federal-gov  Married-civ-spouse  Exec-managerial   \n",
       "4   51               14    Local-gov  Married-civ-spouse   Prof-specialty   \n",
       "\n",
       "  annual_income  \n",
       "0   high_income  \n",
       "1    low_income  \n",
       "2    low_income  \n",
       "3    low_income  \n",
       "4   high_income  "
      ]
     },
     "execution_count": 19,
     "metadata": {},
     "output_type": "execute_result"
    }
   ],
   "source": [
    "df.head()"
   ]
  },
  {
   "cell_type": "markdown",
   "metadata": {},
   "source": [
    "Hence , we are splitting the data frame into 2 data frames, df_Num which is numerical data frame and df_col is categorical dataframe. we will then apply Gaussian NB on the first one and Bernoulli NB on the later one. we will check their performance by checking the accuracy score of each of the individual. We are using default parameters in each of the model fitting process.\n",
    "\n",
    "\n",
    "### 1. Applying Gaussian NB on numeric data"
   ]
  },
  {
   "cell_type": "code",
   "execution_count": 20,
   "metadata": {},
   "outputs": [],
   "source": [
    "target = df['annual_income']\n",
    "target = target.replace({\"high_income\": 1, \"low_income\": 0})\n",
    "df_num = df.loc[:, {\"age\", \"education_years\"}]"
   ]
  },
  {
   "cell_type": "code",
   "execution_count": 21,
   "metadata": {},
   "outputs": [
    {
     "data": {
      "text/plain": [
       "0.72"
      ]
     },
     "execution_count": 21,
     "metadata": {},
     "output_type": "execute_result"
    }
   ],
   "source": [
    "nb_classifier = GaussianNB()\n",
    "nb_classifier.fit(df_num, target)\n",
    "Gauss_score = nb_classifier.score(df_num, target)\n",
    "Gauss_score"
   ]
  },
  {
   "cell_type": "markdown",
   "metadata": {},
   "source": [
    "We can see that the performance of Gaussian NB is `0.726` on the numeric featured dataset which is higher than that on the whole dataset when default hyperparameter values are considered.\n",
    "\n",
    "### 2. Applying Benoulli NB on the binary featured data.\n",
    "\n",
    "For this step first we have to encode the categorical features with the binary encoding technique One Hot Encoding."
   ]
  },
  {
   "cell_type": "code",
   "execution_count": 22,
   "metadata": {},
   "outputs": [],
   "source": [
    "df = df.drop(columns = 'annual_income')\n",
    "df_col = pd.DataFrame()\n",
    "for col in df.columns[df.dtypes==object].tolist():\n",
    "    df_col[col] = df[col]"
   ]
  },
  {
   "cell_type": "code",
   "execution_count": 23,
   "metadata": {},
   "outputs": [
    {
     "data": {
      "text/html": [
       "<div>\n",
       "<style scoped>\n",
       "    .dataframe tbody tr th:only-of-type {\n",
       "        vertical-align: middle;\n",
       "    }\n",
       "\n",
       "    .dataframe tbody tr th {\n",
       "        vertical-align: top;\n",
       "    }\n",
       "\n",
       "    .dataframe thead th {\n",
       "        text-align: right;\n",
       "    }\n",
       "</style>\n",
       "<table border=\"1\" class=\"dataframe\">\n",
       "  <thead>\n",
       "    <tr style=\"text-align: right;\">\n",
       "      <th></th>\n",
       "      <th>workclass_Federal-gov</th>\n",
       "      <th>workclass_Local-gov</th>\n",
       "      <th>workclass_State-gov</th>\n",
       "      <th>marital_status_Divorced</th>\n",
       "      <th>marital_status_Married-civ-spouse</th>\n",
       "      <th>marital_status_Never-married</th>\n",
       "      <th>occupation_Adm-clerical</th>\n",
       "      <th>occupation_Exec-managerial</th>\n",
       "      <th>occupation_Prof-specialty</th>\n",
       "    </tr>\n",
       "  </thead>\n",
       "  <tbody>\n",
       "    <tr>\n",
       "      <th>0</th>\n",
       "      <td>0</td>\n",
       "      <td>1</td>\n",
       "      <td>0</td>\n",
       "      <td>1</td>\n",
       "      <td>0</td>\n",
       "      <td>0</td>\n",
       "      <td>0</td>\n",
       "      <td>0</td>\n",
       "      <td>1</td>\n",
       "    </tr>\n",
       "    <tr>\n",
       "      <th>1</th>\n",
       "      <td>0</td>\n",
       "      <td>1</td>\n",
       "      <td>0</td>\n",
       "      <td>0</td>\n",
       "      <td>0</td>\n",
       "      <td>1</td>\n",
       "      <td>0</td>\n",
       "      <td>0</td>\n",
       "      <td>1</td>\n",
       "    </tr>\n",
       "    <tr>\n",
       "      <th>2</th>\n",
       "      <td>0</td>\n",
       "      <td>1</td>\n",
       "      <td>0</td>\n",
       "      <td>0</td>\n",
       "      <td>0</td>\n",
       "      <td>1</td>\n",
       "      <td>0</td>\n",
       "      <td>0</td>\n",
       "      <td>1</td>\n",
       "    </tr>\n",
       "    <tr>\n",
       "      <th>3</th>\n",
       "      <td>1</td>\n",
       "      <td>0</td>\n",
       "      <td>0</td>\n",
       "      <td>0</td>\n",
       "      <td>1</td>\n",
       "      <td>0</td>\n",
       "      <td>0</td>\n",
       "      <td>1</td>\n",
       "      <td>0</td>\n",
       "    </tr>\n",
       "    <tr>\n",
       "      <th>4</th>\n",
       "      <td>0</td>\n",
       "      <td>1</td>\n",
       "      <td>0</td>\n",
       "      <td>0</td>\n",
       "      <td>1</td>\n",
       "      <td>0</td>\n",
       "      <td>0</td>\n",
       "      <td>0</td>\n",
       "      <td>1</td>\n",
       "    </tr>\n",
       "  </tbody>\n",
       "</table>\n",
       "</div>"
      ],
      "text/plain": [
       "   workclass_Federal-gov  workclass_Local-gov  workclass_State-gov  \\\n",
       "0                      0                    1                    0   \n",
       "1                      0                    1                    0   \n",
       "2                      0                    1                    0   \n",
       "3                      1                    0                    0   \n",
       "4                      0                    1                    0   \n",
       "\n",
       "   marital_status_Divorced  marital_status_Married-civ-spouse  \\\n",
       "0                        1                                  0   \n",
       "1                        0                                  0   \n",
       "2                        0                                  0   \n",
       "3                        0                                  1   \n",
       "4                        0                                  1   \n",
       "\n",
       "   marital_status_Never-married  occupation_Adm-clerical  \\\n",
       "0                             0                        0   \n",
       "1                             1                        0   \n",
       "2                             1                        0   \n",
       "3                             0                        0   \n",
       "4                             0                        0   \n",
       "\n",
       "   occupation_Exec-managerial  occupation_Prof-specialty  \n",
       "0                           0                          1  \n",
       "1                           0                          1  \n",
       "2                           0                          1  \n",
       "3                           1                          0  \n",
       "4                           0                          1  "
      ]
     },
     "execution_count": 23,
     "metadata": {},
     "output_type": "execute_result"
    }
   ],
   "source": [
    "cat_cols = df_col.columns.tolist()\n",
    "\n",
    "for col in cat_cols:\n",
    "    n = len(df_col[col].unique())\n",
    "    if (n == 2):\n",
    "        df_col[col] = pd.get_dummies(df_col[col], drop_first=True)\n",
    "\n",
    "df_col = pd.get_dummies(df_col)\n",
    "df_col.head()"
   ]
  },
  {
   "cell_type": "code",
   "execution_count": 24,
   "metadata": {},
   "outputs": [
    {
     "data": {
      "text/plain": [
       "0.816"
      ]
     },
     "execution_count": 24,
     "metadata": {},
     "output_type": "execute_result"
    }
   ],
   "source": [
    "nb_classifier = BernoulliNB()\n",
    "nb_classifier.fit(df_col,target)\n",
    "Bern_Score = nb_classifier.score(df_col,target)\n",
    "Bern_Score"
   ]
  },
  {
   "cell_type": "markdown",
   "metadata": {},
   "source": [
    "As we can see the performance of Bernoulli NB on the rest of the data set after binary encoding is performed is `0.816` when we consider the default hyperparameter values.\n",
    "\n",
    "**The Naive Bayes Classifier naively assumes that, each of the discriptive feature in the domain is conditionally independent of all of the other discriptive features, given the state of the target feature.**\n",
    "\n",
    "Hence, simply taking the average of both of the above performances can give us the resultant performance value of the combined NB (Gaussian and Bernoulli) or Hybrid NB. "
   ]
  },
  {
   "cell_type": "code",
   "execution_count": 25,
   "metadata": {},
   "outputs": [
    {
     "data": {
      "text/plain": [
       "0.768"
      ]
     },
     "execution_count": 25,
     "metadata": {},
     "output_type": "execute_result"
    }
   ],
   "source": [
    "Hybrid_score = (Gauss_score+Bern_Score)/2\n",
    "Hybrid_score"
   ]
  },
  {
   "cell_type": "markdown",
   "metadata": {},
   "source": [
    "## Part F : Wrapping Up\n",
    "\n",
    "\n",
    "In this part we are going to wrap up the assignment  done above by storing the methods and their corresponding accuracy scores into the dataset named `df_summary`."
   ]
  },
  {
   "cell_type": "code",
   "execution_count": 26,
   "metadata": {},
   "outputs": [
    {
     "data": {
      "text/html": [
       "<div>\n",
       "<style scoped>\n",
       "    .dataframe tbody tr th:only-of-type {\n",
       "        vertical-align: middle;\n",
       "    }\n",
       "\n",
       "    .dataframe tbody tr th {\n",
       "        vertical-align: top;\n",
       "    }\n",
       "\n",
       "    .dataframe thead th {\n",
       "        text-align: right;\n",
       "    }\n",
       "</style>\n",
       "<table border=\"1\" class=\"dataframe\">\n",
       "  <thead>\n",
       "    <tr style=\"text-align: right;\">\n",
       "      <th></th>\n",
       "      <th>method</th>\n",
       "      <th>Accuracy</th>\n",
       "    </tr>\n",
       "  </thead>\n",
       "  <tbody>\n",
       "    <tr>\n",
       "      <th>0</th>\n",
       "      <td>Bernoulli NB Default</td>\n",
       "      <td>0.830</td>\n",
       "    </tr>\n",
       "    <tr>\n",
       "      <th>1</th>\n",
       "      <td>Gaussian NB Default</td>\n",
       "      <td>0.728</td>\n",
       "    </tr>\n",
       "    <tr>\n",
       "      <th>2</th>\n",
       "      <td>Bernoulli NB Tuned</td>\n",
       "      <td>0.842</td>\n",
       "    </tr>\n",
       "    <tr>\n",
       "      <th>3</th>\n",
       "      <td>Gaussian NB Tuned</td>\n",
       "      <td>0.832</td>\n",
       "    </tr>\n",
       "    <tr>\n",
       "      <th>4</th>\n",
       "      <td>Hybrid  NB Default</td>\n",
       "      <td>0.768</td>\n",
       "    </tr>\n",
       "  </tbody>\n",
       "</table>\n",
       "</div>"
      ],
      "text/plain": [
       "                 method  Accuracy\n",
       "0  Bernoulli NB Default     0.830\n",
       "1   Gaussian NB Default     0.728\n",
       "2    Bernoulli NB Tuned     0.842\n",
       "3     Gaussian NB Tuned     0.832\n",
       "4    Hybrid  NB Default     0.768"
      ]
     },
     "execution_count": 26,
     "metadata": {},
     "output_type": "execute_result"
    }
   ],
   "source": [
    "df_summary = pd.DataFrame(columns = ['method', 'Accuracy'])\n",
    "df_summary.loc[len(df_summary)] = ['Bernoulli NB Default', Bern_def_score]\n",
    "df_summary.loc[len(df_summary)] = ['Gaussian NB Default', Gauss_def_score]\n",
    "df_summary.loc[len(df_summary)] = ['Bernoulli NB Tuned', Bern_tun_score]\n",
    "df_summary.loc[len(df_summary)] = ['Gaussian NB Tuned', Gauss_tun_score]\n",
    "df_summary.loc[len(df_summary)] = ['Hybrid  NB Default', Hybrid_score]\n",
    "df_summary"
   ]
  },
  {
   "cell_type": "markdown",
   "metadata": {},
   "source": [
    "1. Hyperparameter Tuning helps in the improving the performance of a classifier. In our case, we have tuned the hyperparameter `alpha` in case of Bernoulli NB and `var_smoothing` in case of Gaussian NB classifier. Accuracy score of both the classifiers increase by some amount. Bernoulli NB accuracy score increased from `0.830` to `0.842` after HP tuning which not that much. Gaussian NB accuracy score increased from `0.728` to `0.832` which is comparatively higher than increase of bernoulli NB performance.\n",
    "\n",
    "2. Default Hybrid NB is implemented by spliting the dataset into numerical and categorical discriptive features and applying Gaussian NB and Bernoulli NB to the respective ones. We can see from the above score that, Accuracy score of Hybrid NB with default hyperparameters is `0.768` which is definitely higher than `untuned` Gaussian NB but is less than untuned Bernoulli NB by almost `0.06` score."
   ]
  }
 ],
 "metadata": {
  "kernelspec": {
   "display_name": "Python 3",
   "language": "python",
   "name": "python3"
  },
  "language_info": {
   "codemirror_mode": {
    "name": "ipython",
    "version": 3
   },
   "file_extension": ".py",
   "mimetype": "text/x-python",
   "name": "python",
   "nbconvert_exporter": "python",
   "pygments_lexer": "ipython3",
   "version": "3.7.6"
  }
 },
 "nbformat": 4,
 "nbformat_minor": 4
}
